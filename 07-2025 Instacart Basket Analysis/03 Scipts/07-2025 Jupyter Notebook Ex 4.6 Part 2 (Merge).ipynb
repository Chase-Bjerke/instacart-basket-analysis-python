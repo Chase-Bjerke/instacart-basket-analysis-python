{
 "cells": [
  {
   "cell_type": "markdown",
   "id": "cb406acd-df63-4c38-a2a0-8ce00d601a47",
   "metadata": {},
   "source": [
    "# Exercise 4.6 - Merge"
   ]
  },
  {
   "cell_type": "markdown",
   "id": "ec8b8862-50ae-44d5-91b0-071e940f9572",
   "metadata": {},
   "source": [
    "### 01 Imports"
   ]
  },
  {
   "cell_type": "code",
   "execution_count": 1,
   "id": "148a01d2-9232-4b74-8126-fbd6d6608bb5",
   "metadata": {},
   "outputs": [],
   "source": [
    "# Import libraries\n",
    "\n",
    "import pandas as pd\n",
    "import numpy as np\n",
    "import os"
   ]
  },
  {
   "cell_type": "code",
   "execution_count": 2,
   "id": "2c5001f9-ef60-44e5-8f8f-9d12a722132a",
   "metadata": {},
   "outputs": [],
   "source": [
    "# File pathway shortcut\n",
    "path = r'C:\\Users\\Chase\\anaconda_projects\\Exercise 4\\07-2025 Instacart Basket Analysis'"
   ]
  },
  {
   "cell_type": "code",
   "execution_count": 3,
   "id": "8e602a1a-d429-48aa-85ac-65b615300e48",
   "metadata": {},
   "outputs": [],
   "source": [
    "# Prepared - Pickle\n",
    "df_prods_combined = pd.read_pickle(os.path.join(path, '02 Data','Prepared Data', 'orders_products_combined.pkl'))"
   ]
  },
  {
   "cell_type": "code",
   "execution_count": 4,
   "id": "4d59def7-3982-4e44-9d4e-7e653e9468b1",
   "metadata": {},
   "outputs": [],
   "source": [
    "# Prepared - Products Checked\n",
    "df_prods = pd.read_csv(os.path.join(path, '02 Data', 'Prepared Data', 'products_checked.csv'), index_col = False)"
   ]
  },
  {
   "cell_type": "markdown",
   "id": "8ffb31f6-98a9-4d36-9733-5c95c1275220",
   "metadata": {},
   "source": [
    "### 02 Data Check"
   ]
  },
  {
   "cell_type": "code",
   "execution_count": 5,
   "id": "c6e332ca-c74f-4839-9a08-4cb215ef9ad0",
   "metadata": {},
   "outputs": [
    {
     "data": {
      "text/plain": [
       "(32434489, 10)"
      ]
     },
     "execution_count": 5,
     "metadata": {},
     "output_type": "execute_result"
    }
   ],
   "source": [
    "# Comparing the shape from the orginal merge/export to the import shape\n",
    "df_prods_combined.shape"
   ]
  },
  {
   "cell_type": "markdown",
   "id": "ca123f35-4a4c-4ca6-9432-47c7468d1e88",
   "metadata": {},
   "source": [
    "The shape matches, good to go."
   ]
  },
  {
   "cell_type": "code",
   "execution_count": 6,
   "id": "2b660907-09a6-4044-b4e6-9b0d84061740",
   "metadata": {},
   "outputs": [
    {
     "data": {
      "text/plain": [
       "(49672, 5)"
      ]
     },
     "execution_count": 6,
     "metadata": {},
     "output_type": "execute_result"
    }
   ],
   "source": [
    "# Data check\n",
    "df_prods.shape"
   ]
  },
  {
   "cell_type": "code",
   "execution_count": 7,
   "id": "6f3a1901-30b5-4bb7-a34f-2170b8f624a8",
   "metadata": {
    "scrolled": true
   },
   "outputs": [
    {
     "data": {
      "text/html": [
       "<div>\n",
       "<style scoped>\n",
       "    .dataframe tbody tr th:only-of-type {\n",
       "        vertical-align: middle;\n",
       "    }\n",
       "\n",
       "    .dataframe tbody tr th {\n",
       "        vertical-align: top;\n",
       "    }\n",
       "\n",
       "    .dataframe thead th {\n",
       "        text-align: right;\n",
       "    }\n",
       "</style>\n",
       "<table border=\"1\" class=\"dataframe\">\n",
       "  <thead>\n",
       "    <tr style=\"text-align: right;\">\n",
       "      <th></th>\n",
       "      <th>order_id</th>\n",
       "      <th>product_id</th>\n",
       "      <th>add_to_cart_order</th>\n",
       "      <th>reordered</th>\n",
       "      <th>user_id</th>\n",
       "      <th>order_number</th>\n",
       "      <th>orders_day_of_week</th>\n",
       "      <th>order_hour_of_day</th>\n",
       "      <th>days_since_prior_order</th>\n",
       "      <th>first_order</th>\n",
       "    </tr>\n",
       "  </thead>\n",
       "  <tbody>\n",
       "    <tr>\n",
       "      <th>0</th>\n",
       "      <td>2</td>\n",
       "      <td>33120</td>\n",
       "      <td>1</td>\n",
       "      <td>1</td>\n",
       "      <td>202279</td>\n",
       "      <td>3</td>\n",
       "      <td>5</td>\n",
       "      <td>9</td>\n",
       "      <td>8.0</td>\n",
       "      <td>False</td>\n",
       "    </tr>\n",
       "    <tr>\n",
       "      <th>1</th>\n",
       "      <td>2</td>\n",
       "      <td>28985</td>\n",
       "      <td>2</td>\n",
       "      <td>1</td>\n",
       "      <td>202279</td>\n",
       "      <td>3</td>\n",
       "      <td>5</td>\n",
       "      <td>9</td>\n",
       "      <td>8.0</td>\n",
       "      <td>False</td>\n",
       "    </tr>\n",
       "    <tr>\n",
       "      <th>2</th>\n",
       "      <td>2</td>\n",
       "      <td>9327</td>\n",
       "      <td>3</td>\n",
       "      <td>0</td>\n",
       "      <td>202279</td>\n",
       "      <td>3</td>\n",
       "      <td>5</td>\n",
       "      <td>9</td>\n",
       "      <td>8.0</td>\n",
       "      <td>False</td>\n",
       "    </tr>\n",
       "    <tr>\n",
       "      <th>3</th>\n",
       "      <td>2</td>\n",
       "      <td>45918</td>\n",
       "      <td>4</td>\n",
       "      <td>1</td>\n",
       "      <td>202279</td>\n",
       "      <td>3</td>\n",
       "      <td>5</td>\n",
       "      <td>9</td>\n",
       "      <td>8.0</td>\n",
       "      <td>False</td>\n",
       "    </tr>\n",
       "    <tr>\n",
       "      <th>4</th>\n",
       "      <td>2</td>\n",
       "      <td>30035</td>\n",
       "      <td>5</td>\n",
       "      <td>0</td>\n",
       "      <td>202279</td>\n",
       "      <td>3</td>\n",
       "      <td>5</td>\n",
       "      <td>9</td>\n",
       "      <td>8.0</td>\n",
       "      <td>False</td>\n",
       "    </tr>\n",
       "    <tr>\n",
       "      <th>...</th>\n",
       "      <td>...</td>\n",
       "      <td>...</td>\n",
       "      <td>...</td>\n",
       "      <td>...</td>\n",
       "      <td>...</td>\n",
       "      <td>...</td>\n",
       "      <td>...</td>\n",
       "      <td>...</td>\n",
       "      <td>...</td>\n",
       "      <td>...</td>\n",
       "    </tr>\n",
       "    <tr>\n",
       "      <th>32434484</th>\n",
       "      <td>3421083</td>\n",
       "      <td>39678</td>\n",
       "      <td>6</td>\n",
       "      <td>1</td>\n",
       "      <td>25247</td>\n",
       "      <td>24</td>\n",
       "      <td>2</td>\n",
       "      <td>6</td>\n",
       "      <td>21.0</td>\n",
       "      <td>False</td>\n",
       "    </tr>\n",
       "    <tr>\n",
       "      <th>32434485</th>\n",
       "      <td>3421083</td>\n",
       "      <td>11352</td>\n",
       "      <td>7</td>\n",
       "      <td>0</td>\n",
       "      <td>25247</td>\n",
       "      <td>24</td>\n",
       "      <td>2</td>\n",
       "      <td>6</td>\n",
       "      <td>21.0</td>\n",
       "      <td>False</td>\n",
       "    </tr>\n",
       "    <tr>\n",
       "      <th>32434486</th>\n",
       "      <td>3421083</td>\n",
       "      <td>4600</td>\n",
       "      <td>8</td>\n",
       "      <td>0</td>\n",
       "      <td>25247</td>\n",
       "      <td>24</td>\n",
       "      <td>2</td>\n",
       "      <td>6</td>\n",
       "      <td>21.0</td>\n",
       "      <td>False</td>\n",
       "    </tr>\n",
       "    <tr>\n",
       "      <th>32434487</th>\n",
       "      <td>3421083</td>\n",
       "      <td>24852</td>\n",
       "      <td>9</td>\n",
       "      <td>1</td>\n",
       "      <td>25247</td>\n",
       "      <td>24</td>\n",
       "      <td>2</td>\n",
       "      <td>6</td>\n",
       "      <td>21.0</td>\n",
       "      <td>False</td>\n",
       "    </tr>\n",
       "    <tr>\n",
       "      <th>32434488</th>\n",
       "      <td>3421083</td>\n",
       "      <td>5020</td>\n",
       "      <td>10</td>\n",
       "      <td>1</td>\n",
       "      <td>25247</td>\n",
       "      <td>24</td>\n",
       "      <td>2</td>\n",
       "      <td>6</td>\n",
       "      <td>21.0</td>\n",
       "      <td>False</td>\n",
       "    </tr>\n",
       "  </tbody>\n",
       "</table>\n",
       "<p>32434489 rows × 10 columns</p>\n",
       "</div>"
      ],
      "text/plain": [
       "          order_id  product_id  add_to_cart_order  reordered  user_id  \\\n",
       "0                2       33120                  1          1   202279   \n",
       "1                2       28985                  2          1   202279   \n",
       "2                2        9327                  3          0   202279   \n",
       "3                2       45918                  4          1   202279   \n",
       "4                2       30035                  5          0   202279   \n",
       "...            ...         ...                ...        ...      ...   \n",
       "32434484   3421083       39678                  6          1    25247   \n",
       "32434485   3421083       11352                  7          0    25247   \n",
       "32434486   3421083        4600                  8          0    25247   \n",
       "32434487   3421083       24852                  9          1    25247   \n",
       "32434488   3421083        5020                 10          1    25247   \n",
       "\n",
       "          order_number  orders_day_of_week  order_hour_of_day  \\\n",
       "0                    3                   5                  9   \n",
       "1                    3                   5                  9   \n",
       "2                    3                   5                  9   \n",
       "3                    3                   5                  9   \n",
       "4                    3                   5                  9   \n",
       "...                ...                 ...                ...   \n",
       "32434484            24                   2                  6   \n",
       "32434485            24                   2                  6   \n",
       "32434486            24                   2                  6   \n",
       "32434487            24                   2                  6   \n",
       "32434488            24                   2                  6   \n",
       "\n",
       "          days_since_prior_order  first_order  \n",
       "0                            8.0        False  \n",
       "1                            8.0        False  \n",
       "2                            8.0        False  \n",
       "3                            8.0        False  \n",
       "4                            8.0        False  \n",
       "...                          ...          ...  \n",
       "32434484                    21.0        False  \n",
       "32434485                    21.0        False  \n",
       "32434486                    21.0        False  \n",
       "32434487                    21.0        False  \n",
       "32434488                    21.0        False  \n",
       "\n",
       "[32434489 rows x 10 columns]"
      ]
     },
     "execution_count": 7,
     "metadata": {},
     "output_type": "execute_result"
    }
   ],
   "source": [
    "df_prods_combined"
   ]
  },
  {
   "cell_type": "code",
   "execution_count": 8,
   "id": "b819b793-4431-4360-bf2a-ff22fa3889f4",
   "metadata": {},
   "outputs": [
    {
     "data": {
      "text/html": [
       "<div>\n",
       "<style scoped>\n",
       "    .dataframe tbody tr th:only-of-type {\n",
       "        vertical-align: middle;\n",
       "    }\n",
       "\n",
       "    .dataframe tbody tr th {\n",
       "        vertical-align: top;\n",
       "    }\n",
       "\n",
       "    .dataframe thead th {\n",
       "        text-align: right;\n",
       "    }\n",
       "</style>\n",
       "<table border=\"1\" class=\"dataframe\">\n",
       "  <thead>\n",
       "    <tr style=\"text-align: right;\">\n",
       "      <th></th>\n",
       "      <th>product_id</th>\n",
       "      <th>product_name</th>\n",
       "      <th>aisle_id</th>\n",
       "      <th>department_id</th>\n",
       "      <th>prices</th>\n",
       "    </tr>\n",
       "  </thead>\n",
       "  <tbody>\n",
       "    <tr>\n",
       "      <th>0</th>\n",
       "      <td>1</td>\n",
       "      <td>Chocolate Sandwich Cookies</td>\n",
       "      <td>61</td>\n",
       "      <td>19</td>\n",
       "      <td>5.8</td>\n",
       "    </tr>\n",
       "    <tr>\n",
       "      <th>1</th>\n",
       "      <td>2</td>\n",
       "      <td>All-Seasons Salt</td>\n",
       "      <td>104</td>\n",
       "      <td>13</td>\n",
       "      <td>9.3</td>\n",
       "    </tr>\n",
       "    <tr>\n",
       "      <th>2</th>\n",
       "      <td>3</td>\n",
       "      <td>Robust Golden Unsweetened Oolong Tea</td>\n",
       "      <td>94</td>\n",
       "      <td>7</td>\n",
       "      <td>4.5</td>\n",
       "    </tr>\n",
       "    <tr>\n",
       "      <th>3</th>\n",
       "      <td>4</td>\n",
       "      <td>Smart Ones Classic Favorites Mini Rigatoni Wit...</td>\n",
       "      <td>38</td>\n",
       "      <td>1</td>\n",
       "      <td>10.5</td>\n",
       "    </tr>\n",
       "    <tr>\n",
       "      <th>4</th>\n",
       "      <td>5</td>\n",
       "      <td>Green Chile Anytime Sauce</td>\n",
       "      <td>5</td>\n",
       "      <td>13</td>\n",
       "      <td>4.3</td>\n",
       "    </tr>\n",
       "    <tr>\n",
       "      <th>...</th>\n",
       "      <td>...</td>\n",
       "      <td>...</td>\n",
       "      <td>...</td>\n",
       "      <td>...</td>\n",
       "      <td>...</td>\n",
       "    </tr>\n",
       "    <tr>\n",
       "      <th>49667</th>\n",
       "      <td>49684</td>\n",
       "      <td>Vodka, Triple Distilled, Twist of Vanilla</td>\n",
       "      <td>124</td>\n",
       "      <td>5</td>\n",
       "      <td>5.3</td>\n",
       "    </tr>\n",
       "    <tr>\n",
       "      <th>49668</th>\n",
       "      <td>49685</td>\n",
       "      <td>En Croute Roast Hazelnut Cranberry</td>\n",
       "      <td>42</td>\n",
       "      <td>1</td>\n",
       "      <td>3.1</td>\n",
       "    </tr>\n",
       "    <tr>\n",
       "      <th>49669</th>\n",
       "      <td>49686</td>\n",
       "      <td>Artisan Baguette</td>\n",
       "      <td>112</td>\n",
       "      <td>3</td>\n",
       "      <td>7.8</td>\n",
       "    </tr>\n",
       "    <tr>\n",
       "      <th>49670</th>\n",
       "      <td>49687</td>\n",
       "      <td>Smartblend Healthy Metabolism Dry Cat Food</td>\n",
       "      <td>41</td>\n",
       "      <td>8</td>\n",
       "      <td>4.7</td>\n",
       "    </tr>\n",
       "    <tr>\n",
       "      <th>49671</th>\n",
       "      <td>49688</td>\n",
       "      <td>Fresh Foaming Cleanser</td>\n",
       "      <td>73</td>\n",
       "      <td>11</td>\n",
       "      <td>13.5</td>\n",
       "    </tr>\n",
       "  </tbody>\n",
       "</table>\n",
       "<p>49672 rows × 5 columns</p>\n",
       "</div>"
      ],
      "text/plain": [
       "       product_id                                       product_name  \\\n",
       "0               1                         Chocolate Sandwich Cookies   \n",
       "1               2                                   All-Seasons Salt   \n",
       "2               3               Robust Golden Unsweetened Oolong Tea   \n",
       "3               4  Smart Ones Classic Favorites Mini Rigatoni Wit...   \n",
       "4               5                          Green Chile Anytime Sauce   \n",
       "...           ...                                                ...   \n",
       "49667       49684          Vodka, Triple Distilled, Twist of Vanilla   \n",
       "49668       49685                 En Croute Roast Hazelnut Cranberry   \n",
       "49669       49686                                   Artisan Baguette   \n",
       "49670       49687         Smartblend Healthy Metabolism Dry Cat Food   \n",
       "49671       49688                             Fresh Foaming Cleanser   \n",
       "\n",
       "       aisle_id  department_id  prices  \n",
       "0            61             19     5.8  \n",
       "1           104             13     9.3  \n",
       "2            94              7     4.5  \n",
       "3            38              1    10.5  \n",
       "4             5             13     4.3  \n",
       "...         ...            ...     ...  \n",
       "49667       124              5     5.3  \n",
       "49668        42              1     3.1  \n",
       "49669       112              3     7.8  \n",
       "49670        41              8     4.7  \n",
       "49671        73             11    13.5  \n",
       "\n",
       "[49672 rows x 5 columns]"
      ]
     },
     "execution_count": 8,
     "metadata": {},
     "output_type": "execute_result"
    }
   ],
   "source": [
    "df_prods"
   ]
  },
  {
   "cell_type": "markdown",
   "id": "8a31bc7a-4dda-4d03-b791-baf2c5e09c55",
   "metadata": {},
   "source": [
    "### 03 Merge"
   ]
  },
  {
   "cell_type": "markdown",
   "id": "96ccea41-595b-405b-b9db-1ed135b678f2",
   "metadata": {},
   "source": [
    "Looking at the headers, I see the the join key is products_id and that I want to move everything over from df_prods. A left join would be the merge type used."
   ]
  },
  {
   "cell_type": "code",
   "execution_count": 9,
   "id": "5ad03870-33ae-41d5-bb24-8441da3b09e3",
   "metadata": {},
   "outputs": [],
   "source": [
    "# Select only the columns you want to bring in from df_prods\n",
    "product_cols = ['product_id', 'product_name', 'aisle_id', 'department_id', 'prices']\n",
    "\n",
    "# Perform the merge\n",
    "df_ords_prods_merge = df_prods_combined.merge(\n",
    "    df_prods[product_cols],\n",
    "    on='product_id',\n",
    "    how='left',\n",
    "    indicator=True\n",
    ")"
   ]
  },
  {
   "cell_type": "markdown",
   "id": "59af4ae6-313a-4f22-9a41-ebde5ae9a648",
   "metadata": {},
   "source": [
    "Copilot explained the error I ran into when running the above code. Basically the error was because I tried to create another _merge column. So working with Copilot, we came up with a way to safely remove the _merge from both df_prds and df_prods_combined if it exsists. "
   ]
  },
  {
   "cell_type": "code",
   "execution_count": 10,
   "id": "dc3488bf-11fd-4844-b32e-ed45fa5a5a92",
   "metadata": {},
   "outputs": [],
   "source": [
    "# Code to safely remove the _merge columns from\n",
    "for df in [df_prods_combined, df_prods]:\n",
    "    if '_merge' in df.columns:\n",
    "        df.drop(columns='_merge', inplace=True)"
   ]
  },
  {
   "cell_type": "code",
   "execution_count": 11,
   "id": "4f476663-37d2-418c-b9bf-da96ee8a67d1",
   "metadata": {},
   "outputs": [
    {
     "data": {
      "text/html": [
       "<div>\n",
       "<style scoped>\n",
       "    .dataframe tbody tr th:only-of-type {\n",
       "        vertical-align: middle;\n",
       "    }\n",
       "\n",
       "    .dataframe tbody tr th {\n",
       "        vertical-align: top;\n",
       "    }\n",
       "\n",
       "    .dataframe thead th {\n",
       "        text-align: right;\n",
       "    }\n",
       "</style>\n",
       "<table border=\"1\" class=\"dataframe\">\n",
       "  <thead>\n",
       "    <tr style=\"text-align: right;\">\n",
       "      <th></th>\n",
       "      <th>product_id</th>\n",
       "      <th>product_name</th>\n",
       "      <th>aisle_id</th>\n",
       "      <th>department_id</th>\n",
       "      <th>prices</th>\n",
       "    </tr>\n",
       "  </thead>\n",
       "  <tbody>\n",
       "    <tr>\n",
       "      <th>0</th>\n",
       "      <td>1</td>\n",
       "      <td>Chocolate Sandwich Cookies</td>\n",
       "      <td>61</td>\n",
       "      <td>19</td>\n",
       "      <td>5.8</td>\n",
       "    </tr>\n",
       "    <tr>\n",
       "      <th>1</th>\n",
       "      <td>2</td>\n",
       "      <td>All-Seasons Salt</td>\n",
       "      <td>104</td>\n",
       "      <td>13</td>\n",
       "      <td>9.3</td>\n",
       "    </tr>\n",
       "    <tr>\n",
       "      <th>2</th>\n",
       "      <td>3</td>\n",
       "      <td>Robust Golden Unsweetened Oolong Tea</td>\n",
       "      <td>94</td>\n",
       "      <td>7</td>\n",
       "      <td>4.5</td>\n",
       "    </tr>\n",
       "    <tr>\n",
       "      <th>3</th>\n",
       "      <td>4</td>\n",
       "      <td>Smart Ones Classic Favorites Mini Rigatoni Wit...</td>\n",
       "      <td>38</td>\n",
       "      <td>1</td>\n",
       "      <td>10.5</td>\n",
       "    </tr>\n",
       "    <tr>\n",
       "      <th>4</th>\n",
       "      <td>5</td>\n",
       "      <td>Green Chile Anytime Sauce</td>\n",
       "      <td>5</td>\n",
       "      <td>13</td>\n",
       "      <td>4.3</td>\n",
       "    </tr>\n",
       "    <tr>\n",
       "      <th>...</th>\n",
       "      <td>...</td>\n",
       "      <td>...</td>\n",
       "      <td>...</td>\n",
       "      <td>...</td>\n",
       "      <td>...</td>\n",
       "    </tr>\n",
       "    <tr>\n",
       "      <th>49667</th>\n",
       "      <td>49684</td>\n",
       "      <td>Vodka, Triple Distilled, Twist of Vanilla</td>\n",
       "      <td>124</td>\n",
       "      <td>5</td>\n",
       "      <td>5.3</td>\n",
       "    </tr>\n",
       "    <tr>\n",
       "      <th>49668</th>\n",
       "      <td>49685</td>\n",
       "      <td>En Croute Roast Hazelnut Cranberry</td>\n",
       "      <td>42</td>\n",
       "      <td>1</td>\n",
       "      <td>3.1</td>\n",
       "    </tr>\n",
       "    <tr>\n",
       "      <th>49669</th>\n",
       "      <td>49686</td>\n",
       "      <td>Artisan Baguette</td>\n",
       "      <td>112</td>\n",
       "      <td>3</td>\n",
       "      <td>7.8</td>\n",
       "    </tr>\n",
       "    <tr>\n",
       "      <th>49670</th>\n",
       "      <td>49687</td>\n",
       "      <td>Smartblend Healthy Metabolism Dry Cat Food</td>\n",
       "      <td>41</td>\n",
       "      <td>8</td>\n",
       "      <td>4.7</td>\n",
       "    </tr>\n",
       "    <tr>\n",
       "      <th>49671</th>\n",
       "      <td>49688</td>\n",
       "      <td>Fresh Foaming Cleanser</td>\n",
       "      <td>73</td>\n",
       "      <td>11</td>\n",
       "      <td>13.5</td>\n",
       "    </tr>\n",
       "  </tbody>\n",
       "</table>\n",
       "<p>49672 rows × 5 columns</p>\n",
       "</div>"
      ],
      "text/plain": [
       "       product_id                                       product_name  \\\n",
       "0               1                         Chocolate Sandwich Cookies   \n",
       "1               2                                   All-Seasons Salt   \n",
       "2               3               Robust Golden Unsweetened Oolong Tea   \n",
       "3               4  Smart Ones Classic Favorites Mini Rigatoni Wit...   \n",
       "4               5                          Green Chile Anytime Sauce   \n",
       "...           ...                                                ...   \n",
       "49667       49684          Vodka, Triple Distilled, Twist of Vanilla   \n",
       "49668       49685                 En Croute Roast Hazelnut Cranberry   \n",
       "49669       49686                                   Artisan Baguette   \n",
       "49670       49687         Smartblend Healthy Metabolism Dry Cat Food   \n",
       "49671       49688                             Fresh Foaming Cleanser   \n",
       "\n",
       "       aisle_id  department_id  prices  \n",
       "0            61             19     5.8  \n",
       "1           104             13     9.3  \n",
       "2            94              7     4.5  \n",
       "3            38              1    10.5  \n",
       "4             5             13     4.3  \n",
       "...         ...            ...     ...  \n",
       "49667       124              5     5.3  \n",
       "49668        42              1     3.1  \n",
       "49669       112              3     7.8  \n",
       "49670        41              8     4.7  \n",
       "49671        73             11    13.5  \n",
       "\n",
       "[49672 rows x 5 columns]"
      ]
     },
     "execution_count": 11,
     "metadata": {},
     "output_type": "execute_result"
    }
   ],
   "source": [
    "# Data check\n",
    "df_prods"
   ]
  },
  {
   "cell_type": "code",
   "execution_count": 12,
   "id": "cf2b8b9d-5824-43be-9961-817d529ff0c5",
   "metadata": {
    "scrolled": true
   },
   "outputs": [
    {
     "data": {
      "text/html": [
       "<div>\n",
       "<style scoped>\n",
       "    .dataframe tbody tr th:only-of-type {\n",
       "        vertical-align: middle;\n",
       "    }\n",
       "\n",
       "    .dataframe tbody tr th {\n",
       "        vertical-align: top;\n",
       "    }\n",
       "\n",
       "    .dataframe thead th {\n",
       "        text-align: right;\n",
       "    }\n",
       "</style>\n",
       "<table border=\"1\" class=\"dataframe\">\n",
       "  <thead>\n",
       "    <tr style=\"text-align: right;\">\n",
       "      <th></th>\n",
       "      <th>order_id</th>\n",
       "      <th>product_id</th>\n",
       "      <th>add_to_cart_order</th>\n",
       "      <th>reordered</th>\n",
       "      <th>user_id</th>\n",
       "      <th>order_number</th>\n",
       "      <th>orders_day_of_week</th>\n",
       "      <th>order_hour_of_day</th>\n",
       "      <th>days_since_prior_order</th>\n",
       "      <th>first_order</th>\n",
       "    </tr>\n",
       "  </thead>\n",
       "  <tbody>\n",
       "    <tr>\n",
       "      <th>0</th>\n",
       "      <td>2</td>\n",
       "      <td>33120</td>\n",
       "      <td>1</td>\n",
       "      <td>1</td>\n",
       "      <td>202279</td>\n",
       "      <td>3</td>\n",
       "      <td>5</td>\n",
       "      <td>9</td>\n",
       "      <td>8.0</td>\n",
       "      <td>False</td>\n",
       "    </tr>\n",
       "    <tr>\n",
       "      <th>1</th>\n",
       "      <td>2</td>\n",
       "      <td>28985</td>\n",
       "      <td>2</td>\n",
       "      <td>1</td>\n",
       "      <td>202279</td>\n",
       "      <td>3</td>\n",
       "      <td>5</td>\n",
       "      <td>9</td>\n",
       "      <td>8.0</td>\n",
       "      <td>False</td>\n",
       "    </tr>\n",
       "    <tr>\n",
       "      <th>2</th>\n",
       "      <td>2</td>\n",
       "      <td>9327</td>\n",
       "      <td>3</td>\n",
       "      <td>0</td>\n",
       "      <td>202279</td>\n",
       "      <td>3</td>\n",
       "      <td>5</td>\n",
       "      <td>9</td>\n",
       "      <td>8.0</td>\n",
       "      <td>False</td>\n",
       "    </tr>\n",
       "    <tr>\n",
       "      <th>3</th>\n",
       "      <td>2</td>\n",
       "      <td>45918</td>\n",
       "      <td>4</td>\n",
       "      <td>1</td>\n",
       "      <td>202279</td>\n",
       "      <td>3</td>\n",
       "      <td>5</td>\n",
       "      <td>9</td>\n",
       "      <td>8.0</td>\n",
       "      <td>False</td>\n",
       "    </tr>\n",
       "    <tr>\n",
       "      <th>4</th>\n",
       "      <td>2</td>\n",
       "      <td>30035</td>\n",
       "      <td>5</td>\n",
       "      <td>0</td>\n",
       "      <td>202279</td>\n",
       "      <td>3</td>\n",
       "      <td>5</td>\n",
       "      <td>9</td>\n",
       "      <td>8.0</td>\n",
       "      <td>False</td>\n",
       "    </tr>\n",
       "    <tr>\n",
       "      <th>...</th>\n",
       "      <td>...</td>\n",
       "      <td>...</td>\n",
       "      <td>...</td>\n",
       "      <td>...</td>\n",
       "      <td>...</td>\n",
       "      <td>...</td>\n",
       "      <td>...</td>\n",
       "      <td>...</td>\n",
       "      <td>...</td>\n",
       "      <td>...</td>\n",
       "    </tr>\n",
       "    <tr>\n",
       "      <th>32434484</th>\n",
       "      <td>3421083</td>\n",
       "      <td>39678</td>\n",
       "      <td>6</td>\n",
       "      <td>1</td>\n",
       "      <td>25247</td>\n",
       "      <td>24</td>\n",
       "      <td>2</td>\n",
       "      <td>6</td>\n",
       "      <td>21.0</td>\n",
       "      <td>False</td>\n",
       "    </tr>\n",
       "    <tr>\n",
       "      <th>32434485</th>\n",
       "      <td>3421083</td>\n",
       "      <td>11352</td>\n",
       "      <td>7</td>\n",
       "      <td>0</td>\n",
       "      <td>25247</td>\n",
       "      <td>24</td>\n",
       "      <td>2</td>\n",
       "      <td>6</td>\n",
       "      <td>21.0</td>\n",
       "      <td>False</td>\n",
       "    </tr>\n",
       "    <tr>\n",
       "      <th>32434486</th>\n",
       "      <td>3421083</td>\n",
       "      <td>4600</td>\n",
       "      <td>8</td>\n",
       "      <td>0</td>\n",
       "      <td>25247</td>\n",
       "      <td>24</td>\n",
       "      <td>2</td>\n",
       "      <td>6</td>\n",
       "      <td>21.0</td>\n",
       "      <td>False</td>\n",
       "    </tr>\n",
       "    <tr>\n",
       "      <th>32434487</th>\n",
       "      <td>3421083</td>\n",
       "      <td>24852</td>\n",
       "      <td>9</td>\n",
       "      <td>1</td>\n",
       "      <td>25247</td>\n",
       "      <td>24</td>\n",
       "      <td>2</td>\n",
       "      <td>6</td>\n",
       "      <td>21.0</td>\n",
       "      <td>False</td>\n",
       "    </tr>\n",
       "    <tr>\n",
       "      <th>32434488</th>\n",
       "      <td>3421083</td>\n",
       "      <td>5020</td>\n",
       "      <td>10</td>\n",
       "      <td>1</td>\n",
       "      <td>25247</td>\n",
       "      <td>24</td>\n",
       "      <td>2</td>\n",
       "      <td>6</td>\n",
       "      <td>21.0</td>\n",
       "      <td>False</td>\n",
       "    </tr>\n",
       "  </tbody>\n",
       "</table>\n",
       "<p>32434489 rows × 10 columns</p>\n",
       "</div>"
      ],
      "text/plain": [
       "          order_id  product_id  add_to_cart_order  reordered  user_id  \\\n",
       "0                2       33120                  1          1   202279   \n",
       "1                2       28985                  2          1   202279   \n",
       "2                2        9327                  3          0   202279   \n",
       "3                2       45918                  4          1   202279   \n",
       "4                2       30035                  5          0   202279   \n",
       "...            ...         ...                ...        ...      ...   \n",
       "32434484   3421083       39678                  6          1    25247   \n",
       "32434485   3421083       11352                  7          0    25247   \n",
       "32434486   3421083        4600                  8          0    25247   \n",
       "32434487   3421083       24852                  9          1    25247   \n",
       "32434488   3421083        5020                 10          1    25247   \n",
       "\n",
       "          order_number  orders_day_of_week  order_hour_of_day  \\\n",
       "0                    3                   5                  9   \n",
       "1                    3                   5                  9   \n",
       "2                    3                   5                  9   \n",
       "3                    3                   5                  9   \n",
       "4                    3                   5                  9   \n",
       "...                ...                 ...                ...   \n",
       "32434484            24                   2                  6   \n",
       "32434485            24                   2                  6   \n",
       "32434486            24                   2                  6   \n",
       "32434487            24                   2                  6   \n",
       "32434488            24                   2                  6   \n",
       "\n",
       "          days_since_prior_order  first_order  \n",
       "0                            8.0        False  \n",
       "1                            8.0        False  \n",
       "2                            8.0        False  \n",
       "3                            8.0        False  \n",
       "4                            8.0        False  \n",
       "...                          ...          ...  \n",
       "32434484                    21.0        False  \n",
       "32434485                    21.0        False  \n",
       "32434486                    21.0        False  \n",
       "32434487                    21.0        False  \n",
       "32434488                    21.0        False  \n",
       "\n",
       "[32434489 rows x 10 columns]"
      ]
     },
     "execution_count": 12,
     "metadata": {},
     "output_type": "execute_result"
    }
   ],
   "source": [
    "# Data check\n",
    "df_prods_combined"
   ]
  },
  {
   "cell_type": "code",
   "execution_count": 13,
   "id": "57b8f635-5830-4b54-8d5e-fc1a77f8f66d",
   "metadata": {},
   "outputs": [
    {
     "data": {
      "text/plain": [
       "(32434489, 10)"
      ]
     },
     "execution_count": 13,
     "metadata": {},
     "output_type": "execute_result"
    }
   ],
   "source": [
    "df_prods_combined.shape"
   ]
  },
  {
   "cell_type": "code",
   "execution_count": 14,
   "id": "247391f6-864f-42f9-9949-0ed3d65b626d",
   "metadata": {},
   "outputs": [
    {
     "data": {
      "text/plain": [
       "_merge\n",
       "both          32404859\n",
       "left_only        30200\n",
       "right_only           0\n",
       "Name: count, dtype: int64"
      ]
     },
     "execution_count": 14,
     "metadata": {},
     "output_type": "execute_result"
    }
   ],
   "source": [
    "# Check merge flags\n",
    "df_ords_prods_merge['_merge'].value_counts()"
   ]
  },
  {
   "cell_type": "code",
   "execution_count": 15,
   "id": "ab80e854-ba2b-4250-9fac-70767dcca76c",
   "metadata": {},
   "outputs": [
    {
     "data": {
      "text/plain": [
       "(32435059, 15)"
      ]
     },
     "execution_count": 15,
     "metadata": {},
     "output_type": "execute_result"
    }
   ],
   "source": [
    "# Check shape\n",
    "df_ords_prods_merge.shape"
   ]
  },
  {
   "cell_type": "code",
   "execution_count": 16,
   "id": "9c2f9bea-5820-4f47-8135-745578c416af",
   "metadata": {},
   "outputs": [
    {
     "name": "stdout",
     "output_type": "stream",
     "text": [
      "['order_id', 'product_id', 'add_to_cart_order', 'reordered', 'user_id', 'order_number', 'orders_day_of_week', 'order_hour_of_day', 'days_since_prior_order', 'first_order', 'product_name', 'aisle_id', 'department_id', 'prices', '_merge']\n"
     ]
    }
   ],
   "source": [
    "# Check headers\n",
    "print(df_ords_prods_merge.columns.tolist())"
   ]
  },
  {
   "cell_type": "markdown",
   "id": "da2f4056-cc63-4c0d-b2cf-2669d8382689",
   "metadata": {},
   "source": [
    "# Troubleshooting"
   ]
  },
  {
   "cell_type": "code",
   "execution_count": 17,
   "id": "018d2f10-4089-4500-880f-cc365fc1b9ea",
   "metadata": {},
   "outputs": [
    {
     "name": "stdout",
     "output_type": "stream",
     "text": [
      "['order_id', 'product_id', 'add_to_cart_order', 'reordered', 'user_id', 'order_number', 'orders_day_of_week', 'order_hour_of_day', 'days_since_prior_order', 'first_order', 'product_name', 'aisle_id', 'department_id', 'prices', '_merge']\n"
     ]
    }
   ],
   "source": [
    "# Double check headers before export\n",
    "print(df_ords_prods_merge.columns.tolist())"
   ]
  },
  {
   "cell_type": "markdown",
   "id": "3d3f5ff0-8ea7-4dbd-8e31-39793e5082ca",
   "metadata": {},
   "source": [
    "Headers look good"
   ]
  },
  {
   "cell_type": "code",
   "execution_count": 18,
   "id": "113e7934-866c-4b88-b75d-3f818d090b18",
   "metadata": {},
   "outputs": [
    {
     "data": {
      "text/html": [
       "<div>\n",
       "<style scoped>\n",
       "    .dataframe tbody tr th:only-of-type {\n",
       "        vertical-align: middle;\n",
       "    }\n",
       "\n",
       "    .dataframe tbody tr th {\n",
       "        vertical-align: top;\n",
       "    }\n",
       "\n",
       "    .dataframe thead th {\n",
       "        text-align: right;\n",
       "    }\n",
       "</style>\n",
       "<table border=\"1\" class=\"dataframe\">\n",
       "  <thead>\n",
       "    <tr style=\"text-align: right;\">\n",
       "      <th></th>\n",
       "      <th>order_id</th>\n",
       "      <th>product_id</th>\n",
       "      <th>add_to_cart_order</th>\n",
       "      <th>reordered</th>\n",
       "      <th>user_id</th>\n",
       "      <th>order_number</th>\n",
       "      <th>orders_day_of_week</th>\n",
       "      <th>order_hour_of_day</th>\n",
       "      <th>days_since_prior_order</th>\n",
       "      <th>first_order</th>\n",
       "      <th>product_name</th>\n",
       "      <th>aisle_id</th>\n",
       "      <th>department_id</th>\n",
       "      <th>prices</th>\n",
       "      <th>_merge</th>\n",
       "    </tr>\n",
       "  </thead>\n",
       "  <tbody>\n",
       "    <tr>\n",
       "      <th>0</th>\n",
       "      <td>2</td>\n",
       "      <td>33120</td>\n",
       "      <td>1</td>\n",
       "      <td>1</td>\n",
       "      <td>202279</td>\n",
       "      <td>3</td>\n",
       "      <td>5</td>\n",
       "      <td>9</td>\n",
       "      <td>8.0</td>\n",
       "      <td>False</td>\n",
       "      <td>Organic Egg Whites</td>\n",
       "      <td>86.0</td>\n",
       "      <td>16.0</td>\n",
       "      <td>11.3</td>\n",
       "      <td>both</td>\n",
       "    </tr>\n",
       "    <tr>\n",
       "      <th>1</th>\n",
       "      <td>2</td>\n",
       "      <td>28985</td>\n",
       "      <td>2</td>\n",
       "      <td>1</td>\n",
       "      <td>202279</td>\n",
       "      <td>3</td>\n",
       "      <td>5</td>\n",
       "      <td>9</td>\n",
       "      <td>8.0</td>\n",
       "      <td>False</td>\n",
       "      <td>Michigan Organic Kale</td>\n",
       "      <td>83.0</td>\n",
       "      <td>4.0</td>\n",
       "      <td>13.4</td>\n",
       "      <td>both</td>\n",
       "    </tr>\n",
       "    <tr>\n",
       "      <th>2</th>\n",
       "      <td>2</td>\n",
       "      <td>9327</td>\n",
       "      <td>3</td>\n",
       "      <td>0</td>\n",
       "      <td>202279</td>\n",
       "      <td>3</td>\n",
       "      <td>5</td>\n",
       "      <td>9</td>\n",
       "      <td>8.0</td>\n",
       "      <td>False</td>\n",
       "      <td>Garlic Powder</td>\n",
       "      <td>104.0</td>\n",
       "      <td>13.0</td>\n",
       "      <td>3.6</td>\n",
       "      <td>both</td>\n",
       "    </tr>\n",
       "    <tr>\n",
       "      <th>3</th>\n",
       "      <td>2</td>\n",
       "      <td>45918</td>\n",
       "      <td>4</td>\n",
       "      <td>1</td>\n",
       "      <td>202279</td>\n",
       "      <td>3</td>\n",
       "      <td>5</td>\n",
       "      <td>9</td>\n",
       "      <td>8.0</td>\n",
       "      <td>False</td>\n",
       "      <td>Coconut Butter</td>\n",
       "      <td>19.0</td>\n",
       "      <td>13.0</td>\n",
       "      <td>8.4</td>\n",
       "      <td>both</td>\n",
       "    </tr>\n",
       "    <tr>\n",
       "      <th>4</th>\n",
       "      <td>2</td>\n",
       "      <td>30035</td>\n",
       "      <td>5</td>\n",
       "      <td>0</td>\n",
       "      <td>202279</td>\n",
       "      <td>3</td>\n",
       "      <td>5</td>\n",
       "      <td>9</td>\n",
       "      <td>8.0</td>\n",
       "      <td>False</td>\n",
       "      <td>Natural Sweetener</td>\n",
       "      <td>17.0</td>\n",
       "      <td>13.0</td>\n",
       "      <td>13.7</td>\n",
       "      <td>both</td>\n",
       "    </tr>\n",
       "  </tbody>\n",
       "</table>\n",
       "</div>"
      ],
      "text/plain": [
       "   order_id  product_id  add_to_cart_order  reordered  user_id  order_number  \\\n",
       "0         2       33120                  1          1   202279             3   \n",
       "1         2       28985                  2          1   202279             3   \n",
       "2         2        9327                  3          0   202279             3   \n",
       "3         2       45918                  4          1   202279             3   \n",
       "4         2       30035                  5          0   202279             3   \n",
       "\n",
       "   orders_day_of_week  order_hour_of_day  days_since_prior_order  first_order  \\\n",
       "0                   5                  9                     8.0        False   \n",
       "1                   5                  9                     8.0        False   \n",
       "2                   5                  9                     8.0        False   \n",
       "3                   5                  9                     8.0        False   \n",
       "4                   5                  9                     8.0        False   \n",
       "\n",
       "            product_name  aisle_id  department_id  prices _merge  \n",
       "0     Organic Egg Whites      86.0           16.0    11.3   both  \n",
       "1  Michigan Organic Kale      83.0            4.0    13.4   both  \n",
       "2          Garlic Powder     104.0           13.0     3.6   both  \n",
       "3         Coconut Butter      19.0           13.0     8.4   both  \n",
       "4      Natural Sweetener      17.0           13.0    13.7   both  "
      ]
     },
     "execution_count": 18,
     "metadata": {},
     "output_type": "execute_result"
    }
   ],
   "source": [
    "df_ords_prods_merge.head()"
   ]
  },
  {
   "cell_type": "code",
   "execution_count": 19,
   "id": "4da5adcd-f956-46b6-b92d-323bfb23e9d8",
   "metadata": {},
   "outputs": [
    {
     "data": {
      "text/plain": [
       "prices\n",
       "12.3    624261\n",
       "10.3    510496\n",
       "4.0     447272\n",
       "6.3     438467\n",
       "1.3     425691\n",
       "7.3     411924\n",
       "8.2     404015\n",
       "1.4     392209\n",
       "6.7     379126\n",
       "4.5     367223\n",
       "Name: count, dtype: int64"
      ]
     },
     "execution_count": 19,
     "metadata": {},
     "output_type": "execute_result"
    }
   ],
   "source": [
    "df_ords_prods_merge['prices'].value_counts(dropna=False).head(10)\n"
   ]
  },
  {
   "cell_type": "markdown",
   "id": "b516eb7a-314c-40b0-9bc4-48a9ae1627fd",
   "metadata": {},
   "source": [
    "#### Investigate 99999s"
   ]
  },
  {
   "cell_type": "code",
   "execution_count": 20,
   "id": "a826352f-affb-4483-9819-fc1e82ebc405",
   "metadata": {},
   "outputs": [],
   "source": [
    "df_99999 = df_ords_prods_merge[df_ords_prods_merge['prices'] == 99999]"
   ]
  },
  {
   "cell_type": "code",
   "execution_count": 21,
   "id": "567fa992-8bd4-48db-b03f-2778b31a0fd5",
   "metadata": {},
   "outputs": [
    {
     "data": {
      "text/plain": [
       "np.int64(698)"
      ]
     },
     "execution_count": 21,
     "metadata": {},
     "output_type": "execute_result"
    }
   ],
   "source": [
    "(df_ords_prods_merge['prices'] == 99999).sum()"
   ]
  },
  {
   "cell_type": "code",
   "execution_count": 22,
   "id": "5f1a3299-3ed4-47dd-98b1-8951994b74bc",
   "metadata": {
    "scrolled": true
   },
   "outputs": [
    {
     "data": {
      "text/html": [
       "<div>\n",
       "<style scoped>\n",
       "    .dataframe tbody tr th:only-of-type {\n",
       "        vertical-align: middle;\n",
       "    }\n",
       "\n",
       "    .dataframe tbody tr th {\n",
       "        vertical-align: top;\n",
       "    }\n",
       "\n",
       "    .dataframe thead th {\n",
       "        text-align: right;\n",
       "    }\n",
       "</style>\n",
       "<table border=\"1\" class=\"dataframe\">\n",
       "  <thead>\n",
       "    <tr style=\"text-align: right;\">\n",
       "      <th></th>\n",
       "      <th>order_id</th>\n",
       "      <th>product_id</th>\n",
       "      <th>add_to_cart_order</th>\n",
       "      <th>reordered</th>\n",
       "      <th>user_id</th>\n",
       "      <th>order_number</th>\n",
       "      <th>orders_day_of_week</th>\n",
       "      <th>order_hour_of_day</th>\n",
       "      <th>days_since_prior_order</th>\n",
       "      <th>first_order</th>\n",
       "      <th>product_name</th>\n",
       "      <th>aisle_id</th>\n",
       "      <th>department_id</th>\n",
       "      <th>prices</th>\n",
       "      <th>_merge</th>\n",
       "    </tr>\n",
       "  </thead>\n",
       "  <tbody>\n",
       "    <tr>\n",
       "      <th>45415</th>\n",
       "      <td>4783</td>\n",
       "      <td>33664</td>\n",
       "      <td>13</td>\n",
       "      <td>0</td>\n",
       "      <td>108505</td>\n",
       "      <td>34</td>\n",
       "      <td>2</td>\n",
       "      <td>13</td>\n",
       "      <td>10.0</td>\n",
       "      <td>False</td>\n",
       "      <td>2 % Reduced Fat  Milk</td>\n",
       "      <td>84.0</td>\n",
       "      <td>16.0</td>\n",
       "      <td>99999.0</td>\n",
       "      <td>both</td>\n",
       "    </tr>\n",
       "    <tr>\n",
       "      <th>130950</th>\n",
       "      <td>13820</td>\n",
       "      <td>33664</td>\n",
       "      <td>6</td>\n",
       "      <td>0</td>\n",
       "      <td>191672</td>\n",
       "      <td>25</td>\n",
       "      <td>0</td>\n",
       "      <td>22</td>\n",
       "      <td>6.0</td>\n",
       "      <td>False</td>\n",
       "      <td>2 % Reduced Fat  Milk</td>\n",
       "      <td>84.0</td>\n",
       "      <td>16.0</td>\n",
       "      <td>99999.0</td>\n",
       "      <td>both</td>\n",
       "    </tr>\n",
       "    <tr>\n",
       "      <th>156285</th>\n",
       "      <td>16454</td>\n",
       "      <td>33664</td>\n",
       "      <td>10</td>\n",
       "      <td>1</td>\n",
       "      <td>74750</td>\n",
       "      <td>24</td>\n",
       "      <td>5</td>\n",
       "      <td>15</td>\n",
       "      <td>2.0</td>\n",
       "      <td>False</td>\n",
       "      <td>2 % Reduced Fat  Milk</td>\n",
       "      <td>84.0</td>\n",
       "      <td>16.0</td>\n",
       "      <td>99999.0</td>\n",
       "      <td>both</td>\n",
       "    </tr>\n",
       "    <tr>\n",
       "      <th>159095</th>\n",
       "      <td>16749</td>\n",
       "      <td>33664</td>\n",
       "      <td>9</td>\n",
       "      <td>1</td>\n",
       "      <td>167224</td>\n",
       "      <td>18</td>\n",
       "      <td>2</td>\n",
       "      <td>14</td>\n",
       "      <td>6.0</td>\n",
       "      <td>False</td>\n",
       "      <td>2 % Reduced Fat  Milk</td>\n",
       "      <td>84.0</td>\n",
       "      <td>16.0</td>\n",
       "      <td>99999.0</td>\n",
       "      <td>both</td>\n",
       "    </tr>\n",
       "    <tr>\n",
       "      <th>169030</th>\n",
       "      <td>17778</td>\n",
       "      <td>33664</td>\n",
       "      <td>9</td>\n",
       "      <td>0</td>\n",
       "      <td>7608</td>\n",
       "      <td>2</td>\n",
       "      <td>2</td>\n",
       "      <td>8</td>\n",
       "      <td>1.0</td>\n",
       "      <td>False</td>\n",
       "      <td>2 % Reduced Fat  Milk</td>\n",
       "      <td>84.0</td>\n",
       "      <td>16.0</td>\n",
       "      <td>99999.0</td>\n",
       "      <td>both</td>\n",
       "    </tr>\n",
       "    <tr>\n",
       "      <th>...</th>\n",
       "      <td>...</td>\n",
       "      <td>...</td>\n",
       "      <td>...</td>\n",
       "      <td>...</td>\n",
       "      <td>...</td>\n",
       "      <td>...</td>\n",
       "      <td>...</td>\n",
       "      <td>...</td>\n",
       "      <td>...</td>\n",
       "      <td>...</td>\n",
       "      <td>...</td>\n",
       "      <td>...</td>\n",
       "      <td>...</td>\n",
       "      <td>...</td>\n",
       "      <td>...</td>\n",
       "    </tr>\n",
       "    <tr>\n",
       "      <th>32307286</th>\n",
       "      <td>3407607</td>\n",
       "      <td>33664</td>\n",
       "      <td>9</td>\n",
       "      <td>1</td>\n",
       "      <td>14872</td>\n",
       "      <td>17</td>\n",
       "      <td>4</td>\n",
       "      <td>21</td>\n",
       "      <td>13.0</td>\n",
       "      <td>False</td>\n",
       "      <td>2 % Reduced Fat  Milk</td>\n",
       "      <td>84.0</td>\n",
       "      <td>16.0</td>\n",
       "      <td>99999.0</td>\n",
       "      <td>both</td>\n",
       "    </tr>\n",
       "    <tr>\n",
       "      <th>32324302</th>\n",
       "      <td>3409400</td>\n",
       "      <td>33664</td>\n",
       "      <td>1</td>\n",
       "      <td>1</td>\n",
       "      <td>70851</td>\n",
       "      <td>10</td>\n",
       "      <td>5</td>\n",
       "      <td>9</td>\n",
       "      <td>5.0</td>\n",
       "      <td>False</td>\n",
       "      <td>2 % Reduced Fat  Milk</td>\n",
       "      <td>84.0</td>\n",
       "      <td>16.0</td>\n",
       "      <td>99999.0</td>\n",
       "      <td>both</td>\n",
       "    </tr>\n",
       "    <tr>\n",
       "      <th>32368175</th>\n",
       "      <td>3414106</td>\n",
       "      <td>33664</td>\n",
       "      <td>5</td>\n",
       "      <td>1</td>\n",
       "      <td>111487</td>\n",
       "      <td>25</td>\n",
       "      <td>6</td>\n",
       "      <td>7</td>\n",
       "      <td>9.0</td>\n",
       "      <td>False</td>\n",
       "      <td>2 % Reduced Fat  Milk</td>\n",
       "      <td>84.0</td>\n",
       "      <td>16.0</td>\n",
       "      <td>99999.0</td>\n",
       "      <td>both</td>\n",
       "    </tr>\n",
       "    <tr>\n",
       "      <th>32402756</th>\n",
       "      <td>3417702</td>\n",
       "      <td>33664</td>\n",
       "      <td>13</td>\n",
       "      <td>0</td>\n",
       "      <td>70821</td>\n",
       "      <td>5</td>\n",
       "      <td>2</td>\n",
       "      <td>14</td>\n",
       "      <td>18.0</td>\n",
       "      <td>False</td>\n",
       "      <td>2 % Reduced Fat  Milk</td>\n",
       "      <td>84.0</td>\n",
       "      <td>16.0</td>\n",
       "      <td>99999.0</td>\n",
       "      <td>both</td>\n",
       "    </tr>\n",
       "    <tr>\n",
       "      <th>32434790</th>\n",
       "      <td>3421047</td>\n",
       "      <td>33664</td>\n",
       "      <td>6</td>\n",
       "      <td>0</td>\n",
       "      <td>98554</td>\n",
       "      <td>4</td>\n",
       "      <td>1</td>\n",
       "      <td>11</td>\n",
       "      <td>4.0</td>\n",
       "      <td>False</td>\n",
       "      <td>2 % Reduced Fat  Milk</td>\n",
       "      <td>84.0</td>\n",
       "      <td>16.0</td>\n",
       "      <td>99999.0</td>\n",
       "      <td>both</td>\n",
       "    </tr>\n",
       "  </tbody>\n",
       "</table>\n",
       "<p>698 rows × 15 columns</p>\n",
       "</div>"
      ],
      "text/plain": [
       "          order_id  product_id  add_to_cart_order  reordered  user_id  \\\n",
       "45415         4783       33664                 13          0   108505   \n",
       "130950       13820       33664                  6          0   191672   \n",
       "156285       16454       33664                 10          1    74750   \n",
       "159095       16749       33664                  9          1   167224   \n",
       "169030       17778       33664                  9          0     7608   \n",
       "...            ...         ...                ...        ...      ...   \n",
       "32307286   3407607       33664                  9          1    14872   \n",
       "32324302   3409400       33664                  1          1    70851   \n",
       "32368175   3414106       33664                  5          1   111487   \n",
       "32402756   3417702       33664                 13          0    70821   \n",
       "32434790   3421047       33664                  6          0    98554   \n",
       "\n",
       "          order_number  orders_day_of_week  order_hour_of_day  \\\n",
       "45415               34                   2                 13   \n",
       "130950              25                   0                 22   \n",
       "156285              24                   5                 15   \n",
       "159095              18                   2                 14   \n",
       "169030               2                   2                  8   \n",
       "...                ...                 ...                ...   \n",
       "32307286            17                   4                 21   \n",
       "32324302            10                   5                  9   \n",
       "32368175            25                   6                  7   \n",
       "32402756             5                   2                 14   \n",
       "32434790             4                   1                 11   \n",
       "\n",
       "          days_since_prior_order  first_order           product_name  \\\n",
       "45415                       10.0        False  2 % Reduced Fat  Milk   \n",
       "130950                       6.0        False  2 % Reduced Fat  Milk   \n",
       "156285                       2.0        False  2 % Reduced Fat  Milk   \n",
       "159095                       6.0        False  2 % Reduced Fat  Milk   \n",
       "169030                       1.0        False  2 % Reduced Fat  Milk   \n",
       "...                          ...          ...                    ...   \n",
       "32307286                    13.0        False  2 % Reduced Fat  Milk   \n",
       "32324302                     5.0        False  2 % Reduced Fat  Milk   \n",
       "32368175                     9.0        False  2 % Reduced Fat  Milk   \n",
       "32402756                    18.0        False  2 % Reduced Fat  Milk   \n",
       "32434790                     4.0        False  2 % Reduced Fat  Milk   \n",
       "\n",
       "          aisle_id  department_id   prices _merge  \n",
       "45415         84.0           16.0  99999.0   both  \n",
       "130950        84.0           16.0  99999.0   both  \n",
       "156285        84.0           16.0  99999.0   both  \n",
       "159095        84.0           16.0  99999.0   both  \n",
       "169030        84.0           16.0  99999.0   both  \n",
       "...            ...            ...      ...    ...  \n",
       "32307286      84.0           16.0  99999.0   both  \n",
       "32324302      84.0           16.0  99999.0   both  \n",
       "32368175      84.0           16.0  99999.0   both  \n",
       "32402756      84.0           16.0  99999.0   both  \n",
       "32434790      84.0           16.0  99999.0   both  \n",
       "\n",
       "[698 rows x 15 columns]"
      ]
     },
     "execution_count": 22,
     "metadata": {},
     "output_type": "execute_result"
    }
   ],
   "source": [
    "df_99999"
   ]
  },
  {
   "cell_type": "code",
   "execution_count": 23,
   "id": "68ca6f01-a5af-4a5a-a6bf-6fdcc5c21da7",
   "metadata": {},
   "outputs": [
    {
     "data": {
      "text/html": [
       "<div>\n",
       "<style scoped>\n",
       "    .dataframe tbody tr th:only-of-type {\n",
       "        vertical-align: middle;\n",
       "    }\n",
       "\n",
       "    .dataframe tbody tr th {\n",
       "        vertical-align: top;\n",
       "    }\n",
       "\n",
       "    .dataframe thead th {\n",
       "        text-align: right;\n",
       "    }\n",
       "</style>\n",
       "<table border=\"1\" class=\"dataframe\">\n",
       "  <thead>\n",
       "    <tr style=\"text-align: right;\">\n",
       "      <th></th>\n",
       "      <th>product_id</th>\n",
       "      <th>product_name</th>\n",
       "    </tr>\n",
       "  </thead>\n",
       "  <tbody>\n",
       "    <tr>\n",
       "      <th>45415</th>\n",
       "      <td>33664</td>\n",
       "      <td>2 % Reduced Fat  Milk</td>\n",
       "    </tr>\n",
       "  </tbody>\n",
       "</table>\n",
       "</div>"
      ],
      "text/plain": [
       "       product_id           product_name\n",
       "45415       33664  2 % Reduced Fat  Milk"
      ]
     },
     "execution_count": 23,
     "metadata": {},
     "output_type": "execute_result"
    }
   ],
   "source": [
    "df_99999[['product_id', 'product_name']].drop_duplicates().sort_values('product_id')"
   ]
  },
  {
   "cell_type": "code",
   "execution_count": 24,
   "id": "31c97d4c-d243-4280-8405-d866f1992200",
   "metadata": {},
   "outputs": [],
   "source": [
    "milk_prices = df_ords_prods_merge[df_ords_prods_merge['product_name'] == \"2% Reduced Fat Milk\"]"
   ]
  },
  {
   "cell_type": "code",
   "execution_count": 25,
   "id": "34bd93c1-ac51-426e-ac17-bce16145a2c5",
   "metadata": {},
   "outputs": [],
   "source": [
    "valid_milk_prices = milk_prices[milk_prices['prices'] != 99999.0]"
   ]
  },
  {
   "cell_type": "code",
   "execution_count": 26,
   "id": "bf15bbc1-854c-4976-baea-e79886618d5e",
   "metadata": {},
   "outputs": [
    {
     "data": {
      "text/plain": [
       "prices\n",
       "9.2    37091\n",
       "Name: count, dtype: int64"
      ]
     },
     "execution_count": 26,
     "metadata": {},
     "output_type": "execute_result"
    }
   ],
   "source": [
    "# Check actual prices\n",
    "valid_milk_prices['prices'].value_counts().sort_index()"
   ]
  },
  {
   "cell_type": "markdown",
   "id": "27568ddd-e3b1-418c-b4d3-433d34ccca18",
   "metadata": {},
   "source": [
    "2% Reduced Fat Milk price is $9.20"
   ]
  },
  {
   "cell_type": "code",
   "execution_count": 27,
   "id": "aca47adf-72ba-4cc9-a9f9-39ef0ab41904",
   "metadata": {},
   "outputs": [],
   "source": [
    "# Impute the correct price to the 99999s\n",
    "df_ords_prods_merge.loc[\n",
    "    (df_ords_prods_merge['product_name'] == \"2% Reduced Fat Milk\") &\n",
    "    (df_ords_prods_merge['prices'] == 99999.0),\n",
    "    'prices'\n",
    "] = 9.2"
   ]
  },
  {
   "cell_type": "code",
   "execution_count": 28,
   "id": "05d9333a-c55f-4060-9f3d-b2ae27381a07",
   "metadata": {
    "scrolled": true
   },
   "outputs": [
    {
     "data": {
      "text/plain": [
       "99999.0"
      ]
     },
     "execution_count": 28,
     "metadata": {},
     "output_type": "execute_result"
    }
   ],
   "source": [
    "# work check\n",
    "df_ords_prods_merge['prices'].max()"
   ]
  },
  {
   "cell_type": "markdown",
   "id": "903c3bb1-f5bc-4635-ad18-356f745dff30",
   "metadata": {},
   "source": [
    "So there are other 99999s as well"
   ]
  },
  {
   "cell_type": "code",
   "execution_count": 29,
   "id": "0a36bb06-172d-4b8b-9010-6acf8ace9703",
   "metadata": {},
   "outputs": [
    {
     "data": {
      "text/plain": [
       "product_name\n",
       "2 % Reduced Fat  Milk    698\n",
       "Name: count, dtype: int64"
      ]
     },
     "execution_count": 29,
     "metadata": {},
     "output_type": "execute_result"
    }
   ],
   "source": [
    "# Check all products with 99999s\n",
    "df_ords_prods_merge[df_ords_prods_merge['prices'] == 99999.0]['product_name'].value_counts()"
   ]
  },
  {
   "cell_type": "code",
   "execution_count": 30,
   "id": "82c6e1e4-a197-454c-9598-55cd5e4b8e9d",
   "metadata": {},
   "outputs": [
    {
     "name": "stdout",
     "output_type": "stream",
     "text": [
      "Series([], Name: count, dtype: int64)\n"
     ]
    }
   ],
   "source": [
    "milk_variant = df_ords_prods_merge[df_ords_prods_merge['product_name'] == \"2 % Reduced Fat  Milk\"]\n",
    "valid_prices = milk_variant[milk_variant['prices'] != 99999.0]['prices'].value_counts()\n",
    "print(valid_prices)"
   ]
  },
  {
   "cell_type": "code",
   "execution_count": 31,
   "id": "1005b737-4066-42e7-8141-65d237c6b423",
   "metadata": {},
   "outputs": [],
   "source": [
    "df_ords_prods_merge.loc[\n",
    "    (df_ords_prods_merge['product_name'] == \"2 % Reduced Fat  Milk\") &\n",
    "    (df_ords_prods_merge['prices'] == 99999.0),\n",
    "    'prices'\n",
    "] = 9.2\n"
   ]
  },
  {
   "cell_type": "code",
   "execution_count": 32,
   "id": "6d159dd6-1c98-4837-85f3-ab70f3455751",
   "metadata": {},
   "outputs": [
    {
     "data": {
      "text/html": [
       "<div>\n",
       "<style scoped>\n",
       "    .dataframe tbody tr th:only-of-type {\n",
       "        vertical-align: middle;\n",
       "    }\n",
       "\n",
       "    .dataframe tbody tr th {\n",
       "        vertical-align: top;\n",
       "    }\n",
       "\n",
       "    .dataframe thead th {\n",
       "        text-align: right;\n",
       "    }\n",
       "</style>\n",
       "<table border=\"1\" class=\"dataframe\">\n",
       "  <thead>\n",
       "    <tr style=\"text-align: right;\">\n",
       "      <th></th>\n",
       "      <th>order_id</th>\n",
       "      <th>product_id</th>\n",
       "      <th>add_to_cart_order</th>\n",
       "      <th>reordered</th>\n",
       "      <th>user_id</th>\n",
       "      <th>order_number</th>\n",
       "      <th>orders_day_of_week</th>\n",
       "      <th>order_hour_of_day</th>\n",
       "      <th>days_since_prior_order</th>\n",
       "      <th>first_order</th>\n",
       "      <th>product_name</th>\n",
       "      <th>aisle_id</th>\n",
       "      <th>department_id</th>\n",
       "      <th>prices</th>\n",
       "      <th>_merge</th>\n",
       "    </tr>\n",
       "  </thead>\n",
       "  <tbody>\n",
       "  </tbody>\n",
       "</table>\n",
       "</div>"
      ],
      "text/plain": [
       "Empty DataFrame\n",
       "Columns: [order_id, product_id, add_to_cart_order, reordered, user_id, order_number, orders_day_of_week, order_hour_of_day, days_since_prior_order, first_order, product_name, aisle_id, department_id, prices, _merge]\n",
       "Index: []"
      ]
     },
     "execution_count": 32,
     "metadata": {},
     "output_type": "execute_result"
    }
   ],
   "source": [
    "df_ords_prods_merge[\n",
    "    (df_ords_prods_merge['product_name'] == \"2 % Reduced Fat  Milk\") &\n",
    "    (df_ords_prods_merge['prices'] == 99999.0)\n",
    "]\n"
   ]
  },
  {
   "cell_type": "code",
   "execution_count": 33,
   "id": "31d4082b-14bd-4a90-b4ed-2f8cb10ff59f",
   "metadata": {},
   "outputs": [
    {
     "data": {
      "text/plain": [
       "14900.0"
      ]
     },
     "execution_count": 33,
     "metadata": {},
     "output_type": "execute_result"
    }
   ],
   "source": [
    "# work check\n",
    "df_ords_prods_merge['prices'].max()"
   ]
  },
  {
   "cell_type": "markdown",
   "id": "f1fc87da-e661-4234-b4b0-c749bafc5023",
   "metadata": {},
   "source": [
    "#### Next Max Price"
   ]
  },
  {
   "cell_type": "code",
   "execution_count": 34,
   "id": "cb51e5c0-9ee6-4270-b58f-327c203b554a",
   "metadata": {
    "scrolled": true
   },
   "outputs": [
    {
     "data": {
      "text/plain": [
       "7347686     14900.0\n",
       "2460618     14900.0\n",
       "22121564    14900.0\n",
       "18431467    14900.0\n",
       "11539563    14900.0\n",
       "20949129    14900.0\n",
       "22314383    14900.0\n",
       "18568146    14900.0\n",
       "6074158     14900.0\n",
       "15136427    14900.0\n",
       "Name: prices, dtype: float64"
      ]
     },
     "execution_count": 34,
     "metadata": {},
     "output_type": "execute_result"
    }
   ],
   "source": [
    "df_ords_prods_merge['prices'].sort_values(ascending=False).head(10)"
   ]
  },
  {
   "cell_type": "code",
   "execution_count": 35,
   "id": "8bf34cdc-a77f-45d5-bb9c-de5b6d761af6",
   "metadata": {},
   "outputs": [],
   "source": [
    "price_counts = df_ords_prods_merge['prices'].value_counts(dropna=False).sort_index()"
   ]
  },
  {
   "cell_type": "code",
   "execution_count": 36,
   "id": "17009555-f067-4be0-bd4c-7d373d5660dc",
   "metadata": {},
   "outputs": [
    {
     "data": {
      "text/plain": [
       "prices\n",
       "14900.0    1\n",
       "Name: count, dtype: int64"
      ]
     },
     "execution_count": 36,
     "metadata": {},
     "output_type": "execute_result"
    }
   ],
   "source": [
    "# Filter for product_id 21553\n",
    "df_prods[df_prods['product_id'] == 21553]['prices'].value_counts(dropna=False)"
   ]
  },
  {
   "cell_type": "code",
   "execution_count": 37,
   "id": "a3e46e62-32bd-4cf4-a2df-c351873b8d41",
   "metadata": {
    "scrolled": true
   },
   "outputs": [
    {
     "data": {
      "text/plain": [
       "prices\n",
       "6.5        3\n",
       "3.3        2\n",
       "2.2        2\n",
       "8.4        2\n",
       "5.6        2\n",
       "9.4        2\n",
       "2.0        2\n",
       "1.3        2\n",
       "7.0        2\n",
       "3.0        2\n",
       "8.0        2\n",
       "9.5        1\n",
       "2.7        1\n",
       "12.0       1\n",
       "8.6        1\n",
       "15.0       1\n",
       "5.8        1\n",
       "6.9        1\n",
       "2.4        1\n",
       "3.8        1\n",
       "11.8       1\n",
       "2.3        1\n",
       "5.3        1\n",
       "9.2        1\n",
       "14900.0    1\n",
       "6.7        1\n",
       "6.8        1\n",
       "10.4       1\n",
       "9.3        1\n",
       "4.9        1\n",
       "3.1        1\n",
       "9.6        1\n",
       "7.7        1\n",
       "11.4       1\n",
       "8.2        1\n",
       "12.3       1\n",
       "3.9        1\n",
       "7.5        1\n",
       "7.2        1\n",
       "2.1        1\n",
       "11.5       1\n",
       "6.1        1\n",
       "8.9        1\n",
       "4.7        1\n",
       "1.9        1\n",
       "11.6       1\n",
       "13.5       1\n",
       "13.7       1\n",
       "10.5       1\n",
       "12.1       1\n",
       "1.1        1\n",
       "11.9       1\n",
       "1.6        1\n",
       "1.8        1\n",
       "9.7        1\n",
       "3.4        1\n",
       "12.6       1\n",
       "6.4        1\n",
       "3.7        1\n",
       "Name: count, dtype: int64"
      ]
     },
     "execution_count": 37,
     "metadata": {},
     "output_type": "execute_result"
    }
   ],
   "source": [
    "df_prods[df_prods['product_name'].str.contains(\"cottage cheese\", case=False)]['prices'].value_counts()"
   ]
  },
  {
   "cell_type": "code",
   "execution_count": 38,
   "id": "442e35c0-11a5-48f7-bf93-0bf154041c9b",
   "metadata": {},
   "outputs": [],
   "source": [
    "# use median price for cottage cheese\n",
    "median_price = df_prods[df_prods['product_name'].str.contains(\"cottage cheese\", case=False)]['prices'].median()\n",
    "\n",
    "df_prods.loc[\n",
    "    (df_prods['product_id'] == 21553) & (df_prods['prices'] == 14900.0),\n",
    "    'prices'\n",
    "] = median_price"
   ]
  },
  {
   "cell_type": "code",
   "execution_count": 39,
   "id": "df8a7bc5-89f8-4a14-8c69-c180f0e9b68c",
   "metadata": {},
   "outputs": [
    {
     "data": {
      "text/html": [
       "<div>\n",
       "<style scoped>\n",
       "    .dataframe tbody tr th:only-of-type {\n",
       "        vertical-align: middle;\n",
       "    }\n",
       "\n",
       "    .dataframe tbody tr th {\n",
       "        vertical-align: top;\n",
       "    }\n",
       "\n",
       "    .dataframe thead th {\n",
       "        text-align: right;\n",
       "    }\n",
       "</style>\n",
       "<table border=\"1\" class=\"dataframe\">\n",
       "  <thead>\n",
       "    <tr style=\"text-align: right;\">\n",
       "      <th></th>\n",
       "      <th>product_id</th>\n",
       "      <th>product_name</th>\n",
       "      <th>aisle_id</th>\n",
       "      <th>department_id</th>\n",
       "      <th>prices</th>\n",
       "    </tr>\n",
       "  </thead>\n",
       "  <tbody>\n",
       "    <tr>\n",
       "      <th>21538</th>\n",
       "      <td>21553</td>\n",
       "      <td>Lowfat 2% Milkfat Cottage Cheese</td>\n",
       "      <td>108</td>\n",
       "      <td>16</td>\n",
       "      <td>6.8</td>\n",
       "    </tr>\n",
       "  </tbody>\n",
       "</table>\n",
       "</div>"
      ],
      "text/plain": [
       "       product_id                      product_name  aisle_id  department_id  \\\n",
       "21538       21553  Lowfat 2% Milkfat Cottage Cheese       108             16   \n",
       "\n",
       "       prices  \n",
       "21538     6.8  "
      ]
     },
     "execution_count": 39,
     "metadata": {},
     "output_type": "execute_result"
    }
   ],
   "source": [
    "df_prods[df_prods['product_id'] == 21553]"
   ]
  },
  {
   "cell_type": "code",
   "execution_count": 40,
   "id": "56c47bd7-dec3-48b1-a592-ed44cb1b905a",
   "metadata": {},
   "outputs": [
    {
     "data": {
      "text/plain": [
       "7347686     14900.0\n",
       "2460618     14900.0\n",
       "22121564    14900.0\n",
       "18431467    14900.0\n",
       "11539563    14900.0\n",
       "20949129    14900.0\n",
       "22314383    14900.0\n",
       "18568146    14900.0\n",
       "6074158     14900.0\n",
       "15136427    14900.0\n",
       "Name: prices, dtype: float64"
      ]
     },
     "execution_count": 40,
     "metadata": {},
     "output_type": "execute_result"
    }
   ],
   "source": [
    "df_ords_prods_merge['prices'].sort_values(ascending=False).head(10)"
   ]
  },
  {
   "cell_type": "code",
   "execution_count": 41,
   "id": "2132fdee-d3f5-48f2-9492-68f4141ff122",
   "metadata": {},
   "outputs": [
    {
     "data": {
      "text/plain": [
       "product_id  product_name                    \n",
       "21553       Lowfat 2% Milkfat Cottage Cheese    4429\n",
       "Name: count, dtype: int64"
      ]
     },
     "execution_count": 41,
     "metadata": {},
     "output_type": "execute_result"
    }
   ],
   "source": [
    "df_ords_prods_merge[df_ords_prods_merge['prices'] == 14900.0][['product_id', 'product_name']].value_counts()"
   ]
  },
  {
   "cell_type": "code",
   "execution_count": 42,
   "id": "b8baa2b0-52c6-4250-bca1-5ed58ccb98a7",
   "metadata": {},
   "outputs": [],
   "source": [
    "df_prods.loc[df_prods['product_id'] == 21553, 'prices'] = median_price"
   ]
  },
  {
   "cell_type": "code",
   "execution_count": 43,
   "id": "05999754-528f-41ef-9841-f13f48ae3c68",
   "metadata": {},
   "outputs": [],
   "source": [
    "df_ords_prods_merge.loc[\n",
    "    (df_ords_prods_merge['product_id'] == 21553) &\n",
    "    (df_ords_prods_merge['prices'] == 14900.0),\n",
    "    'prices'\n",
    "] = median_price"
   ]
  },
  {
   "cell_type": "code",
   "execution_count": 44,
   "id": "0bf1c917-c9ad-4a6c-ab24-695299d8a85c",
   "metadata": {},
   "outputs": [
    {
     "data": {
      "text/plain": [
       "16442874    25.0\n",
       "12347351    25.0\n",
       "28633726    25.0\n",
       "636527      25.0\n",
       "18810923    25.0\n",
       "5705603     25.0\n",
       "15584548    25.0\n",
       "13444108    25.0\n",
       "23924718    25.0\n",
       "22122264    25.0\n",
       "Name: prices, dtype: float64"
      ]
     },
     "execution_count": 44,
     "metadata": {},
     "output_type": "execute_result"
    }
   ],
   "source": [
    "df_ords_prods_merge['prices'].sort_values(ascending=False).head(10)"
   ]
  },
  {
   "cell_type": "code",
   "execution_count": 45,
   "id": "db4002b7-f034-47ae-a85e-a1c52e3b9b41",
   "metadata": {},
   "outputs": [
    {
     "data": {
      "text/plain": [
       "Series([], Name: count, dtype: int64)"
      ]
     },
     "execution_count": 45,
     "metadata": {},
     "output_type": "execute_result"
    }
   ],
   "source": [
    "df_ords_prods_merge[df_ords_prods_merge['prices'] == 14900.0]['product_id'].value_counts()"
   ]
  },
  {
   "cell_type": "code",
   "execution_count": 46,
   "id": "2ea1c88f-db55-468c-a874-ae1a36072439",
   "metadata": {},
   "outputs": [
    {
     "data": {
      "text/html": [
       "<div>\n",
       "<style scoped>\n",
       "    .dataframe tbody tr th:only-of-type {\n",
       "        vertical-align: middle;\n",
       "    }\n",
       "\n",
       "    .dataframe tbody tr th {\n",
       "        vertical-align: top;\n",
       "    }\n",
       "\n",
       "    .dataframe thead th {\n",
       "        text-align: right;\n",
       "    }\n",
       "</style>\n",
       "<table border=\"1\" class=\"dataframe\">\n",
       "  <thead>\n",
       "    <tr style=\"text-align: right;\">\n",
       "      <th></th>\n",
       "      <th>product_id</th>\n",
       "      <th>product_name</th>\n",
       "      <th>aisle_id</th>\n",
       "      <th>department_id</th>\n",
       "      <th>prices</th>\n",
       "    </tr>\n",
       "  </thead>\n",
       "  <tbody>\n",
       "    <tr>\n",
       "      <th>21538</th>\n",
       "      <td>21553</td>\n",
       "      <td>Lowfat 2% Milkfat Cottage Cheese</td>\n",
       "      <td>108</td>\n",
       "      <td>16</td>\n",
       "      <td>6.8</td>\n",
       "    </tr>\n",
       "  </tbody>\n",
       "</table>\n",
       "</div>"
      ],
      "text/plain": [
       "       product_id                      product_name  aisle_id  department_id  \\\n",
       "21538       21553  Lowfat 2% Milkfat Cottage Cheese       108             16   \n",
       "\n",
       "       prices  \n",
       "21538     6.8  "
      ]
     },
     "execution_count": 46,
     "metadata": {},
     "output_type": "execute_result"
    }
   ],
   "source": [
    "df_prods[df_prods['product_id'] == 21553]"
   ]
  },
  {
   "cell_type": "code",
   "execution_count": 47,
   "id": "103dd7f7-430c-4217-9c57-ab0ced51b4fb",
   "metadata": {},
   "outputs": [
    {
     "data": {
      "text/plain": [
       "25.0"
      ]
     },
     "execution_count": 47,
     "metadata": {},
     "output_type": "execute_result"
    }
   ],
   "source": [
    "# work check\n",
    "df_ords_prods_merge['prices'].max()"
   ]
  },
  {
   "cell_type": "markdown",
   "id": "6ea564dc-d5e1-4db5-b3e7-c0c33ab5313f",
   "metadata": {},
   "source": [
    "# 05 Export"
   ]
  },
  {
   "cell_type": "code",
   "execution_count": 48,
   "id": "fc9d5922-3879-4b6c-a3a1-3081b41a8c54",
   "metadata": {},
   "outputs": [
    {
     "data": {
      "text/plain": [
       "['order_id',\n",
       " 'product_id',\n",
       " 'add_to_cart_order',\n",
       " 'reordered',\n",
       " 'user_id',\n",
       " 'order_number',\n",
       " 'orders_day_of_week',\n",
       " 'order_hour_of_day',\n",
       " 'days_since_prior_order',\n",
       " 'first_order',\n",
       " 'product_name',\n",
       " 'aisle_id',\n",
       " 'department_id',\n",
       " 'prices',\n",
       " '_merge']"
      ]
     },
     "execution_count": 48,
     "metadata": {},
     "output_type": "execute_result"
    }
   ],
   "source": [
    "# Check that the headers are good to go\n",
    "df_ords_prods_merge.columns.tolist()"
   ]
  },
  {
   "cell_type": "code",
   "execution_count": 49,
   "id": "10dd5007-6c57-46cf-9354-94c7844760d3",
   "metadata": {},
   "outputs": [],
   "source": [
    "# ords+prods_merge to export as pickle file - temp file\n",
    "df_ords_prods_merge.to_pickle(os.path.join(path, '02 Data','Prepared Data', 'ords_prods_merge_v1.pkl'))"
   ]
  },
  {
   "cell_type": "code",
   "execution_count": null,
   "id": "b64229d4-44dc-4775-b5d5-3e2015c257ef",
   "metadata": {},
   "outputs": [],
   "source": [
    "# ords+prods_merge to export as pickle file\n",
    "df_ords_prods_merge.to_pickle(os.path.join(path, '02 Data','Prepared Data', 'ords_prods_merge.pkl'))"
   ]
  }
 ],
 "metadata": {
  "kernelspec": {
   "display_name": "Python 3 (ipykernel)",
   "language": "python",
   "name": "python3"
  },
  "language_info": {
   "codemirror_mode": {
    "name": "ipython",
    "version": 3
   },
   "file_extension": ".py",
   "mimetype": "text/x-python",
   "name": "python",
   "nbconvert_exporter": "python",
   "pygments_lexer": "ipython3",
   "version": "3.13.5"
  }
 },
 "nbformat": 4,
 "nbformat_minor": 5
}
