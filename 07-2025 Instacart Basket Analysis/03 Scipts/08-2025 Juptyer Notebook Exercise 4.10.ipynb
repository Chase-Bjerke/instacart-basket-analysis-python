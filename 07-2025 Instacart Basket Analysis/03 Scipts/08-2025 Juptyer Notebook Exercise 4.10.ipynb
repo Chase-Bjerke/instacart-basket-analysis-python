{
 "cells": [
  {
   "cell_type": "markdown",
   "id": "808fdd7a-9876-4b01-8415-e779a8849070",
   "metadata": {},
   "source": [
    "# Exercise 4.10"
   ]
  },
  {
   "cell_type": "markdown",
   "id": "514dc4fa-eab6-48c2-99d5-7c48c5fb3d11",
   "metadata": {},
   "source": [
    "## Imports/Pathways"
   ]
  },
  {
   "cell_type": "code",
   "execution_count": 1,
   "id": "5922797e-6ffb-425c-af57-032ad1bc0932",
   "metadata": {},
   "outputs": [],
   "source": [
    "# Import libraries\n",
    "\n",
    "import pandas as pd\n",
    "import numpy as np\n",
    "import os\n",
    "import matplotlib.pyplot as plt\n",
    "import seaborn as sns\n",
    "import scipy\n",
    "import squarify"
   ]
  },
  {
   "cell_type": "code",
   "execution_count": 2,
   "id": "ba29e760-9e09-4cea-bfda-1bd658ff9ed9",
   "metadata": {},
   "outputs": [],
   "source": [
    "# File pathway shortcut\n",
    "path = r'C:\\Users\\Chase\\anaconda_projects\\Exercise 4\\07-2025 Instacart Basket Analysis'"
   ]
  },
  {
   "cell_type": "code",
   "execution_count": 3,
   "id": "afebd88a-2a1f-4b99-aacb-cab6aeadc5df",
   "metadata": {},
   "outputs": [],
   "source": [
    "# Final version of main dataset\n",
    "df_final_v4 = pd.read_pickle(os.path.join(path, '02 Data', 'Prepared Data', 'df_final_v4.pkl'))"
   ]
  },
  {
   "cell_type": "markdown",
   "id": "0de70628-1bf6-4c5b-a91c-6e13b6486ffb",
   "metadata": {
    "jp-MarkdownHeadingCollapsed": true
   },
   "source": [
    "#### Imports used for merge"
   ]
  },
  {
   "cell_type": "code",
   "execution_count": 4,
   "id": "054c60a8-450e-4795-b48e-5915a697c473",
   "metadata": {},
   "outputs": [],
   "source": [
    "# Final version of main dataset\n",
    "df_final_v3 = pd.read_pickle(os.path.join(path, '02 Data', 'Prepared Data', 'df_final_v3.pkl'))"
   ]
  },
  {
   "cell_type": "code",
   "execution_count": 5,
   "id": "dc9321ca-04cb-4229-b0d7-55ea0b52d08c",
   "metadata": {},
   "outputs": [],
   "source": [
    "# Prepared file\n",
    "# Load the final enriched dataset\n",
    "df_final_v2 = pd.read_pickle(os.path.join(path, '02 Data', 'Prepared Data', 'df_final_v2.pkl'))"
   ]
  },
  {
   "cell_type": "code",
   "execution_count": 6,
   "id": "cbe2ec7b-f309-4412-9301-c35a5e35c603",
   "metadata": {},
   "outputs": [],
   "source": [
    "# Upload wrangled departments file to include department names column that's missing\n",
    "df_dept = pd.read_csv(os.path.join(path, '02 Data', 'Prepared Data', 'departments_wrangled.csv'))"
   ]
  },
  {
   "cell_type": "markdown",
   "id": "052fa0df-4f1d-4769-bb01-365dc15f9779",
   "metadata": {
    "jp-MarkdownHeadingCollapsed": true
   },
   "source": [
    "## Inspect Data"
   ]
  },
  {
   "cell_type": "markdown",
   "id": "94f7d2f5-8cd7-4699-9976-000a1940316b",
   "metadata": {},
   "source": [
    "#### df_final_v3"
   ]
  },
  {
   "cell_type": "code",
   "execution_count": 7,
   "id": "18939578-e0ea-45e8-9508-9919d5ac4491",
   "metadata": {},
   "outputs": [
    {
     "data": {
      "text/plain": [
       "(32436199, 33)"
      ]
     },
     "execution_count": 7,
     "metadata": {},
     "output_type": "execute_result"
    }
   ],
   "source": [
    "df_final_v3.shape"
   ]
  },
  {
   "cell_type": "code",
   "execution_count": 8,
   "id": "553e05be-1e56-4291-95c9-c5619abd43f0",
   "metadata": {},
   "outputs": [
    {
     "data": {
      "text/html": [
       "<div>\n",
       "<style scoped>\n",
       "    .dataframe tbody tr th:only-of-type {\n",
       "        vertical-align: middle;\n",
       "    }\n",
       "\n",
       "    .dataframe tbody tr th {\n",
       "        vertical-align: top;\n",
       "    }\n",
       "\n",
       "    .dataframe thead th {\n",
       "        text-align: right;\n",
       "    }\n",
       "</style>\n",
       "<table border=\"1\" class=\"dataframe\">\n",
       "  <thead>\n",
       "    <tr style=\"text-align: right;\">\n",
       "      <th></th>\n",
       "      <th>order_id</th>\n",
       "      <th>product_id</th>\n",
       "      <th>add_to_cart_order</th>\n",
       "      <th>reordered</th>\n",
       "      <th>user_id</th>\n",
       "      <th>order_number</th>\n",
       "      <th>orders_day_of_week</th>\n",
       "      <th>order_hour_of_day</th>\n",
       "      <th>days_since_prior_order</th>\n",
       "      <th>first_order</th>\n",
       "      <th>...</th>\n",
       "      <th>gender</th>\n",
       "      <th>age</th>\n",
       "      <th>state</th>\n",
       "      <th>income</th>\n",
       "      <th>marital_status</th>\n",
       "      <th>num_dependents</th>\n",
       "      <th>date_joined</th>\n",
       "      <th>missing_first_name</th>\n",
       "      <th>department</th>\n",
       "      <th>product_count</th>\n",
       "    </tr>\n",
       "  </thead>\n",
       "  <tbody>\n",
       "    <tr>\n",
       "      <th>0</th>\n",
       "      <td>2</td>\n",
       "      <td>33120</td>\n",
       "      <td>1</td>\n",
       "      <td>1</td>\n",
       "      <td>202279</td>\n",
       "      <td>3</td>\n",
       "      <td>5</td>\n",
       "      <td>9</td>\n",
       "      <td>8.0</td>\n",
       "      <td>False</td>\n",
       "      <td>...</td>\n",
       "      <td>Male</td>\n",
       "      <td>57</td>\n",
       "      <td>Idaho</td>\n",
       "      <td>98119</td>\n",
       "      <td>married</td>\n",
       "      <td>3</td>\n",
       "      <td>2/6/2020</td>\n",
       "      <td>False</td>\n",
       "      <td>dairy eggs</td>\n",
       "      <td>5398747.0</td>\n",
       "    </tr>\n",
       "    <tr>\n",
       "      <th>1</th>\n",
       "      <td>2</td>\n",
       "      <td>28985</td>\n",
       "      <td>2</td>\n",
       "      <td>1</td>\n",
       "      <td>202279</td>\n",
       "      <td>3</td>\n",
       "      <td>5</td>\n",
       "      <td>9</td>\n",
       "      <td>8.0</td>\n",
       "      <td>False</td>\n",
       "      <td>...</td>\n",
       "      <td>Male</td>\n",
       "      <td>57</td>\n",
       "      <td>Idaho</td>\n",
       "      <td>98119</td>\n",
       "      <td>married</td>\n",
       "      <td>3</td>\n",
       "      <td>2/6/2020</td>\n",
       "      <td>False</td>\n",
       "      <td>produce</td>\n",
       "      <td>9479291.0</td>\n",
       "    </tr>\n",
       "    <tr>\n",
       "      <th>2</th>\n",
       "      <td>2</td>\n",
       "      <td>9327</td>\n",
       "      <td>3</td>\n",
       "      <td>0</td>\n",
       "      <td>202279</td>\n",
       "      <td>3</td>\n",
       "      <td>5</td>\n",
       "      <td>9</td>\n",
       "      <td>8.0</td>\n",
       "      <td>False</td>\n",
       "      <td>...</td>\n",
       "      <td>Male</td>\n",
       "      <td>57</td>\n",
       "      <td>Idaho</td>\n",
       "      <td>98119</td>\n",
       "      <td>married</td>\n",
       "      <td>3</td>\n",
       "      <td>2/6/2020</td>\n",
       "      <td>False</td>\n",
       "      <td>pantry</td>\n",
       "      <td>1875369.0</td>\n",
       "    </tr>\n",
       "    <tr>\n",
       "      <th>3</th>\n",
       "      <td>2</td>\n",
       "      <td>45918</td>\n",
       "      <td>4</td>\n",
       "      <td>1</td>\n",
       "      <td>202279</td>\n",
       "      <td>3</td>\n",
       "      <td>5</td>\n",
       "      <td>9</td>\n",
       "      <td>8.0</td>\n",
       "      <td>False</td>\n",
       "      <td>...</td>\n",
       "      <td>Male</td>\n",
       "      <td>57</td>\n",
       "      <td>Idaho</td>\n",
       "      <td>98119</td>\n",
       "      <td>married</td>\n",
       "      <td>3</td>\n",
       "      <td>2/6/2020</td>\n",
       "      <td>False</td>\n",
       "      <td>pantry</td>\n",
       "      <td>1875369.0</td>\n",
       "    </tr>\n",
       "    <tr>\n",
       "      <th>4</th>\n",
       "      <td>2</td>\n",
       "      <td>30035</td>\n",
       "      <td>5</td>\n",
       "      <td>0</td>\n",
       "      <td>202279</td>\n",
       "      <td>3</td>\n",
       "      <td>5</td>\n",
       "      <td>9</td>\n",
       "      <td>8.0</td>\n",
       "      <td>False</td>\n",
       "      <td>...</td>\n",
       "      <td>Male</td>\n",
       "      <td>57</td>\n",
       "      <td>Idaho</td>\n",
       "      <td>98119</td>\n",
       "      <td>married</td>\n",
       "      <td>3</td>\n",
       "      <td>2/6/2020</td>\n",
       "      <td>False</td>\n",
       "      <td>pantry</td>\n",
       "      <td>1875369.0</td>\n",
       "    </tr>\n",
       "  </tbody>\n",
       "</table>\n",
       "<p>5 rows × 33 columns</p>\n",
       "</div>"
      ],
      "text/plain": [
       "   order_id  product_id  add_to_cart_order  reordered  user_id  order_number  \\\n",
       "0         2       33120                  1          1   202279             3   \n",
       "1         2       28985                  2          1   202279             3   \n",
       "2         2        9327                  3          0   202279             3   \n",
       "3         2       45918                  4          1   202279             3   \n",
       "4         2       30035                  5          0   202279             3   \n",
       "\n",
       "   orders_day_of_week  order_hour_of_day  days_since_prior_order  first_order  \\\n",
       "0                   5                  9                     8.0        False   \n",
       "1                   5                  9                     8.0        False   \n",
       "2                   5                  9                     8.0        False   \n",
       "3                   5                  9                     8.0        False   \n",
       "4                   5                  9                     8.0        False   \n",
       "\n",
       "   ... gender  age  state  income marital_status num_dependents date_joined  \\\n",
       "0  ...   Male   57  Idaho   98119        married              3    2/6/2020   \n",
       "1  ...   Male   57  Idaho   98119        married              3    2/6/2020   \n",
       "2  ...   Male   57  Idaho   98119        married              3    2/6/2020   \n",
       "3  ...   Male   57  Idaho   98119        married              3    2/6/2020   \n",
       "4  ...   Male   57  Idaho   98119        married              3    2/6/2020   \n",
       "\n",
       "  missing_first_name  department product_count  \n",
       "0              False  dairy eggs     5398747.0  \n",
       "1              False     produce     9479291.0  \n",
       "2              False      pantry     1875369.0  \n",
       "3              False      pantry     1875369.0  \n",
       "4              False      pantry     1875369.0  \n",
       "\n",
       "[5 rows x 33 columns]"
      ]
     },
     "execution_count": 8,
     "metadata": {},
     "output_type": "execute_result"
    }
   ],
   "source": [
    "# Header check\n",
    "df_final_v3.head()"
   ]
  },
  {
   "cell_type": "code",
   "execution_count": 9,
   "id": "d2cae523-3045-4355-a516-bf00562ba0ba",
   "metadata": {},
   "outputs": [
    {
     "name": "stdout",
     "output_type": "stream",
     "text": [
      "Index(['order_id', 'product_id', 'add_to_cart_order', 'reordered', 'user_id',\n",
      "       'order_number', 'orders_day_of_week', 'order_hour_of_day',\n",
      "       'days_since_prior_order', 'first_order', 'product_name', 'aisle_id',\n",
      "       'department_id', 'prices', '_merge', 'price_range', 'busiest_day',\n",
      "       'busiest_period_of_day', 'max_order', 'loyalty_flag',\n",
      "       'order_frequency_flag', 'first_name', 'last_name', 'gender', 'age',\n",
      "       'state', 'income', 'marital_status', 'num_dependents', 'date_joined',\n",
      "       'missing_first_name', 'department', 'product_count', 'region',\n",
      "       'spending_flag_x', 'exclusion_flag', 'spending_flag_y',\n",
      "       'spending_flag'],\n",
      "      dtype='object')\n"
     ]
    }
   ],
   "source": [
    "print(df_final_v4.columns)"
   ]
  },
  {
   "cell_type": "code",
   "execution_count": null,
   "id": "de309da8-de49-43da-bd0d-0f26050520c6",
   "metadata": {},
   "outputs": [],
   "source": []
  },
  {
   "cell_type": "markdown",
   "id": "37226509-e2b0-4f96-8e3f-d6805ac7deb0",
   "metadata": {},
   "source": [
    "#### df_final_v4"
   ]
  },
  {
   "cell_type": "code",
   "execution_count": 10,
   "id": "820ae891-b0b5-4b83-9033-fcec23f5e596",
   "metadata": {},
   "outputs": [
    {
     "data": {
      "text/plain": [
       "(32436199, 38)"
      ]
     },
     "execution_count": 10,
     "metadata": {},
     "output_type": "execute_result"
    }
   ],
   "source": [
    "df_final_v4.shape"
   ]
  },
  {
   "cell_type": "code",
   "execution_count": 11,
   "id": "fafe4ba4-8fcc-4099-a4b4-f47446d2ae1d",
   "metadata": {},
   "outputs": [
    {
     "data": {
      "text/html": [
       "<div>\n",
       "<style scoped>\n",
       "    .dataframe tbody tr th:only-of-type {\n",
       "        vertical-align: middle;\n",
       "    }\n",
       "\n",
       "    .dataframe tbody tr th {\n",
       "        vertical-align: top;\n",
       "    }\n",
       "\n",
       "    .dataframe thead th {\n",
       "        text-align: right;\n",
       "    }\n",
       "</style>\n",
       "<table border=\"1\" class=\"dataframe\">\n",
       "  <thead>\n",
       "    <tr style=\"text-align: right;\">\n",
       "      <th></th>\n",
       "      <th>order_id</th>\n",
       "      <th>product_id</th>\n",
       "      <th>add_to_cart_order</th>\n",
       "      <th>reordered</th>\n",
       "      <th>user_id</th>\n",
       "      <th>order_number</th>\n",
       "      <th>orders_day_of_week</th>\n",
       "      <th>order_hour_of_day</th>\n",
       "      <th>days_since_prior_order</th>\n",
       "      <th>first_order</th>\n",
       "      <th>...</th>\n",
       "      <th>num_dependents</th>\n",
       "      <th>date_joined</th>\n",
       "      <th>missing_first_name</th>\n",
       "      <th>department</th>\n",
       "      <th>product_count</th>\n",
       "      <th>region</th>\n",
       "      <th>spending_flag_x</th>\n",
       "      <th>exclusion_flag</th>\n",
       "      <th>spending_flag_y</th>\n",
       "      <th>spending_flag</th>\n",
       "    </tr>\n",
       "  </thead>\n",
       "  <tbody>\n",
       "    <tr>\n",
       "      <th>0</th>\n",
       "      <td>2</td>\n",
       "      <td>33120</td>\n",
       "      <td>1</td>\n",
       "      <td>1</td>\n",
       "      <td>202279</td>\n",
       "      <td>3</td>\n",
       "      <td>5</td>\n",
       "      <td>9</td>\n",
       "      <td>8.0</td>\n",
       "      <td>False</td>\n",
       "      <td>...</td>\n",
       "      <td>3</td>\n",
       "      <td>2/6/2020</td>\n",
       "      <td>False</td>\n",
       "      <td>dairy eggs</td>\n",
       "      <td>5398747.0</td>\n",
       "      <td>West</td>\n",
       "      <td>Low spender</td>\n",
       "      <td>Keep</td>\n",
       "      <td>Low spender</td>\n",
       "      <td>Low spender</td>\n",
       "    </tr>\n",
       "    <tr>\n",
       "      <th>1</th>\n",
       "      <td>2</td>\n",
       "      <td>28985</td>\n",
       "      <td>2</td>\n",
       "      <td>1</td>\n",
       "      <td>202279</td>\n",
       "      <td>3</td>\n",
       "      <td>5</td>\n",
       "      <td>9</td>\n",
       "      <td>8.0</td>\n",
       "      <td>False</td>\n",
       "      <td>...</td>\n",
       "      <td>3</td>\n",
       "      <td>2/6/2020</td>\n",
       "      <td>False</td>\n",
       "      <td>produce</td>\n",
       "      <td>9479291.0</td>\n",
       "      <td>West</td>\n",
       "      <td>Low spender</td>\n",
       "      <td>Keep</td>\n",
       "      <td>Low spender</td>\n",
       "      <td>Low spender</td>\n",
       "    </tr>\n",
       "    <tr>\n",
       "      <th>2</th>\n",
       "      <td>2</td>\n",
       "      <td>9327</td>\n",
       "      <td>3</td>\n",
       "      <td>0</td>\n",
       "      <td>202279</td>\n",
       "      <td>3</td>\n",
       "      <td>5</td>\n",
       "      <td>9</td>\n",
       "      <td>8.0</td>\n",
       "      <td>False</td>\n",
       "      <td>...</td>\n",
       "      <td>3</td>\n",
       "      <td>2/6/2020</td>\n",
       "      <td>False</td>\n",
       "      <td>pantry</td>\n",
       "      <td>1875369.0</td>\n",
       "      <td>West</td>\n",
       "      <td>Low spender</td>\n",
       "      <td>Keep</td>\n",
       "      <td>Low spender</td>\n",
       "      <td>Low spender</td>\n",
       "    </tr>\n",
       "    <tr>\n",
       "      <th>3</th>\n",
       "      <td>2</td>\n",
       "      <td>45918</td>\n",
       "      <td>4</td>\n",
       "      <td>1</td>\n",
       "      <td>202279</td>\n",
       "      <td>3</td>\n",
       "      <td>5</td>\n",
       "      <td>9</td>\n",
       "      <td>8.0</td>\n",
       "      <td>False</td>\n",
       "      <td>...</td>\n",
       "      <td>3</td>\n",
       "      <td>2/6/2020</td>\n",
       "      <td>False</td>\n",
       "      <td>pantry</td>\n",
       "      <td>1875369.0</td>\n",
       "      <td>West</td>\n",
       "      <td>Low spender</td>\n",
       "      <td>Keep</td>\n",
       "      <td>Low spender</td>\n",
       "      <td>Low spender</td>\n",
       "    </tr>\n",
       "    <tr>\n",
       "      <th>4</th>\n",
       "      <td>2</td>\n",
       "      <td>30035</td>\n",
       "      <td>5</td>\n",
       "      <td>0</td>\n",
       "      <td>202279</td>\n",
       "      <td>3</td>\n",
       "      <td>5</td>\n",
       "      <td>9</td>\n",
       "      <td>8.0</td>\n",
       "      <td>False</td>\n",
       "      <td>...</td>\n",
       "      <td>3</td>\n",
       "      <td>2/6/2020</td>\n",
       "      <td>False</td>\n",
       "      <td>pantry</td>\n",
       "      <td>1875369.0</td>\n",
       "      <td>West</td>\n",
       "      <td>Low spender</td>\n",
       "      <td>Keep</td>\n",
       "      <td>Low spender</td>\n",
       "      <td>Low spender</td>\n",
       "    </tr>\n",
       "  </tbody>\n",
       "</table>\n",
       "<p>5 rows × 38 columns</p>\n",
       "</div>"
      ],
      "text/plain": [
       "   order_id  product_id  add_to_cart_order  reordered  user_id  order_number  \\\n",
       "0         2       33120                  1          1   202279             3   \n",
       "1         2       28985                  2          1   202279             3   \n",
       "2         2        9327                  3          0   202279             3   \n",
       "3         2       45918                  4          1   202279             3   \n",
       "4         2       30035                  5          0   202279             3   \n",
       "\n",
       "   orders_day_of_week  order_hour_of_day  days_since_prior_order  first_order  \\\n",
       "0                   5                  9                     8.0        False   \n",
       "1                   5                  9                     8.0        False   \n",
       "2                   5                  9                     8.0        False   \n",
       "3                   5                  9                     8.0        False   \n",
       "4                   5                  9                     8.0        False   \n",
       "\n",
       "   ... num_dependents  date_joined  missing_first_name  department  \\\n",
       "0  ...              3     2/6/2020               False  dairy eggs   \n",
       "1  ...              3     2/6/2020               False     produce   \n",
       "2  ...              3     2/6/2020               False      pantry   \n",
       "3  ...              3     2/6/2020               False      pantry   \n",
       "4  ...              3     2/6/2020               False      pantry   \n",
       "\n",
       "  product_count region spending_flag_x exclusion_flag  spending_flag_y  \\\n",
       "0     5398747.0   West     Low spender           Keep      Low spender   \n",
       "1     9479291.0   West     Low spender           Keep      Low spender   \n",
       "2     1875369.0   West     Low spender           Keep      Low spender   \n",
       "3     1875369.0   West     Low spender           Keep      Low spender   \n",
       "4     1875369.0   West     Low spender           Keep      Low spender   \n",
       "\n",
       "  spending_flag  \n",
       "0   Low spender  \n",
       "1   Low spender  \n",
       "2   Low spender  \n",
       "3   Low spender  \n",
       "4   Low spender  \n",
       "\n",
       "[5 rows x 38 columns]"
      ]
     },
     "execution_count": 11,
     "metadata": {},
     "output_type": "execute_result"
    }
   ],
   "source": [
    "# Header check\n",
    "df_final_v4.head()"
   ]
  },
  {
   "cell_type": "code",
   "execution_count": 12,
   "id": "180812c2-9279-4bc1-95d0-06db9272276a",
   "metadata": {
    "scrolled": true
   },
   "outputs": [
    {
     "name": "stdout",
     "output_type": "stream",
     "text": [
      "Index(['order_id', 'product_id', 'add_to_cart_order', 'reordered', 'user_id',\n",
      "       'order_number', 'orders_day_of_week', 'order_hour_of_day',\n",
      "       'days_since_prior_order', 'first_order', 'product_name', 'aisle_id',\n",
      "       'department_id', 'prices', '_merge', 'price_range', 'busiest_day',\n",
      "       'busiest_period_of_day', 'max_order', 'loyalty_flag',\n",
      "       'order_frequency_flag', 'first_name', 'last_name', 'gender', 'age',\n",
      "       'state', 'income', 'marital_status', 'num_dependents', 'date_joined',\n",
      "       'missing_first_name', 'department', 'product_count', 'region',\n",
      "       'spending_flag_x', 'exclusion_flag', 'spending_flag_y',\n",
      "       'spending_flag'],\n",
      "      dtype='object')\n"
     ]
    }
   ],
   "source": [
    "print(df_final_v4.columns)"
   ]
  },
  {
   "cell_type": "markdown",
   "id": "aedd344e-16c4-4ee2-b56b-f82251c850d6",
   "metadata": {},
   "source": [
    "#### df_final_v2"
   ]
  },
  {
   "cell_type": "code",
   "execution_count": 13,
   "id": "0d729ca1-a83b-4f26-a0e6-bb4139c61a9c",
   "metadata": {},
   "outputs": [
    {
     "data": {
      "text/plain": [
       "(32436199, 31)"
      ]
     },
     "execution_count": 13,
     "metadata": {},
     "output_type": "execute_result"
    }
   ],
   "source": [
    "df_final_v2.shape"
   ]
  },
  {
   "cell_type": "code",
   "execution_count": 14,
   "id": "09c2c8ce-be02-464e-a51f-c77e49848029",
   "metadata": {},
   "outputs": [
    {
     "data": {
      "text/html": [
       "<div>\n",
       "<style scoped>\n",
       "    .dataframe tbody tr th:only-of-type {\n",
       "        vertical-align: middle;\n",
       "    }\n",
       "\n",
       "    .dataframe tbody tr th {\n",
       "        vertical-align: top;\n",
       "    }\n",
       "\n",
       "    .dataframe thead th {\n",
       "        text-align: right;\n",
       "    }\n",
       "</style>\n",
       "<table border=\"1\" class=\"dataframe\">\n",
       "  <thead>\n",
       "    <tr style=\"text-align: right;\">\n",
       "      <th></th>\n",
       "      <th>order_id</th>\n",
       "      <th>product_id</th>\n",
       "      <th>add_to_cart_order</th>\n",
       "      <th>reordered</th>\n",
       "      <th>user_id</th>\n",
       "      <th>order_number</th>\n",
       "      <th>orders_day_of_week</th>\n",
       "      <th>order_hour_of_day</th>\n",
       "      <th>days_since_prior_order</th>\n",
       "      <th>first_order</th>\n",
       "      <th>...</th>\n",
       "      <th>first_name</th>\n",
       "      <th>last_name</th>\n",
       "      <th>gender</th>\n",
       "      <th>age</th>\n",
       "      <th>state</th>\n",
       "      <th>income</th>\n",
       "      <th>marital_status</th>\n",
       "      <th>num_dependents</th>\n",
       "      <th>date_joined</th>\n",
       "      <th>missing_first_name</th>\n",
       "    </tr>\n",
       "  </thead>\n",
       "  <tbody>\n",
       "    <tr>\n",
       "      <th>0</th>\n",
       "      <td>2</td>\n",
       "      <td>33120</td>\n",
       "      <td>1</td>\n",
       "      <td>1</td>\n",
       "      <td>202279</td>\n",
       "      <td>3</td>\n",
       "      <td>5</td>\n",
       "      <td>9</td>\n",
       "      <td>8.0</td>\n",
       "      <td>False</td>\n",
       "      <td>...</td>\n",
       "      <td>Paul</td>\n",
       "      <td>Coleman</td>\n",
       "      <td>Male</td>\n",
       "      <td>57</td>\n",
       "      <td>Idaho</td>\n",
       "      <td>98119</td>\n",
       "      <td>married</td>\n",
       "      <td>3</td>\n",
       "      <td>2/6/2020</td>\n",
       "      <td>False</td>\n",
       "    </tr>\n",
       "    <tr>\n",
       "      <th>1</th>\n",
       "      <td>2</td>\n",
       "      <td>28985</td>\n",
       "      <td>2</td>\n",
       "      <td>1</td>\n",
       "      <td>202279</td>\n",
       "      <td>3</td>\n",
       "      <td>5</td>\n",
       "      <td>9</td>\n",
       "      <td>8.0</td>\n",
       "      <td>False</td>\n",
       "      <td>...</td>\n",
       "      <td>Paul</td>\n",
       "      <td>Coleman</td>\n",
       "      <td>Male</td>\n",
       "      <td>57</td>\n",
       "      <td>Idaho</td>\n",
       "      <td>98119</td>\n",
       "      <td>married</td>\n",
       "      <td>3</td>\n",
       "      <td>2/6/2020</td>\n",
       "      <td>False</td>\n",
       "    </tr>\n",
       "    <tr>\n",
       "      <th>2</th>\n",
       "      <td>2</td>\n",
       "      <td>9327</td>\n",
       "      <td>3</td>\n",
       "      <td>0</td>\n",
       "      <td>202279</td>\n",
       "      <td>3</td>\n",
       "      <td>5</td>\n",
       "      <td>9</td>\n",
       "      <td>8.0</td>\n",
       "      <td>False</td>\n",
       "      <td>...</td>\n",
       "      <td>Paul</td>\n",
       "      <td>Coleman</td>\n",
       "      <td>Male</td>\n",
       "      <td>57</td>\n",
       "      <td>Idaho</td>\n",
       "      <td>98119</td>\n",
       "      <td>married</td>\n",
       "      <td>3</td>\n",
       "      <td>2/6/2020</td>\n",
       "      <td>False</td>\n",
       "    </tr>\n",
       "    <tr>\n",
       "      <th>3</th>\n",
       "      <td>2</td>\n",
       "      <td>45918</td>\n",
       "      <td>4</td>\n",
       "      <td>1</td>\n",
       "      <td>202279</td>\n",
       "      <td>3</td>\n",
       "      <td>5</td>\n",
       "      <td>9</td>\n",
       "      <td>8.0</td>\n",
       "      <td>False</td>\n",
       "      <td>...</td>\n",
       "      <td>Paul</td>\n",
       "      <td>Coleman</td>\n",
       "      <td>Male</td>\n",
       "      <td>57</td>\n",
       "      <td>Idaho</td>\n",
       "      <td>98119</td>\n",
       "      <td>married</td>\n",
       "      <td>3</td>\n",
       "      <td>2/6/2020</td>\n",
       "      <td>False</td>\n",
       "    </tr>\n",
       "    <tr>\n",
       "      <th>4</th>\n",
       "      <td>2</td>\n",
       "      <td>30035</td>\n",
       "      <td>5</td>\n",
       "      <td>0</td>\n",
       "      <td>202279</td>\n",
       "      <td>3</td>\n",
       "      <td>5</td>\n",
       "      <td>9</td>\n",
       "      <td>8.0</td>\n",
       "      <td>False</td>\n",
       "      <td>...</td>\n",
       "      <td>Paul</td>\n",
       "      <td>Coleman</td>\n",
       "      <td>Male</td>\n",
       "      <td>57</td>\n",
       "      <td>Idaho</td>\n",
       "      <td>98119</td>\n",
       "      <td>married</td>\n",
       "      <td>3</td>\n",
       "      <td>2/6/2020</td>\n",
       "      <td>False</td>\n",
       "    </tr>\n",
       "  </tbody>\n",
       "</table>\n",
       "<p>5 rows × 31 columns</p>\n",
       "</div>"
      ],
      "text/plain": [
       "   order_id  product_id  add_to_cart_order  reordered  user_id  order_number  \\\n",
       "0         2       33120                  1          1   202279             3   \n",
       "1         2       28985                  2          1   202279             3   \n",
       "2         2        9327                  3          0   202279             3   \n",
       "3         2       45918                  4          1   202279             3   \n",
       "4         2       30035                  5          0   202279             3   \n",
       "\n",
       "   orders_day_of_week  order_hour_of_day  days_since_prior_order  first_order  \\\n",
       "0                   5                  9                     8.0        False   \n",
       "1                   5                  9                     8.0        False   \n",
       "2                   5                  9                     8.0        False   \n",
       "3                   5                  9                     8.0        False   \n",
       "4                   5                  9                     8.0        False   \n",
       "\n",
       "   ... first_name  last_name  gender  age  state income marital_status  \\\n",
       "0  ...       Paul    Coleman    Male   57  Idaho  98119        married   \n",
       "1  ...       Paul    Coleman    Male   57  Idaho  98119        married   \n",
       "2  ...       Paul    Coleman    Male   57  Idaho  98119        married   \n",
       "3  ...       Paul    Coleman    Male   57  Idaho  98119        married   \n",
       "4  ...       Paul    Coleman    Male   57  Idaho  98119        married   \n",
       "\n",
       "  num_dependents  date_joined missing_first_name  \n",
       "0              3     2/6/2020              False  \n",
       "1              3     2/6/2020              False  \n",
       "2              3     2/6/2020              False  \n",
       "3              3     2/6/2020              False  \n",
       "4              3     2/6/2020              False  \n",
       "\n",
       "[5 rows x 31 columns]"
      ]
     },
     "execution_count": 14,
     "metadata": {},
     "output_type": "execute_result"
    }
   ],
   "source": [
    "# Header check\n",
    "df_final_v2.head()"
   ]
  },
  {
   "cell_type": "code",
   "execution_count": 15,
   "id": "cceb9029-74b2-4b28-a576-a4745036b3d1",
   "metadata": {},
   "outputs": [
    {
     "name": "stdout",
     "output_type": "stream",
     "text": [
      "Index(['order_id', 'product_id', 'add_to_cart_order', 'reordered', 'user_id',\n",
      "       'order_number', 'orders_day_of_week', 'order_hour_of_day',\n",
      "       'days_since_prior_order', 'first_order', 'product_name', 'aisle_id',\n",
      "       'department_id', 'prices', '_merge', 'price_range', 'busiest_day',\n",
      "       'busiest_period_of_day', 'max_order', 'loyalty_flag',\n",
      "       'order_frequency_flag', 'first_name', 'last_name', 'gender', 'age',\n",
      "       'state', 'income', 'marital_status', 'num_dependents', 'date_joined',\n",
      "       'missing_first_name'],\n",
      "      dtype='object')\n"
     ]
    }
   ],
   "source": [
    "print(df_final_v2.columns)"
   ]
  },
  {
   "cell_type": "markdown",
   "id": "32519562-f904-4de3-aa67-fe0f07d4edf8",
   "metadata": {
    "jp-MarkdownHeadingCollapsed": true
   },
   "source": [
    "#### df_dept"
   ]
  },
  {
   "cell_type": "code",
   "execution_count": 16,
   "id": "bbe6ed4e-6906-4c78-b08f-19869fb4c194",
   "metadata": {},
   "outputs": [
    {
     "data": {
      "text/plain": [
       "(21, 3)"
      ]
     },
     "execution_count": 16,
     "metadata": {},
     "output_type": "execute_result"
    }
   ],
   "source": [
    "df_dept.shape"
   ]
  },
  {
   "cell_type": "code",
   "execution_count": 17,
   "id": "1ff61211-b303-4a9b-99cd-98fc3cbec1a0",
   "metadata": {},
   "outputs": [
    {
     "name": "stdout",
     "output_type": "stream",
     "text": [
      "Index(['department_id', 'department', 'product_count'], dtype='object')\n"
     ]
    }
   ],
   "source": [
    "print(df_dept.columns)"
   ]
  },
  {
   "cell_type": "code",
   "execution_count": 18,
   "id": "b6dc3db4-f9ac-4f5b-8b3a-0bd241bf3558",
   "metadata": {},
   "outputs": [
    {
     "data": {
      "text/html": [
       "<div>\n",
       "<style scoped>\n",
       "    .dataframe tbody tr th:only-of-type {\n",
       "        vertical-align: middle;\n",
       "    }\n",
       "\n",
       "    .dataframe tbody tr th {\n",
       "        vertical-align: top;\n",
       "    }\n",
       "\n",
       "    .dataframe thead th {\n",
       "        text-align: right;\n",
       "    }\n",
       "</style>\n",
       "<table border=\"1\" class=\"dataframe\">\n",
       "  <thead>\n",
       "    <tr style=\"text-align: right;\">\n",
       "      <th></th>\n",
       "      <th>department_id</th>\n",
       "      <th>department</th>\n",
       "      <th>product_count</th>\n",
       "    </tr>\n",
       "  </thead>\n",
       "  <tbody>\n",
       "    <tr>\n",
       "      <th>0</th>\n",
       "      <td>4.0</td>\n",
       "      <td>produce</td>\n",
       "      <td>9479291</td>\n",
       "    </tr>\n",
       "    <tr>\n",
       "      <th>1</th>\n",
       "      <td>16.0</td>\n",
       "      <td>dairy eggs</td>\n",
       "      <td>5398747</td>\n",
       "    </tr>\n",
       "    <tr>\n",
       "      <th>2</th>\n",
       "      <td>19.0</td>\n",
       "      <td>snacks</td>\n",
       "      <td>2887550</td>\n",
       "    </tr>\n",
       "    <tr>\n",
       "      <th>3</th>\n",
       "      <td>7.0</td>\n",
       "      <td>beverages</td>\n",
       "      <td>2688123</td>\n",
       "    </tr>\n",
       "    <tr>\n",
       "      <th>4</th>\n",
       "      <td>1.0</td>\n",
       "      <td>frozen</td>\n",
       "      <td>2234743</td>\n",
       "    </tr>\n",
       "  </tbody>\n",
       "</table>\n",
       "</div>"
      ],
      "text/plain": [
       "   department_id  department  product_count\n",
       "0            4.0     produce        9479291\n",
       "1           16.0  dairy eggs        5398747\n",
       "2           19.0      snacks        2887550\n",
       "3            7.0   beverages        2688123\n",
       "4            1.0      frozen        2234743"
      ]
     },
     "execution_count": 18,
     "metadata": {},
     "output_type": "execute_result"
    }
   ],
   "source": [
    "df_dept.head()"
   ]
  },
  {
   "cell_type": "markdown",
   "id": "68ccd9ed-92e8-4ee0-8c58-7a2b5ce4e3c1",
   "metadata": {
    "jp-MarkdownHeadingCollapsed": true
   },
   "source": [
    "## Merge (use only if need to remerge or if something is messed up)"
   ]
  },
  {
   "cell_type": "code",
   "execution_count": null,
   "id": "cca3d889-70f4-4a70-929f-0051b8ba14cc",
   "metadata": {},
   "outputs": [],
   "source": [
    "# Merge the needed columns: department, product count\n",
    "df_final_v2 = df_final_v2.merge(\n",
    "    df_dept[['department_id', 'department', 'product_count']],\n",
    "    on='department_id',\n",
    "    how='left'\n",
    ")"
   ]
  },
  {
   "cell_type": "code",
   "execution_count": null,
   "id": "4cbc9b51-61a6-4877-890f-7df119c4646c",
   "metadata": {
    "scrolled": true
   },
   "outputs": [],
   "source": [
    "print(df_final_v2[['department_id', 'department', 'product_count']].head())\n",
    "print(df_final_v2.shape)"
   ]
  },
  {
   "cell_type": "markdown",
   "id": "9e8d6a5a-c375-41e4-aa8a-f54972954722",
   "metadata": {
    "jp-MarkdownHeadingCollapsed": true
   },
   "source": [
    "#### Export "
   ]
  },
  {
   "cell_type": "code",
   "execution_count": null,
   "id": "85e094bf-e6bf-496e-a03b-c1ad06f98b25",
   "metadata": {},
   "outputs": [],
   "source": [
    "# Export to save progress and export as v3 to keep previous works safe\n",
    "df_final_v3 = df_final_v2.copy()\n",
    "df_final_v3.to_pickle(os.path.join(path, '02 Data', 'Prepared Data', 'df_final_v3.pkl'))"
   ]
  },
  {
   "cell_type": "code",
   "execution_count": null,
   "id": "62b85bc9-60af-49c7-baf0-a3860b37ce13",
   "metadata": {},
   "outputs": [],
   "source": [
    "# Export backup\n",
    "df_final_v3.to_pickle(os.path.join(path, '02 Data', 'Prepared Data', 'df_final_v3_backup.pkl'))"
   ]
  },
  {
   "cell_type": "markdown",
   "id": "c6295af0-b011-42e0-94c3-05afc9eb8bbd",
   "metadata": {
    "jp-MarkdownHeadingCollapsed": true
   },
   "source": [
    "#### Spending Flag"
   ]
  },
  {
   "cell_type": "markdown",
   "id": "8b54b40b-e6c4-4f5e-a21c-6df32a9eaa3b",
   "metadata": {},
   "source": [
    "Spending flag didn't make it into the exports, so recreating and exporting here"
   ]
  },
  {
   "cell_type": "code",
   "execution_count": null,
   "id": "34fe0a71-cc8d-4d32-9e23-e9df626b494a",
   "metadata": {},
   "outputs": [],
   "source": [
    "# Step 1: Create spending_flag from user average price\n",
    "user_avg_price = df_final_v3.groupby('user_id')['prices'].mean().reset_index()\n",
    "user_avg_price['spending_flag'] = user_avg_price['prices'].apply(\n",
    "    lambda x: 'High spender' if x >= 10 else 'Low spender'\n",
    ")"
   ]
  },
  {
   "cell_type": "code",
   "execution_count": null,
   "id": "b3a0c17a-37a4-4ae0-bfc6-019a430a9f7c",
   "metadata": {},
   "outputs": [],
   "source": [
    "import gc\n",
    "gc.collect()"
   ]
  },
  {
   "cell_type": "code",
   "execution_count": null,
   "id": "6af55f86-2691-4823-8bc1-273561854c85",
   "metadata": {},
   "outputs": [],
   "source": [
    "# Step 2: Merge into df_final_v3\n",
    "df_final_v4 = df_final_v3.merge(\n",
    "    user_avg_price[['user_id', 'spending_flag']],\n",
    "    on='user_id',\n",
    "    how='left',\n",
    "    copy=False\n",
    ")"
   ]
  },
  {
   "cell_type": "code",
   "execution_count": null,
   "id": "07c385d0-bc47-411d-bf99-dcba9c786b73",
   "metadata": {},
   "outputs": [],
   "source": [
    "# Step 3: Export main version\n",
    "df_final_v4.to_pickle(os.path.join(path, '02 Data', 'Prepared Data', 'df_final_v4.pkl'))"
   ]
  },
  {
   "cell_type": "code",
   "execution_count": null,
   "id": "cff7fd96-097c-44f1-935b-88ea632a6de4",
   "metadata": {},
   "outputs": [],
   "source": [
    "# Step 4: Export backup\n",
    "df_final_v4.to_pickle(os.path.join(path, '02 Data', 'Prepared Data', 'df_final_v4_backup.pkl'))"
   ]
  },
  {
   "cell_type": "markdown",
   "id": "ce60559b-491d-437f-be26-f5e7fbe681e1",
   "metadata": {
    "jp-MarkdownHeadingCollapsed": true
   },
   "source": [
    "## Question 2"
   ]
  },
  {
   "cell_type": "markdown",
   "id": "647cd5ca-7260-4762-9099-38b7b248e5f2",
   "metadata": {},
   "source": [
    "The PII (Personally Identifiable Information) risks with these dataset(s) are:\n",
    "First and Last name are a direct PII and should be removed or anonymized.\n",
    "Age is not alone a direct PII but combined with other information could be.\n",
    "State for a location is less of a risk for PII but combined could be.\n",
    "Marital Status & Dependents is not PII but sensitive information/"
   ]
  },
  {
   "cell_type": "markdown",
   "id": "718bbe28-2a67-40f5-8afd-a3008154b662",
   "metadata": {},
   "source": [
    "## Question 3"
   ]
  },
  {
   "cell_type": "markdown",
   "id": "aeb338ea-e57b-4bb4-9a5e-c90edf7bb0ae",
   "metadata": {},
   "source": [
    "###  Region Mapping Dictionary"
   ]
  },
  {
   "cell_type": "code",
   "execution_count": 4,
   "id": "d0156f58-9468-417c-8744-0c073a57a133",
   "metadata": {},
   "outputs": [],
   "source": [
    "# Define the Region Mapping Dictionary\n",
    "region_map = {\n",
    "    # Northeast\n",
    "    'Maine': 'Northeast', 'New Hampshire': 'Northeast', 'Vermont': 'Northeast',\n",
    "    'Massachusetts': 'Northeast', 'Rhode Island': 'Northeast', 'Connecticut': 'Northeast',\n",
    "    'New York': 'Northeast', 'Pennsylvania': 'Northeast', 'New Jersey': 'Northeast',\n",
    "\n",
    "    # Midwest\n",
    "    'Wisconsin': 'Midwest', 'Michigan': 'Midwest', 'Illinois': 'Midwest',\n",
    "    'Indiana': 'Midwest', 'Ohio': 'Midwest',\n",
    "    'North Dakota': 'Midwest', 'South Dakota': 'Midwest', 'Nebraska': 'Midwest',\n",
    "    'Kansas': 'Midwest', 'Minnesota': 'Midwest', 'Iowa': 'Midwest', 'Missouri': 'Midwest',\n",
    "\n",
    "    # South\n",
    "    'Delaware': 'South', 'Maryland': 'South', 'District of Columbia': 'South',\n",
    "    'Virginia': 'South', 'West Virginia': 'South', 'North Carolina': 'South',\n",
    "    'South Carolina': 'South', 'Georgia': 'South', 'Florida': 'South',\n",
    "    'Kentucky': 'South', 'Tennessee': 'South', 'Mississippi': 'South', 'Alabama': 'South',\n",
    "    'Oklahoma': 'South', 'Texas': 'South', 'Arkansas': 'South', 'Louisiana': 'South',\n",
    "\n",
    "    # West\n",
    "    'Idaho': 'West', 'Montana': 'West', 'Wyoming': 'West', 'Nevada': 'West',\n",
    "    'Utah': 'West', 'Colorado': 'West', 'Arizona': 'West', 'New Mexico': 'West',\n",
    "    'Alaska': 'West', 'Washington': 'West', 'Oregon': 'West', 'California': 'West',\n",
    "    'Hawaii': 'West'\n",
    "}"
   ]
  },
  {
   "cell_type": "code",
   "execution_count": 5,
   "id": "87e462bd-25b1-41a1-84e8-bdbf2c7bf9da",
   "metadata": {},
   "outputs": [],
   "source": [
    "# Apply the Mapping to Your DataFram\n",
    "df_final_v4['region'] = df_final_v4['state'].map(region_map)"
   ]
  },
  {
   "cell_type": "code",
   "execution_count": 6,
   "id": "a01fd6e8-2183-4ef5-b9c7-d7f8ebbdfb54",
   "metadata": {},
   "outputs": [],
   "source": [
    "# Quality control checkpoint, ensure every state has a region\n",
    "unmapped = df_final_v4[df_final_v4['region'].isnull()]['state'].unique()\n",
    "if len(unmapped) > 0:\n",
    "    print(\"unmapped states:\", unmapped)"
   ]
  },
  {
   "cell_type": "markdown",
   "id": "ab5b3644-9e0e-4ae7-aee1-f840a05fda17",
   "metadata": {},
   "source": [
    "Looks like the code worked because no output from the qulity check, every state matched a region. "
   ]
  },
  {
   "cell_type": "code",
   "execution_count": 7,
   "id": "d01fa53c-5c44-40f4-a241-b13ac58cf9bb",
   "metadata": {},
   "outputs": [
    {
     "data": {
      "text/plain": [
       "region\n",
       "South        10802354\n",
       "West          8300889\n",
       "Midwest       7604326\n",
       "Northeast     5728630\n",
       "Name: count, dtype: int64"
      ]
     },
     "execution_count": 7,
     "metadata": {},
     "output_type": "execute_result"
    }
   ],
   "source": [
    "# Check counts to be sure\n",
    "df_final_v4['region'].value_counts(dropna=False)"
   ]
  },
  {
   "cell_type": "markdown",
   "id": "e8f10a95-1eff-4908-bd52-7a41261a0706",
   "metadata": {},
   "source": [
    "### Spending Habits by Region"
   ]
  },
  {
   "cell_type": "code",
   "execution_count": 8,
   "id": "d7e5a83a-7aa6-432c-b896-5919f7f073df",
   "metadata": {},
   "outputs": [],
   "source": [
    "region_spending = pd.crosstab(df_final_v4['region'], df_final_v4['spending_flag'], normalize='index') * 100"
   ]
  },
  {
   "cell_type": "code",
   "execution_count": 9,
   "id": "a6b69d30-1aec-4f41-9fd2-35d512d70419",
   "metadata": {},
   "outputs": [
    {
     "name": "stdout",
     "output_type": "stream",
     "text": [
      "spending_flag  High spender  Low spender\n",
      "region                                  \n",
      "Midwest                0.38        99.62\n",
      "Northeast              0.33        99.67\n",
      "South                  0.38        99.62\n",
      "West                   0.38        99.62\n"
     ]
    }
   ],
   "source": [
    "print(region_spending.round(2))"
   ]
  },
  {
   "cell_type": "markdown",
   "id": "3ec5ab7f-a7e8-47fb-80cd-34c4f7342a98",
   "metadata": {},
   "source": [
    "Looking at the above data there isn't much of a spending difference between the regions. Majority of the customers are low spenders"
   ]
  },
  {
   "cell_type": "markdown",
   "id": "c28f3e48-5e28-45c9-a293-f2033b453b5e",
   "metadata": {},
   "source": [
    "## Question 4"
   ]
  },
  {
   "cell_type": "markdown",
   "id": "7732cb90-0e83-4ca2-ac9c-0bbed6afa3bc",
   "metadata": {},
   "source": [
    "### Exclusion Flag"
   ]
  },
  {
   "cell_type": "code",
   "execution_count": 10,
   "id": "70409971-34e3-42f1-b0f5-760a31499bf7",
   "metadata": {},
   "outputs": [],
   "source": [
    "# Create the Exclusion Flag\n",
    "df_final_v4['exclusion_flag'] = np.where(df_final_v4['max_order'] < 5, 'Exclude', 'Keep')"
   ]
  },
  {
   "cell_type": "code",
   "execution_count": 11,
   "id": "2f4fb995-dfa3-4308-821d-0c60689a5d67",
   "metadata": {},
   "outputs": [
    {
     "name": "stdout",
     "output_type": "stream",
     "text": [
      "Index(['order_id', 'product_id', 'add_to_cart_order', 'reordered', 'user_id',\n",
      "       'order_number', 'orders_day_of_week', 'order_hour_of_day',\n",
      "       'days_since_prior_order', 'first_order', 'product_name', 'aisle_id',\n",
      "       'department_id', 'prices', '_merge', 'price_range', 'busiest_day',\n",
      "       'busiest_period_of_day', 'max_order', 'loyalty_flag',\n",
      "       'order_frequency_flag', 'first_name', 'last_name', 'gender', 'age',\n",
      "       'state', 'income', 'marital_status', 'num_dependents', 'date_joined',\n",
      "       'missing_first_name', 'department', 'product_count', 'region',\n",
      "       'spending_flag_x', 'exclusion_flag', 'spending_flag_y',\n",
      "       'spending_flag'],\n",
      "      dtype='object')\n"
     ]
    }
   ],
   "source": [
    "# Work check, ensuring the exclusion flag worked\n",
    "print(df_final_v4.columns)"
   ]
  },
  {
   "cell_type": "code",
   "execution_count": 12,
   "id": "7cb0bf0d-430a-4b8d-90a8-1e8902aef10d",
   "metadata": {},
   "outputs": [],
   "source": [
    "# Filter to keep only active customers\n",
    "df_keep_sample = df_final_v4[df_final_v4['exclusion_flag'] == 'Keep']"
   ]
  },
  {
   "cell_type": "code",
   "execution_count": 13,
   "id": "f62a9326-fa37-49f0-90b4-a0adcf66b32f",
   "metadata": {},
   "outputs": [
    {
     "name": "stdout",
     "output_type": "stream",
     "text": [
      "                   Count  Percentage\n",
      "exclusion_flag                      \n",
      "Keep            30994535       95.56\n",
      "Exclude          1441664        4.44\n"
     ]
    }
   ],
   "source": [
    "# Count of each category\n",
    "exclusion_counts = df_final_v4['exclusion_flag'].value_counts()\n",
    "\n",
    "# Percentage of each category\n",
    "exclusion_percentages = df_final_v4['exclusion_flag'].value_counts(normalize=True) * 100\n",
    "\n",
    "# Combine into a single DataFrame\n",
    "exclusion_summary = pd.DataFrame({\n",
    "    'Count': exclusion_counts,\n",
    "    'Percentage': exclusion_percentages.round(2)\n",
    "})\n",
    "\n",
    "# Display the result\n",
    "print(exclusion_summary)"
   ]
  },
  {
   "cell_type": "code",
   "execution_count": 14,
   "id": "27e3dfc8-0fa3-4ada-90c9-7c33f3002b37",
   "metadata": {},
   "outputs": [],
   "source": [
    "# Export\n",
    "df_keep_sample.to_pickle(os.path.join(path, '02 Data', 'Prepared Data', 'keep_sample_excluded_low_activity.pkl'))"
   ]
  },
  {
   "cell_type": "markdown",
   "id": "82623ade-18bc-40bd-87e9-abff99e0567e",
   "metadata": {},
   "source": [
    "## Question 5"
   ]
  },
  {
   "cell_type": "markdown",
   "id": "e9864b4e-753a-40a0-9eb0-58fd19eb5b3d",
   "metadata": {},
   "source": [
    "### Customer Profiles"
   ]
  },
  {
   "cell_type": "markdown",
   "id": "087e8052-a0bf-4209-8609-91d169d0c136",
   "metadata": {},
   "source": [
    "#### Ranges/Department Names"
   ]
  },
  {
   "cell_type": "code",
   "execution_count": 15,
   "id": "823ffc8e-2e5d-413a-a423-d49cec6a75a6",
   "metadata": {},
   "outputs": [
    {
     "data": {
      "text/html": [
       "<div>\n",
       "<style scoped>\n",
       "    .dataframe tbody tr th:only-of-type {\n",
       "        vertical-align: middle;\n",
       "    }\n",
       "\n",
       "    .dataframe tbody tr th {\n",
       "        vertical-align: top;\n",
       "    }\n",
       "\n",
       "    .dataframe thead th {\n",
       "        text-align: right;\n",
       "    }\n",
       "</style>\n",
       "<table border=\"1\" class=\"dataframe\">\n",
       "  <thead>\n",
       "    <tr style=\"text-align: right;\">\n",
       "      <th></th>\n",
       "      <th>age</th>\n",
       "      <th>income</th>\n",
       "      <th>num_dependents</th>\n",
       "    </tr>\n",
       "  </thead>\n",
       "  <tbody>\n",
       "    <tr>\n",
       "      <th>count</th>\n",
       "      <td>32436199.0</td>\n",
       "      <td>32436199.0</td>\n",
       "      <td>32436199.0</td>\n",
       "    </tr>\n",
       "    <tr>\n",
       "      <th>mean</th>\n",
       "      <td>49.0</td>\n",
       "      <td>99436.0</td>\n",
       "      <td>2.0</td>\n",
       "    </tr>\n",
       "    <tr>\n",
       "      <th>std</th>\n",
       "      <td>18.0</td>\n",
       "      <td>43056.0</td>\n",
       "      <td>1.0</td>\n",
       "    </tr>\n",
       "    <tr>\n",
       "      <th>min</th>\n",
       "      <td>18.0</td>\n",
       "      <td>25903.0</td>\n",
       "      <td>0.0</td>\n",
       "    </tr>\n",
       "    <tr>\n",
       "      <th>25%</th>\n",
       "      <td>33.0</td>\n",
       "      <td>67002.0</td>\n",
       "      <td>1.0</td>\n",
       "    </tr>\n",
       "    <tr>\n",
       "      <th>50%</th>\n",
       "      <td>49.0</td>\n",
       "      <td>96612.0</td>\n",
       "      <td>2.0</td>\n",
       "    </tr>\n",
       "    <tr>\n",
       "      <th>75%</th>\n",
       "      <td>65.0</td>\n",
       "      <td>127908.0</td>\n",
       "      <td>3.0</td>\n",
       "    </tr>\n",
       "    <tr>\n",
       "      <th>max</th>\n",
       "      <td>81.0</td>\n",
       "      <td>593901.0</td>\n",
       "      <td>3.0</td>\n",
       "    </tr>\n",
       "  </tbody>\n",
       "</table>\n",
       "</div>"
      ],
      "text/plain": [
       "              age      income  num_dependents\n",
       "count  32436199.0  32436199.0      32436199.0\n",
       "mean         49.0     99436.0             2.0\n",
       "std          18.0     43056.0             1.0\n",
       "min          18.0     25903.0             0.0\n",
       "25%          33.0     67002.0             1.0\n",
       "50%          49.0     96612.0             2.0\n",
       "75%          65.0    127908.0             3.0\n",
       "max          81.0    593901.0             3.0"
      ]
     },
     "execution_count": 15,
     "metadata": {},
     "output_type": "execute_result"
    }
   ],
   "source": [
    "df_final_v4[['age', 'income', 'num_dependents']].describe().round(0)"
   ]
  },
  {
   "cell_type": "markdown",
   "id": "0aec308e-ed51-4312-b76b-a5bfb8379d72",
   "metadata": {},
   "source": [
    "Age range: 18 - 81. \n",
    "income range: 25,903 - 593,901. \n",
    "num_dependents range: 0 - 3"
   ]
  },
  {
   "cell_type": "code",
   "execution_count": 16,
   "id": "09841fb3-3f6c-4c4b-93fd-b682405ddbe0",
   "metadata": {},
   "outputs": [
    {
     "name": "stdout",
     "output_type": "stream",
     "text": [
      "['dairy eggs' 'produce' 'pantry' 'meat seafood' 'bakery' 'personal care'\n",
      " 'snacks' 'breakfast' 'beverages' 'deli' 'household' 'international'\n",
      " 'dry goods pasta' 'frozen' 'canned goods' 'babies' 'pets' 'alcohol'\n",
      " 'bulk' nan 'missing' 'other']\n"
     ]
    }
   ],
   "source": [
    "print(df_final_v4['department'].unique())"
   ]
  },
  {
   "cell_type": "markdown",
   "id": "25d8a002-239f-4709-b8e1-79ac141096e0",
   "metadata": {},
   "source": [
    "#### Age Groups"
   ]
  },
  {
   "cell_type": "code",
   "execution_count": 17,
   "id": "a4b76b64-058b-4fc9-9914-7a0cca96fb12",
   "metadata": {},
   "outputs": [],
   "source": [
    "# Create bins for the age groups based on ranges\n",
    "age_bins = [0, 30, 45, 60, 100]"
   ]
  },
  {
   "cell_type": "code",
   "execution_count": 18,
   "id": "44e18bc7-0cae-4751-89a9-81d60093ac12",
   "metadata": {},
   "outputs": [],
   "source": [
    "# Labels for the bins\n",
    "age_labels = ['Young Adult', 'Midlife Adult', 'Older Adult', 'Senior']"
   ]
  },
  {
   "cell_type": "code",
   "execution_count": 19,
   "id": "d3e15380-27b8-4003-b4c2-9821cc102f15",
   "metadata": {},
   "outputs": [],
   "source": [
    "# Create a new column called Age Group\n",
    "df_final_v4['age_group'] = pd.cut(df_final_v4['age'], bins=age_bins, labels=age_labels)"
   ]
  },
  {
   "cell_type": "code",
   "execution_count": 20,
   "id": "fda6df30-a5b2-43ae-8086-c8ed06ddd623",
   "metadata": {
    "scrolled": true
   },
   "outputs": [
    {
     "data": {
      "text/html": [
       "<div>\n",
       "<style scoped>\n",
       "    .dataframe tbody tr th:only-of-type {\n",
       "        vertical-align: middle;\n",
       "    }\n",
       "\n",
       "    .dataframe tbody tr th {\n",
       "        vertical-align: top;\n",
       "    }\n",
       "\n",
       "    .dataframe thead th {\n",
       "        text-align: right;\n",
       "    }\n",
       "</style>\n",
       "<table border=\"1\" class=\"dataframe\">\n",
       "  <thead>\n",
       "    <tr style=\"text-align: right;\">\n",
       "      <th></th>\n",
       "      <th>age</th>\n",
       "      <th>age_group</th>\n",
       "    </tr>\n",
       "  </thead>\n",
       "  <tbody>\n",
       "    <tr>\n",
       "      <th>0</th>\n",
       "      <td>57</td>\n",
       "      <td>Older Adult</td>\n",
       "    </tr>\n",
       "    <tr>\n",
       "      <th>1</th>\n",
       "      <td>57</td>\n",
       "      <td>Older Adult</td>\n",
       "    </tr>\n",
       "    <tr>\n",
       "      <th>2</th>\n",
       "      <td>57</td>\n",
       "      <td>Older Adult</td>\n",
       "    </tr>\n",
       "    <tr>\n",
       "      <th>3</th>\n",
       "      <td>57</td>\n",
       "      <td>Older Adult</td>\n",
       "    </tr>\n",
       "    <tr>\n",
       "      <th>4</th>\n",
       "      <td>57</td>\n",
       "      <td>Older Adult</td>\n",
       "    </tr>\n",
       "    <tr>\n",
       "      <th>5</th>\n",
       "      <td>57</td>\n",
       "      <td>Older Adult</td>\n",
       "    </tr>\n",
       "    <tr>\n",
       "      <th>6</th>\n",
       "      <td>57</td>\n",
       "      <td>Older Adult</td>\n",
       "    </tr>\n",
       "    <tr>\n",
       "      <th>7</th>\n",
       "      <td>57</td>\n",
       "      <td>Older Adult</td>\n",
       "    </tr>\n",
       "    <tr>\n",
       "      <th>8</th>\n",
       "      <td>57</td>\n",
       "      <td>Older Adult</td>\n",
       "    </tr>\n",
       "    <tr>\n",
       "      <th>9</th>\n",
       "      <td>43</td>\n",
       "      <td>Midlife Adult</td>\n",
       "    </tr>\n",
       "  </tbody>\n",
       "</table>\n",
       "</div>"
      ],
      "text/plain": [
       "   age      age_group\n",
       "0   57    Older Adult\n",
       "1   57    Older Adult\n",
       "2   57    Older Adult\n",
       "3   57    Older Adult\n",
       "4   57    Older Adult\n",
       "5   57    Older Adult\n",
       "6   57    Older Adult\n",
       "7   57    Older Adult\n",
       "8   57    Older Adult\n",
       "9   43  Midlife Adult"
      ]
     },
     "execution_count": 20,
     "metadata": {},
     "output_type": "execute_result"
    }
   ],
   "source": [
    "# Work check\n",
    "df_final_v4[['age', 'age_group']].head(10)"
   ]
  },
  {
   "cell_type": "code",
   "execution_count": 21,
   "id": "a1dba5a3-1b06-40cf-a950-c613f8adc9e5",
   "metadata": {},
   "outputs": [
    {
     "data": {
      "text/plain": [
       "age_group\n",
       "Young Adult       6605959\n",
       "Midlife Adult     7608980\n",
       "Older Adult       7628342\n",
       "Senior           10592918\n",
       "Name: count, dtype: int64"
      ]
     },
     "execution_count": 21,
     "metadata": {},
     "output_type": "execute_result"
    }
   ],
   "source": [
    "# Customer count per age group\n",
    "df_final_v4['age_group'].value_counts().sort_index()"
   ]
  },
  {
   "cell_type": "markdown",
   "id": "d5be8b6d-aff2-42a8-85c4-4367a390fb74",
   "metadata": {},
   "source": [
    "#### Income Groups"
   ]
  },
  {
   "cell_type": "code",
   "execution_count": 22,
   "id": "ab09dede-0726-45ea-948c-73d28dafff00",
   "metadata": {},
   "outputs": [],
   "source": [
    "# Income bins based on ranges\n",
    "income_bins = [0, 70000, 100000, 150000, 600000]"
   ]
  },
  {
   "cell_type": "code",
   "execution_count": 23,
   "id": "252cf957-247d-4fe8-9ee7-46ba78b3de72",
   "metadata": {},
   "outputs": [],
   "source": [
    "# Income group labels\n",
    "income_labels = ['Low Income', 'Middle Income', 'High Income', 'Very High Income']"
   ]
  },
  {
   "cell_type": "code",
   "execution_count": 24,
   "id": "97829b9d-4bc3-4c87-be6a-39b800852ec9",
   "metadata": {},
   "outputs": [],
   "source": [
    "# Create income group label\n",
    "df_final_v4['income_group'] = pd.cut(df_final_v4['income'], bins=income_bins, labels=income_labels)"
   ]
  },
  {
   "cell_type": "code",
   "execution_count": 25,
   "id": "2d78981f-6a4d-4b09-89a8-9c34fe1fc360",
   "metadata": {},
   "outputs": [
    {
     "data": {
      "text/html": [
       "<div>\n",
       "<style scoped>\n",
       "    .dataframe tbody tr th:only-of-type {\n",
       "        vertical-align: middle;\n",
       "    }\n",
       "\n",
       "    .dataframe tbody tr th {\n",
       "        vertical-align: top;\n",
       "    }\n",
       "\n",
       "    .dataframe thead th {\n",
       "        text-align: right;\n",
       "    }\n",
       "</style>\n",
       "<table border=\"1\" class=\"dataframe\">\n",
       "  <thead>\n",
       "    <tr style=\"text-align: right;\">\n",
       "      <th></th>\n",
       "      <th>income</th>\n",
       "      <th>income_group</th>\n",
       "    </tr>\n",
       "  </thead>\n",
       "  <tbody>\n",
       "    <tr>\n",
       "      <th>0</th>\n",
       "      <td>98119</td>\n",
       "      <td>Middle Income</td>\n",
       "    </tr>\n",
       "    <tr>\n",
       "      <th>1</th>\n",
       "      <td>98119</td>\n",
       "      <td>Middle Income</td>\n",
       "    </tr>\n",
       "    <tr>\n",
       "      <th>2</th>\n",
       "      <td>98119</td>\n",
       "      <td>Middle Income</td>\n",
       "    </tr>\n",
       "    <tr>\n",
       "      <th>3</th>\n",
       "      <td>98119</td>\n",
       "      <td>Middle Income</td>\n",
       "    </tr>\n",
       "    <tr>\n",
       "      <th>4</th>\n",
       "      <td>98119</td>\n",
       "      <td>Middle Income</td>\n",
       "    </tr>\n",
       "    <tr>\n",
       "      <th>5</th>\n",
       "      <td>98119</td>\n",
       "      <td>Middle Income</td>\n",
       "    </tr>\n",
       "    <tr>\n",
       "      <th>6</th>\n",
       "      <td>98119</td>\n",
       "      <td>Middle Income</td>\n",
       "    </tr>\n",
       "    <tr>\n",
       "      <th>7</th>\n",
       "      <td>98119</td>\n",
       "      <td>Middle Income</td>\n",
       "    </tr>\n",
       "    <tr>\n",
       "      <th>8</th>\n",
       "      <td>98119</td>\n",
       "      <td>Middle Income</td>\n",
       "    </tr>\n",
       "    <tr>\n",
       "      <th>9</th>\n",
       "      <td>149831</td>\n",
       "      <td>High Income</td>\n",
       "    </tr>\n",
       "  </tbody>\n",
       "</table>\n",
       "</div>"
      ],
      "text/plain": [
       "   income   income_group\n",
       "0   98119  Middle Income\n",
       "1   98119  Middle Income\n",
       "2   98119  Middle Income\n",
       "3   98119  Middle Income\n",
       "4   98119  Middle Income\n",
       "5   98119  Middle Income\n",
       "6   98119  Middle Income\n",
       "7   98119  Middle Income\n",
       "8   98119  Middle Income\n",
       "9  149831    High Income"
      ]
     },
     "execution_count": 25,
     "metadata": {},
     "output_type": "execute_result"
    }
   ],
   "source": [
    "# Work check\n",
    "df_final_v4[['income', 'income_group']].head(10)"
   ]
  },
  {
   "cell_type": "code",
   "execution_count": 26,
   "id": "b201f991-2c69-465d-8437-fac537e25970",
   "metadata": {},
   "outputs": [
    {
     "data": {
      "text/plain": [
       "income_group\n",
       "Low Income           9005116\n",
       "Middle Income        8603363\n",
       "High Income         10773096\n",
       "Very High Income     4054624\n",
       "Name: count, dtype: int64"
      ]
     },
     "execution_count": 26,
     "metadata": {},
     "output_type": "execute_result"
    }
   ],
   "source": [
    "# Income counts per group\n",
    "df_final_v4['income_group'].value_counts().sort_index()"
   ]
  },
  {
   "cell_type": "markdown",
   "id": "0ea64571-6f1e-4ab8-9fd2-442795422729",
   "metadata": {},
   "source": [
    "#### Dependent Groups"
   ]
  },
  {
   "cell_type": "code",
   "execution_count": 27,
   "id": "0f38e56d-daca-48ca-9d88-64df65057b51",
   "metadata": {},
   "outputs": [],
   "source": [
    "# Create dependent bins\n",
    "dep_bins = [0, 1, 3, df_final_v4['num_dependents'].max() + 1]"
   ]
  },
  {
   "cell_type": "code",
   "execution_count": 28,
   "id": "8cd79f7a-1aef-42a4-b34a-77c5a05d7c10",
   "metadata": {},
   "outputs": [],
   "source": [
    "# Dependent group labels\n",
    "dep_labels = ['None', 'Few (1–2)', 'Many (3+)']"
   ]
  },
  {
   "cell_type": "code",
   "execution_count": 29,
   "id": "bd99f912-6893-4989-9948-db754451f825",
   "metadata": {},
   "outputs": [],
   "source": [
    "# Creating dependent group column\n",
    "df_final_v4['dep_group'] = pd.cut(df_final_v4['num_dependents'], bins=dep_bins, labels=dep_labels, right=False)"
   ]
  },
  {
   "cell_type": "code",
   "execution_count": 30,
   "id": "f94796f8-c455-4c07-9cd3-48618b232e38",
   "metadata": {},
   "outputs": [
    {
     "data": {
      "text/html": [
       "<div>\n",
       "<style scoped>\n",
       "    .dataframe tbody tr th:only-of-type {\n",
       "        vertical-align: middle;\n",
       "    }\n",
       "\n",
       "    .dataframe tbody tr th {\n",
       "        vertical-align: top;\n",
       "    }\n",
       "\n",
       "    .dataframe thead th {\n",
       "        text-align: right;\n",
       "    }\n",
       "</style>\n",
       "<table border=\"1\" class=\"dataframe\">\n",
       "  <thead>\n",
       "    <tr style=\"text-align: right;\">\n",
       "      <th></th>\n",
       "      <th>num_dependents</th>\n",
       "      <th>dep_group</th>\n",
       "    </tr>\n",
       "  </thead>\n",
       "  <tbody>\n",
       "    <tr>\n",
       "      <th>0</th>\n",
       "      <td>3</td>\n",
       "      <td>Many (3+)</td>\n",
       "    </tr>\n",
       "    <tr>\n",
       "      <th>1</th>\n",
       "      <td>3</td>\n",
       "      <td>Many (3+)</td>\n",
       "    </tr>\n",
       "    <tr>\n",
       "      <th>2</th>\n",
       "      <td>3</td>\n",
       "      <td>Many (3+)</td>\n",
       "    </tr>\n",
       "    <tr>\n",
       "      <th>3</th>\n",
       "      <td>3</td>\n",
       "      <td>Many (3+)</td>\n",
       "    </tr>\n",
       "    <tr>\n",
       "      <th>4</th>\n",
       "      <td>3</td>\n",
       "      <td>Many (3+)</td>\n",
       "    </tr>\n",
       "    <tr>\n",
       "      <th>5</th>\n",
       "      <td>3</td>\n",
       "      <td>Many (3+)</td>\n",
       "    </tr>\n",
       "    <tr>\n",
       "      <th>6</th>\n",
       "      <td>3</td>\n",
       "      <td>Many (3+)</td>\n",
       "    </tr>\n",
       "    <tr>\n",
       "      <th>7</th>\n",
       "      <td>3</td>\n",
       "      <td>Many (3+)</td>\n",
       "    </tr>\n",
       "    <tr>\n",
       "      <th>8</th>\n",
       "      <td>3</td>\n",
       "      <td>Many (3+)</td>\n",
       "    </tr>\n",
       "    <tr>\n",
       "      <th>9</th>\n",
       "      <td>2</td>\n",
       "      <td>Few (1–2)</td>\n",
       "    </tr>\n",
       "  </tbody>\n",
       "</table>\n",
       "</div>"
      ],
      "text/plain": [
       "   num_dependents  dep_group\n",
       "0               3  Many (3+)\n",
       "1               3  Many (3+)\n",
       "2               3  Many (3+)\n",
       "3               3  Many (3+)\n",
       "4               3  Many (3+)\n",
       "5               3  Many (3+)\n",
       "6               3  Many (3+)\n",
       "7               3  Many (3+)\n",
       "8               3  Many (3+)\n",
       "9               2  Few (1–2)"
      ]
     },
     "execution_count": 30,
     "metadata": {},
     "output_type": "execute_result"
    }
   ],
   "source": [
    "# Work check\n",
    "df_final_v4[['num_dependents', 'dep_group']].head(10)"
   ]
  },
  {
   "cell_type": "code",
   "execution_count": 31,
   "id": "78146a5c-217f-4b78-b304-fe18b4091107",
   "metadata": {},
   "outputs": [
    {
     "data": {
      "text/plain": [
       "dep_group\n",
       "None          8105551\n",
       "Few (1–2)    16187747\n",
       "Many (3+)     8142901\n",
       "Name: count, dtype: int64"
      ]
     },
     "execution_count": 31,
     "metadata": {},
     "output_type": "execute_result"
    }
   ],
   "source": [
    "# Dependent counts per group\n",
    "df_final_v4['dep_group'].value_counts().sort_index()"
   ]
  },
  {
   "cell_type": "markdown",
   "id": "018e6ebc-bc98-4a6a-b2c7-73d98a1bb7e0",
   "metadata": {},
   "source": [
    "#### Parent Flag"
   ]
  },
  {
   "cell_type": "code",
   "execution_count": 32,
   "id": "ab33bfb2-38cb-4239-b964-83c13180be7a",
   "metadata": {},
   "outputs": [],
   "source": [
    "# Create parent flag column\n",
    "df_final_v4['parent_flag'] = df_final_v4['num_dependents'].apply(lambda x: 'Yes' if x > 0 else 'No')"
   ]
  },
  {
   "cell_type": "code",
   "execution_count": 33,
   "id": "8557f758-c1bb-4670-863b-c21a682ffb3a",
   "metadata": {},
   "outputs": [
    {
     "data": {
      "text/html": [
       "<div>\n",
       "<style scoped>\n",
       "    .dataframe tbody tr th:only-of-type {\n",
       "        vertical-align: middle;\n",
       "    }\n",
       "\n",
       "    .dataframe tbody tr th {\n",
       "        vertical-align: top;\n",
       "    }\n",
       "\n",
       "    .dataframe thead th {\n",
       "        text-align: right;\n",
       "    }\n",
       "</style>\n",
       "<table border=\"1\" class=\"dataframe\">\n",
       "  <thead>\n",
       "    <tr style=\"text-align: right;\">\n",
       "      <th></th>\n",
       "      <th>num_dependents</th>\n",
       "      <th>parent_flag</th>\n",
       "    </tr>\n",
       "  </thead>\n",
       "  <tbody>\n",
       "    <tr>\n",
       "      <th>0</th>\n",
       "      <td>3</td>\n",
       "      <td>Yes</td>\n",
       "    </tr>\n",
       "    <tr>\n",
       "      <th>1</th>\n",
       "      <td>3</td>\n",
       "      <td>Yes</td>\n",
       "    </tr>\n",
       "    <tr>\n",
       "      <th>2</th>\n",
       "      <td>3</td>\n",
       "      <td>Yes</td>\n",
       "    </tr>\n",
       "    <tr>\n",
       "      <th>3</th>\n",
       "      <td>3</td>\n",
       "      <td>Yes</td>\n",
       "    </tr>\n",
       "    <tr>\n",
       "      <th>4</th>\n",
       "      <td>3</td>\n",
       "      <td>Yes</td>\n",
       "    </tr>\n",
       "    <tr>\n",
       "      <th>5</th>\n",
       "      <td>3</td>\n",
       "      <td>Yes</td>\n",
       "    </tr>\n",
       "    <tr>\n",
       "      <th>6</th>\n",
       "      <td>3</td>\n",
       "      <td>Yes</td>\n",
       "    </tr>\n",
       "    <tr>\n",
       "      <th>7</th>\n",
       "      <td>3</td>\n",
       "      <td>Yes</td>\n",
       "    </tr>\n",
       "    <tr>\n",
       "      <th>8</th>\n",
       "      <td>3</td>\n",
       "      <td>Yes</td>\n",
       "    </tr>\n",
       "    <tr>\n",
       "      <th>9</th>\n",
       "      <td>2</td>\n",
       "      <td>Yes</td>\n",
       "    </tr>\n",
       "  </tbody>\n",
       "</table>\n",
       "</div>"
      ],
      "text/plain": [
       "   num_dependents parent_flag\n",
       "0               3         Yes\n",
       "1               3         Yes\n",
       "2               3         Yes\n",
       "3               3         Yes\n",
       "4               3         Yes\n",
       "5               3         Yes\n",
       "6               3         Yes\n",
       "7               3         Yes\n",
       "8               3         Yes\n",
       "9               2         Yes"
      ]
     },
     "execution_count": 33,
     "metadata": {},
     "output_type": "execute_result"
    }
   ],
   "source": [
    "# Work check\n",
    "df_final_v4[['num_dependents', 'parent_flag']].head(10)"
   ]
  },
  {
   "cell_type": "code",
   "execution_count": 34,
   "id": "dea772d9-d089-438f-ba89-fb7c4ff66375",
   "metadata": {},
   "outputs": [
    {
     "data": {
      "text/plain": [
       "parent_flag\n",
       "Yes    24330648\n",
       "No      8105551\n",
       "Name: count, dtype: int64"
      ]
     },
     "execution_count": 34,
     "metadata": {},
     "output_type": "execute_result"
    }
   ],
   "source": [
    "# Parent flag counts\n",
    "df_final_v4['parent_flag'].value_counts()"
   ]
  },
  {
   "cell_type": "markdown",
   "id": "4ec49cc4-6d8f-4d98-b833-3cf1b7513bce",
   "metadata": {},
   "source": [
    "### Departments"
   ]
  },
  {
   "cell_type": "code",
   "execution_count": 35,
   "id": "ecc097e0-0c3a-4b5d-a2da-9051827cfa2a",
   "metadata": {
    "scrolled": true
   },
   "outputs": [
    {
     "data": {
      "text/plain": [
       "['alcohol',\n",
       " 'babies',\n",
       " 'bakery',\n",
       " 'beverages',\n",
       " 'breakfast',\n",
       " 'bulk',\n",
       " 'canned goods',\n",
       " 'dairy eggs',\n",
       " 'deli',\n",
       " 'dry goods pasta',\n",
       " 'frozen',\n",
       " 'household',\n",
       " 'international',\n",
       " 'meat seafood',\n",
       " 'missing',\n",
       " 'other',\n",
       " 'pantry',\n",
       " 'personal care',\n",
       " 'pets',\n",
       " 'produce',\n",
       " 'snacks']"
      ]
     },
     "execution_count": 35,
     "metadata": {},
     "output_type": "execute_result"
    }
   ],
   "source": [
    "# List of departments\n",
    "sorted(df_final_v4['department'].dropna().unique())"
   ]
  },
  {
   "cell_type": "markdown",
   "id": "be300475-51ea-4723-8433-c918b22113e3",
   "metadata": {},
   "source": [
    "Create groups of depts to help id the type of customers"
   ]
  },
  {
   "cell_type": "code",
   "execution_count": 36,
   "id": "b8394a9c-914f-478e-9ad0-68f36f37ad2b",
   "metadata": {},
   "outputs": [],
   "source": [
    "# Create family_depts grouping\n",
    "family_depts = ['babies', 'bulk', 'household', 'pantry', 'personal care']"
   ]
  },
  {
   "cell_type": "code",
   "execution_count": 37,
   "id": "3fb9a5cc-b14d-4a1b-9667-a0ad4871ada3",
   "metadata": {},
   "outputs": [],
   "source": [
    "# Create fresh_depts\n",
    "fresh_depts = ['produce', 'meat seafood', 'dairy eggs']"
   ]
  },
  {
   "cell_type": "code",
   "execution_count": 38,
   "id": "a204bbaa-6d93-48a7-9782-e145b3b6ee7d",
   "metadata": {},
   "outputs": [],
   "source": [
    "# Create convenience_depts grouping\n",
    "convenience_depts = ['frozen', 'snacks', 'canned goods', 'breakfast']"
   ]
  },
  {
   "cell_type": "code",
   "execution_count": 39,
   "id": "7f6a561b-55bd-4774-aade-34c9f87489bb",
   "metadata": {},
   "outputs": [],
   "source": [
    "# Create lifestyle_depts grouping\n",
    "lifestyle_depts = ['alcohol', 'pets', 'international', 'bakery']"
   ]
  },
  {
   "cell_type": "code",
   "execution_count": 40,
   "id": "9f25d0b6-3f82-4f57-a64a-fd4f4adb2b6b",
   "metadata": {},
   "outputs": [],
   "source": [
    "# Create other_depts grouping, a catch all for the remaining of depts\n",
    "other_depts = ['dry goods pasta', 'deli', 'missing', 'other']"
   ]
  },
  {
   "cell_type": "code",
   "execution_count": 41,
   "id": "901f42ea-f8e7-4391-91a5-576c78a9a2cb",
   "metadata": {},
   "outputs": [],
   "source": [
    "# This applies the grouping to each row depending on the customer's purchase\n",
    "def assign_dept_group(dept):\n",
    "    if dept in family_depts:\n",
    "        return 'Family'\n",
    "    elif dept in fresh_depts:\n",
    "        return 'Fresh'\n",
    "    elif dept in convenience_depts:\n",
    "        return 'Convenience'\n",
    "    elif dept in lifestyle_depts:\n",
    "        return 'Lifestyle'\n",
    "    else:\n",
    "        return 'Other'"
   ]
  },
  {
   "cell_type": "code",
   "execution_count": 42,
   "id": "d7f1fc16-ad5e-432a-8b4c-f93186150538",
   "metadata": {},
   "outputs": [],
   "source": [
    "# Create the dept_group column\n",
    "df_final_v4['dept_group'] = df_final_v4['department'].apply(assign_dept_group)"
   ]
  },
  {
   "cell_type": "code",
   "execution_count": 43,
   "id": "a9840ed9-8f04-49dc-838b-99803eecfae8",
   "metadata": {},
   "outputs": [
    {
     "data": {
      "text/html": [
       "<div>\n",
       "<style scoped>\n",
       "    .dataframe tbody tr th:only-of-type {\n",
       "        vertical-align: middle;\n",
       "    }\n",
       "\n",
       "    .dataframe tbody tr th {\n",
       "        vertical-align: top;\n",
       "    }\n",
       "\n",
       "    .dataframe thead th {\n",
       "        text-align: right;\n",
       "    }\n",
       "</style>\n",
       "<table border=\"1\" class=\"dataframe\">\n",
       "  <thead>\n",
       "    <tr style=\"text-align: right;\">\n",
       "      <th></th>\n",
       "      <th>order_id</th>\n",
       "      <th>product_id</th>\n",
       "      <th>add_to_cart_order</th>\n",
       "      <th>reordered</th>\n",
       "      <th>user_id</th>\n",
       "      <th>order_number</th>\n",
       "      <th>orders_day_of_week</th>\n",
       "      <th>order_hour_of_day</th>\n",
       "      <th>days_since_prior_order</th>\n",
       "      <th>first_order</th>\n",
       "      <th>...</th>\n",
       "      <th>region</th>\n",
       "      <th>spending_flag_x</th>\n",
       "      <th>exclusion_flag</th>\n",
       "      <th>spending_flag_y</th>\n",
       "      <th>spending_flag</th>\n",
       "      <th>age_group</th>\n",
       "      <th>income_group</th>\n",
       "      <th>dep_group</th>\n",
       "      <th>parent_flag</th>\n",
       "      <th>dept_group</th>\n",
       "    </tr>\n",
       "  </thead>\n",
       "  <tbody>\n",
       "    <tr>\n",
       "      <th>0</th>\n",
       "      <td>2</td>\n",
       "      <td>33120</td>\n",
       "      <td>1</td>\n",
       "      <td>1</td>\n",
       "      <td>202279</td>\n",
       "      <td>3</td>\n",
       "      <td>5</td>\n",
       "      <td>9</td>\n",
       "      <td>8.0</td>\n",
       "      <td>False</td>\n",
       "      <td>...</td>\n",
       "      <td>West</td>\n",
       "      <td>Low spender</td>\n",
       "      <td>Keep</td>\n",
       "      <td>Low spender</td>\n",
       "      <td>Low spender</td>\n",
       "      <td>Older Adult</td>\n",
       "      <td>Middle Income</td>\n",
       "      <td>Many (3+)</td>\n",
       "      <td>Yes</td>\n",
       "      <td>Fresh</td>\n",
       "    </tr>\n",
       "    <tr>\n",
       "      <th>1</th>\n",
       "      <td>2</td>\n",
       "      <td>28985</td>\n",
       "      <td>2</td>\n",
       "      <td>1</td>\n",
       "      <td>202279</td>\n",
       "      <td>3</td>\n",
       "      <td>5</td>\n",
       "      <td>9</td>\n",
       "      <td>8.0</td>\n",
       "      <td>False</td>\n",
       "      <td>...</td>\n",
       "      <td>West</td>\n",
       "      <td>Low spender</td>\n",
       "      <td>Keep</td>\n",
       "      <td>Low spender</td>\n",
       "      <td>Low spender</td>\n",
       "      <td>Older Adult</td>\n",
       "      <td>Middle Income</td>\n",
       "      <td>Many (3+)</td>\n",
       "      <td>Yes</td>\n",
       "      <td>Fresh</td>\n",
       "    </tr>\n",
       "    <tr>\n",
       "      <th>2</th>\n",
       "      <td>2</td>\n",
       "      <td>9327</td>\n",
       "      <td>3</td>\n",
       "      <td>0</td>\n",
       "      <td>202279</td>\n",
       "      <td>3</td>\n",
       "      <td>5</td>\n",
       "      <td>9</td>\n",
       "      <td>8.0</td>\n",
       "      <td>False</td>\n",
       "      <td>...</td>\n",
       "      <td>West</td>\n",
       "      <td>Low spender</td>\n",
       "      <td>Keep</td>\n",
       "      <td>Low spender</td>\n",
       "      <td>Low spender</td>\n",
       "      <td>Older Adult</td>\n",
       "      <td>Middle Income</td>\n",
       "      <td>Many (3+)</td>\n",
       "      <td>Yes</td>\n",
       "      <td>Family</td>\n",
       "    </tr>\n",
       "    <tr>\n",
       "      <th>3</th>\n",
       "      <td>2</td>\n",
       "      <td>45918</td>\n",
       "      <td>4</td>\n",
       "      <td>1</td>\n",
       "      <td>202279</td>\n",
       "      <td>3</td>\n",
       "      <td>5</td>\n",
       "      <td>9</td>\n",
       "      <td>8.0</td>\n",
       "      <td>False</td>\n",
       "      <td>...</td>\n",
       "      <td>West</td>\n",
       "      <td>Low spender</td>\n",
       "      <td>Keep</td>\n",
       "      <td>Low spender</td>\n",
       "      <td>Low spender</td>\n",
       "      <td>Older Adult</td>\n",
       "      <td>Middle Income</td>\n",
       "      <td>Many (3+)</td>\n",
       "      <td>Yes</td>\n",
       "      <td>Family</td>\n",
       "    </tr>\n",
       "    <tr>\n",
       "      <th>4</th>\n",
       "      <td>2</td>\n",
       "      <td>30035</td>\n",
       "      <td>5</td>\n",
       "      <td>0</td>\n",
       "      <td>202279</td>\n",
       "      <td>3</td>\n",
       "      <td>5</td>\n",
       "      <td>9</td>\n",
       "      <td>8.0</td>\n",
       "      <td>False</td>\n",
       "      <td>...</td>\n",
       "      <td>West</td>\n",
       "      <td>Low spender</td>\n",
       "      <td>Keep</td>\n",
       "      <td>Low spender</td>\n",
       "      <td>Low spender</td>\n",
       "      <td>Older Adult</td>\n",
       "      <td>Middle Income</td>\n",
       "      <td>Many (3+)</td>\n",
       "      <td>Yes</td>\n",
       "      <td>Family</td>\n",
       "    </tr>\n",
       "    <tr>\n",
       "      <th>5</th>\n",
       "      <td>2</td>\n",
       "      <td>17794</td>\n",
       "      <td>6</td>\n",
       "      <td>1</td>\n",
       "      <td>202279</td>\n",
       "      <td>3</td>\n",
       "      <td>5</td>\n",
       "      <td>9</td>\n",
       "      <td>8.0</td>\n",
       "      <td>False</td>\n",
       "      <td>...</td>\n",
       "      <td>West</td>\n",
       "      <td>Low spender</td>\n",
       "      <td>Keep</td>\n",
       "      <td>Low spender</td>\n",
       "      <td>Low spender</td>\n",
       "      <td>Older Adult</td>\n",
       "      <td>Middle Income</td>\n",
       "      <td>Many (3+)</td>\n",
       "      <td>Yes</td>\n",
       "      <td>Fresh</td>\n",
       "    </tr>\n",
       "    <tr>\n",
       "      <th>6</th>\n",
       "      <td>2</td>\n",
       "      <td>40141</td>\n",
       "      <td>7</td>\n",
       "      <td>1</td>\n",
       "      <td>202279</td>\n",
       "      <td>3</td>\n",
       "      <td>5</td>\n",
       "      <td>9</td>\n",
       "      <td>8.0</td>\n",
       "      <td>False</td>\n",
       "      <td>...</td>\n",
       "      <td>West</td>\n",
       "      <td>Low spender</td>\n",
       "      <td>Keep</td>\n",
       "      <td>Low spender</td>\n",
       "      <td>Low spender</td>\n",
       "      <td>Older Adult</td>\n",
       "      <td>Middle Income</td>\n",
       "      <td>Many (3+)</td>\n",
       "      <td>Yes</td>\n",
       "      <td>Family</td>\n",
       "    </tr>\n",
       "    <tr>\n",
       "      <th>7</th>\n",
       "      <td>2</td>\n",
       "      <td>1819</td>\n",
       "      <td>8</td>\n",
       "      <td>1</td>\n",
       "      <td>202279</td>\n",
       "      <td>3</td>\n",
       "      <td>5</td>\n",
       "      <td>9</td>\n",
       "      <td>8.0</td>\n",
       "      <td>False</td>\n",
       "      <td>...</td>\n",
       "      <td>West</td>\n",
       "      <td>Low spender</td>\n",
       "      <td>Keep</td>\n",
       "      <td>Low spender</td>\n",
       "      <td>Low spender</td>\n",
       "      <td>Older Adult</td>\n",
       "      <td>Middle Income</td>\n",
       "      <td>Many (3+)</td>\n",
       "      <td>Yes</td>\n",
       "      <td>Family</td>\n",
       "    </tr>\n",
       "    <tr>\n",
       "      <th>8</th>\n",
       "      <td>2</td>\n",
       "      <td>43668</td>\n",
       "      <td>9</td>\n",
       "      <td>0</td>\n",
       "      <td>202279</td>\n",
       "      <td>3</td>\n",
       "      <td>5</td>\n",
       "      <td>9</td>\n",
       "      <td>8.0</td>\n",
       "      <td>False</td>\n",
       "      <td>...</td>\n",
       "      <td>West</td>\n",
       "      <td>Low spender</td>\n",
       "      <td>Keep</td>\n",
       "      <td>Low spender</td>\n",
       "      <td>Low spender</td>\n",
       "      <td>Older Adult</td>\n",
       "      <td>Middle Income</td>\n",
       "      <td>Many (3+)</td>\n",
       "      <td>Yes</td>\n",
       "      <td>Fresh</td>\n",
       "    </tr>\n",
       "    <tr>\n",
       "      <th>9</th>\n",
       "      <td>3</td>\n",
       "      <td>33754</td>\n",
       "      <td>1</td>\n",
       "      <td>1</td>\n",
       "      <td>205970</td>\n",
       "      <td>16</td>\n",
       "      <td>5</td>\n",
       "      <td>17</td>\n",
       "      <td>12.0</td>\n",
       "      <td>False</td>\n",
       "      <td>...</td>\n",
       "      <td>West</td>\n",
       "      <td>Low spender</td>\n",
       "      <td>Keep</td>\n",
       "      <td>Low spender</td>\n",
       "      <td>Low spender</td>\n",
       "      <td>Midlife Adult</td>\n",
       "      <td>High Income</td>\n",
       "      <td>Few (1–2)</td>\n",
       "      <td>Yes</td>\n",
       "      <td>Fresh</td>\n",
       "    </tr>\n",
       "  </tbody>\n",
       "</table>\n",
       "<p>10 rows × 43 columns</p>\n",
       "</div>"
      ],
      "text/plain": [
       "   order_id  product_id  add_to_cart_order  reordered  user_id  order_number  \\\n",
       "0         2       33120                  1          1   202279             3   \n",
       "1         2       28985                  2          1   202279             3   \n",
       "2         2        9327                  3          0   202279             3   \n",
       "3         2       45918                  4          1   202279             3   \n",
       "4         2       30035                  5          0   202279             3   \n",
       "5         2       17794                  6          1   202279             3   \n",
       "6         2       40141                  7          1   202279             3   \n",
       "7         2        1819                  8          1   202279             3   \n",
       "8         2       43668                  9          0   202279             3   \n",
       "9         3       33754                  1          1   205970            16   \n",
       "\n",
       "   orders_day_of_week  order_hour_of_day  days_since_prior_order  first_order  \\\n",
       "0                   5                  9                     8.0        False   \n",
       "1                   5                  9                     8.0        False   \n",
       "2                   5                  9                     8.0        False   \n",
       "3                   5                  9                     8.0        False   \n",
       "4                   5                  9                     8.0        False   \n",
       "5                   5                  9                     8.0        False   \n",
       "6                   5                  9                     8.0        False   \n",
       "7                   5                  9                     8.0        False   \n",
       "8                   5                  9                     8.0        False   \n",
       "9                   5                 17                    12.0        False   \n",
       "\n",
       "   ... region  spending_flag_x  exclusion_flag  spending_flag_y spending_flag  \\\n",
       "0  ...   West      Low spender            Keep      Low spender   Low spender   \n",
       "1  ...   West      Low spender            Keep      Low spender   Low spender   \n",
       "2  ...   West      Low spender            Keep      Low spender   Low spender   \n",
       "3  ...   West      Low spender            Keep      Low spender   Low spender   \n",
       "4  ...   West      Low spender            Keep      Low spender   Low spender   \n",
       "5  ...   West      Low spender            Keep      Low spender   Low spender   \n",
       "6  ...   West      Low spender            Keep      Low spender   Low spender   \n",
       "7  ...   West      Low spender            Keep      Low spender   Low spender   \n",
       "8  ...   West      Low spender            Keep      Low spender   Low spender   \n",
       "9  ...   West      Low spender            Keep      Low spender   Low spender   \n",
       "\n",
       "       age_group   income_group  dep_group  parent_flag dept_group  \n",
       "0    Older Adult  Middle Income  Many (3+)          Yes      Fresh  \n",
       "1    Older Adult  Middle Income  Many (3+)          Yes      Fresh  \n",
       "2    Older Adult  Middle Income  Many (3+)          Yes     Family  \n",
       "3    Older Adult  Middle Income  Many (3+)          Yes     Family  \n",
       "4    Older Adult  Middle Income  Many (3+)          Yes     Family  \n",
       "5    Older Adult  Middle Income  Many (3+)          Yes      Fresh  \n",
       "6    Older Adult  Middle Income  Many (3+)          Yes     Family  \n",
       "7    Older Adult  Middle Income  Many (3+)          Yes     Family  \n",
       "8    Older Adult  Middle Income  Many (3+)          Yes      Fresh  \n",
       "9  Midlife Adult    High Income  Few (1–2)          Yes      Fresh  \n",
       "\n",
       "[10 rows x 43 columns]"
      ]
     },
     "execution_count": 43,
     "metadata": {},
     "output_type": "execute_result"
    }
   ],
   "source": [
    "# Work check\n",
    "df_final_v4.head(10)"
   ]
  },
  {
   "cell_type": "markdown",
   "id": "04c0a9d0-4cd5-4e07-9ac9-9b90387918b5",
   "metadata": {},
   "source": [
    "Looks like it's working"
   ]
  },
  {
   "cell_type": "markdown",
   "id": "b237bdd6-6675-4907-a59e-29526ef822f0",
   "metadata": {},
   "source": [
    "### Customer Summary"
   ]
  },
  {
   "cell_type": "code",
   "execution_count": 44,
   "id": "07166505-44ba-47fc-84b4-b10108e721ed",
   "metadata": {},
   "outputs": [],
   "source": [
    "# Create a customer summary\n",
    "customer_summary = df_final_v4.groupby('user_id')[['age_group', 'income_group', 'dep_group', 'parent_flag']].first().reset_index()"
   ]
  },
  {
   "cell_type": "code",
   "execution_count": 45,
   "id": "cef527dd-2b58-44e3-bffd-150f600a2f3d",
   "metadata": {},
   "outputs": [
    {
     "data": {
      "text/html": [
       "<div>\n",
       "<style scoped>\n",
       "    .dataframe tbody tr th:only-of-type {\n",
       "        vertical-align: middle;\n",
       "    }\n",
       "\n",
       "    .dataframe tbody tr th {\n",
       "        vertical-align: top;\n",
       "    }\n",
       "\n",
       "    .dataframe thead th {\n",
       "        text-align: right;\n",
       "    }\n",
       "</style>\n",
       "<table border=\"1\" class=\"dataframe\">\n",
       "  <thead>\n",
       "    <tr style=\"text-align: right;\">\n",
       "      <th></th>\n",
       "      <th>user_id</th>\n",
       "      <th>age_group</th>\n",
       "      <th>income_group</th>\n",
       "      <th>dep_group</th>\n",
       "      <th>parent_flag</th>\n",
       "    </tr>\n",
       "  </thead>\n",
       "  <tbody>\n",
       "    <tr>\n",
       "      <th>0</th>\n",
       "      <td>1</td>\n",
       "      <td>Midlife Adult</td>\n",
       "      <td>Low Income</td>\n",
       "      <td>Many (3+)</td>\n",
       "      <td>Yes</td>\n",
       "    </tr>\n",
       "    <tr>\n",
       "      <th>1</th>\n",
       "      <td>2</td>\n",
       "      <td>Senior</td>\n",
       "      <td>Low Income</td>\n",
       "      <td>Many (3+)</td>\n",
       "      <td>Yes</td>\n",
       "    </tr>\n",
       "    <tr>\n",
       "      <th>2</th>\n",
       "      <td>3</td>\n",
       "      <td>Midlife Adult</td>\n",
       "      <td>Middle Income</td>\n",
       "      <td>Many (3+)</td>\n",
       "      <td>Yes</td>\n",
       "    </tr>\n",
       "    <tr>\n",
       "      <th>3</th>\n",
       "      <td>4</td>\n",
       "      <td>Midlife Adult</td>\n",
       "      <td>Low Income</td>\n",
       "      <td>Many (3+)</td>\n",
       "      <td>Yes</td>\n",
       "    </tr>\n",
       "    <tr>\n",
       "      <th>4</th>\n",
       "      <td>5</td>\n",
       "      <td>Senior</td>\n",
       "      <td>High Income</td>\n",
       "      <td>None</td>\n",
       "      <td>No</td>\n",
       "    </tr>\n",
       "    <tr>\n",
       "      <th>5</th>\n",
       "      <td>6</td>\n",
       "      <td>Older Adult</td>\n",
       "      <td>High Income</td>\n",
       "      <td>Few (1–2)</td>\n",
       "      <td>Yes</td>\n",
       "    </tr>\n",
       "    <tr>\n",
       "      <th>6</th>\n",
       "      <td>7</td>\n",
       "      <td>Midlife Adult</td>\n",
       "      <td>Middle Income</td>\n",
       "      <td>Few (1–2)</td>\n",
       "      <td>Yes</td>\n",
       "    </tr>\n",
       "    <tr>\n",
       "      <th>7</th>\n",
       "      <td>8</td>\n",
       "      <td>Midlife Adult</td>\n",
       "      <td>Middle Income</td>\n",
       "      <td>Few (1–2)</td>\n",
       "      <td>Yes</td>\n",
       "    </tr>\n",
       "    <tr>\n",
       "      <th>8</th>\n",
       "      <td>9</td>\n",
       "      <td>Senior</td>\n",
       "      <td>Very High Income</td>\n",
       "      <td>Many (3+)</td>\n",
       "      <td>Yes</td>\n",
       "    </tr>\n",
       "    <tr>\n",
       "      <th>9</th>\n",
       "      <td>10</td>\n",
       "      <td>Midlife Adult</td>\n",
       "      <td>Low Income</td>\n",
       "      <td>Few (1–2)</td>\n",
       "      <td>Yes</td>\n",
       "    </tr>\n",
       "  </tbody>\n",
       "</table>\n",
       "</div>"
      ],
      "text/plain": [
       "   user_id      age_group      income_group  dep_group parent_flag\n",
       "0        1  Midlife Adult        Low Income  Many (3+)         Yes\n",
       "1        2         Senior        Low Income  Many (3+)         Yes\n",
       "2        3  Midlife Adult     Middle Income  Many (3+)         Yes\n",
       "3        4  Midlife Adult        Low Income  Many (3+)         Yes\n",
       "4        5         Senior       High Income       None          No\n",
       "5        6    Older Adult       High Income  Few (1–2)         Yes\n",
       "6        7  Midlife Adult     Middle Income  Few (1–2)         Yes\n",
       "7        8  Midlife Adult     Middle Income  Few (1–2)         Yes\n",
       "8        9         Senior  Very High Income  Many (3+)         Yes\n",
       "9       10  Midlife Adult        Low Income  Few (1–2)         Yes"
      ]
     },
     "execution_count": 45,
     "metadata": {},
     "output_type": "execute_result"
    }
   ],
   "source": [
    "# Work check\n",
    "customer_summary.head(10)"
   ]
  },
  {
   "cell_type": "code",
   "execution_count": 46,
   "id": "2cb97f9d-9be8-4d53-94e7-c9de0bce887d",
   "metadata": {},
   "outputs": [
    {
     "data": {
      "text/plain": [
       "user_id         0\n",
       "age_group       0\n",
       "income_group    0\n",
       "dep_group       0\n",
       "parent_flag     0\n",
       "dtype: int64"
      ]
     },
     "execution_count": 46,
     "metadata": {},
     "output_type": "execute_result"
    }
   ],
   "source": [
    "customer_summary.isna().sum()"
   ]
  },
  {
   "cell_type": "markdown",
   "id": "edadf479-9a1a-49e6-b458-f1d5fe1c10f6",
   "metadata": {},
   "source": [
    "Looks good"
   ]
  },
  {
   "cell_type": "markdown",
   "id": "f646cda0-2c03-4d48-a943-c2997b028fe6",
   "metadata": {},
   "source": [
    "### Customer Department Summary"
   ]
  },
  {
   "cell_type": "code",
   "execution_count": 47,
   "id": "2e54269e-d62b-4c5b-ba26-f781bef78f56",
   "metadata": {},
   "outputs": [],
   "source": [
    "# Summarize cust buying behavior per dept\n",
    "cust_dept_sum = df_final_v4.groupby('user_id')['dept_group'].value_counts().unstack(fill_value=0)"
   ]
  },
  {
   "cell_type": "code",
   "execution_count": 48,
   "id": "0010dbc0-28f1-4c2e-bd7c-a9d7804a3609",
   "metadata": {
    "scrolled": true
   },
   "outputs": [
    {
     "data": {
      "text/html": [
       "<div>\n",
       "<style scoped>\n",
       "    .dataframe tbody tr th:only-of-type {\n",
       "        vertical-align: middle;\n",
       "    }\n",
       "\n",
       "    .dataframe tbody tr th {\n",
       "        vertical-align: top;\n",
       "    }\n",
       "\n",
       "    .dataframe thead th {\n",
       "        text-align: right;\n",
       "    }\n",
       "</style>\n",
       "<table border=\"1\" class=\"dataframe\">\n",
       "  <thead>\n",
       "    <tr style=\"text-align: right;\">\n",
       "      <th>dept_group</th>\n",
       "      <th>Convenience</th>\n",
       "      <th>Family</th>\n",
       "      <th>Fresh</th>\n",
       "      <th>Lifestyle</th>\n",
       "      <th>Other</th>\n",
       "    </tr>\n",
       "    <tr>\n",
       "      <th>user_id</th>\n",
       "      <th></th>\n",
       "      <th></th>\n",
       "      <th></th>\n",
       "      <th></th>\n",
       "      <th></th>\n",
       "    </tr>\n",
       "  </thead>\n",
       "  <tbody>\n",
       "    <tr>\n",
       "      <th>1</th>\n",
       "      <td>25</td>\n",
       "      <td>3</td>\n",
       "      <td>18</td>\n",
       "      <td>0</td>\n",
       "      <td>13</td>\n",
       "    </tr>\n",
       "    <tr>\n",
       "      <th>2</th>\n",
       "      <td>63</td>\n",
       "      <td>12</td>\n",
       "      <td>85</td>\n",
       "      <td>5</td>\n",
       "      <td>30</td>\n",
       "    </tr>\n",
       "    <tr>\n",
       "      <th>3</th>\n",
       "      <td>15</td>\n",
       "      <td>5</td>\n",
       "      <td>59</td>\n",
       "      <td>0</td>\n",
       "      <td>9</td>\n",
       "    </tr>\n",
       "    <tr>\n",
       "      <th>4</th>\n",
       "      <td>5</td>\n",
       "      <td>2</td>\n",
       "      <td>2</td>\n",
       "      <td>4</td>\n",
       "      <td>5</td>\n",
       "    </tr>\n",
       "    <tr>\n",
       "      <th>5</th>\n",
       "      <td>4</td>\n",
       "      <td>2</td>\n",
       "      <td>27</td>\n",
       "      <td>2</td>\n",
       "      <td>2</td>\n",
       "    </tr>\n",
       "    <tr>\n",
       "      <th>6</th>\n",
       "      <td>3</td>\n",
       "      <td>1</td>\n",
       "      <td>10</td>\n",
       "      <td>0</td>\n",
       "      <td>0</td>\n",
       "    </tr>\n",
       "    <tr>\n",
       "      <th>7</th>\n",
       "      <td>29</td>\n",
       "      <td>10</td>\n",
       "      <td>97</td>\n",
       "      <td>6</td>\n",
       "      <td>64</td>\n",
       "    </tr>\n",
       "    <tr>\n",
       "      <th>8</th>\n",
       "      <td>5</td>\n",
       "      <td>3</td>\n",
       "      <td>39</td>\n",
       "      <td>1</td>\n",
       "      <td>1</td>\n",
       "    </tr>\n",
       "    <tr>\n",
       "      <th>9</th>\n",
       "      <td>18</td>\n",
       "      <td>11</td>\n",
       "      <td>32</td>\n",
       "      <td>4</td>\n",
       "      <td>11</td>\n",
       "    </tr>\n",
       "    <tr>\n",
       "      <th>10</th>\n",
       "      <td>4</td>\n",
       "      <td>22</td>\n",
       "      <td>101</td>\n",
       "      <td>1</td>\n",
       "      <td>15</td>\n",
       "    </tr>\n",
       "  </tbody>\n",
       "</table>\n",
       "</div>"
      ],
      "text/plain": [
       "dept_group  Convenience  Family  Fresh  Lifestyle  Other\n",
       "user_id                                                 \n",
       "1                    25       3     18          0     13\n",
       "2                    63      12     85          5     30\n",
       "3                    15       5     59          0      9\n",
       "4                     5       2      2          4      5\n",
       "5                     4       2     27          2      2\n",
       "6                     3       1     10          0      0\n",
       "7                    29      10     97          6     64\n",
       "8                     5       3     39          1      1\n",
       "9                    18      11     32          4     11\n",
       "10                    4      22    101          1     15"
      ]
     },
     "execution_count": 48,
     "metadata": {},
     "output_type": "execute_result"
    }
   ],
   "source": [
    "# Work check\n",
    "cust_dept_sum.head(10)"
   ]
  },
  {
   "cell_type": "markdown",
   "id": "8d33efbb-0cae-432d-80a3-f208f444bb56",
   "metadata": {},
   "source": [
    "Looks good"
   ]
  },
  {
   "cell_type": "code",
   "execution_count": 49,
   "id": "ca83c0ce-ef83-45e2-b280-8eb7879db763",
   "metadata": {},
   "outputs": [
    {
     "data": {
      "text/plain": [
       "dept_group\n",
       "Convenience    0\n",
       "Family         0\n",
       "Fresh          0\n",
       "Lifestyle      0\n",
       "Other          0\n",
       "dtype: int64"
      ]
     },
     "execution_count": 49,
     "metadata": {},
     "output_type": "execute_result"
    }
   ],
   "source": [
    "# Check missing values\n",
    "cust_dept_sum.isna().sum()"
   ]
  },
  {
   "cell_type": "markdown",
   "id": "aa8ef667-7dfc-4322-83aa-3ad757321c6d",
   "metadata": {},
   "source": [
    "### Behavioral Flags"
   ]
  },
  {
   "cell_type": "markdown",
   "id": "d8b5ca05-dc66-4c28-8289-5ceb53bf9500",
   "metadata": {},
   "source": [
    "Creating flags to eventually create a summary and place each cust in a cateogry of shopper"
   ]
  },
  {
   "cell_type": "code",
   "execution_count": 50,
   "id": "7f21a10a-8c58-4e12-8c8e-8ac1ad49b752",
   "metadata": {},
   "outputs": [],
   "source": [
    "# Flag for Family-oriented purchases\n",
    "cust_dept_sum['family_goods_flag'] = (cust_dept_sum['Family'] > 0).astype(int)"
   ]
  },
  {
   "cell_type": "code",
   "execution_count": 51,
   "id": "1fb6751d-6ee6-4e2f-adf0-7af8741ab81b",
   "metadata": {},
   "outputs": [],
   "source": [
    "# Flag for Fresh food purchases\n",
    "cust_dept_sum['fresh_flag'] = (cust_dept_sum['Fresh'] > 0).astype(int)"
   ]
  },
  {
   "cell_type": "code",
   "execution_count": 52,
   "id": "e6b5760c-9be2-44e8-9432-0eebf76ea0c6",
   "metadata": {},
   "outputs": [],
   "source": [
    "# Flag for Convenience-focused purchases\n",
    "cust_dept_sum['convenience_flag'] = (cust_dept_sum['Convenience'] > 0).astype(int)"
   ]
  },
  {
   "cell_type": "code",
   "execution_count": 53,
   "id": "200913c3-e70a-430f-92cb-5a1a108acebb",
   "metadata": {},
   "outputs": [],
   "source": [
    "# Flag for Lifestyle/specialty purchases\n",
    "cust_dept_sum['lifestyle_flag'] = (cust_dept_sum['Lifestyle'] > 0).astype(int)"
   ]
  },
  {
   "cell_type": "code",
   "execution_count": 54,
   "id": "a3e6667a-03ad-4c55-b135-477422d42ea3",
   "metadata": {},
   "outputs": [],
   "source": [
    "# Flag for Other/unclassified purchases\n",
    "cust_dept_sum['other_flag'] = (cust_dept_sum['Other'] > 0).astype(int)"
   ]
  },
  {
   "cell_type": "markdown",
   "id": "6038c06f-5a0c-41b6-8bf9-6256d57e8e73",
   "metadata": {},
   "source": [
    "### Merge Flags with Customer Traits"
   ]
  },
  {
   "cell_type": "code",
   "execution_count": 55,
   "id": "d4916f0e-c32a-4f83-9e3b-d1b636e376d9",
   "metadata": {},
   "outputs": [],
   "source": [
    "# Create the merge\n",
    "customer_summary = customer_summary.merge(\n",
    "    cust_dept_sum[['family_goods_flag', 'fresh_flag', 'convenience_flag', 'lifestyle_flag', 'other_flag']],\n",
    "    on='user_id',\n",
    "    how='left'\n",
    ")"
   ]
  },
  {
   "cell_type": "code",
   "execution_count": 56,
   "id": "c4501993-0ddf-4a4c-8dfe-2e7078a65ae1",
   "metadata": {},
   "outputs": [
    {
     "data": {
      "text/html": [
       "<div>\n",
       "<style scoped>\n",
       "    .dataframe tbody tr th:only-of-type {\n",
       "        vertical-align: middle;\n",
       "    }\n",
       "\n",
       "    .dataframe tbody tr th {\n",
       "        vertical-align: top;\n",
       "    }\n",
       "\n",
       "    .dataframe thead th {\n",
       "        text-align: right;\n",
       "    }\n",
       "</style>\n",
       "<table border=\"1\" class=\"dataframe\">\n",
       "  <thead>\n",
       "    <tr style=\"text-align: right;\">\n",
       "      <th></th>\n",
       "      <th>user_id</th>\n",
       "      <th>age_group</th>\n",
       "      <th>income_group</th>\n",
       "      <th>dep_group</th>\n",
       "      <th>parent_flag</th>\n",
       "      <th>family_goods_flag</th>\n",
       "      <th>fresh_flag</th>\n",
       "      <th>convenience_flag</th>\n",
       "      <th>lifestyle_flag</th>\n",
       "      <th>other_flag</th>\n",
       "    </tr>\n",
       "  </thead>\n",
       "  <tbody>\n",
       "    <tr>\n",
       "      <th>0</th>\n",
       "      <td>1</td>\n",
       "      <td>Midlife Adult</td>\n",
       "      <td>Low Income</td>\n",
       "      <td>Many (3+)</td>\n",
       "      <td>Yes</td>\n",
       "      <td>1</td>\n",
       "      <td>1</td>\n",
       "      <td>1</td>\n",
       "      <td>0</td>\n",
       "      <td>1</td>\n",
       "    </tr>\n",
       "    <tr>\n",
       "      <th>1</th>\n",
       "      <td>2</td>\n",
       "      <td>Senior</td>\n",
       "      <td>Low Income</td>\n",
       "      <td>Many (3+)</td>\n",
       "      <td>Yes</td>\n",
       "      <td>1</td>\n",
       "      <td>1</td>\n",
       "      <td>1</td>\n",
       "      <td>1</td>\n",
       "      <td>1</td>\n",
       "    </tr>\n",
       "    <tr>\n",
       "      <th>2</th>\n",
       "      <td>3</td>\n",
       "      <td>Midlife Adult</td>\n",
       "      <td>Middle Income</td>\n",
       "      <td>Many (3+)</td>\n",
       "      <td>Yes</td>\n",
       "      <td>1</td>\n",
       "      <td>1</td>\n",
       "      <td>1</td>\n",
       "      <td>0</td>\n",
       "      <td>1</td>\n",
       "    </tr>\n",
       "    <tr>\n",
       "      <th>3</th>\n",
       "      <td>4</td>\n",
       "      <td>Midlife Adult</td>\n",
       "      <td>Low Income</td>\n",
       "      <td>Many (3+)</td>\n",
       "      <td>Yes</td>\n",
       "      <td>1</td>\n",
       "      <td>1</td>\n",
       "      <td>1</td>\n",
       "      <td>1</td>\n",
       "      <td>1</td>\n",
       "    </tr>\n",
       "    <tr>\n",
       "      <th>4</th>\n",
       "      <td>5</td>\n",
       "      <td>Senior</td>\n",
       "      <td>High Income</td>\n",
       "      <td>None</td>\n",
       "      <td>No</td>\n",
       "      <td>1</td>\n",
       "      <td>1</td>\n",
       "      <td>1</td>\n",
       "      <td>1</td>\n",
       "      <td>1</td>\n",
       "    </tr>\n",
       "    <tr>\n",
       "      <th>5</th>\n",
       "      <td>6</td>\n",
       "      <td>Older Adult</td>\n",
       "      <td>High Income</td>\n",
       "      <td>Few (1–2)</td>\n",
       "      <td>Yes</td>\n",
       "      <td>1</td>\n",
       "      <td>1</td>\n",
       "      <td>1</td>\n",
       "      <td>0</td>\n",
       "      <td>0</td>\n",
       "    </tr>\n",
       "    <tr>\n",
       "      <th>6</th>\n",
       "      <td>7</td>\n",
       "      <td>Midlife Adult</td>\n",
       "      <td>Middle Income</td>\n",
       "      <td>Few (1–2)</td>\n",
       "      <td>Yes</td>\n",
       "      <td>1</td>\n",
       "      <td>1</td>\n",
       "      <td>1</td>\n",
       "      <td>1</td>\n",
       "      <td>1</td>\n",
       "    </tr>\n",
       "    <tr>\n",
       "      <th>7</th>\n",
       "      <td>8</td>\n",
       "      <td>Midlife Adult</td>\n",
       "      <td>Middle Income</td>\n",
       "      <td>Few (1–2)</td>\n",
       "      <td>Yes</td>\n",
       "      <td>1</td>\n",
       "      <td>1</td>\n",
       "      <td>1</td>\n",
       "      <td>1</td>\n",
       "      <td>1</td>\n",
       "    </tr>\n",
       "    <tr>\n",
       "      <th>8</th>\n",
       "      <td>9</td>\n",
       "      <td>Senior</td>\n",
       "      <td>Very High Income</td>\n",
       "      <td>Many (3+)</td>\n",
       "      <td>Yes</td>\n",
       "      <td>1</td>\n",
       "      <td>1</td>\n",
       "      <td>1</td>\n",
       "      <td>1</td>\n",
       "      <td>1</td>\n",
       "    </tr>\n",
       "    <tr>\n",
       "      <th>9</th>\n",
       "      <td>10</td>\n",
       "      <td>Midlife Adult</td>\n",
       "      <td>Low Income</td>\n",
       "      <td>Few (1–2)</td>\n",
       "      <td>Yes</td>\n",
       "      <td>1</td>\n",
       "      <td>1</td>\n",
       "      <td>1</td>\n",
       "      <td>1</td>\n",
       "      <td>1</td>\n",
       "    </tr>\n",
       "  </tbody>\n",
       "</table>\n",
       "</div>"
      ],
      "text/plain": [
       "   user_id      age_group      income_group  dep_group parent_flag  \\\n",
       "0        1  Midlife Adult        Low Income  Many (3+)         Yes   \n",
       "1        2         Senior        Low Income  Many (3+)         Yes   \n",
       "2        3  Midlife Adult     Middle Income  Many (3+)         Yes   \n",
       "3        4  Midlife Adult        Low Income  Many (3+)         Yes   \n",
       "4        5         Senior       High Income       None          No   \n",
       "5        6    Older Adult       High Income  Few (1–2)         Yes   \n",
       "6        7  Midlife Adult     Middle Income  Few (1–2)         Yes   \n",
       "7        8  Midlife Adult     Middle Income  Few (1–2)         Yes   \n",
       "8        9         Senior  Very High Income  Many (3+)         Yes   \n",
       "9       10  Midlife Adult        Low Income  Few (1–2)         Yes   \n",
       "\n",
       "   family_goods_flag  fresh_flag  convenience_flag  lifestyle_flag  other_flag  \n",
       "0                  1           1                 1               0           1  \n",
       "1                  1           1                 1               1           1  \n",
       "2                  1           1                 1               0           1  \n",
       "3                  1           1                 1               1           1  \n",
       "4                  1           1                 1               1           1  \n",
       "5                  1           1                 1               0           0  \n",
       "6                  1           1                 1               1           1  \n",
       "7                  1           1                 1               1           1  \n",
       "8                  1           1                 1               1           1  \n",
       "9                  1           1                 1               1           1  "
      ]
     },
     "execution_count": 56,
     "metadata": {},
     "output_type": "execute_result"
    }
   ],
   "source": [
    "customer_summary.head(10)"
   ]
  },
  {
   "cell_type": "markdown",
   "id": "e367a3c7-76cf-4103-9baa-13410341077d",
   "metadata": {},
   "source": [
    "### Time Traits"
   ]
  },
  {
   "cell_type": "code",
   "execution_count": 57,
   "id": "16f707bd-7b3d-4fa7-98b8-9a1527884180",
   "metadata": {},
   "outputs": [],
   "source": [
    "# Putting hours of day into buckets\n",
    "def hour_bucket(hour):\n",
    "    if hour < 8:\n",
    "        return 'Early'\n",
    "    elif hour < 12:\n",
    "        return 'Morning'\n",
    "    elif hour < 17:\n",
    "        return 'Afternoon'\n",
    "    elif hour < 20:\n",
    "        return 'Evening'\n",
    "    else:\n",
    "        return 'Late Night'"
   ]
  },
  {
   "cell_type": "code",
   "execution_count": 58,
   "id": "6a624004-02e5-4676-b968-e3c8637e71bc",
   "metadata": {},
   "outputs": [],
   "source": [
    "# Define weekends vs weekdays\n",
    "def day_bucket(day):\n",
    "    return 'Weekend' if day in [0, 1] else 'Weekday'"
   ]
  },
  {
   "cell_type": "code",
   "execution_count": 59,
   "id": "4800ca45-ec5c-4aa7-9a1a-53ee8124c6ff",
   "metadata": {},
   "outputs": [],
   "source": [
    "# Create hour bucket column\n",
    "df_final_v4['hour_bucket'] = df_final_v4['order_hour_of_day'].apply(hour_bucket)"
   ]
  },
  {
   "cell_type": "code",
   "execution_count": 60,
   "id": "084e3674-e8d8-4df3-9a4d-bdd048220579",
   "metadata": {},
   "outputs": [],
   "source": [
    "# Create day_bucket column\n",
    "df_final_v4['day_bucket'] = df_final_v4['orders_day_of_week'].apply(day_bucket)"
   ]
  },
  {
   "cell_type": "code",
   "execution_count": 61,
   "id": "0d8fd6af-fcd5-4a3d-bd25-1a6ae410f4be",
   "metadata": {
    "scrolled": true
   },
   "outputs": [
    {
     "data": {
      "text/html": [
       "<div>\n",
       "<style scoped>\n",
       "    .dataframe tbody tr th:only-of-type {\n",
       "        vertical-align: middle;\n",
       "    }\n",
       "\n",
       "    .dataframe tbody tr th {\n",
       "        vertical-align: top;\n",
       "    }\n",
       "\n",
       "    .dataframe thead th {\n",
       "        text-align: right;\n",
       "    }\n",
       "</style>\n",
       "<table border=\"1\" class=\"dataframe\">\n",
       "  <thead>\n",
       "    <tr style=\"text-align: right;\">\n",
       "      <th></th>\n",
       "      <th>orders_day_of_week</th>\n",
       "      <th>day_bucket</th>\n",
       "    </tr>\n",
       "  </thead>\n",
       "  <tbody>\n",
       "    <tr>\n",
       "      <th>0</th>\n",
       "      <td>5</td>\n",
       "      <td>Weekday</td>\n",
       "    </tr>\n",
       "    <tr>\n",
       "      <th>1</th>\n",
       "      <td>5</td>\n",
       "      <td>Weekday</td>\n",
       "    </tr>\n",
       "    <tr>\n",
       "      <th>2</th>\n",
       "      <td>5</td>\n",
       "      <td>Weekday</td>\n",
       "    </tr>\n",
       "    <tr>\n",
       "      <th>3</th>\n",
       "      <td>5</td>\n",
       "      <td>Weekday</td>\n",
       "    </tr>\n",
       "    <tr>\n",
       "      <th>4</th>\n",
       "      <td>5</td>\n",
       "      <td>Weekday</td>\n",
       "    </tr>\n",
       "    <tr>\n",
       "      <th>5</th>\n",
       "      <td>5</td>\n",
       "      <td>Weekday</td>\n",
       "    </tr>\n",
       "    <tr>\n",
       "      <th>6</th>\n",
       "      <td>5</td>\n",
       "      <td>Weekday</td>\n",
       "    </tr>\n",
       "    <tr>\n",
       "      <th>7</th>\n",
       "      <td>5</td>\n",
       "      <td>Weekday</td>\n",
       "    </tr>\n",
       "    <tr>\n",
       "      <th>8</th>\n",
       "      <td>5</td>\n",
       "      <td>Weekday</td>\n",
       "    </tr>\n",
       "    <tr>\n",
       "      <th>9</th>\n",
       "      <td>5</td>\n",
       "      <td>Weekday</td>\n",
       "    </tr>\n",
       "  </tbody>\n",
       "</table>\n",
       "</div>"
      ],
      "text/plain": [
       "   orders_day_of_week day_bucket\n",
       "0                   5    Weekday\n",
       "1                   5    Weekday\n",
       "2                   5    Weekday\n",
       "3                   5    Weekday\n",
       "4                   5    Weekday\n",
       "5                   5    Weekday\n",
       "6                   5    Weekday\n",
       "7                   5    Weekday\n",
       "8                   5    Weekday\n",
       "9                   5    Weekday"
      ]
     },
     "execution_count": 61,
     "metadata": {},
     "output_type": "execute_result"
    }
   ],
   "source": [
    "# Work check\n",
    "df_final_v4[['orders_day_of_week', 'day_bucket']].head(10)"
   ]
  },
  {
   "cell_type": "code",
   "execution_count": 62,
   "id": "0187698b-c439-4e00-9185-d4a5a77f5fc0",
   "metadata": {
    "scrolled": true
   },
   "outputs": [
    {
     "data": {
      "text/html": [
       "<div>\n",
       "<style scoped>\n",
       "    .dataframe tbody tr th:only-of-type {\n",
       "        vertical-align: middle;\n",
       "    }\n",
       "\n",
       "    .dataframe tbody tr th {\n",
       "        vertical-align: top;\n",
       "    }\n",
       "\n",
       "    .dataframe thead th {\n",
       "        text-align: right;\n",
       "    }\n",
       "</style>\n",
       "<table border=\"1\" class=\"dataframe\">\n",
       "  <thead>\n",
       "    <tr style=\"text-align: right;\">\n",
       "      <th></th>\n",
       "      <th>order_hour_of_day</th>\n",
       "      <th>hour_bucket</th>\n",
       "    </tr>\n",
       "  </thead>\n",
       "  <tbody>\n",
       "    <tr>\n",
       "      <th>0</th>\n",
       "      <td>9</td>\n",
       "      <td>Morning</td>\n",
       "    </tr>\n",
       "    <tr>\n",
       "      <th>1</th>\n",
       "      <td>9</td>\n",
       "      <td>Morning</td>\n",
       "    </tr>\n",
       "    <tr>\n",
       "      <th>2</th>\n",
       "      <td>9</td>\n",
       "      <td>Morning</td>\n",
       "    </tr>\n",
       "    <tr>\n",
       "      <th>3</th>\n",
       "      <td>9</td>\n",
       "      <td>Morning</td>\n",
       "    </tr>\n",
       "    <tr>\n",
       "      <th>4</th>\n",
       "      <td>9</td>\n",
       "      <td>Morning</td>\n",
       "    </tr>\n",
       "    <tr>\n",
       "      <th>5</th>\n",
       "      <td>9</td>\n",
       "      <td>Morning</td>\n",
       "    </tr>\n",
       "    <tr>\n",
       "      <th>6</th>\n",
       "      <td>9</td>\n",
       "      <td>Morning</td>\n",
       "    </tr>\n",
       "    <tr>\n",
       "      <th>7</th>\n",
       "      <td>9</td>\n",
       "      <td>Morning</td>\n",
       "    </tr>\n",
       "    <tr>\n",
       "      <th>8</th>\n",
       "      <td>9</td>\n",
       "      <td>Morning</td>\n",
       "    </tr>\n",
       "    <tr>\n",
       "      <th>9</th>\n",
       "      <td>17</td>\n",
       "      <td>Evening</td>\n",
       "    </tr>\n",
       "  </tbody>\n",
       "</table>\n",
       "</div>"
      ],
      "text/plain": [
       "   order_hour_of_day hour_bucket\n",
       "0                  9     Morning\n",
       "1                  9     Morning\n",
       "2                  9     Morning\n",
       "3                  9     Morning\n",
       "4                  9     Morning\n",
       "5                  9     Morning\n",
       "6                  9     Morning\n",
       "7                  9     Morning\n",
       "8                  9     Morning\n",
       "9                 17     Evening"
      ]
     },
     "execution_count": 62,
     "metadata": {},
     "output_type": "execute_result"
    }
   ],
   "source": [
    "# Work check\n",
    "df_final_v4[['order_hour_of_day', 'hour_bucket']].head(10)"
   ]
  },
  {
   "cell_type": "code",
   "execution_count": 63,
   "id": "11b1b47f-249a-4326-9c32-0dd7d0a83443",
   "metadata": {},
   "outputs": [],
   "source": [
    "# Create peak hours flag\n",
    "peak_hours = [10, 11, 13, 14, 15]\n",
    "df_final_v4['peak_hour_flag'] = df_final_v4['order_hour_of_day'].apply(lambda x: 1 if x in peak_hours else 0)"
   ]
  },
  {
   "cell_type": "code",
   "execution_count": 64,
   "id": "33a8e31d-e939-4729-94ce-f5ce90b6d09e",
   "metadata": {},
   "outputs": [],
   "source": [
    "# Create quiet day flag\n",
    "quiet_days = [3, 4]  # Tuesday, Wednesday\n",
    "df_final_v4['quiet_day_flag'] = df_final_v4['orders_day_of_week'].apply(lambda x: 1 if x in quiet_days else 0)"
   ]
  },
  {
   "cell_type": "code",
   "execution_count": 65,
   "id": "9d9f015f-d2bf-422f-ad0c-855f14d87335",
   "metadata": {},
   "outputs": [],
   "source": [
    "# Agg time traits per customer\n",
    "time_traits = df_final_v4.groupby('user_id')[['hour_bucket', 'day_bucket', 'peak_hour_flag', 'quiet_day_flag']].agg(lambda x: x.mode()[0]).reset_index()"
   ]
  },
  {
   "cell_type": "code",
   "execution_count": 66,
   "id": "b164b801-7cab-4f02-8fef-08439890ebf9",
   "metadata": {},
   "outputs": [],
   "source": [
    "# Merge the time traits into customer_summary\n",
    "customer_summary = customer_summary.merge(time_traits, on='user_id', how='left')"
   ]
  },
  {
   "cell_type": "code",
   "execution_count": 67,
   "id": "affe73d6-6d6c-4124-8883-bbdc34805065",
   "metadata": {},
   "outputs": [
    {
     "data": {
      "text/html": [
       "<div>\n",
       "<style scoped>\n",
       "    .dataframe tbody tr th:only-of-type {\n",
       "        vertical-align: middle;\n",
       "    }\n",
       "\n",
       "    .dataframe tbody tr th {\n",
       "        vertical-align: top;\n",
       "    }\n",
       "\n",
       "    .dataframe thead th {\n",
       "        text-align: right;\n",
       "    }\n",
       "</style>\n",
       "<table border=\"1\" class=\"dataframe\">\n",
       "  <thead>\n",
       "    <tr style=\"text-align: right;\">\n",
       "      <th></th>\n",
       "      <th>order_hour_of_day</th>\n",
       "      <th>hour_bucket</th>\n",
       "      <th>orders_day_of_week</th>\n",
       "      <th>day_bucket</th>\n",
       "    </tr>\n",
       "  </thead>\n",
       "  <tbody>\n",
       "    <tr>\n",
       "      <th>0</th>\n",
       "      <td>9</td>\n",
       "      <td>Morning</td>\n",
       "      <td>5</td>\n",
       "      <td>Weekday</td>\n",
       "    </tr>\n",
       "    <tr>\n",
       "      <th>1</th>\n",
       "      <td>9</td>\n",
       "      <td>Morning</td>\n",
       "      <td>5</td>\n",
       "      <td>Weekday</td>\n",
       "    </tr>\n",
       "    <tr>\n",
       "      <th>2</th>\n",
       "      <td>9</td>\n",
       "      <td>Morning</td>\n",
       "      <td>5</td>\n",
       "      <td>Weekday</td>\n",
       "    </tr>\n",
       "    <tr>\n",
       "      <th>3</th>\n",
       "      <td>9</td>\n",
       "      <td>Morning</td>\n",
       "      <td>5</td>\n",
       "      <td>Weekday</td>\n",
       "    </tr>\n",
       "    <tr>\n",
       "      <th>4</th>\n",
       "      <td>9</td>\n",
       "      <td>Morning</td>\n",
       "      <td>5</td>\n",
       "      <td>Weekday</td>\n",
       "    </tr>\n",
       "    <tr>\n",
       "      <th>5</th>\n",
       "      <td>9</td>\n",
       "      <td>Morning</td>\n",
       "      <td>5</td>\n",
       "      <td>Weekday</td>\n",
       "    </tr>\n",
       "    <tr>\n",
       "      <th>6</th>\n",
       "      <td>9</td>\n",
       "      <td>Morning</td>\n",
       "      <td>5</td>\n",
       "      <td>Weekday</td>\n",
       "    </tr>\n",
       "    <tr>\n",
       "      <th>7</th>\n",
       "      <td>9</td>\n",
       "      <td>Morning</td>\n",
       "      <td>5</td>\n",
       "      <td>Weekday</td>\n",
       "    </tr>\n",
       "    <tr>\n",
       "      <th>8</th>\n",
       "      <td>9</td>\n",
       "      <td>Morning</td>\n",
       "      <td>5</td>\n",
       "      <td>Weekday</td>\n",
       "    </tr>\n",
       "    <tr>\n",
       "      <th>9</th>\n",
       "      <td>17</td>\n",
       "      <td>Evening</td>\n",
       "      <td>5</td>\n",
       "      <td>Weekday</td>\n",
       "    </tr>\n",
       "  </tbody>\n",
       "</table>\n",
       "</div>"
      ],
      "text/plain": [
       "   order_hour_of_day hour_bucket  orders_day_of_week day_bucket\n",
       "0                  9     Morning                   5    Weekday\n",
       "1                  9     Morning                   5    Weekday\n",
       "2                  9     Morning                   5    Weekday\n",
       "3                  9     Morning                   5    Weekday\n",
       "4                  9     Morning                   5    Weekday\n",
       "5                  9     Morning                   5    Weekday\n",
       "6                  9     Morning                   5    Weekday\n",
       "7                  9     Morning                   5    Weekday\n",
       "8                  9     Morning                   5    Weekday\n",
       "9                 17     Evening                   5    Weekday"
      ]
     },
     "execution_count": 67,
     "metadata": {},
     "output_type": "execute_result"
    }
   ],
   "source": [
    "# Work check\n",
    "df_final_v4[['order_hour_of_day', 'hour_bucket', 'orders_day_of_week', 'day_bucket']].head(10)"
   ]
  },
  {
   "cell_type": "code",
   "execution_count": 68,
   "id": "dd32f2b4-f888-4fe8-a73b-605f8b1fd617",
   "metadata": {},
   "outputs": [
    {
     "data": {
      "text/plain": [
       "peak_hour_flag  quiet_day_flag\n",
       "0               0                 14324007\n",
       "1               0                 10480542\n",
       "0               1                  4589004\n",
       "1               1                  3042646\n",
       "Name: count, dtype: int64"
      ]
     },
     "execution_count": 68,
     "metadata": {},
     "output_type": "execute_result"
    }
   ],
   "source": [
    "# Work check\n",
    "df_final_v4[['peak_hour_flag', 'quiet_day_flag']].value_counts()"
   ]
  },
  {
   "cell_type": "code",
   "execution_count": 69,
   "id": "94bb1780-59e8-46f8-82d4-53c6b64dfdba",
   "metadata": {},
   "outputs": [
    {
     "data": {
      "text/html": [
       "<div>\n",
       "<style scoped>\n",
       "    .dataframe tbody tr th:only-of-type {\n",
       "        vertical-align: middle;\n",
       "    }\n",
       "\n",
       "    .dataframe tbody tr th {\n",
       "        vertical-align: top;\n",
       "    }\n",
       "\n",
       "    .dataframe thead th {\n",
       "        text-align: right;\n",
       "    }\n",
       "</style>\n",
       "<table border=\"1\" class=\"dataframe\">\n",
       "  <thead>\n",
       "    <tr style=\"text-align: right;\">\n",
       "      <th></th>\n",
       "      <th>user_id</th>\n",
       "      <th>hour_bucket</th>\n",
       "      <th>day_bucket</th>\n",
       "      <th>peak_hour_flag</th>\n",
       "      <th>quiet_day_flag</th>\n",
       "    </tr>\n",
       "  </thead>\n",
       "  <tbody>\n",
       "    <tr>\n",
       "      <th>0</th>\n",
       "      <td>1</td>\n",
       "      <td>Afternoon</td>\n",
       "      <td>Weekday</td>\n",
       "      <td>0</td>\n",
       "      <td>1</td>\n",
       "    </tr>\n",
       "    <tr>\n",
       "      <th>1</th>\n",
       "      <td>2</td>\n",
       "      <td>Morning</td>\n",
       "      <td>Weekday</td>\n",
       "      <td>1</td>\n",
       "      <td>0</td>\n",
       "    </tr>\n",
       "    <tr>\n",
       "      <th>2</th>\n",
       "      <td>3</td>\n",
       "      <td>Afternoon</td>\n",
       "      <td>Weekend</td>\n",
       "      <td>0</td>\n",
       "      <td>0</td>\n",
       "    </tr>\n",
       "    <tr>\n",
       "      <th>3</th>\n",
       "      <td>4</td>\n",
       "      <td>Afternoon</td>\n",
       "      <td>Weekday</td>\n",
       "      <td>1</td>\n",
       "      <td>0</td>\n",
       "    </tr>\n",
       "    <tr>\n",
       "      <th>4</th>\n",
       "      <td>5</td>\n",
       "      <td>Afternoon</td>\n",
       "      <td>Weekend</td>\n",
       "      <td>0</td>\n",
       "      <td>0</td>\n",
       "    </tr>\n",
       "  </tbody>\n",
       "</table>\n",
       "</div>"
      ],
      "text/plain": [
       "   user_id hour_bucket day_bucket  peak_hour_flag  quiet_day_flag\n",
       "0        1   Afternoon    Weekday               0               1\n",
       "1        2     Morning    Weekday               1               0\n",
       "2        3   Afternoon    Weekend               0               0\n",
       "3        4   Afternoon    Weekday               1               0\n",
       "4        5   Afternoon    Weekend               0               0"
      ]
     },
     "execution_count": 69,
     "metadata": {},
     "output_type": "execute_result"
    }
   ],
   "source": [
    "# Work check\n",
    "time_traits.head()"
   ]
  },
  {
   "cell_type": "code",
   "execution_count": 70,
   "id": "dbc77df2-3a87-4aee-846d-47ba7bc33aef",
   "metadata": {
    "scrolled": true
   },
   "outputs": [
    {
     "data": {
      "text/html": [
       "<div>\n",
       "<style scoped>\n",
       "    .dataframe tbody tr th:only-of-type {\n",
       "        vertical-align: middle;\n",
       "    }\n",
       "\n",
       "    .dataframe tbody tr th {\n",
       "        vertical-align: top;\n",
       "    }\n",
       "\n",
       "    .dataframe thead th {\n",
       "        text-align: right;\n",
       "    }\n",
       "</style>\n",
       "<table border=\"1\" class=\"dataframe\">\n",
       "  <thead>\n",
       "    <tr style=\"text-align: right;\">\n",
       "      <th></th>\n",
       "      <th>order_id</th>\n",
       "      <th>product_id</th>\n",
       "      <th>add_to_cart_order</th>\n",
       "      <th>reordered</th>\n",
       "      <th>user_id</th>\n",
       "      <th>order_number</th>\n",
       "      <th>orders_day_of_week</th>\n",
       "      <th>order_hour_of_day</th>\n",
       "      <th>days_since_prior_order</th>\n",
       "      <th>first_order</th>\n",
       "      <th>...</th>\n",
       "      <th>spending_flag</th>\n",
       "      <th>age_group</th>\n",
       "      <th>income_group</th>\n",
       "      <th>dep_group</th>\n",
       "      <th>parent_flag</th>\n",
       "      <th>dept_group</th>\n",
       "      <th>hour_bucket</th>\n",
       "      <th>day_bucket</th>\n",
       "      <th>peak_hour_flag</th>\n",
       "      <th>quiet_day_flag</th>\n",
       "    </tr>\n",
       "  </thead>\n",
       "  <tbody>\n",
       "    <tr>\n",
       "      <th>0</th>\n",
       "      <td>2</td>\n",
       "      <td>33120</td>\n",
       "      <td>1</td>\n",
       "      <td>1</td>\n",
       "      <td>202279</td>\n",
       "      <td>3</td>\n",
       "      <td>5</td>\n",
       "      <td>9</td>\n",
       "      <td>8.0</td>\n",
       "      <td>False</td>\n",
       "      <td>...</td>\n",
       "      <td>Low spender</td>\n",
       "      <td>Older Adult</td>\n",
       "      <td>Middle Income</td>\n",
       "      <td>Many (3+)</td>\n",
       "      <td>Yes</td>\n",
       "      <td>Fresh</td>\n",
       "      <td>Morning</td>\n",
       "      <td>Weekday</td>\n",
       "      <td>0</td>\n",
       "      <td>0</td>\n",
       "    </tr>\n",
       "    <tr>\n",
       "      <th>1</th>\n",
       "      <td>2</td>\n",
       "      <td>28985</td>\n",
       "      <td>2</td>\n",
       "      <td>1</td>\n",
       "      <td>202279</td>\n",
       "      <td>3</td>\n",
       "      <td>5</td>\n",
       "      <td>9</td>\n",
       "      <td>8.0</td>\n",
       "      <td>False</td>\n",
       "      <td>...</td>\n",
       "      <td>Low spender</td>\n",
       "      <td>Older Adult</td>\n",
       "      <td>Middle Income</td>\n",
       "      <td>Many (3+)</td>\n",
       "      <td>Yes</td>\n",
       "      <td>Fresh</td>\n",
       "      <td>Morning</td>\n",
       "      <td>Weekday</td>\n",
       "      <td>0</td>\n",
       "      <td>0</td>\n",
       "    </tr>\n",
       "    <tr>\n",
       "      <th>2</th>\n",
       "      <td>2</td>\n",
       "      <td>9327</td>\n",
       "      <td>3</td>\n",
       "      <td>0</td>\n",
       "      <td>202279</td>\n",
       "      <td>3</td>\n",
       "      <td>5</td>\n",
       "      <td>9</td>\n",
       "      <td>8.0</td>\n",
       "      <td>False</td>\n",
       "      <td>...</td>\n",
       "      <td>Low spender</td>\n",
       "      <td>Older Adult</td>\n",
       "      <td>Middle Income</td>\n",
       "      <td>Many (3+)</td>\n",
       "      <td>Yes</td>\n",
       "      <td>Family</td>\n",
       "      <td>Morning</td>\n",
       "      <td>Weekday</td>\n",
       "      <td>0</td>\n",
       "      <td>0</td>\n",
       "    </tr>\n",
       "    <tr>\n",
       "      <th>3</th>\n",
       "      <td>2</td>\n",
       "      <td>45918</td>\n",
       "      <td>4</td>\n",
       "      <td>1</td>\n",
       "      <td>202279</td>\n",
       "      <td>3</td>\n",
       "      <td>5</td>\n",
       "      <td>9</td>\n",
       "      <td>8.0</td>\n",
       "      <td>False</td>\n",
       "      <td>...</td>\n",
       "      <td>Low spender</td>\n",
       "      <td>Older Adult</td>\n",
       "      <td>Middle Income</td>\n",
       "      <td>Many (3+)</td>\n",
       "      <td>Yes</td>\n",
       "      <td>Family</td>\n",
       "      <td>Morning</td>\n",
       "      <td>Weekday</td>\n",
       "      <td>0</td>\n",
       "      <td>0</td>\n",
       "    </tr>\n",
       "    <tr>\n",
       "      <th>4</th>\n",
       "      <td>2</td>\n",
       "      <td>30035</td>\n",
       "      <td>5</td>\n",
       "      <td>0</td>\n",
       "      <td>202279</td>\n",
       "      <td>3</td>\n",
       "      <td>5</td>\n",
       "      <td>9</td>\n",
       "      <td>8.0</td>\n",
       "      <td>False</td>\n",
       "      <td>...</td>\n",
       "      <td>Low spender</td>\n",
       "      <td>Older Adult</td>\n",
       "      <td>Middle Income</td>\n",
       "      <td>Many (3+)</td>\n",
       "      <td>Yes</td>\n",
       "      <td>Family</td>\n",
       "      <td>Morning</td>\n",
       "      <td>Weekday</td>\n",
       "      <td>0</td>\n",
       "      <td>0</td>\n",
       "    </tr>\n",
       "  </tbody>\n",
       "</table>\n",
       "<p>5 rows × 47 columns</p>\n",
       "</div>"
      ],
      "text/plain": [
       "   order_id  product_id  add_to_cart_order  reordered  user_id  order_number  \\\n",
       "0         2       33120                  1          1   202279             3   \n",
       "1         2       28985                  2          1   202279             3   \n",
       "2         2        9327                  3          0   202279             3   \n",
       "3         2       45918                  4          1   202279             3   \n",
       "4         2       30035                  5          0   202279             3   \n",
       "\n",
       "   orders_day_of_week  order_hour_of_day  days_since_prior_order  first_order  \\\n",
       "0                   5                  9                     8.0        False   \n",
       "1                   5                  9                     8.0        False   \n",
       "2                   5                  9                     8.0        False   \n",
       "3                   5                  9                     8.0        False   \n",
       "4                   5                  9                     8.0        False   \n",
       "\n",
       "   ... spending_flag    age_group   income_group  dep_group parent_flag  \\\n",
       "0  ...   Low spender  Older Adult  Middle Income  Many (3+)         Yes   \n",
       "1  ...   Low spender  Older Adult  Middle Income  Many (3+)         Yes   \n",
       "2  ...   Low spender  Older Adult  Middle Income  Many (3+)         Yes   \n",
       "3  ...   Low spender  Older Adult  Middle Income  Many (3+)         Yes   \n",
       "4  ...   Low spender  Older Adult  Middle Income  Many (3+)         Yes   \n",
       "\n",
       "  dept_group hour_bucket day_bucket  peak_hour_flag quiet_day_flag  \n",
       "0      Fresh     Morning    Weekday               0              0  \n",
       "1      Fresh     Morning    Weekday               0              0  \n",
       "2     Family     Morning    Weekday               0              0  \n",
       "3     Family     Morning    Weekday               0              0  \n",
       "4     Family     Morning    Weekday               0              0  \n",
       "\n",
       "[5 rows x 47 columns]"
      ]
     },
     "execution_count": 70,
     "metadata": {},
     "output_type": "execute_result"
    }
   ],
   "source": [
    "df_final_v4.head()"
   ]
  },
  {
   "cell_type": "markdown",
   "id": "0a72aece-57ad-4749-a77c-8777c88a6522",
   "metadata": {},
   "source": [
    "### Time Portfilo"
   ]
  },
  {
   "cell_type": "code",
   "execution_count": 71,
   "id": "bad54d0a-3b87-49db-8f7d-46839e8bffe0",
   "metadata": {},
   "outputs": [],
   "source": [
    "# Create time portfilo labels \n",
    "def assign_time_profile(row):\n",
    "    if row['day_bucket'] == 'Weekend' and row['peak_hour_flag'] == 1:\n",
    "        return 'Weekend Peak Shopper'\n",
    "    elif row['day_bucket'] == 'Weekday' and row['hour_bucket'] == 'Evening':\n",
    "        return 'Evening Weekday Shopper'\n",
    "    elif row['day_bucket'] == 'Weekday' and row['hour_bucket'] == 'Morning':\n",
    "        return 'Weekday Morning Regular'\n",
    "    elif row['quiet_day_flag'] == 1:\n",
    "        return 'Quiet-Time Shopper'\n",
    "    else:\n",
    "        return 'Mixed-Time Shopper'"
   ]
  },
  {
   "cell_type": "code",
   "execution_count": 72,
   "id": "8c57fe73-edcf-4da4-9ef7-61668dbab973",
   "metadata": {},
   "outputs": [],
   "source": [
    "# Assign labels per customer\n",
    "customer_summary['time_profile'] = customer_summary.apply(assign_time_profile, axis=1)"
   ]
  },
  {
   "cell_type": "markdown",
   "id": "c811c60a-88c2-43ec-a55f-ac92f39d02e2",
   "metadata": {},
   "source": [
    "### Customer Type Labels"
   ]
  },
  {
   "cell_type": "code",
   "execution_count": 73,
   "id": "f260c6bb-faaa-4de8-83d4-fcf7c26c6a80",
   "metadata": {},
   "outputs": [],
   "source": [
    "# Creates a customer type label based on age group, income level, and parent status\n",
    "def customer_type(row):\n",
    "    if row['parent_flag'] == 'Yes' and row['income_group'] in ['High Income', 'Very High Income']:\n",
    "        return 'Affluent Parent'\n",
    "    elif row['age_group'] == 'Young Adult':\n",
    "        return 'Young Adult Shopper'\n",
    "    elif row['age_group'] == 'Midlife Adult':\n",
    "        return 'Midlife Shopper'\n",
    "    else:\n",
    "        return 'General Customer'"
   ]
  },
  {
   "cell_type": "code",
   "execution_count": 74,
   "id": "ec09e5f6-38f5-4544-b541-bc795a444b8c",
   "metadata": {},
   "outputs": [],
   "source": [
    "# Assign the labels\n",
    "customer_summary['customer_type'] = customer_summary.apply(customer_type, axis=1)"
   ]
  },
  {
   "cell_type": "code",
   "execution_count": 75,
   "id": "3039979d-0b5f-4ebb-b038-3abf8b347eda",
   "metadata": {
    "scrolled": true
   },
   "outputs": [
    {
     "name": "stdout",
     "output_type": "stream",
     "text": [
      "   user_id      age_group      income_group parent_flag     customer_type\n",
      "0        1  Midlife Adult        Low Income         Yes   Midlife Shopper\n",
      "1        2         Senior        Low Income         Yes  General Customer\n",
      "2        3  Midlife Adult     Middle Income         Yes   Midlife Shopper\n",
      "3        4  Midlife Adult        Low Income         Yes   Midlife Shopper\n",
      "4        5         Senior       High Income          No  General Customer\n",
      "5        6    Older Adult       High Income         Yes   Affluent Parent\n",
      "6        7  Midlife Adult     Middle Income         Yes   Midlife Shopper\n",
      "7        8  Midlife Adult     Middle Income         Yes   Midlife Shopper\n",
      "8        9         Senior  Very High Income         Yes   Affluent Parent\n",
      "9       10  Midlife Adult        Low Income         Yes   Midlife Shopper\n"
     ]
    }
   ],
   "source": [
    "# Work check\n",
    "print(customer_summary[['user_id', 'age_group', 'income_group', 'parent_flag', 'customer_type']].head(10))"
   ]
  },
  {
   "cell_type": "markdown",
   "id": "7e36e77f-33d4-411b-ae7d-aa6893f850fc",
   "metadata": {},
   "source": [
    "### Shopper Type Assignment"
   ]
  },
  {
   "cell_type": "code",
   "execution_count": 76,
   "id": "32c04b33-677c-4585-ba5b-f82c31f0233f",
   "metadata": {},
   "outputs": [],
   "source": [
    "# Shopper Type Assignment labels\n",
    "def assign_shopper_type(row):\n",
    "    if row['family_goods_flag'] == 1:\n",
    "        return 'Family-Oriented Shopper'\n",
    "    elif row['fresh_flag'] == 1:\n",
    "        return 'Fresh Food Enthusiast'\n",
    "    elif row['convenience_flag'] == 1:\n",
    "        return 'Convenience Seeker'\n",
    "    elif row['lifestyle_flag'] == 1:\n",
    "        return 'Lifestyle Shopper'\n",
    "    else:\n",
    "        return 'General Shopper'"
   ]
  },
  {
   "cell_type": "code",
   "execution_count": 77,
   "id": "1238a666-c808-4f2c-abc1-c7971f18ae41",
   "metadata": {},
   "outputs": [],
   "source": [
    "# Assign the shopper type labels\n",
    "customer_summary['shopper_type'] = customer_summary.apply(assign_shopper_type, axis=1)"
   ]
  },
  {
   "cell_type": "markdown",
   "id": "8c5f69ee-7faf-4dfb-b3fe-57d6070e7fdf",
   "metadata": {},
   "source": [
    "### Create Persona Column"
   ]
  },
  {
   "cell_type": "code",
   "execution_count": 78,
   "id": "4895b766-c275-413a-88b5-ca78fd90ba8a",
   "metadata": {},
   "outputs": [],
   "source": [
    "# Combine all the previous work into one persona per customer\n",
    "customer_summary['persona'] = (\n",
    "    customer_summary['customer_type'] + ' – ' +\n",
    "    customer_summary['shopper_type'] + ' – ' +\n",
    "    customer_summary['time_profile']\n",
    ")"
   ]
  },
  {
   "cell_type": "code",
   "execution_count": 79,
   "id": "edc47355-e80a-4b0f-9795-6b398ef37ced",
   "metadata": {},
   "outputs": [],
   "source": [
    "# Ensure user_id is string in both\n",
    "df_final_v4['user_id'] = df_final_v4['user_id'].astype(str)\n",
    "customer_summary['user_id'] = customer_summary['user_id'].astype(str)\n",
    "\n",
    "# Create mapping dictionary\n",
    "persona_map = customer_summary.set_index('user_id')['persona'].to_dict()\n",
    "\n",
    "# Add persona column via map (no merge!)\n",
    "df_final_v4['persona'] = df_final_v4['user_id'].map(persona_map)"
   ]
  },
  {
   "cell_type": "code",
   "execution_count": 80,
   "id": "b5a0d5e6-ffe5-4e4c-93be-c24a0a29fcca",
   "metadata": {},
   "outputs": [
    {
     "ename": "KeyboardInterrupt",
     "evalue": "",
     "output_type": "error",
     "traceback": [
      "\u001b[1;31m---------------------------------------------------------------------------\u001b[0m",
      "\u001b[1;31mKeyboardInterrupt\u001b[0m                         Traceback (most recent call last)",
      "Cell \u001b[1;32mIn[80], line 2\u001b[0m\n\u001b[0;32m      1\u001b[0m \u001b[38;5;66;03m# _with_persona\u001b[39;00m\n\u001b[1;32m----> 2\u001b[0m df_final_v4\u001b[38;5;241m.\u001b[39mto_csv(os\u001b[38;5;241m.\u001b[39mpath\u001b[38;5;241m.\u001b[39mjoin(path, \u001b[38;5;124m'\u001b[39m\u001b[38;5;124m02 Data\u001b[39m\u001b[38;5;124m'\u001b[39m, \u001b[38;5;124m'\u001b[39m\u001b[38;5;124mPrepared Data\u001b[39m\u001b[38;5;124m'\u001b[39m, \u001b[38;5;124m'\u001b[39m\u001b[38;5;124mdf_final_v4_with_persona.csv\u001b[39m\u001b[38;5;124m'\u001b[39m), index\u001b[38;5;241m=\u001b[39m\u001b[38;5;28;01mFalse\u001b[39;00m)\n",
      "File \u001b[1;32m~\\anaconda3\\Lib\\site-packages\\pandas\\util\\_decorators.py:333\u001b[0m, in \u001b[0;36mdeprecate_nonkeyword_arguments.<locals>.decorate.<locals>.wrapper\u001b[1;34m(*args, **kwargs)\u001b[0m\n\u001b[0;32m    327\u001b[0m \u001b[38;5;28;01mif\u001b[39;00m \u001b[38;5;28mlen\u001b[39m(args) \u001b[38;5;241m>\u001b[39m num_allow_args:\n\u001b[0;32m    328\u001b[0m     warnings\u001b[38;5;241m.\u001b[39mwarn(\n\u001b[0;32m    329\u001b[0m         msg\u001b[38;5;241m.\u001b[39mformat(arguments\u001b[38;5;241m=\u001b[39m_format_argument_list(allow_args)),\n\u001b[0;32m    330\u001b[0m         \u001b[38;5;167;01mFutureWarning\u001b[39;00m,\n\u001b[0;32m    331\u001b[0m         stacklevel\u001b[38;5;241m=\u001b[39mfind_stack_level(),\n\u001b[0;32m    332\u001b[0m     )\n\u001b[1;32m--> 333\u001b[0m \u001b[38;5;28;01mreturn\u001b[39;00m func(\u001b[38;5;241m*\u001b[39margs, \u001b[38;5;241m*\u001b[39m\u001b[38;5;241m*\u001b[39mkwargs)\n",
      "File \u001b[1;32m~\\anaconda3\\Lib\\site-packages\\pandas\\core\\generic.py:3967\u001b[0m, in \u001b[0;36mNDFrame.to_csv\u001b[1;34m(self, path_or_buf, sep, na_rep, float_format, columns, header, index, index_label, mode, encoding, compression, quoting, quotechar, lineterminator, chunksize, date_format, doublequote, escapechar, decimal, errors, storage_options)\u001b[0m\n\u001b[0;32m   3956\u001b[0m df \u001b[38;5;241m=\u001b[39m \u001b[38;5;28mself\u001b[39m \u001b[38;5;28;01mif\u001b[39;00m \u001b[38;5;28misinstance\u001b[39m(\u001b[38;5;28mself\u001b[39m, ABCDataFrame) \u001b[38;5;28;01melse\u001b[39;00m \u001b[38;5;28mself\u001b[39m\u001b[38;5;241m.\u001b[39mto_frame()\n\u001b[0;32m   3958\u001b[0m formatter \u001b[38;5;241m=\u001b[39m DataFrameFormatter(\n\u001b[0;32m   3959\u001b[0m     frame\u001b[38;5;241m=\u001b[39mdf,\n\u001b[0;32m   3960\u001b[0m     header\u001b[38;5;241m=\u001b[39mheader,\n\u001b[1;32m   (...)\u001b[0m\n\u001b[0;32m   3964\u001b[0m     decimal\u001b[38;5;241m=\u001b[39mdecimal,\n\u001b[0;32m   3965\u001b[0m )\n\u001b[1;32m-> 3967\u001b[0m \u001b[38;5;28;01mreturn\u001b[39;00m DataFrameRenderer(formatter)\u001b[38;5;241m.\u001b[39mto_csv(\n\u001b[0;32m   3968\u001b[0m     path_or_buf,\n\u001b[0;32m   3969\u001b[0m     lineterminator\u001b[38;5;241m=\u001b[39mlineterminator,\n\u001b[0;32m   3970\u001b[0m     sep\u001b[38;5;241m=\u001b[39msep,\n\u001b[0;32m   3971\u001b[0m     encoding\u001b[38;5;241m=\u001b[39mencoding,\n\u001b[0;32m   3972\u001b[0m     errors\u001b[38;5;241m=\u001b[39merrors,\n\u001b[0;32m   3973\u001b[0m     compression\u001b[38;5;241m=\u001b[39mcompression,\n\u001b[0;32m   3974\u001b[0m     quoting\u001b[38;5;241m=\u001b[39mquoting,\n\u001b[0;32m   3975\u001b[0m     columns\u001b[38;5;241m=\u001b[39mcolumns,\n\u001b[0;32m   3976\u001b[0m     index_label\u001b[38;5;241m=\u001b[39mindex_label,\n\u001b[0;32m   3977\u001b[0m     mode\u001b[38;5;241m=\u001b[39mmode,\n\u001b[0;32m   3978\u001b[0m     chunksize\u001b[38;5;241m=\u001b[39mchunksize,\n\u001b[0;32m   3979\u001b[0m     quotechar\u001b[38;5;241m=\u001b[39mquotechar,\n\u001b[0;32m   3980\u001b[0m     date_format\u001b[38;5;241m=\u001b[39mdate_format,\n\u001b[0;32m   3981\u001b[0m     doublequote\u001b[38;5;241m=\u001b[39mdoublequote,\n\u001b[0;32m   3982\u001b[0m     escapechar\u001b[38;5;241m=\u001b[39mescapechar,\n\u001b[0;32m   3983\u001b[0m     storage_options\u001b[38;5;241m=\u001b[39mstorage_options,\n\u001b[0;32m   3984\u001b[0m )\n",
      "File \u001b[1;32m~\\anaconda3\\Lib\\site-packages\\pandas\\io\\formats\\format.py:1014\u001b[0m, in \u001b[0;36mDataFrameRenderer.to_csv\u001b[1;34m(self, path_or_buf, encoding, sep, columns, index_label, mode, compression, quoting, quotechar, lineterminator, chunksize, date_format, doublequote, escapechar, errors, storage_options)\u001b[0m\n\u001b[0;32m    993\u001b[0m     created_buffer \u001b[38;5;241m=\u001b[39m \u001b[38;5;28;01mFalse\u001b[39;00m\n\u001b[0;32m    995\u001b[0m csv_formatter \u001b[38;5;241m=\u001b[39m CSVFormatter(\n\u001b[0;32m    996\u001b[0m     path_or_buf\u001b[38;5;241m=\u001b[39mpath_or_buf,\n\u001b[0;32m    997\u001b[0m     lineterminator\u001b[38;5;241m=\u001b[39mlineterminator,\n\u001b[1;32m   (...)\u001b[0m\n\u001b[0;32m   1012\u001b[0m     formatter\u001b[38;5;241m=\u001b[39m\u001b[38;5;28mself\u001b[39m\u001b[38;5;241m.\u001b[39mfmt,\n\u001b[0;32m   1013\u001b[0m )\n\u001b[1;32m-> 1014\u001b[0m csv_formatter\u001b[38;5;241m.\u001b[39msave()\n\u001b[0;32m   1016\u001b[0m \u001b[38;5;28;01mif\u001b[39;00m created_buffer:\n\u001b[0;32m   1017\u001b[0m     \u001b[38;5;28;01massert\u001b[39;00m \u001b[38;5;28misinstance\u001b[39m(path_or_buf, StringIO)\n",
      "File \u001b[1;32m~\\anaconda3\\Lib\\site-packages\\pandas\\io\\formats\\csvs.py:270\u001b[0m, in \u001b[0;36mCSVFormatter.save\u001b[1;34m(self)\u001b[0m\n\u001b[0;32m    251\u001b[0m \u001b[38;5;28;01mwith\u001b[39;00m get_handle(\n\u001b[0;32m    252\u001b[0m     \u001b[38;5;28mself\u001b[39m\u001b[38;5;241m.\u001b[39mfilepath_or_buffer,\n\u001b[0;32m    253\u001b[0m     \u001b[38;5;28mself\u001b[39m\u001b[38;5;241m.\u001b[39mmode,\n\u001b[1;32m   (...)\u001b[0m\n\u001b[0;32m    258\u001b[0m ) \u001b[38;5;28;01mas\u001b[39;00m handles:\n\u001b[0;32m    259\u001b[0m     \u001b[38;5;66;03m# Note: self.encoding is irrelevant here\u001b[39;00m\n\u001b[0;32m    260\u001b[0m     \u001b[38;5;28mself\u001b[39m\u001b[38;5;241m.\u001b[39mwriter \u001b[38;5;241m=\u001b[39m csvlib\u001b[38;5;241m.\u001b[39mwriter(\n\u001b[0;32m    261\u001b[0m         handles\u001b[38;5;241m.\u001b[39mhandle,\n\u001b[0;32m    262\u001b[0m         lineterminator\u001b[38;5;241m=\u001b[39m\u001b[38;5;28mself\u001b[39m\u001b[38;5;241m.\u001b[39mlineterminator,\n\u001b[1;32m   (...)\u001b[0m\n\u001b[0;32m    267\u001b[0m         quotechar\u001b[38;5;241m=\u001b[39m\u001b[38;5;28mself\u001b[39m\u001b[38;5;241m.\u001b[39mquotechar,\n\u001b[0;32m    268\u001b[0m     )\n\u001b[1;32m--> 270\u001b[0m     \u001b[38;5;28mself\u001b[39m\u001b[38;5;241m.\u001b[39m_save()\n",
      "File \u001b[1;32m~\\anaconda3\\Lib\\site-packages\\pandas\\io\\formats\\csvs.py:275\u001b[0m, in \u001b[0;36mCSVFormatter._save\u001b[1;34m(self)\u001b[0m\n\u001b[0;32m    273\u001b[0m \u001b[38;5;28;01mif\u001b[39;00m \u001b[38;5;28mself\u001b[39m\u001b[38;5;241m.\u001b[39m_need_to_save_header:\n\u001b[0;32m    274\u001b[0m     \u001b[38;5;28mself\u001b[39m\u001b[38;5;241m.\u001b[39m_save_header()\n\u001b[1;32m--> 275\u001b[0m \u001b[38;5;28mself\u001b[39m\u001b[38;5;241m.\u001b[39m_save_body()\n",
      "File \u001b[1;32m~\\anaconda3\\Lib\\site-packages\\pandas\\io\\formats\\csvs.py:313\u001b[0m, in \u001b[0;36mCSVFormatter._save_body\u001b[1;34m(self)\u001b[0m\n\u001b[0;32m    311\u001b[0m \u001b[38;5;28;01mif\u001b[39;00m start_i \u001b[38;5;241m>\u001b[39m\u001b[38;5;241m=\u001b[39m end_i:\n\u001b[0;32m    312\u001b[0m     \u001b[38;5;28;01mbreak\u001b[39;00m\n\u001b[1;32m--> 313\u001b[0m \u001b[38;5;28mself\u001b[39m\u001b[38;5;241m.\u001b[39m_save_chunk(start_i, end_i)\n",
      "File \u001b[1;32m~\\anaconda3\\Lib\\site-packages\\pandas\\io\\formats\\csvs.py:320\u001b[0m, in \u001b[0;36mCSVFormatter._save_chunk\u001b[1;34m(self, start_i, end_i)\u001b[0m\n\u001b[0;32m    317\u001b[0m slicer \u001b[38;5;241m=\u001b[39m \u001b[38;5;28mslice\u001b[39m(start_i, end_i)\n\u001b[0;32m    318\u001b[0m df \u001b[38;5;241m=\u001b[39m \u001b[38;5;28mself\u001b[39m\u001b[38;5;241m.\u001b[39mobj\u001b[38;5;241m.\u001b[39miloc[slicer]\n\u001b[1;32m--> 320\u001b[0m res \u001b[38;5;241m=\u001b[39m df\u001b[38;5;241m.\u001b[39m_get_values_for_csv(\u001b[38;5;241m*\u001b[39m\u001b[38;5;241m*\u001b[39m\u001b[38;5;28mself\u001b[39m\u001b[38;5;241m.\u001b[39m_number_format)\n\u001b[0;32m    321\u001b[0m data \u001b[38;5;241m=\u001b[39m \u001b[38;5;28mlist\u001b[39m(res\u001b[38;5;241m.\u001b[39m_iter_column_arrays())\n\u001b[0;32m    323\u001b[0m ix \u001b[38;5;241m=\u001b[39m \u001b[38;5;28mself\u001b[39m\u001b[38;5;241m.\u001b[39mdata_index[slicer]\u001b[38;5;241m.\u001b[39m_get_values_for_csv(\u001b[38;5;241m*\u001b[39m\u001b[38;5;241m*\u001b[39m\u001b[38;5;28mself\u001b[39m\u001b[38;5;241m.\u001b[39m_number_format)\n",
      "File \u001b[1;32m~\\anaconda3\\Lib\\site-packages\\pandas\\core\\frame.py:1410\u001b[0m, in \u001b[0;36mDataFrame._get_values_for_csv\u001b[1;34m(self, float_format, date_format, decimal, na_rep, quoting)\u001b[0m\n\u001b[0;32m   1400\u001b[0m \u001b[38;5;28;01mdef\u001b[39;00m\u001b[38;5;250m \u001b[39m\u001b[38;5;21m_get_values_for_csv\u001b[39m(\n\u001b[0;32m   1401\u001b[0m     \u001b[38;5;28mself\u001b[39m,\n\u001b[0;32m   1402\u001b[0m     \u001b[38;5;241m*\u001b[39m,\n\u001b[1;32m   (...)\u001b[0m\n\u001b[0;32m   1408\u001b[0m ) \u001b[38;5;241m-\u001b[39m\u001b[38;5;241m>\u001b[39m Self:\n\u001b[0;32m   1409\u001b[0m     \u001b[38;5;66;03m# helper used by to_csv\u001b[39;00m\n\u001b[1;32m-> 1410\u001b[0m     mgr \u001b[38;5;241m=\u001b[39m \u001b[38;5;28mself\u001b[39m\u001b[38;5;241m.\u001b[39m_mgr\u001b[38;5;241m.\u001b[39mget_values_for_csv(\n\u001b[0;32m   1411\u001b[0m         float_format\u001b[38;5;241m=\u001b[39mfloat_format,\n\u001b[0;32m   1412\u001b[0m         date_format\u001b[38;5;241m=\u001b[39mdate_format,\n\u001b[0;32m   1413\u001b[0m         decimal\u001b[38;5;241m=\u001b[39mdecimal,\n\u001b[0;32m   1414\u001b[0m         na_rep\u001b[38;5;241m=\u001b[39mna_rep,\n\u001b[0;32m   1415\u001b[0m         quoting\u001b[38;5;241m=\u001b[39mquoting,\n\u001b[0;32m   1416\u001b[0m     )\n\u001b[0;32m   1417\u001b[0m     \u001b[38;5;66;03m# error: Incompatible return value type (got \"DataFrame\", expected \"Self\")\u001b[39;00m\n\u001b[0;32m   1418\u001b[0m     \u001b[38;5;28;01mreturn\u001b[39;00m \u001b[38;5;28mself\u001b[39m\u001b[38;5;241m.\u001b[39m_constructor_from_mgr(mgr, axes\u001b[38;5;241m=\u001b[39mmgr\u001b[38;5;241m.\u001b[39maxes)\n",
      "File \u001b[1;32m~\\anaconda3\\Lib\\site-packages\\pandas\\core\\internals\\managers.py:466\u001b[0m, in \u001b[0;36mBaseBlockManager.get_values_for_csv\u001b[1;34m(self, float_format, date_format, decimal, na_rep, quoting)\u001b[0m\n\u001b[0;32m    459\u001b[0m \u001b[38;5;28;01mdef\u001b[39;00m\u001b[38;5;250m \u001b[39m\u001b[38;5;21mget_values_for_csv\u001b[39m(\n\u001b[0;32m    460\u001b[0m     \u001b[38;5;28mself\u001b[39m, \u001b[38;5;241m*\u001b[39m, float_format, date_format, decimal, na_rep: \u001b[38;5;28mstr\u001b[39m \u001b[38;5;241m=\u001b[39m \u001b[38;5;124m\"\u001b[39m\u001b[38;5;124mnan\u001b[39m\u001b[38;5;124m\"\u001b[39m, quoting\u001b[38;5;241m=\u001b[39m\u001b[38;5;28;01mNone\u001b[39;00m\n\u001b[0;32m    461\u001b[0m ) \u001b[38;5;241m-\u001b[39m\u001b[38;5;241m>\u001b[39m Self:\n\u001b[0;32m    462\u001b[0m \u001b[38;5;250m    \u001b[39m\u001b[38;5;124;03m\"\"\"\u001b[39;00m\n\u001b[0;32m    463\u001b[0m \u001b[38;5;124;03m    Convert values to native types (strings / python objects) that are used\u001b[39;00m\n\u001b[0;32m    464\u001b[0m \u001b[38;5;124;03m    in formatting (repr / csv).\u001b[39;00m\n\u001b[0;32m    465\u001b[0m \u001b[38;5;124;03m    \"\"\"\u001b[39;00m\n\u001b[1;32m--> 466\u001b[0m     \u001b[38;5;28;01mreturn\u001b[39;00m \u001b[38;5;28mself\u001b[39m\u001b[38;5;241m.\u001b[39mapply(\n\u001b[0;32m    467\u001b[0m         \u001b[38;5;124m\"\u001b[39m\u001b[38;5;124mget_values_for_csv\u001b[39m\u001b[38;5;124m\"\u001b[39m,\n\u001b[0;32m    468\u001b[0m         na_rep\u001b[38;5;241m=\u001b[39mna_rep,\n\u001b[0;32m    469\u001b[0m         quoting\u001b[38;5;241m=\u001b[39mquoting,\n\u001b[0;32m    470\u001b[0m         float_format\u001b[38;5;241m=\u001b[39mfloat_format,\n\u001b[0;32m    471\u001b[0m         date_format\u001b[38;5;241m=\u001b[39mdate_format,\n\u001b[0;32m    472\u001b[0m         decimal\u001b[38;5;241m=\u001b[39mdecimal,\n\u001b[0;32m    473\u001b[0m     )\n",
      "File \u001b[1;32m~\\anaconda3\\Lib\\site-packages\\pandas\\core\\internals\\managers.py:363\u001b[0m, in \u001b[0;36mBaseBlockManager.apply\u001b[1;34m(self, f, align_keys, **kwargs)\u001b[0m\n\u001b[0;32m    361\u001b[0m         applied \u001b[38;5;241m=\u001b[39m b\u001b[38;5;241m.\u001b[39mapply(f, \u001b[38;5;241m*\u001b[39m\u001b[38;5;241m*\u001b[39mkwargs)\n\u001b[0;32m    362\u001b[0m     \u001b[38;5;28;01melse\u001b[39;00m:\n\u001b[1;32m--> 363\u001b[0m         applied \u001b[38;5;241m=\u001b[39m \u001b[38;5;28mgetattr\u001b[39m(b, f)(\u001b[38;5;241m*\u001b[39m\u001b[38;5;241m*\u001b[39mkwargs)\n\u001b[0;32m    364\u001b[0m     result_blocks \u001b[38;5;241m=\u001b[39m extend_blocks(applied, result_blocks)\n\u001b[0;32m    366\u001b[0m out \u001b[38;5;241m=\u001b[39m \u001b[38;5;28mtype\u001b[39m(\u001b[38;5;28mself\u001b[39m)\u001b[38;5;241m.\u001b[39mfrom_blocks(result_blocks, \u001b[38;5;28mself\u001b[39m\u001b[38;5;241m.\u001b[39maxes)\n",
      "File \u001b[1;32m~\\anaconda3\\Lib\\site-packages\\pandas\\core\\internals\\blocks.py:780\u001b[0m, in \u001b[0;36mBlock.get_values_for_csv\u001b[1;34m(self, float_format, date_format, decimal, na_rep, quoting)\u001b[0m\n\u001b[0;32m    775\u001b[0m \u001b[38;5;129m@final\u001b[39m\n\u001b[0;32m    776\u001b[0m \u001b[38;5;28;01mdef\u001b[39;00m\u001b[38;5;250m \u001b[39m\u001b[38;5;21mget_values_for_csv\u001b[39m(\n\u001b[0;32m    777\u001b[0m     \u001b[38;5;28mself\u001b[39m, \u001b[38;5;241m*\u001b[39m, float_format, date_format, decimal, na_rep: \u001b[38;5;28mstr\u001b[39m \u001b[38;5;241m=\u001b[39m \u001b[38;5;124m\"\u001b[39m\u001b[38;5;124mnan\u001b[39m\u001b[38;5;124m\"\u001b[39m, quoting\u001b[38;5;241m=\u001b[39m\u001b[38;5;28;01mNone\u001b[39;00m\n\u001b[0;32m    778\u001b[0m ) \u001b[38;5;241m-\u001b[39m\u001b[38;5;241m>\u001b[39m Block:\n\u001b[0;32m    779\u001b[0m \u001b[38;5;250m    \u001b[39m\u001b[38;5;124;03m\"\"\"convert to our native types format\"\"\"\u001b[39;00m\n\u001b[1;32m--> 780\u001b[0m     result \u001b[38;5;241m=\u001b[39m get_values_for_csv(\n\u001b[0;32m    781\u001b[0m         \u001b[38;5;28mself\u001b[39m\u001b[38;5;241m.\u001b[39mvalues,\n\u001b[0;32m    782\u001b[0m         na_rep\u001b[38;5;241m=\u001b[39mna_rep,\n\u001b[0;32m    783\u001b[0m         quoting\u001b[38;5;241m=\u001b[39mquoting,\n\u001b[0;32m    784\u001b[0m         float_format\u001b[38;5;241m=\u001b[39mfloat_format,\n\u001b[0;32m    785\u001b[0m         date_format\u001b[38;5;241m=\u001b[39mdate_format,\n\u001b[0;32m    786\u001b[0m         decimal\u001b[38;5;241m=\u001b[39mdecimal,\n\u001b[0;32m    787\u001b[0m     )\n\u001b[0;32m    788\u001b[0m     \u001b[38;5;28;01mreturn\u001b[39;00m \u001b[38;5;28mself\u001b[39m\u001b[38;5;241m.\u001b[39mmake_block(result)\n",
      "File \u001b[1;32m~\\anaconda3\\Lib\\site-packages\\pandas\\core\\indexes\\base.py:7864\u001b[0m, in \u001b[0;36mget_values_for_csv\u001b[1;34m(values, date_format, na_rep, quoting, float_format, decimal)\u001b[0m\n\u001b[0;32m   7861\u001b[0m     \u001b[38;5;28;01mreturn\u001b[39;00m new_values\n\u001b[0;32m   7863\u001b[0m \u001b[38;5;28;01melse\u001b[39;00m:\n\u001b[1;32m-> 7864\u001b[0m     mask \u001b[38;5;241m=\u001b[39m isna(values)\n\u001b[0;32m   7865\u001b[0m     itemsize \u001b[38;5;241m=\u001b[39m writers\u001b[38;5;241m.\u001b[39mword_len(na_rep)\n\u001b[0;32m   7867\u001b[0m     \u001b[38;5;28;01mif\u001b[39;00m values\u001b[38;5;241m.\u001b[39mdtype \u001b[38;5;241m!=\u001b[39m _dtype_obj \u001b[38;5;129;01mand\u001b[39;00m \u001b[38;5;129;01mnot\u001b[39;00m quoting \u001b[38;5;129;01mand\u001b[39;00m itemsize:\n",
      "File \u001b[1;32m~\\anaconda3\\Lib\\site-packages\\pandas\\core\\dtypes\\missing.py:178\u001b[0m, in \u001b[0;36misna\u001b[1;34m(obj)\u001b[0m\n\u001b[0;32m    101\u001b[0m \u001b[38;5;28;01mdef\u001b[39;00m\u001b[38;5;250m \u001b[39m\u001b[38;5;21misna\u001b[39m(obj: \u001b[38;5;28mobject\u001b[39m) \u001b[38;5;241m-\u001b[39m\u001b[38;5;241m>\u001b[39m \u001b[38;5;28mbool\u001b[39m \u001b[38;5;241m|\u001b[39m npt\u001b[38;5;241m.\u001b[39mNDArray[np\u001b[38;5;241m.\u001b[39mbool_] \u001b[38;5;241m|\u001b[39m NDFrame:\n\u001b[0;32m    102\u001b[0m \u001b[38;5;250m    \u001b[39m\u001b[38;5;124;03m\"\"\"\u001b[39;00m\n\u001b[0;32m    103\u001b[0m \u001b[38;5;124;03m    Detect missing values for an array-like object.\u001b[39;00m\n\u001b[0;32m    104\u001b[0m \n\u001b[1;32m   (...)\u001b[0m\n\u001b[0;32m    176\u001b[0m \u001b[38;5;124;03m    Name: 1, dtype: bool\u001b[39;00m\n\u001b[0;32m    177\u001b[0m \u001b[38;5;124;03m    \"\"\"\u001b[39;00m\n\u001b[1;32m--> 178\u001b[0m     \u001b[38;5;28;01mreturn\u001b[39;00m _isna(obj)\n",
      "File \u001b[1;32m~\\anaconda3\\Lib\\site-packages\\pandas\\core\\dtypes\\missing.py:207\u001b[0m, in \u001b[0;36m_isna\u001b[1;34m(obj, inf_as_na)\u001b[0m\n\u001b[0;32m    205\u001b[0m     \u001b[38;5;28;01mreturn\u001b[39;00m \u001b[38;5;28;01mFalse\u001b[39;00m\n\u001b[0;32m    206\u001b[0m \u001b[38;5;28;01melif\u001b[39;00m \u001b[38;5;28misinstance\u001b[39m(obj, (np\u001b[38;5;241m.\u001b[39mndarray, ABCExtensionArray)):\n\u001b[1;32m--> 207\u001b[0m     \u001b[38;5;28;01mreturn\u001b[39;00m _isna_array(obj, inf_as_na\u001b[38;5;241m=\u001b[39minf_as_na)\n\u001b[0;32m    208\u001b[0m \u001b[38;5;28;01melif\u001b[39;00m \u001b[38;5;28misinstance\u001b[39m(obj, ABCIndex):\n\u001b[0;32m    209\u001b[0m     \u001b[38;5;66;03m# Try to use cached isna, which also short-circuits for integer dtypes\u001b[39;00m\n\u001b[0;32m    210\u001b[0m     \u001b[38;5;66;03m#  and avoids materializing RangeIndex._values\u001b[39;00m\n\u001b[0;32m    211\u001b[0m     \u001b[38;5;28;01mif\u001b[39;00m \u001b[38;5;129;01mnot\u001b[39;00m obj\u001b[38;5;241m.\u001b[39m_can_hold_na:\n",
      "File \u001b[1;32m~\\anaconda3\\Lib\\site-packages\\pandas\\core\\dtypes\\missing.py:300\u001b[0m, in \u001b[0;36m_isna_array\u001b[1;34m(values, inf_as_na)\u001b[0m\n\u001b[0;32m    298\u001b[0m         result \u001b[38;5;241m=\u001b[39m \u001b[38;5;241m~\u001b[39mnp\u001b[38;5;241m.\u001b[39misfinite(values)\n\u001b[0;32m    299\u001b[0m     \u001b[38;5;28;01melse\u001b[39;00m:\n\u001b[1;32m--> 300\u001b[0m         result \u001b[38;5;241m=\u001b[39m np\u001b[38;5;241m.\u001b[39misnan(values)\n\u001b[0;32m    302\u001b[0m \u001b[38;5;28;01mreturn\u001b[39;00m result\n",
      "\u001b[1;31mKeyboardInterrupt\u001b[0m: "
     ]
    }
   ],
   "source": [
    "# _with_persona\n",
    "df_final_v4.to_csv(os.path.join(path, '02 Data', 'Prepared Data', 'df_final_v4_with_persona.csv'), index=False)"
   ]
  },
  {
   "cell_type": "markdown",
   "id": "9a7642f2-2d3c-4411-9d62-f4a2c5a10648",
   "metadata": {},
   "source": [
    "#### Work Check "
   ]
  },
  {
   "cell_type": "code",
   "execution_count": 81,
   "id": "467552d4-82f0-4576-b1dc-653528f44514",
   "metadata": {
    "scrolled": true
   },
   "outputs": [
    {
     "name": "stdout",
     "output_type": "stream",
     "text": [
      "['user_id', 'age_group', 'income_group', 'dep_group', 'parent_flag', 'family_goods_flag', 'fresh_flag', 'convenience_flag', 'lifestyle_flag', 'other_flag', 'hour_bucket', 'day_bucket', 'peak_hour_flag', 'quiet_day_flag', 'time_profile', 'customer_type', 'shopper_type', 'persona']\n"
     ]
    }
   ],
   "source": [
    "# Total work check\n",
    "print(customer_summary.columns.tolist())"
   ]
  },
  {
   "cell_type": "code",
   "execution_count": 82,
   "id": "00ee31d2-024a-49d7-ac0a-a88be8c1e433",
   "metadata": {
    "scrolled": true
   },
   "outputs": [
    {
     "data": {
      "text/html": [
       "<div>\n",
       "<style scoped>\n",
       "    .dataframe tbody tr th:only-of-type {\n",
       "        vertical-align: middle;\n",
       "    }\n",
       "\n",
       "    .dataframe tbody tr th {\n",
       "        vertical-align: top;\n",
       "    }\n",
       "\n",
       "    .dataframe thead th {\n",
       "        text-align: right;\n",
       "    }\n",
       "</style>\n",
       "<table border=\"1\" class=\"dataframe\">\n",
       "  <thead>\n",
       "    <tr style=\"text-align: right;\">\n",
       "      <th></th>\n",
       "      <th>user_id</th>\n",
       "      <th>customer_type</th>\n",
       "      <th>shopper_type</th>\n",
       "      <th>time_profile</th>\n",
       "      <th>persona</th>\n",
       "    </tr>\n",
       "  </thead>\n",
       "  <tbody>\n",
       "    <tr>\n",
       "      <th>0</th>\n",
       "      <td>1</td>\n",
       "      <td>Midlife Shopper</td>\n",
       "      <td>Family-Oriented Shopper</td>\n",
       "      <td>Quiet-Time Shopper</td>\n",
       "      <td>Midlife Shopper – Family-Oriented Shopper – Qu...</td>\n",
       "    </tr>\n",
       "    <tr>\n",
       "      <th>1</th>\n",
       "      <td>2</td>\n",
       "      <td>General Customer</td>\n",
       "      <td>Family-Oriented Shopper</td>\n",
       "      <td>Weekday Morning Regular</td>\n",
       "      <td>General Customer – Family-Oriented Shopper – W...</td>\n",
       "    </tr>\n",
       "    <tr>\n",
       "      <th>2</th>\n",
       "      <td>3</td>\n",
       "      <td>Midlife Shopper</td>\n",
       "      <td>Family-Oriented Shopper</td>\n",
       "      <td>Mixed-Time Shopper</td>\n",
       "      <td>Midlife Shopper – Family-Oriented Shopper – Mi...</td>\n",
       "    </tr>\n",
       "    <tr>\n",
       "      <th>3</th>\n",
       "      <td>4</td>\n",
       "      <td>Midlife Shopper</td>\n",
       "      <td>Family-Oriented Shopper</td>\n",
       "      <td>Mixed-Time Shopper</td>\n",
       "      <td>Midlife Shopper – Family-Oriented Shopper – Mi...</td>\n",
       "    </tr>\n",
       "    <tr>\n",
       "      <th>4</th>\n",
       "      <td>5</td>\n",
       "      <td>General Customer</td>\n",
       "      <td>Family-Oriented Shopper</td>\n",
       "      <td>Mixed-Time Shopper</td>\n",
       "      <td>General Customer – Family-Oriented Shopper – M...</td>\n",
       "    </tr>\n",
       "    <tr>\n",
       "      <th>5</th>\n",
       "      <td>6</td>\n",
       "      <td>Affluent Parent</td>\n",
       "      <td>Family-Oriented Shopper</td>\n",
       "      <td>Mixed-Time Shopper</td>\n",
       "      <td>Affluent Parent – Family-Oriented Shopper – Mi...</td>\n",
       "    </tr>\n",
       "    <tr>\n",
       "      <th>6</th>\n",
       "      <td>7</td>\n",
       "      <td>Midlife Shopper</td>\n",
       "      <td>Family-Oriented Shopper</td>\n",
       "      <td>Mixed-Time Shopper</td>\n",
       "      <td>Midlife Shopper – Family-Oriented Shopper – Mi...</td>\n",
       "    </tr>\n",
       "    <tr>\n",
       "      <th>7</th>\n",
       "      <td>8</td>\n",
       "      <td>Midlife Shopper</td>\n",
       "      <td>Family-Oriented Shopper</td>\n",
       "      <td>Mixed-Time Shopper</td>\n",
       "      <td>Midlife Shopper – Family-Oriented Shopper – Mi...</td>\n",
       "    </tr>\n",
       "    <tr>\n",
       "      <th>8</th>\n",
       "      <td>9</td>\n",
       "      <td>Affluent Parent</td>\n",
       "      <td>Family-Oriented Shopper</td>\n",
       "      <td>Mixed-Time Shopper</td>\n",
       "      <td>Affluent Parent – Family-Oriented Shopper – Mi...</td>\n",
       "    </tr>\n",
       "    <tr>\n",
       "      <th>9</th>\n",
       "      <td>10</td>\n",
       "      <td>Midlife Shopper</td>\n",
       "      <td>Family-Oriented Shopper</td>\n",
       "      <td>Mixed-Time Shopper</td>\n",
       "      <td>Midlife Shopper – Family-Oriented Shopper – Mi...</td>\n",
       "    </tr>\n",
       "  </tbody>\n",
       "</table>\n",
       "</div>"
      ],
      "text/plain": [
       "  user_id     customer_type             shopper_type             time_profile  \\\n",
       "0       1   Midlife Shopper  Family-Oriented Shopper       Quiet-Time Shopper   \n",
       "1       2  General Customer  Family-Oriented Shopper  Weekday Morning Regular   \n",
       "2       3   Midlife Shopper  Family-Oriented Shopper       Mixed-Time Shopper   \n",
       "3       4   Midlife Shopper  Family-Oriented Shopper       Mixed-Time Shopper   \n",
       "4       5  General Customer  Family-Oriented Shopper       Mixed-Time Shopper   \n",
       "5       6   Affluent Parent  Family-Oriented Shopper       Mixed-Time Shopper   \n",
       "6       7   Midlife Shopper  Family-Oriented Shopper       Mixed-Time Shopper   \n",
       "7       8   Midlife Shopper  Family-Oriented Shopper       Mixed-Time Shopper   \n",
       "8       9   Affluent Parent  Family-Oriented Shopper       Mixed-Time Shopper   \n",
       "9      10   Midlife Shopper  Family-Oriented Shopper       Mixed-Time Shopper   \n",
       "\n",
       "                                             persona  \n",
       "0  Midlife Shopper – Family-Oriented Shopper – Qu...  \n",
       "1  General Customer – Family-Oriented Shopper – W...  \n",
       "2  Midlife Shopper – Family-Oriented Shopper – Mi...  \n",
       "3  Midlife Shopper – Family-Oriented Shopper – Mi...  \n",
       "4  General Customer – Family-Oriented Shopper – M...  \n",
       "5  Affluent Parent – Family-Oriented Shopper – Mi...  \n",
       "6  Midlife Shopper – Family-Oriented Shopper – Mi...  \n",
       "7  Midlife Shopper – Family-Oriented Shopper – Mi...  \n",
       "8  Affluent Parent – Family-Oriented Shopper – Mi...  \n",
       "9  Midlife Shopper – Family-Oriented Shopper – Mi...  "
      ]
     },
     "execution_count": 82,
     "metadata": {},
     "output_type": "execute_result"
    }
   ],
   "source": [
    "customer_summary[['user_id', 'customer_type', 'shopper_type', 'time_profile', 'persona']].head(10)"
   ]
  },
  {
   "cell_type": "code",
   "execution_count": 83,
   "id": "31db4019-6c4e-4f00-9eab-1b11f48915c8",
   "metadata": {},
   "outputs": [
    {
     "data": {
      "text/plain": [
       "persona\n",
       "Affluent Parent – Family-Oriented Shopper – Mixed-Time Shopper         34536\n",
       "General Customer – Family-Oriented Shopper – Mixed-Time Shopper        29446\n",
       "Young Adult Shopper – Family-Oriented Shopper – Mixed-Time Shopper     20905\n",
       "Midlife Shopper – Family-Oriented Shopper – Mixed-Time Shopper         19929\n",
       "Affluent Parent – Family-Oriented Shopper – Weekday Morning Regular    12346\n",
       "                                                                       ...  \n",
       "Midlife Shopper – Lifestyle Shopper – Evening Weekday Shopper              2\n",
       "General Customer – Lifestyle Shopper – Weekend Peak Shopper                2\n",
       "Affluent Parent – Lifestyle Shopper – Evening Weekday Shopper              2\n",
       "Midlife Shopper – Lifestyle Shopper – Weekend Peak Shopper                 1\n",
       "Affluent Parent – Lifestyle Shopper – Weekend Peak Shopper                 1\n",
       "Name: count, Length: 100, dtype: int64"
      ]
     },
     "execution_count": 83,
     "metadata": {},
     "output_type": "execute_result"
    }
   ],
   "source": [
    "customer_summary['persona'].value_counts()"
   ]
  },
  {
   "cell_type": "markdown",
   "id": "4ded7428-df29-4b4a-831e-be00e07e9c95",
   "metadata": {},
   "source": [
    "## Question 6"
   ]
  },
  {
   "cell_type": "markdown",
   "id": "eb49c243-eaf4-46d2-865e-17b769f1fbe8",
   "metadata": {},
   "source": [
    "#### Visualization"
   ]
  },
  {
   "cell_type": "code",
   "execution_count": 84,
   "id": "d868a9d5-2d03-4787-a931-361c59f3921b",
   "metadata": {
    "scrolled": true
   },
   "outputs": [
    {
     "name": "stdout",
     "output_type": "stream",
     "text": [
      "persona\n",
      "Affluent Parent – Lifestyle Shopper – Weekend Peak Shopper                 1\n",
      "Midlife Shopper – Lifestyle Shopper – Weekend Peak Shopper                 1\n",
      "Affluent Parent – Lifestyle Shopper – Evening Weekday Shopper              2\n",
      "Midlife Shopper – Lifestyle Shopper – Evening Weekday Shopper              2\n",
      "General Customer – Lifestyle Shopper – Weekend Peak Shopper                2\n",
      "                                                                       ...  \n",
      "Affluent Parent – Family-Oriented Shopper – Weekday Morning Regular    12346\n",
      "Midlife Shopper – Family-Oriented Shopper – Mixed-Time Shopper         19929\n",
      "Young Adult Shopper – Family-Oriented Shopper – Mixed-Time Shopper     20905\n",
      "General Customer – Family-Oriented Shopper – Mixed-Time Shopper        29446\n",
      "Affluent Parent – Family-Oriented Shopper – Mixed-Time Shopper         34536\n",
      "Name: count, Length: 100, dtype: int64\n"
     ]
    }
   ],
   "source": [
    "# Count the number of customers per persona\n",
    "persona_counts = customer_summary['persona'].value_counts().sort_values()\n",
    "print(persona_counts)"
   ]
  },
  {
   "cell_type": "markdown",
   "id": "6d66e707-bb46-45f8-a95f-aa8f9501d64a",
   "metadata": {},
   "source": [
    "Since there are 100 different personas I will narrow this number down to the top 10."
   ]
  },
  {
   "cell_type": "code",
   "execution_count": 85,
   "id": "c41d12c5-1ad1-4100-aef8-87011ebd800e",
   "metadata": {},
   "outputs": [],
   "source": [
    "# Top 10 Customer Personas\n",
    "top_personas = customer_summary['persona'].value_counts().sort_values(ascending=False).head(10)"
   ]
  },
  {
   "cell_type": "code",
   "execution_count": 86,
   "id": "ccd6f483-192c-4d88-9397-ab9a7efc3603",
   "metadata": {},
   "outputs": [
    {
     "data": {
      "image/png": "[encoded data removed]",
      "text/plain": [
       "<Figure size 1200x600 with 1 Axes>"
      ]
     },
     "metadata": {},
     "output_type": "display_data"
    }
   ],
   "source": [
    "# Creating the horizontal bar chart\n",
    "plt.figure(figsize=(12, 6))\n",
    "ax = sns.barplot(\n",
    "    x=top_personas.values,\n",
    "    y=top_personas.index,\n",
    "    hue=top_personas.index,\n",
    "    dodge=False,\n",
    "    palette='Blues_r',\n",
    "    legend=False\n",
    ")\n",
    "\n",
    "# Annotate bars\n",
    "for i, value in enumerate(top_personas.values):\n",
    "    ax.text(value + 200, i, str(value), va='center', fontsize=10)\n",
    "\n",
    "# Labels and title\n",
    "plt.title('Top 10 Customer Personas', fontsize=16)\n",
    "plt.xlabel('Number of Customers', fontsize=12)\n",
    "plt.ylabel('Persona', fontsize=12)\n",
    "\n",
    "# Export chart BEFORE showing it\n",
    "plt.tight_layout()\n",
    "plt.savefig(os.path.join(path, '04 Analysis', 'Visualizations', 'top_10_personas_chart.png'), dpi=300, bbox_inches='tight')\n",
    "\n",
    "# Show chart\n",
    "plt.show()"
   ]
  },
  {
   "cell_type": "markdown",
   "id": "9a16d860-dd03-46ba-bf60-fc53599d0203",
   "metadata": {},
   "source": [
    "## Question 7"
   ]
  },
  {
   "cell_type": "code",
   "execution_count": 87,
   "id": "e5e20474-e609-41bc-9200-26ebe049eb01",
   "metadata": {},
   "outputs": [],
   "source": [
    "# Agg per user\n",
    "user_metrics = df_final_v4.groupby('user_id').agg({\n",
    "    'order_number': ['max', 'mean', 'min'],\n",
    "    'prices': ['sum', 'mean', 'max']\n",
    "}).reset_index()"
   ]
  },
  {
   "cell_type": "code",
   "execution_count": 88,
   "id": "4f508b40-0999-4fde-9798-547882ff408a",
   "metadata": {},
   "outputs": [],
   "source": [
    "# Flatten the column names, the above code is mult leveled\n",
    "user_metrics.columns = ['user_id'] + [f'{col[0]}_{col[1]}' for col in user_metrics.columns[1:]]"
   ]
  },
  {
   "cell_type": "code",
   "execution_count": 89,
   "id": "09426167-fdb5-4bfa-be99-58578792638b",
   "metadata": {},
   "outputs": [],
   "source": [
    "# Merge persona labels\n",
    "user_metrics = user_metrics.merge(\n",
    "    customer_summary[['user_id', 'persona']],\n",
    "    on='user_id',\n",
    "    how='left'\n",
    ")"
   ]
  },
  {
   "cell_type": "code",
   "execution_count": 90,
   "id": "67dc36b4-a485-4e7f-8962-47772f077e66",
   "metadata": {},
   "outputs": [],
   "source": [
    "# Agg by persona\n",
    "persona_metrics = user_metrics.groupby('persona').agg({\n",
    "    'order_number_max': 'max',\n",
    "    'order_number_mean': 'mean',\n",
    "    'order_number_min': 'min',\n",
    "    'prices_sum': 'mean',\n",
    "    'prices_mean': 'mean',\n",
    "    'prices_max': 'max'\n",
    "}).reset_index()"
   ]
  },
  {
   "cell_type": "code",
   "execution_count": 91,
   "id": "ff5f1787-ae1c-44cf-a473-e4cfb6a669b4",
   "metadata": {
    "scrolled": true
   },
   "outputs": [
    {
     "data": {
      "text/html": [
       "<div>\n",
       "<style scoped>\n",
       "    .dataframe tbody tr th:only-of-type {\n",
       "        vertical-align: middle;\n",
       "    }\n",
       "\n",
       "    .dataframe tbody tr th {\n",
       "        vertical-align: top;\n",
       "    }\n",
       "\n",
       "    .dataframe thead th {\n",
       "        text-align: right;\n",
       "    }\n",
       "</style>\n",
       "<table border=\"1\" class=\"dataframe\">\n",
       "  <thead>\n",
       "    <tr style=\"text-align: right;\">\n",
       "      <th></th>\n",
       "      <th>persona</th>\n",
       "      <th>order_number_max</th>\n",
       "      <th>order_number_mean</th>\n",
       "      <th>order_number_min</th>\n",
       "      <th>prices_sum</th>\n",
       "      <th>prices_mean</th>\n",
       "      <th>prices_max</th>\n",
       "    </tr>\n",
       "  </thead>\n",
       "  <tbody>\n",
       "    <tr>\n",
       "      <th>0</th>\n",
       "      <td>Affluent Parent – Convenience Seeker – Evening...</td>\n",
       "      <td>10</td>\n",
       "      <td>2.926916</td>\n",
       "      <td>1</td>\n",
       "      <td>100.133333</td>\n",
       "      <td>8.854062</td>\n",
       "      <td>14.9</td>\n",
       "    </tr>\n",
       "    <tr>\n",
       "      <th>1</th>\n",
       "      <td>Affluent Parent – Convenience Seeker – Mixed-T...</td>\n",
       "      <td>27</td>\n",
       "      <td>4.489687</td>\n",
       "      <td>1</td>\n",
       "      <td>180.085135</td>\n",
       "      <td>8.506878</td>\n",
       "      <td>15.0</td>\n",
       "    </tr>\n",
       "    <tr>\n",
       "      <th>2</th>\n",
       "      <td>Affluent Parent – Convenience Seeker – Quiet-T...</td>\n",
       "      <td>10</td>\n",
       "      <td>3.201541</td>\n",
       "      <td>1</td>\n",
       "      <td>177.835714</td>\n",
       "      <td>8.706555</td>\n",
       "      <td>15.0</td>\n",
       "    </tr>\n",
       "    <tr>\n",
       "      <th>3</th>\n",
       "      <td>Affluent Parent – Convenience Seeker – Weekday...</td>\n",
       "      <td>44</td>\n",
       "      <td>4.013105</td>\n",
       "      <td>1</td>\n",
       "      <td>148.436111</td>\n",
       "      <td>8.584715</td>\n",
       "      <td>15.0</td>\n",
       "    </tr>\n",
       "    <tr>\n",
       "      <th>4</th>\n",
       "      <td>Affluent Parent – Convenience Seeker – Weekend...</td>\n",
       "      <td>6</td>\n",
       "      <td>2.232270</td>\n",
       "      <td>1</td>\n",
       "      <td>99.555556</td>\n",
       "      <td>8.749290</td>\n",
       "      <td>14.9</td>\n",
       "    </tr>\n",
       "    <tr>\n",
       "      <th>5</th>\n",
       "      <td>Affluent Parent – Family-Oriented Shopper – Ev...</td>\n",
       "      <td>99</td>\n",
       "      <td>7.445955</td>\n",
       "      <td>1</td>\n",
       "      <td>1076.415691</td>\n",
       "      <td>8.064998</td>\n",
       "      <td>25.0</td>\n",
       "    </tr>\n",
       "    <tr>\n",
       "      <th>6</th>\n",
       "      <td>Affluent Parent – Family-Oriented Shopper – Mi...</td>\n",
       "      <td>99</td>\n",
       "      <td>9.372482</td>\n",
       "      <td>1</td>\n",
       "      <td>1505.888574</td>\n",
       "      <td>8.054917</td>\n",
       "      <td>25.0</td>\n",
       "    </tr>\n",
       "    <tr>\n",
       "      <th>7</th>\n",
       "      <td>Affluent Parent – Family-Oriented Shopper – Qu...</td>\n",
       "      <td>99</td>\n",
       "      <td>5.457730</td>\n",
       "      <td>1</td>\n",
       "      <td>830.814092</td>\n",
       "      <td>8.065187</td>\n",
       "      <td>25.0</td>\n",
       "    </tr>\n",
       "    <tr>\n",
       "      <th>8</th>\n",
       "      <td>Affluent Parent – Family-Oriented Shopper – We...</td>\n",
       "      <td>99</td>\n",
       "      <td>10.354503</td>\n",
       "      <td>1</td>\n",
       "      <td>1623.390693</td>\n",
       "      <td>8.027849</td>\n",
       "      <td>25.0</td>\n",
       "    </tr>\n",
       "    <tr>\n",
       "      <th>9</th>\n",
       "      <td>Affluent Parent – Family-Oriented Shopper – We...</td>\n",
       "      <td>99</td>\n",
       "      <td>6.520664</td>\n",
       "      <td>1</td>\n",
       "      <td>1165.228339</td>\n",
       "      <td>8.076790</td>\n",
       "      <td>25.0</td>\n",
       "    </tr>\n",
       "  </tbody>\n",
       "</table>\n",
       "</div>"
      ],
      "text/plain": [
       "                                             persona  order_number_max  \\\n",
       "0  Affluent Parent – Convenience Seeker – Evening...                10   \n",
       "1  Affluent Parent – Convenience Seeker – Mixed-T...                27   \n",
       "2  Affluent Parent – Convenience Seeker – Quiet-T...                10   \n",
       "3  Affluent Parent – Convenience Seeker – Weekday...                44   \n",
       "4  Affluent Parent – Convenience Seeker – Weekend...                 6   \n",
       "5  Affluent Parent – Family-Oriented Shopper – Ev...                99   \n",
       "6  Affluent Parent – Family-Oriented Shopper – Mi...                99   \n",
       "7  Affluent Parent – Family-Oriented Shopper – Qu...                99   \n",
       "8  Affluent Parent – Family-Oriented Shopper – We...                99   \n",
       "9  Affluent Parent – Family-Oriented Shopper – We...                99   \n",
       "\n",
       "   order_number_mean  order_number_min   prices_sum  prices_mean  prices_max  \n",
       "0           2.926916                 1   100.133333     8.854062        14.9  \n",
       "1           4.489687                 1   180.085135     8.506878        15.0  \n",
       "2           3.201541                 1   177.835714     8.706555        15.0  \n",
       "3           4.013105                 1   148.436111     8.584715        15.0  \n",
       "4           2.232270                 1    99.555556     8.749290        14.9  \n",
       "5           7.445955                 1  1076.415691     8.064998        25.0  \n",
       "6           9.372482                 1  1505.888574     8.054917        25.0  \n",
       "7           5.457730                 1   830.814092     8.065187        25.0  \n",
       "8          10.354503                 1  1623.390693     8.027849        25.0  \n",
       "9           6.520664                 1  1165.228339     8.076790        25.0  "
      ]
     },
     "execution_count": 91,
     "metadata": {},
     "output_type": "execute_result"
    }
   ],
   "source": [
    "# Work check\n",
    "persona_metrics.head(10)"
   ]
  },
  {
   "cell_type": "markdown",
   "id": "0e6f004e-5fbe-4fe5-b06f-6b91e0bd3319",
   "metadata": {},
   "source": [
    "## Question 8"
   ]
  },
  {
   "cell_type": "markdown",
   "id": "af890b6a-37cb-451a-8882-8e2a13495e7f",
   "metadata": {},
   "source": [
    "#### Merge Needed Columns"
   ]
  },
  {
   "cell_type": "code",
   "execution_count": 92,
   "id": "55e9fd3e-fcc2-46f4-b90f-ec9dac87ae66",
   "metadata": {},
   "outputs": [],
   "source": [
    "# Extract region per user from df_final\n",
    "user_region = df_final_v4[['user_id', 'region']].drop_duplicates()"
   ]
  },
  {
   "cell_type": "code",
   "execution_count": 93,
   "id": "eeeb2bae-8619-4c08-8995-5fdacbb97bba",
   "metadata": {},
   "outputs": [],
   "source": [
    "# Merge region into customer_summary\n",
    "customer_summary = customer_summary.merge(user_region, on='user_id', how='left')"
   ]
  },
  {
   "cell_type": "code",
   "execution_count": 94,
   "id": "f28cc8c5-0171-4e9c-b6de-73ce98521553",
   "metadata": {},
   "outputs": [
    {
     "name": "stdout",
     "output_type": "stream",
     "text": [
      "  user_id                                            persona region\n",
      "0       1  Midlife Shopper – Family-Oriented Shopper – Qu...  South\n",
      "1       2  General Customer – Family-Oriented Shopper – W...   West\n",
      "2       3  Midlife Shopper – Family-Oriented Shopper – Mi...   West\n",
      "3       4  Midlife Shopper – Family-Oriented Shopper – Mi...  South\n",
      "4       5  General Customer – Family-Oriented Shopper – M...   West\n"
     ]
    }
   ],
   "source": [
    "# Work check\n",
    "print(customer_summary[['user_id', 'persona', 'region']].drop_duplicates().head())"
   ]
  },
  {
   "cell_type": "markdown",
   "id": "7c6fa4b1-2efa-4c8e-b49e-2b0eabf88218",
   "metadata": {},
   "source": [
    "#### Count Customers by Region and Persona"
   ]
  },
  {
   "cell_type": "code",
   "execution_count": 95,
   "id": "5fbb0edd-2821-4b3f-a60e-4536be700e9e",
   "metadata": {},
   "outputs": [],
   "source": [
    "# Count how many customers of each persona exist in each region\n",
    "region_profile_counts = customer_summary.groupby(['region', 'persona']).size().reset_index(name='count')"
   ]
  },
  {
   "cell_type": "code",
   "execution_count": 96,
   "id": "dc2724b0-58fd-4a62-a84f-d01aad8514f4",
   "metadata": {},
   "outputs": [
    {
     "data": {
      "text/html": [
       "<div>\n",
       "<style scoped>\n",
       "    .dataframe tbody tr th:only-of-type {\n",
       "        vertical-align: middle;\n",
       "    }\n",
       "\n",
       "    .dataframe tbody tr th {\n",
       "        vertical-align: top;\n",
       "    }\n",
       "\n",
       "    .dataframe thead th {\n",
       "        text-align: right;\n",
       "    }\n",
       "</style>\n",
       "<table border=\"1\" class=\"dataframe\">\n",
       "  <thead>\n",
       "    <tr style=\"text-align: right;\">\n",
       "      <th></th>\n",
       "      <th>region</th>\n",
       "      <th>persona</th>\n",
       "      <th>count</th>\n",
       "    </tr>\n",
       "  </thead>\n",
       "  <tbody>\n",
       "    <tr>\n",
       "      <th>191</th>\n",
       "      <td>South</td>\n",
       "      <td>Affluent Parent – Family-Oriented Shopper – Mi...</td>\n",
       "      <td>11339</td>\n",
       "    </tr>\n",
       "    <tr>\n",
       "      <th>214</th>\n",
       "      <td>South</td>\n",
       "      <td>General Customer – Family-Oriented Shopper – M...</td>\n",
       "      <td>9736</td>\n",
       "    </tr>\n",
       "    <tr>\n",
       "      <th>288</th>\n",
       "      <td>West</td>\n",
       "      <td>Affluent Parent – Family-Oriented Shopper – Mi...</td>\n",
       "      <td>8796</td>\n",
       "    </tr>\n",
       "    <tr>\n",
       "      <th>6</th>\n",
       "      <td>Midwest</td>\n",
       "      <td>Affluent Parent – Family-Oriented Shopper – Mi...</td>\n",
       "      <td>8304</td>\n",
       "    </tr>\n",
       "    <tr>\n",
       "      <th>312</th>\n",
       "      <td>West</td>\n",
       "      <td>General Customer – Family-Oriented Shopper – M...</td>\n",
       "      <td>7528</td>\n",
       "    </tr>\n",
       "    <tr>\n",
       "      <th>263</th>\n",
       "      <td>South</td>\n",
       "      <td>Young Adult Shopper – Family-Oriented Shopper ...</td>\n",
       "      <td>7003</td>\n",
       "    </tr>\n",
       "    <tr>\n",
       "      <th>30</th>\n",
       "      <td>Midwest</td>\n",
       "      <td>General Customer – Family-Oriented Shopper – M...</td>\n",
       "      <td>6901</td>\n",
       "    </tr>\n",
       "    <tr>\n",
       "      <th>238</th>\n",
       "      <td>South</td>\n",
       "      <td>Midlife Shopper – Family-Oriented Shopper – Mi...</td>\n",
       "      <td>6711</td>\n",
       "    </tr>\n",
       "    <tr>\n",
       "      <th>99</th>\n",
       "      <td>Northeast</td>\n",
       "      <td>Affluent Parent – Family-Oriented Shopper – Mi...</td>\n",
       "      <td>6097</td>\n",
       "    </tr>\n",
       "    <tr>\n",
       "      <th>358</th>\n",
       "      <td>West</td>\n",
       "      <td>Young Adult Shopper – Family-Oriented Shopper ...</td>\n",
       "      <td>5457</td>\n",
       "    </tr>\n",
       "  </tbody>\n",
       "</table>\n",
       "</div>"
      ],
      "text/plain": [
       "        region                                            persona  count\n",
       "191      South  Affluent Parent – Family-Oriented Shopper – Mi...  11339\n",
       "214      South  General Customer – Family-Oriented Shopper – M...   9736\n",
       "288       West  Affluent Parent – Family-Oriented Shopper – Mi...   8796\n",
       "6      Midwest  Affluent Parent – Family-Oriented Shopper – Mi...   8304\n",
       "312       West  General Customer – Family-Oriented Shopper – M...   7528\n",
       "263      South  Young Adult Shopper – Family-Oriented Shopper ...   7003\n",
       "30     Midwest  General Customer – Family-Oriented Shopper – M...   6901\n",
       "238      South  Midlife Shopper – Family-Oriented Shopper – Mi...   6711\n",
       "99   Northeast  Affluent Parent – Family-Oriented Shopper – Mi...   6097\n",
       "358       West  Young Adult Shopper – Family-Oriented Shopper ...   5457"
      ]
     },
     "execution_count": 96,
     "metadata": {},
     "output_type": "execute_result"
    }
   ],
   "source": [
    "# Find the top profiles\n",
    "region_profile_counts.sort_values(by='count', ascending=False).head(10)"
   ]
  },
  {
   "cell_type": "markdown",
   "id": "318574e0-15ca-4076-9e84-c91cfe436383",
   "metadata": {},
   "source": [
    "#### Count Customer by Departments and Personas"
   ]
  },
  {
   "cell_type": "code",
   "execution_count": 97,
   "id": "6dfa119b-f117-4677-ad3b-31c36eb207c5",
   "metadata": {},
   "outputs": [],
   "source": [
    "# Count how many times each user interacted with each department\n",
    "user_dept_counts = df_final_v4.groupby(['user_id', 'department']).size().reset_index(name='count')"
   ]
  },
  {
   "cell_type": "code",
   "execution_count": 98,
   "id": "b5f26012-8f38-4cf1-ace2-f8c936453f0d",
   "metadata": {},
   "outputs": [],
   "source": [
    "# Merge persona into the department summary\n",
    "user_dept_counts = user_dept_counts.merge(\n",
    "    customer_summary[['user_id', 'persona']],\n",
    "    on='user_id',\n",
    "    how='left'\n",
    ")"
   ]
  },
  {
   "cell_type": "code",
   "execution_count": 99,
   "id": "3d3ed560-bae6-44af-8a0c-447fcd203b99",
   "metadata": {},
   "outputs": [],
   "source": [
    "# Count total interactions per persona–department combo\n",
    "dept_profile_counts = user_dept_counts.groupby(['department', 'persona'])['count'].sum().reset_index()"
   ]
  },
  {
   "cell_type": "code",
   "execution_count": 100,
   "id": "cb95294c-4a11-41e7-ba43-3b8b586adae6",
   "metadata": {},
   "outputs": [
    {
     "data": {
      "text/html": [
       "<div>\n",
       "<style scoped>\n",
       "    .dataframe tbody tr th:only-of-type {\n",
       "        vertical-align: middle;\n",
       "    }\n",
       "\n",
       "    .dataframe tbody tr th {\n",
       "        vertical-align: top;\n",
       "    }\n",
       "\n",
       "    .dataframe thead th {\n",
       "        text-align: right;\n",
       "    }\n",
       "</style>\n",
       "<table border=\"1\" class=\"dataframe\">\n",
       "  <thead>\n",
       "    <tr style=\"text-align: right;\">\n",
       "      <th></th>\n",
       "      <th>department</th>\n",
       "      <th>persona</th>\n",
       "      <th>count</th>\n",
       "    </tr>\n",
       "  </thead>\n",
       "  <tbody>\n",
       "    <tr>\n",
       "      <th>975</th>\n",
       "      <td>produce</td>\n",
       "      <td>Affluent Parent – Family-Oriented Shopper – Mi...</td>\n",
       "      <td>1947955</td>\n",
       "    </tr>\n",
       "    <tr>\n",
       "      <th>985</th>\n",
       "      <td>produce</td>\n",
       "      <td>General Customer – Family-Oriented Shopper – M...</td>\n",
       "      <td>1448442</td>\n",
       "    </tr>\n",
       "    <tr>\n",
       "      <th>1005</th>\n",
       "      <td>produce</td>\n",
       "      <td>Young Adult Shopper – Family-Oriented Shopper ...</td>\n",
       "      <td>1128118</td>\n",
       "    </tr>\n",
       "    <tr>\n",
       "      <th>403</th>\n",
       "      <td>dairy eggs</td>\n",
       "      <td>Affluent Parent – Family-Oriented Shopper – Mi...</td>\n",
       "      <td>1095408</td>\n",
       "    </tr>\n",
       "    <tr>\n",
       "      <th>995</th>\n",
       "      <td>produce</td>\n",
       "      <td>Midlife Shopper – Family-Oriented Shopper – Mi...</td>\n",
       "      <td>1069211</td>\n",
       "    </tr>\n",
       "    <tr>\n",
       "      <th>413</th>\n",
       "      <td>dairy eggs</td>\n",
       "      <td>General Customer – Family-Oriented Shopper – M...</td>\n",
       "      <td>819571</td>\n",
       "    </tr>\n",
       "    <tr>\n",
       "      <th>977</th>\n",
       "      <td>produce</td>\n",
       "      <td>Affluent Parent – Family-Oriented Shopper – We...</td>\n",
       "      <td>743764</td>\n",
       "    </tr>\n",
       "    <tr>\n",
       "      <th>433</th>\n",
       "      <td>dairy eggs</td>\n",
       "      <td>Young Adult Shopper – Family-Oriented Shopper ...</td>\n",
       "      <td>629326</td>\n",
       "    </tr>\n",
       "    <tr>\n",
       "      <th>423</th>\n",
       "      <td>dairy eggs</td>\n",
       "      <td>Midlife Shopper – Family-Oriented Shopper – Mi...</td>\n",
       "      <td>592377</td>\n",
       "    </tr>\n",
       "    <tr>\n",
       "      <th>987</th>\n",
       "      <td>produce</td>\n",
       "      <td>General Customer – Family-Oriented Shopper – W...</td>\n",
       "      <td>564464</td>\n",
       "    </tr>\n",
       "  </tbody>\n",
       "</table>\n",
       "</div>"
      ],
      "text/plain": [
       "      department                                            persona    count\n",
       "975      produce  Affluent Parent – Family-Oriented Shopper – Mi...  1947955\n",
       "985      produce  General Customer – Family-Oriented Shopper – M...  1448442\n",
       "1005     produce  Young Adult Shopper – Family-Oriented Shopper ...  1128118\n",
       "403   dairy eggs  Affluent Parent – Family-Oriented Shopper – Mi...  1095408\n",
       "995      produce  Midlife Shopper – Family-Oriented Shopper – Mi...  1069211\n",
       "413   dairy eggs  General Customer – Family-Oriented Shopper – M...   819571\n",
       "977      produce  Affluent Parent – Family-Oriented Shopper – We...   743764\n",
       "433   dairy eggs  Young Adult Shopper – Family-Oriented Shopper ...   629326\n",
       "423   dairy eggs  Midlife Shopper – Family-Oriented Shopper – Mi...   592377\n",
       "987      produce  General Customer – Family-Oriented Shopper – W...   564464"
      ]
     },
     "execution_count": 100,
     "metadata": {},
     "output_type": "execute_result"
    }
   ],
   "source": [
    "# Work check\n",
    "dept_profile_counts.sort_values(by='count', ascending=False).head(10)"
   ]
  },
  {
   "cell_type": "markdown",
   "id": "64a12d32-18c7-4fa5-8f28-8d2e6c8bc9eb",
   "metadata": {},
   "source": [
    "## Question 9"
   ]
  },
  {
   "cell_type": "markdown",
   "id": "6657b32e-a122-4296-a6dc-1368bcbe1a82",
   "metadata": {},
   "source": [
    "### Visualization"
   ]
  },
  {
   "cell_type": "markdown",
   "id": "30f37538-31ed-463b-b49b-02a92db484b9",
   "metadata": {},
   "source": [
    "#### Persona Distribution by Region"
   ]
  },
  {
   "cell_type": "code",
   "execution_count": 101,
   "id": "d12e0ca1-f200-46c3-aed0-67fcb187189c",
   "metadata": {
    "scrolled": true
   },
   "outputs": [
    {
     "data": {
      "image/png": "[encoded data removed]",
      "text/plain": [
       "<Figure size 1200x600 with 1 Axes>"
      ]
     },
     "metadata": {},
     "output_type": "display_data"
    }
   ],
   "source": [
    "# Set up the figure\n",
    "plt.figure(figsize=(12, 6))\n",
    "\n",
    "# Barplot of top persona-region combinations\n",
    "top_region_profiles = region_profile_counts.sort_values(by='count', ascending=False).head(10)\n",
    "sns.barplot(data=top_region_profiles, x='region', y='count', hue='persona')\n",
    "\n",
    "# Chart styling\n",
    "plt.title('Top Customer Profiles by Region')\n",
    "plt.xlabel('Region')\n",
    "plt.ylabel('Customer Count')\n",
    "plt.xticks(rotation=45)\n",
    "plt.legend(title='Persona', bbox_to_anchor=(1.05, 1), loc='upper left')\n",
    "plt.tight_layout()\n",
    "\n",
    "# export\n",
    "plt.savefig(os.path.join(path, '04 Analysis', 'Visualizations', 'top_region_profiles.png'), dpi=300)\n",
    "\n",
    "plt.show()"
   ]
  },
  {
   "cell_type": "markdown",
   "id": "6d9cbb83-a1f7-46c4-8b5d-520dc6bb6861",
   "metadata": {},
   "source": [
    "#### Persona Engagement by Department"
   ]
  },
  {
   "cell_type": "code",
   "execution_count": 102,
   "id": "8d1cedbc-5714-43d1-be04-f0c5d9838b2e",
   "metadata": {},
   "outputs": [
    {
     "data": {
      "image/png": "[encoded data removed]",
      "text/plain": [
       "<Figure size 1400x600 with 1 Axes>"
      ]
     },
     "metadata": {},
     "output_type": "display_data"
    }
   ],
   "source": [
    "# Step 1: Get top 10 personas by total order volume\n",
    "top_personas = (\n",
    "    df_final_v4.groupby('persona')['order_id']\n",
    "    .count()\n",
    "    .sort_values(ascending=False)\n",
    "    .head(10)\n",
    "    .index.tolist()\n",
    ")\n",
    "\n",
    "# Step 2: Get top 10 departments overall\n",
    "top_depts = (\n",
    "    df_final_v4.groupby('department')['order_id']\n",
    "    .count()\n",
    "    .sort_values(ascending=False)\n",
    "    .head(10)\n",
    "    .index.tolist()\n",
    ")\n",
    "\n",
    "# Step 3: Filter data to top personas and departments\n",
    "filtered = df_final_v4[\n",
    "    df_final_v4['persona'].isin(top_personas) &\n",
    "    df_final_v4['department'].isin(top_depts)\n",
    "]\n",
    "\n",
    "# Step 4: Aggregate counts\n",
    "dept_profile_counts = (\n",
    "    filtered.groupby(['department', 'persona'])['order_id']\n",
    "    .count()\n",
    "    .reset_index()\n",
    "    .rename(columns={'order_id': 'count'})\n",
    ")\n",
    "\n",
    "# Step 5: Plot grouped vertical bar chart\n",
    "plt.figure(figsize=(14, 6))\n",
    "sns.barplot(data=dept_profile_counts, x='department', y='count', hue='persona')\n",
    "\n",
    "# Step 6: Style chart\n",
    "plt.title('Top 10 Customer Profiles by Department')\n",
    "plt.xlabel('Department')\n",
    "plt.ylabel('Transaction Count')\n",
    "plt.xticks(rotation=45)\n",
    "plt.legend(title='Persona', bbox_to_anchor=(1.05, 1), loc='upper left')\n",
    "plt.tight_layout()\n",
    "\n",
    "# ✅ Step 7: Export chart to Visualizations folder\n",
    "os.makedirs(os.path.join(path, '04 Analysis', 'Visualizations'), exist_ok=True)\n",
    "plt.savefig(\n",
    "    os.path.join(path, '04 Analysis', 'Visualizations', 'top10_personas_by_department_bar.png'),\n",
    "    dpi=300,\n",
    "    bbox_inches='tight'\n",
    ")\n",
    "\n",
    "plt.show()"
   ]
  },
  {
   "cell_type": "code",
   "execution_count": 103,
   "id": "e4752549-ee94-482a-8671-66b8cc603c5b",
   "metadata": {},
   "outputs": [
    {
     "data": {
      "image/png": "[encoded data removed]",
      "text/plain": [
       "<Figure size 1400x600 with 1 Axes>"
      ]
     },
     "metadata": {},
     "output_type": "display_data"
    }
   ],
   "source": [
    "# Set up the figure\n",
    "plt.figure(figsize=(14, 6))\n",
    "\n",
    "# Top persona-department combinations\n",
    "top_dept_profiles = dept_profile_counts.sort_values(by='count', ascending=False).head(10)\n",
    "sns.barplot(data=top_dept_profiles, x='department', y='count', hue='persona')\n",
    "\n",
    "# Chart styling\n",
    "plt.title('Top Customer Profiles by Department')\n",
    "plt.xlabel('Department')\n",
    "plt.ylabel('Transaction Count')\n",
    "plt.xticks(rotation=45)\n",
    "plt.legend(title='Persona', bbox_to_anchor=(1.05, 1), loc='upper left')\n",
    "plt.tight_layout()\n",
    "\n",
    "# export\n",
    "plt.savefig(os.path.join(path, '04 Analysis', 'Visualizations', 'top_cust_profiles_dept.png'), dpi=300)\n",
    "\n",
    "plt.show()"
   ]
  },
  {
   "cell_type": "code",
   "execution_count": null,
   "id": "01a0c474-c45a-4263-840a-5f055861d910",
   "metadata": {},
   "outputs": [],
   "source": [
    "# Step 1: Aggregate top 10 order segments by day and persona\n",
    "treemap_data = (\n",
    "    df_final_v4.groupby(['day_of_week', 'persona'])['order_id']\n",
    "    .count()\n",
    "    .reset_index()\n",
    "    .rename(columns={'order_id': 'order_count'})\n",
    "    .sort_values(by='order_count', ascending=False)\n",
    "    .head(10)\n",
    ")\n",
    "\n",
    "# Step 2: Assign short labels and formatted block labels\n",
    "treemap_data['short_label'] = ['Persona ' + str(i+1) for i in range(len(treemap_data))]\n",
    "treemap_data['block_label'] = treemap_data.apply(\n",
    "    lambda row: f\"{row['short_label']}\\n{row['order_count']:,}\", axis=1\n",
    ")\n",
    "\n",
    "# Step 3: Plot treemap\n",
    "fig, ax = plt.subplots(figsize=(14, 8))\n",
    "squarify.plot(\n",
    "    sizes=treemap_data['order_count'],\n",
    "    label=treemap_data['block_label'],\n",
    "    alpha=0.8,\n",
    "    color=sns.color_palette('Blues', len(treemap_data)),\n",
    "    text_kwargs={'fontsize': 12, 'weight': 'bold'},\n",
    "    ax=ax\n",
    ")\n",
    "\n",
    "# Step 4: Style chart\n",
    "ax.set_title('Top 10 Order Segments by Day and Persona', fontsize=16)\n",
    "ax.axis('off')\n",
    "\n",
    "# Step 5: Build legend text (no counts)\n",
    "legend_lines = [\n",
    "    f\"{row['short_label']}: {row['persona']} ({row['day_of_week']})\"\n",
    "    for _, row in treemap_data.iterrows()\n",
    "]\n",
    "legend_text = '\\n'.join(legend_lines)\n",
    "\n",
    "# Step 6: Add legend outside the treemap (right side)\n",
    "fig.subplots_adjust(right=0.7)  # Make space for legend\n",
    "fig.text(\n",
    "    0.72, 0.5, legend_text,\n",
    "    fontsize=11,\n",
    "    ha='left',\n",
    "    va='center',\n",
    "    bbox=dict(facecolor='white', edgecolor='gray', boxstyle='round,pad=0.5')\n",
    ")\n",
    "\n",
    "# Step 7: Export chart\n",
    "os.makedirs(os.path.join(path, '04 Analysis', 'Visualizations'), exist_ok=True)\n",
    "plt.savefig(\n",
    "    os.path.join(path, '04 Analysis', 'Visualizations', 'top_10_order_segments_treemap_clean_legend.png'),\n",
    "    dpi=300,\n",
    "    bbox_inches='tight'\n",
    ")\n",
    "\n",
    "# Step 8: Show chart\n",
    "plt.show()"
   ]
  }
 ],
 "metadata": {
  "kernelspec": {
   "display_name": "Python 3 (ipykernel)",
   "language": "python",
   "name": "python3"
  },
  "language_info": {
   "codemirror_mode": {
    "name": "ipython",
    "version": 3
   },
   "file_extension": ".py",
   "mimetype": "text/x-python",
   "name": "python",
   "nbconvert_exporter": "python",
   "pygments_lexer": "ipython3",
   "version": "3.13.5"
  }
 },
 "nbformat": 4,
 "nbformat_minor": 5
}
