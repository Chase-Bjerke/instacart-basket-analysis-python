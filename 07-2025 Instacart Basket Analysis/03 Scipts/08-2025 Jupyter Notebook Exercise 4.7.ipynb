{
 "cells": [
  {
   "cell_type": "markdown",
   "id": "29c5573d-c3bc-4de1-a2f4-395c487e2d5c",
   "metadata": {},
   "source": [
    "# Reading Exercise 4.7"
   ]
  },
  {
   "cell_type": "markdown",
   "id": "b20e6aa2-3f4a-4e74-b971-75320094cd19",
   "metadata": {},
   "source": [
    "1. [01 Imports]\n",
    "2. [02 Practice with 1 Million Rows]\n",
    "3. [03 Full Dataset Exploration]"
   ]
  },
  {
   "cell_type": "markdown",
   "id": "537c9971-9d37-4d7d-af9e-bdb35d3803fb",
   "metadata": {},
   "source": [
    "### 01 Imports"
   ]
  },
  {
   "cell_type": "code",
   "execution_count": 4,
   "id": "d3ed7320-ba7e-4972-ab26-77e170fd958e",
   "metadata": {},
   "outputs": [],
   "source": [
    "# Import libraries\n",
    "\n",
    "import pandas as pd\n",
    "import numpy as np\n",
    "import os"
   ]
  },
  {
   "cell_type": "code",
   "execution_count": 5,
   "id": "0f2289c1-a2a1-49fa-963e-92a40bfd2395",
   "metadata": {},
   "outputs": [],
   "source": [
    "# File pathway shortcut\n",
    "path = r'C:\\Users\\Chase\\anaconda_projects\\Exercise 4\\07-2025 Instacart Basket Analysis'"
   ]
  },
  {
   "cell_type": "code",
   "execution_count": 7,
   "id": "71e9628f-95e9-4c82-ad58-3ffc1bfdd1de",
   "metadata": {},
   "outputs": [],
   "source": [
    "# Prepared file - Orders_Products_Merge\n",
    "df_ords_prods_merge = pd.read_pickle(os.path.join(path, '02 Data', 'Prepared Data', 'ords_prods_merge_v1.pkl'))"
   ]
  },
  {
   "cell_type": "code",
   "execution_count": 3,
   "id": "562dc8cc-7cc2-4470-9222-a397574a4573",
   "metadata": {},
   "outputs": [],
   "source": [
    "# Prepared file - Orders_Products_Merge\n",
    "df_ords_prods_merge = pd.read_pickle(os.path.join(path, '02 Data', 'Prepared Data', 'ords_prods_merge.pkl'))"
   ]
  },
  {
   "cell_type": "code",
   "execution_count": 3,
   "id": "3a9a5f1f-fb5b-4fe9-bef9-08bfb66f5e18",
   "metadata": {},
   "outputs": [],
   "source": [
    "# Prepared file - Orders_Products_Merge\n",
    "df_ords_prods_merge = pd.read_pickle(os.path.join(path, '02 Data', 'Prepared Data', 'ords_prods_merge_temp.pkl'))"
   ]
  },
  {
   "cell_type": "code",
   "execution_count": 8,
   "id": "f714b5de-3d07-49b0-9513-686e797a5a6f",
   "metadata": {},
   "outputs": [
    {
     "name": "stdout",
     "output_type": "stream",
     "text": [
      "['order_id', 'product_id', 'add_to_cart_order', 'reordered', 'user_id', 'order_number', 'orders_day_of_week', 'order_hour_of_day', 'days_since_prior_order', 'first_order', 'product_name', 'aisle_id', 'department_id', 'prices', '_merge']\n"
     ]
    }
   ],
   "source": [
    "print(df_ords_prods_merge.columns.tolist())"
   ]
  },
  {
   "cell_type": "code",
   "execution_count": 9,
   "id": "663c6014-1d87-4713-b13b-c022aa371ec5",
   "metadata": {},
   "outputs": [
    {
     "data": {
      "text/plain": [
       "(32435059, 15)"
      ]
     },
     "execution_count": 9,
     "metadata": {},
     "output_type": "execute_result"
    }
   ],
   "source": [
    "df_ords_prods_merge.shape"
   ]
  },
  {
   "cell_type": "code",
   "execution_count": 10,
   "id": "2a278650-594a-4f41-a1ed-df8393f190e1",
   "metadata": {},
   "outputs": [],
   "source": [
    "# Create a subset because the df_ords_prods_merge is very big and will use up too much memory and processing power\n",
    "df = df_ords_prods_merge[:1000000]"
   ]
  },
  {
   "cell_type": "code",
   "execution_count": 11,
   "id": "56574e16-73ab-4319-a506-903ab208e732",
   "metadata": {},
   "outputs": [],
   "source": [
    "# if statement - product price range\n",
    "def price_label(row):\n",
    "\n",
    "  if row['prices'] <= 5:\n",
    "    return 'Low-range product'\n",
    "  elif (row['prices'] > 5) and (row['prices'] <= 15):\n",
    "    return 'Mid-range product'\n",
    "  elif row['prices'] > 15:\n",
    "    return 'High range'\n",
    "  else: return 'Not enough data'"
   ]
  },
  {
   "cell_type": "code",
   "execution_count": 12,
   "id": "8aa09299-9ea7-40d0-8927-7454a5271f08",
   "metadata": {
    "scrolled": true
   },
   "outputs": [
    {
     "name": "stderr",
     "output_type": "stream",
     "text": [
      "C:\\Users\\Chase\\AppData\\Local\\Temp\\ipykernel_10680\\2848743372.py:1: SettingWithCopyWarning: \n",
      "A value is trying to be set on a copy of a slice from a DataFrame.\n",
      "Try using .loc[row_indexer,col_indexer] = value instead\n",
      "\n",
      "See the caveats in the documentation: https://pandas.pydata.org/pandas-docs/stable/user_guide/indexing.html#returning-a-view-versus-a-copy\n",
      "  df['price_range'] = df.apply(price_label, axis=1)\n"
     ]
    }
   ],
   "source": [
    "df['price_range'] = df.apply(price_label, axis=1)"
   ]
  },
  {
   "cell_type": "code",
   "execution_count": 13,
   "id": "11e1f59a-7f64-438a-ae9e-3bc19967b7c5",
   "metadata": {},
   "outputs": [
    {
     "data": {
      "text/plain": [
       "price_range\n",
       "Mid-range product    673753\n",
       "Low-range product    312617\n",
       "High range            12739\n",
       "Not enough data         891\n",
       "Name: count, dtype: int64"
      ]
     },
     "execution_count": 13,
     "metadata": {},
     "output_type": "execute_result"
    }
   ],
   "source": [
    "df['price_range'].value_counts(dropna = False)"
   ]
  },
  {
   "cell_type": "code",
   "execution_count": 14,
   "id": "ed481f65-efa9-487c-9790-75feb121b304",
   "metadata": {},
   "outputs": [
    {
     "data": {
      "text/plain": [
       "25.0"
      ]
     },
     "execution_count": 14,
     "metadata": {},
     "output_type": "execute_result"
    }
   ],
   "source": [
    "df['prices'].max()"
   ]
  },
  {
   "cell_type": "code",
   "execution_count": 15,
   "id": "cfd79406-eca4-448f-bd02-eca71e07e94c",
   "metadata": {},
   "outputs": [
    {
     "name": "stderr",
     "output_type": "stream",
     "text": [
      "C:\\Users\\Chase\\AppData\\Local\\Temp\\ipykernel_10680\\1169838859.py:1: SettingWithCopyWarning: \n",
      "A value is trying to be set on a copy of a slice from a DataFrame.\n",
      "Try using .loc[row_indexer,col_indexer] = value instead\n",
      "\n",
      "See the caveats in the documentation: https://pandas.pydata.org/pandas-docs/stable/user_guide/indexing.html#returning-a-view-versus-a-copy\n",
      "  df.loc[df['prices'] > 15, 'price_range_loc'] = 'High-range product'\n"
     ]
    }
   ],
   "source": [
    "df.loc[df['prices'] > 15, 'price_range_loc'] = 'High-range product'"
   ]
  },
  {
   "cell_type": "code",
   "execution_count": 16,
   "id": "190c6197-cda9-48bf-9a48-68e652ee535e",
   "metadata": {},
   "outputs": [],
   "source": [
    "df.loc[(df['prices'] <= 15) & (df['prices'] > 5), 'price_range_loc'] = 'Mid-range product'"
   ]
  },
  {
   "cell_type": "code",
   "execution_count": 17,
   "id": "f76f2c6b-948c-4867-aac2-13729b2001b2",
   "metadata": {},
   "outputs": [],
   "source": [
    "df.loc[df['prices'] <= 5, 'price_range_loc'] = 'Low-range product'"
   ]
  },
  {
   "cell_type": "code",
   "execution_count": 18,
   "id": "e6ed1533-d1b9-46b4-be33-09891f2e8542",
   "metadata": {},
   "outputs": [
    {
     "data": {
      "text/plain": [
       "price_range\n",
       "Mid-range product    673753\n",
       "Low-range product    312617\n",
       "High range            12739\n",
       "Not enough data         891\n",
       "Name: count, dtype: int64"
      ]
     },
     "execution_count": 18,
     "metadata": {},
     "output_type": "execute_result"
    }
   ],
   "source": [
    "df['price_range'].value_counts(dropna = False)"
   ]
  },
  {
   "cell_type": "code",
   "execution_count": 19,
   "id": "8580d0f8-d021-4abc-addd-a290fb1e8b90",
   "metadata": {},
   "outputs": [],
   "source": [
    "df_ords_prods_merge.loc[df_ords_prods_merge['prices'] > 15, 'price_range_loc'] = 'High-range product'"
   ]
  },
  {
   "cell_type": "markdown",
   "id": "bf57717d-e7de-40cf-a373-d2884603005e",
   "metadata": {},
   "source": [
    "### 03 Full Dataset Exploration"
   ]
  },
  {
   "cell_type": "code",
   "execution_count": 20,
   "id": "4c811ab8-bc9c-4cf3-8832-83a328b7c5e8",
   "metadata": {},
   "outputs": [
    {
     "data": {
      "text/html": [
       "<div>\n",
       "<style scoped>\n",
       "    .dataframe tbody tr th:only-of-type {\n",
       "        vertical-align: middle;\n",
       "    }\n",
       "\n",
       "    .dataframe tbody tr th {\n",
       "        vertical-align: top;\n",
       "    }\n",
       "\n",
       "    .dataframe thead th {\n",
       "        text-align: right;\n",
       "    }\n",
       "</style>\n",
       "<table border=\"1\" class=\"dataframe\">\n",
       "  <thead>\n",
       "    <tr style=\"text-align: right;\">\n",
       "      <th></th>\n",
       "      <th>order_id</th>\n",
       "      <th>product_id</th>\n",
       "      <th>add_to_cart_order</th>\n",
       "      <th>reordered</th>\n",
       "      <th>user_id</th>\n",
       "      <th>order_number</th>\n",
       "      <th>orders_day_of_week</th>\n",
       "      <th>order_hour_of_day</th>\n",
       "      <th>days_since_prior_order</th>\n",
       "      <th>first_order</th>\n",
       "      <th>product_name</th>\n",
       "      <th>aisle_id</th>\n",
       "      <th>department_id</th>\n",
       "      <th>prices</th>\n",
       "      <th>_merge</th>\n",
       "      <th>price_range_loc</th>\n",
       "    </tr>\n",
       "  </thead>\n",
       "  <tbody>\n",
       "    <tr>\n",
       "      <th>0</th>\n",
       "      <td>2</td>\n",
       "      <td>33120</td>\n",
       "      <td>1</td>\n",
       "      <td>1</td>\n",
       "      <td>202279</td>\n",
       "      <td>3</td>\n",
       "      <td>5</td>\n",
       "      <td>9</td>\n",
       "      <td>8.0</td>\n",
       "      <td>False</td>\n",
       "      <td>Organic Egg Whites</td>\n",
       "      <td>86.0</td>\n",
       "      <td>16.0</td>\n",
       "      <td>11.3</td>\n",
       "      <td>both</td>\n",
       "      <td>NaN</td>\n",
       "    </tr>\n",
       "    <tr>\n",
       "      <th>1</th>\n",
       "      <td>2</td>\n",
       "      <td>28985</td>\n",
       "      <td>2</td>\n",
       "      <td>1</td>\n",
       "      <td>202279</td>\n",
       "      <td>3</td>\n",
       "      <td>5</td>\n",
       "      <td>9</td>\n",
       "      <td>8.0</td>\n",
       "      <td>False</td>\n",
       "      <td>Michigan Organic Kale</td>\n",
       "      <td>83.0</td>\n",
       "      <td>4.0</td>\n",
       "      <td>13.4</td>\n",
       "      <td>both</td>\n",
       "      <td>NaN</td>\n",
       "    </tr>\n",
       "    <tr>\n",
       "      <th>2</th>\n",
       "      <td>2</td>\n",
       "      <td>9327</td>\n",
       "      <td>3</td>\n",
       "      <td>0</td>\n",
       "      <td>202279</td>\n",
       "      <td>3</td>\n",
       "      <td>5</td>\n",
       "      <td>9</td>\n",
       "      <td>8.0</td>\n",
       "      <td>False</td>\n",
       "      <td>Garlic Powder</td>\n",
       "      <td>104.0</td>\n",
       "      <td>13.0</td>\n",
       "      <td>3.6</td>\n",
       "      <td>both</td>\n",
       "      <td>NaN</td>\n",
       "    </tr>\n",
       "    <tr>\n",
       "      <th>3</th>\n",
       "      <td>2</td>\n",
       "      <td>45918</td>\n",
       "      <td>4</td>\n",
       "      <td>1</td>\n",
       "      <td>202279</td>\n",
       "      <td>3</td>\n",
       "      <td>5</td>\n",
       "      <td>9</td>\n",
       "      <td>8.0</td>\n",
       "      <td>False</td>\n",
       "      <td>Coconut Butter</td>\n",
       "      <td>19.0</td>\n",
       "      <td>13.0</td>\n",
       "      <td>8.4</td>\n",
       "      <td>both</td>\n",
       "      <td>NaN</td>\n",
       "    </tr>\n",
       "    <tr>\n",
       "      <th>4</th>\n",
       "      <td>2</td>\n",
       "      <td>30035</td>\n",
       "      <td>5</td>\n",
       "      <td>0</td>\n",
       "      <td>202279</td>\n",
       "      <td>3</td>\n",
       "      <td>5</td>\n",
       "      <td>9</td>\n",
       "      <td>8.0</td>\n",
       "      <td>False</td>\n",
       "      <td>Natural Sweetener</td>\n",
       "      <td>17.0</td>\n",
       "      <td>13.0</td>\n",
       "      <td>13.7</td>\n",
       "      <td>both</td>\n",
       "      <td>NaN</td>\n",
       "    </tr>\n",
       "    <tr>\n",
       "      <th>...</th>\n",
       "      <td>...</td>\n",
       "      <td>...</td>\n",
       "      <td>...</td>\n",
       "      <td>...</td>\n",
       "      <td>...</td>\n",
       "      <td>...</td>\n",
       "      <td>...</td>\n",
       "      <td>...</td>\n",
       "      <td>...</td>\n",
       "      <td>...</td>\n",
       "      <td>...</td>\n",
       "      <td>...</td>\n",
       "      <td>...</td>\n",
       "      <td>...</td>\n",
       "      <td>...</td>\n",
       "      <td>...</td>\n",
       "    </tr>\n",
       "    <tr>\n",
       "      <th>32435054</th>\n",
       "      <td>3421083</td>\n",
       "      <td>39678</td>\n",
       "      <td>6</td>\n",
       "      <td>1</td>\n",
       "      <td>25247</td>\n",
       "      <td>24</td>\n",
       "      <td>2</td>\n",
       "      <td>6</td>\n",
       "      <td>21.0</td>\n",
       "      <td>False</td>\n",
       "      <td>Free &amp; Clear Natural Dishwasher Detergent</td>\n",
       "      <td>74.0</td>\n",
       "      <td>17.0</td>\n",
       "      <td>7.1</td>\n",
       "      <td>both</td>\n",
       "      <td>NaN</td>\n",
       "    </tr>\n",
       "    <tr>\n",
       "      <th>32435055</th>\n",
       "      <td>3421083</td>\n",
       "      <td>11352</td>\n",
       "      <td>7</td>\n",
       "      <td>0</td>\n",
       "      <td>25247</td>\n",
       "      <td>24</td>\n",
       "      <td>2</td>\n",
       "      <td>6</td>\n",
       "      <td>21.0</td>\n",
       "      <td>False</td>\n",
       "      <td>Organic Mini Sandwich Crackers Peanut Butter</td>\n",
       "      <td>78.0</td>\n",
       "      <td>19.0</td>\n",
       "      <td>2.8</td>\n",
       "      <td>both</td>\n",
       "      <td>NaN</td>\n",
       "    </tr>\n",
       "    <tr>\n",
       "      <th>32435056</th>\n",
       "      <td>3421083</td>\n",
       "      <td>4600</td>\n",
       "      <td>8</td>\n",
       "      <td>0</td>\n",
       "      <td>25247</td>\n",
       "      <td>24</td>\n",
       "      <td>2</td>\n",
       "      <td>6</td>\n",
       "      <td>21.0</td>\n",
       "      <td>False</td>\n",
       "      <td>All Natural French Toast Sticks</td>\n",
       "      <td>52.0</td>\n",
       "      <td>1.0</td>\n",
       "      <td>5.8</td>\n",
       "      <td>both</td>\n",
       "      <td>NaN</td>\n",
       "    </tr>\n",
       "    <tr>\n",
       "      <th>32435057</th>\n",
       "      <td>3421083</td>\n",
       "      <td>24852</td>\n",
       "      <td>9</td>\n",
       "      <td>1</td>\n",
       "      <td>25247</td>\n",
       "      <td>24</td>\n",
       "      <td>2</td>\n",
       "      <td>6</td>\n",
       "      <td>21.0</td>\n",
       "      <td>False</td>\n",
       "      <td>Banana</td>\n",
       "      <td>24.0</td>\n",
       "      <td>4.0</td>\n",
       "      <td>12.3</td>\n",
       "      <td>both</td>\n",
       "      <td>NaN</td>\n",
       "    </tr>\n",
       "    <tr>\n",
       "      <th>32435058</th>\n",
       "      <td>3421083</td>\n",
       "      <td>5020</td>\n",
       "      <td>10</td>\n",
       "      <td>1</td>\n",
       "      <td>25247</td>\n",
       "      <td>24</td>\n",
       "      <td>2</td>\n",
       "      <td>6</td>\n",
       "      <td>21.0</td>\n",
       "      <td>False</td>\n",
       "      <td>Organic  Sweet &amp; Salty Peanut Pretzel Granola ...</td>\n",
       "      <td>3.0</td>\n",
       "      <td>19.0</td>\n",
       "      <td>3.2</td>\n",
       "      <td>both</td>\n",
       "      <td>NaN</td>\n",
       "    </tr>\n",
       "  </tbody>\n",
       "</table>\n",
       "<p>32435059 rows × 16 columns</p>\n",
       "</div>"
      ],
      "text/plain": [
       "          order_id  product_id  add_to_cart_order  reordered  user_id  \\\n",
       "0                2       33120                  1          1   202279   \n",
       "1                2       28985                  2          1   202279   \n",
       "2                2        9327                  3          0   202279   \n",
       "3                2       45918                  4          1   202279   \n",
       "4                2       30035                  5          0   202279   \n",
       "...            ...         ...                ...        ...      ...   \n",
       "32435054   3421083       39678                  6          1    25247   \n",
       "32435055   3421083       11352                  7          0    25247   \n",
       "32435056   3421083        4600                  8          0    25247   \n",
       "32435057   3421083       24852                  9          1    25247   \n",
       "32435058   3421083        5020                 10          1    25247   \n",
       "\n",
       "          order_number  orders_day_of_week  order_hour_of_day  \\\n",
       "0                    3                   5                  9   \n",
       "1                    3                   5                  9   \n",
       "2                    3                   5                  9   \n",
       "3                    3                   5                  9   \n",
       "4                    3                   5                  9   \n",
       "...                ...                 ...                ...   \n",
       "32435054            24                   2                  6   \n",
       "32435055            24                   2                  6   \n",
       "32435056            24                   2                  6   \n",
       "32435057            24                   2                  6   \n",
       "32435058            24                   2                  6   \n",
       "\n",
       "          days_since_prior_order  first_order  \\\n",
       "0                            8.0        False   \n",
       "1                            8.0        False   \n",
       "2                            8.0        False   \n",
       "3                            8.0        False   \n",
       "4                            8.0        False   \n",
       "...                          ...          ...   \n",
       "32435054                    21.0        False   \n",
       "32435055                    21.0        False   \n",
       "32435056                    21.0        False   \n",
       "32435057                    21.0        False   \n",
       "32435058                    21.0        False   \n",
       "\n",
       "                                               product_name  aisle_id  \\\n",
       "0                                        Organic Egg Whites      86.0   \n",
       "1                                     Michigan Organic Kale      83.0   \n",
       "2                                             Garlic Powder     104.0   \n",
       "3                                            Coconut Butter      19.0   \n",
       "4                                         Natural Sweetener      17.0   \n",
       "...                                                     ...       ...   \n",
       "32435054          Free & Clear Natural Dishwasher Detergent      74.0   \n",
       "32435055       Organic Mini Sandwich Crackers Peanut Butter      78.0   \n",
       "32435056                    All Natural French Toast Sticks      52.0   \n",
       "32435057                                             Banana      24.0   \n",
       "32435058  Organic  Sweet & Salty Peanut Pretzel Granola ...       3.0   \n",
       "\n",
       "          department_id  prices _merge price_range_loc  \n",
       "0                  16.0    11.3   both             NaN  \n",
       "1                   4.0    13.4   both             NaN  \n",
       "2                  13.0     3.6   both             NaN  \n",
       "3                  13.0     8.4   both             NaN  \n",
       "4                  13.0    13.7   both             NaN  \n",
       "...                 ...     ...    ...             ...  \n",
       "32435054           17.0     7.1   both             NaN  \n",
       "32435055           19.0     2.8   both             NaN  \n",
       "32435056            1.0     5.8   both             NaN  \n",
       "32435057            4.0    12.3   both             NaN  \n",
       "32435058           19.0     3.2   both             NaN  \n",
       "\n",
       "[32435059 rows x 16 columns]"
      ]
     },
     "execution_count": 20,
     "metadata": {},
     "output_type": "execute_result"
    }
   ],
   "source": [
    "df_ords_prods_merge"
   ]
  },
  {
   "cell_type": "code",
   "execution_count": 21,
   "id": "689d93cb-107a-4b2c-bbf0-61ed580d88af",
   "metadata": {},
   "outputs": [],
   "source": [
    "# if statement - product price range\n",
    "def price_label(row):\n",
    "\n",
    "  if row['prices'] <= 5:\n",
    "    return 'Low-range product'\n",
    "  elif (row['prices'] > 5) and (row['prices'] <= 15):\n",
    "    return 'Mid-range product'\n",
    "  elif row['prices'] > 15:\n",
    "    return 'High range'\n",
    "  else: return 'Not enough data'"
   ]
  },
  {
   "cell_type": "code",
   "execution_count": 22,
   "id": "189913c1-5b90-49de-91b9-53c308424e96",
   "metadata": {
    "scrolled": true
   },
   "outputs": [],
   "source": [
    "# Create new column for price range\n",
    "df_ords_prods_merge['price_range'] = df_ords_prods_merge.apply(price_label, axis=1)"
   ]
  },
  {
   "cell_type": "code",
   "execution_count": 23,
   "id": "c65f432e-7494-441c-8159-a906e7275fe2",
   "metadata": {},
   "outputs": [
    {
     "data": {
      "text/plain": [
       "price_range\n",
       "Mid-range product    21865987\n",
       "Low-range product    10126321\n",
       "High range             412551\n",
       "Not enough data         30200\n",
       "Name: count, dtype: int64"
      ]
     },
     "execution_count": 23,
     "metadata": {},
     "output_type": "execute_result"
    }
   ],
   "source": [
    "# Data Check\n",
    "df_ords_prods_merge['price_range'].value_counts(dropna=False)"
   ]
  },
  {
   "cell_type": "code",
   "execution_count": 24,
   "id": "0f76f20e-2759-4857-9ffb-185a17b2c842",
   "metadata": {},
   "outputs": [
    {
     "data": {
      "text/plain": [
       "orders_day_of_week\n",
       "0    6209808\n",
       "1    5665951\n",
       "6    4500391\n",
       "2    4217868\n",
       "5    4209603\n",
       "3    3844175\n",
       "4    3787263\n",
       "Name: count, dtype: int64"
      ]
     },
     "execution_count": 24,
     "metadata": {},
     "output_type": "execute_result"
    }
   ],
   "source": [
    "# Orders_day_of_week - Printing the Frequency to see the busiest day\n",
    "df_ords_prods_merge['orders_day_of_week'].value_counts()"
   ]
  },
  {
   "cell_type": "code",
   "execution_count": 25,
   "id": "fd48f639-f06c-4651-90f7-eb340466b01b",
   "metadata": {},
   "outputs": [
    {
     "data": {
      "text/plain": [
       "Index(['order_id', 'product_id', 'add_to_cart_order', 'reordered', 'user_id',\n",
       "       'order_number', 'orders_day_of_week', 'order_hour_of_day',\n",
       "       'days_since_prior_order', 'first_order', 'product_name', 'aisle_id',\n",
       "       'department_id', 'prices', '_merge', 'price_range_loc', 'price_range'],\n",
       "      dtype='object')"
      ]
     },
     "execution_count": 25,
     "metadata": {},
     "output_type": "execute_result"
    }
   ],
   "source": [
    "# Error with order_days_of_week so I need to find the actual header\n",
    "df_ords_prods_merge.columns"
   ]
  },
  {
   "cell_type": "code",
   "execution_count": 26,
   "id": "0ba6ede0-11cf-40d6-8524-94892ad8bc39",
   "metadata": {},
   "outputs": [],
   "source": [
    "result = []\n",
    "\n",
    "for value in df_ords_prods_merge[\"orders_day_of_week\"]:\n",
    "  if value == 0:\n",
    "    result.append(\"Busiest day\")\n",
    "  elif value == 4:\n",
    "    result.append(\"Least busy\")\n",
    "  else:\n",
    "    result.append(\"Regularly busy\")"
   ]
  },
  {
   "cell_type": "code",
   "execution_count": 27,
   "id": "e5771a2e-a668-418b-9fbf-972d8b292085",
   "metadata": {},
   "outputs": [],
   "source": [
    "df_ords_prods_merge['busiest_day'] = result"
   ]
  },
  {
   "cell_type": "code",
   "execution_count": 28,
   "id": "dfa1d118-f3fd-4551-9427-0d9b4e091a90",
   "metadata": {},
   "outputs": [
    {
     "data": {
      "text/plain": [
       "busiest_day\n",
       "Regularly busy    22437988\n",
       "Busiest day        6209808\n",
       "Least busy         3787263\n",
       "Name: count, dtype: int64"
      ]
     },
     "execution_count": 28,
     "metadata": {},
     "output_type": "execute_result"
    }
   ],
   "source": [
    "df_ords_prods_merge['busiest_day'].value_counts(dropna = False)"
   ]
  },
  {
   "cell_type": "code",
   "execution_count": 29,
   "id": "bc9836e1-f3b1-4495-a8cf-5af292bc8454",
   "metadata": {},
   "outputs": [
    {
     "name": "stdout",
     "output_type": "stream",
     "text": [
      "['order_id', 'product_id', 'add_to_cart_order', 'reordered', 'user_id', 'order_number', 'orders_day_of_week', 'order_hour_of_day', 'days_since_prior_order', 'first_order', 'product_name', 'aisle_id', 'department_id', 'prices', '_merge', 'price_range_loc', 'price_range', 'busiest_day']\n"
     ]
    }
   ],
   "source": [
    "print(df_ords_prods_merge.columns.tolist())"
   ]
  },
  {
   "cell_type": "markdown",
   "id": "94e97842-29ce-4499-a74e-e38a1d73f971",
   "metadata": {},
   "source": [
    "# Exercise 4.7"
   ]
  },
  {
   "cell_type": "markdown",
   "id": "525bcc40-ceec-4320-a139-a5e5de110ea0",
   "metadata": {},
   "source": [
    "4. [Data Wrangling/Cleaning]\n",
    "5. [01 Drop Duplicates]\n",
    "6. [Instacart Buesiest Hours/Days]\n",
    "7. [02 Categorize Busiest Days]\n",
    "8. [03 Label Busiest Hours]\n",
    "9. [04 Export Cleaned Dataset]"
   ]
  },
  {
   "cell_type": "markdown",
   "id": "b82e07cb-7c4d-47fb-bee8-e96abdb65813",
   "metadata": {},
   "source": [
    "## Data Wrangling/Cleaning"
   ]
  },
  {
   "cell_type": "markdown",
   "id": "84d6171d-ca03-4d67-a46b-037cc6c236f0",
   "metadata": {},
   "source": [
    "### 01 Dropping Duplicate"
   ]
  },
  {
   "cell_type": "code",
   "execution_count": 30,
   "id": "a3d08035-02ff-4229-a9f3-45332d0c8d2c",
   "metadata": {},
   "outputs": [],
   "source": [
    "# Dropping price_range_loc because it's a duplicate of price_range\n",
    "df_ords_prods_merge = df_ords_prods_merge.drop(columns='price_range_loc')"
   ]
  },
  {
   "cell_type": "code",
   "execution_count": 31,
   "id": "dfb32cac-8e56-4c80-96cb-5c3a632abaad",
   "metadata": {},
   "outputs": [
    {
     "data": {
      "text/html": [
       "<div>\n",
       "<style scoped>\n",
       "    .dataframe tbody tr th:only-of-type {\n",
       "        vertical-align: middle;\n",
       "    }\n",
       "\n",
       "    .dataframe tbody tr th {\n",
       "        vertical-align: top;\n",
       "    }\n",
       "\n",
       "    .dataframe thead th {\n",
       "        text-align: right;\n",
       "    }\n",
       "</style>\n",
       "<table border=\"1\" class=\"dataframe\">\n",
       "  <thead>\n",
       "    <tr style=\"text-align: right;\">\n",
       "      <th></th>\n",
       "      <th>order_id</th>\n",
       "      <th>product_id</th>\n",
       "      <th>add_to_cart_order</th>\n",
       "      <th>reordered</th>\n",
       "      <th>user_id</th>\n",
       "      <th>order_number</th>\n",
       "      <th>orders_day_of_week</th>\n",
       "      <th>order_hour_of_day</th>\n",
       "      <th>days_since_prior_order</th>\n",
       "      <th>first_order</th>\n",
       "      <th>product_name</th>\n",
       "      <th>aisle_id</th>\n",
       "      <th>department_id</th>\n",
       "      <th>prices</th>\n",
       "      <th>_merge</th>\n",
       "      <th>price_range</th>\n",
       "      <th>busiest_day</th>\n",
       "    </tr>\n",
       "  </thead>\n",
       "  <tbody>\n",
       "    <tr>\n",
       "      <th>0</th>\n",
       "      <td>2</td>\n",
       "      <td>33120</td>\n",
       "      <td>1</td>\n",
       "      <td>1</td>\n",
       "      <td>202279</td>\n",
       "      <td>3</td>\n",
       "      <td>5</td>\n",
       "      <td>9</td>\n",
       "      <td>8.0</td>\n",
       "      <td>False</td>\n",
       "      <td>Organic Egg Whites</td>\n",
       "      <td>86.0</td>\n",
       "      <td>16.0</td>\n",
       "      <td>11.3</td>\n",
       "      <td>both</td>\n",
       "      <td>Mid-range product</td>\n",
       "      <td>Regularly busy</td>\n",
       "    </tr>\n",
       "    <tr>\n",
       "      <th>1</th>\n",
       "      <td>2</td>\n",
       "      <td>28985</td>\n",
       "      <td>2</td>\n",
       "      <td>1</td>\n",
       "      <td>202279</td>\n",
       "      <td>3</td>\n",
       "      <td>5</td>\n",
       "      <td>9</td>\n",
       "      <td>8.0</td>\n",
       "      <td>False</td>\n",
       "      <td>Michigan Organic Kale</td>\n",
       "      <td>83.0</td>\n",
       "      <td>4.0</td>\n",
       "      <td>13.4</td>\n",
       "      <td>both</td>\n",
       "      <td>Mid-range product</td>\n",
       "      <td>Regularly busy</td>\n",
       "    </tr>\n",
       "    <tr>\n",
       "      <th>2</th>\n",
       "      <td>2</td>\n",
       "      <td>9327</td>\n",
       "      <td>3</td>\n",
       "      <td>0</td>\n",
       "      <td>202279</td>\n",
       "      <td>3</td>\n",
       "      <td>5</td>\n",
       "      <td>9</td>\n",
       "      <td>8.0</td>\n",
       "      <td>False</td>\n",
       "      <td>Garlic Powder</td>\n",
       "      <td>104.0</td>\n",
       "      <td>13.0</td>\n",
       "      <td>3.6</td>\n",
       "      <td>both</td>\n",
       "      <td>Low-range product</td>\n",
       "      <td>Regularly busy</td>\n",
       "    </tr>\n",
       "    <tr>\n",
       "      <th>3</th>\n",
       "      <td>2</td>\n",
       "      <td>45918</td>\n",
       "      <td>4</td>\n",
       "      <td>1</td>\n",
       "      <td>202279</td>\n",
       "      <td>3</td>\n",
       "      <td>5</td>\n",
       "      <td>9</td>\n",
       "      <td>8.0</td>\n",
       "      <td>False</td>\n",
       "      <td>Coconut Butter</td>\n",
       "      <td>19.0</td>\n",
       "      <td>13.0</td>\n",
       "      <td>8.4</td>\n",
       "      <td>both</td>\n",
       "      <td>Mid-range product</td>\n",
       "      <td>Regularly busy</td>\n",
       "    </tr>\n",
       "    <tr>\n",
       "      <th>4</th>\n",
       "      <td>2</td>\n",
       "      <td>30035</td>\n",
       "      <td>5</td>\n",
       "      <td>0</td>\n",
       "      <td>202279</td>\n",
       "      <td>3</td>\n",
       "      <td>5</td>\n",
       "      <td>9</td>\n",
       "      <td>8.0</td>\n",
       "      <td>False</td>\n",
       "      <td>Natural Sweetener</td>\n",
       "      <td>17.0</td>\n",
       "      <td>13.0</td>\n",
       "      <td>13.7</td>\n",
       "      <td>both</td>\n",
       "      <td>Mid-range product</td>\n",
       "      <td>Regularly busy</td>\n",
       "    </tr>\n",
       "  </tbody>\n",
       "</table>\n",
       "</div>"
      ],
      "text/plain": [
       "   order_id  product_id  add_to_cart_order  reordered  user_id  order_number  \\\n",
       "0         2       33120                  1          1   202279             3   \n",
       "1         2       28985                  2          1   202279             3   \n",
       "2         2        9327                  3          0   202279             3   \n",
       "3         2       45918                  4          1   202279             3   \n",
       "4         2       30035                  5          0   202279             3   \n",
       "\n",
       "   orders_day_of_week  order_hour_of_day  days_since_prior_order  first_order  \\\n",
       "0                   5                  9                     8.0        False   \n",
       "1                   5                  9                     8.0        False   \n",
       "2                   5                  9                     8.0        False   \n",
       "3                   5                  9                     8.0        False   \n",
       "4                   5                  9                     8.0        False   \n",
       "\n",
       "            product_name  aisle_id  department_id  prices _merge  \\\n",
       "0     Organic Egg Whites      86.0           16.0    11.3   both   \n",
       "1  Michigan Organic Kale      83.0            4.0    13.4   both   \n",
       "2          Garlic Powder     104.0           13.0     3.6   both   \n",
       "3         Coconut Butter      19.0           13.0     8.4   both   \n",
       "4      Natural Sweetener      17.0           13.0    13.7   both   \n",
       "\n",
       "         price_range     busiest_day  \n",
       "0  Mid-range product  Regularly busy  \n",
       "1  Mid-range product  Regularly busy  \n",
       "2  Low-range product  Regularly busy  \n",
       "3  Mid-range product  Regularly busy  \n",
       "4  Mid-range product  Regularly busy  "
      ]
     },
     "execution_count": 31,
     "metadata": {},
     "output_type": "execute_result"
    }
   ],
   "source": [
    "# Checking Drop\n",
    "df_ords_prods_merge.head()"
   ]
  },
  {
   "cell_type": "markdown",
   "id": "c165cb5d-9e40-4982-9fd0-91e7087d5a21",
   "metadata": {},
   "source": [
    "## Instacart Busiest Hours/Days"
   ]
  },
  {
   "cell_type": "markdown",
   "id": "8c207c8f-e393-440d-bd38-9aa3c9a267c3",
   "metadata": {},
   "source": [
    "### 02 Categorize Busiest Days"
   ]
  },
  {
   "cell_type": "code",
   "execution_count": 32,
   "id": "9b4fdaf7-11d7-48f6-a757-7b2386f9fda1",
   "metadata": {},
   "outputs": [
    {
     "data": {
      "text/plain": [
       "orders_day_of_week\n",
       "0    6209808\n",
       "1    5665951\n",
       "6    4500391\n",
       "2    4217868\n",
       "5    4209603\n",
       "3    3844175\n",
       "4    3787263\n",
       "Name: count, dtype: int64"
      ]
     },
     "execution_count": 32,
     "metadata": {},
     "output_type": "execute_result"
    }
   ],
   "source": [
    "# Check the top 2 busiest days and the bottom 2 lowest days \n",
    "df_ords_prods_merge['orders_day_of_week'].value_counts()"
   ]
  },
  {
   "cell_type": "markdown",
   "id": "d00fb14c-d2ad-4cac-b306-552062a84985",
   "metadata": {},
   "source": [
    "Busiest Days: 0 = Saturday & 1 = Sunday\n",
    "Slowest Days: 4 = Wednesday & 3 = Tuesday"
   ]
  },
  {
   "cell_type": "code",
   "execution_count": 33,
   "id": "36ee6a6a-f685-49c6-85b6-698c31630d41",
   "metadata": {},
   "outputs": [],
   "source": [
    "result = []\n",
    "\n",
    "for value in df_ords_prods_merge[\"orders_day_of_week\"]:\n",
    "  if value in [0, 1]:    # Saturday or Sunday\n",
    "    result.append(\"Busiest days\")\n",
    "  elif value in [3, 4]:  # Tuesday or Wednesday\n",
    "    result.append(\"Least busy\")\n",
    "  else:                  # Monday or Thursday or Friday\n",
    "    result.append(\"Regularly busy\")"
   ]
  },
  {
   "cell_type": "code",
   "execution_count": 34,
   "id": "59700f25-f4d9-4233-9685-f97c661716a9",
   "metadata": {},
   "outputs": [
    {
     "data": {
      "text/plain": [
       "orders_day_of_week\n",
       "0    6209808\n",
       "1    5665951\n",
       "6    4500391\n",
       "2    4217868\n",
       "5    4209603\n",
       "3    3844175\n",
       "4    3787263\n",
       "Name: count, dtype: int64"
      ]
     },
     "execution_count": 34,
     "metadata": {},
     "output_type": "execute_result"
    }
   ],
   "source": [
    "# Check data\n",
    "df_ords_prods_merge['orders_day_of_week'].value_counts()"
   ]
  },
  {
   "cell_type": "code",
   "execution_count": 35,
   "id": "0b4d8ced-8a33-4183-a6ca-d9630ecc10ff",
   "metadata": {},
   "outputs": [
    {
     "data": {
      "text/plain": [
       "busiest_day\n",
       "Regularly busy    22437988\n",
       "Busiest day        6209808\n",
       "Least busy         3787263\n",
       "Name: count, dtype: int64"
      ]
     },
     "execution_count": 35,
     "metadata": {},
     "output_type": "execute_result"
    }
   ],
   "source": [
    "# Check Busiest day \n",
    "df_ords_prods_merge[\"busiest_day\"].value_counts()"
   ]
  },
  {
   "cell_type": "markdown",
   "id": "0cddc285-3409-4564-957b-8697d05171dc",
   "metadata": {},
   "source": [
    "Busiest days are about double the least busiest days"
   ]
  },
  {
   "cell_type": "markdown",
   "id": "f30afcf2-7a33-41cc-8a80-b35b9d72b208",
   "metadata": {},
   "source": [
    "### 03 Label Busiest Hours"
   ]
  },
  {
   "cell_type": "code",
   "execution_count": 36,
   "id": "8c1d8c83-0456-470d-a948-219e5cbcea39",
   "metadata": {},
   "outputs": [
    {
     "data": {
      "text/html": [
       "<div>\n",
       "<style scoped>\n",
       "    .dataframe tbody tr th:only-of-type {\n",
       "        vertical-align: middle;\n",
       "    }\n",
       "\n",
       "    .dataframe tbody tr th {\n",
       "        vertical-align: top;\n",
       "    }\n",
       "\n",
       "    .dataframe thead th {\n",
       "        text-align: right;\n",
       "    }\n",
       "</style>\n",
       "<table border=\"1\" class=\"dataframe\">\n",
       "  <thead>\n",
       "    <tr style=\"text-align: right;\">\n",
       "      <th></th>\n",
       "      <th>order_id</th>\n",
       "      <th>product_id</th>\n",
       "      <th>add_to_cart_order</th>\n",
       "      <th>reordered</th>\n",
       "      <th>user_id</th>\n",
       "      <th>order_number</th>\n",
       "      <th>orders_day_of_week</th>\n",
       "      <th>order_hour_of_day</th>\n",
       "      <th>days_since_prior_order</th>\n",
       "      <th>first_order</th>\n",
       "      <th>product_name</th>\n",
       "      <th>aisle_id</th>\n",
       "      <th>department_id</th>\n",
       "      <th>prices</th>\n",
       "      <th>_merge</th>\n",
       "      <th>price_range</th>\n",
       "      <th>busiest_day</th>\n",
       "    </tr>\n",
       "  </thead>\n",
       "  <tbody>\n",
       "    <tr>\n",
       "      <th>0</th>\n",
       "      <td>2</td>\n",
       "      <td>33120</td>\n",
       "      <td>1</td>\n",
       "      <td>1</td>\n",
       "      <td>202279</td>\n",
       "      <td>3</td>\n",
       "      <td>5</td>\n",
       "      <td>9</td>\n",
       "      <td>8.0</td>\n",
       "      <td>False</td>\n",
       "      <td>Organic Egg Whites</td>\n",
       "      <td>86.0</td>\n",
       "      <td>16.0</td>\n",
       "      <td>11.3</td>\n",
       "      <td>both</td>\n",
       "      <td>Mid-range product</td>\n",
       "      <td>Regularly busy</td>\n",
       "    </tr>\n",
       "    <tr>\n",
       "      <th>1</th>\n",
       "      <td>2</td>\n",
       "      <td>28985</td>\n",
       "      <td>2</td>\n",
       "      <td>1</td>\n",
       "      <td>202279</td>\n",
       "      <td>3</td>\n",
       "      <td>5</td>\n",
       "      <td>9</td>\n",
       "      <td>8.0</td>\n",
       "      <td>False</td>\n",
       "      <td>Michigan Organic Kale</td>\n",
       "      <td>83.0</td>\n",
       "      <td>4.0</td>\n",
       "      <td>13.4</td>\n",
       "      <td>both</td>\n",
       "      <td>Mid-range product</td>\n",
       "      <td>Regularly busy</td>\n",
       "    </tr>\n",
       "    <tr>\n",
       "      <th>2</th>\n",
       "      <td>2</td>\n",
       "      <td>9327</td>\n",
       "      <td>3</td>\n",
       "      <td>0</td>\n",
       "      <td>202279</td>\n",
       "      <td>3</td>\n",
       "      <td>5</td>\n",
       "      <td>9</td>\n",
       "      <td>8.0</td>\n",
       "      <td>False</td>\n",
       "      <td>Garlic Powder</td>\n",
       "      <td>104.0</td>\n",
       "      <td>13.0</td>\n",
       "      <td>3.6</td>\n",
       "      <td>both</td>\n",
       "      <td>Low-range product</td>\n",
       "      <td>Regularly busy</td>\n",
       "    </tr>\n",
       "    <tr>\n",
       "      <th>3</th>\n",
       "      <td>2</td>\n",
       "      <td>45918</td>\n",
       "      <td>4</td>\n",
       "      <td>1</td>\n",
       "      <td>202279</td>\n",
       "      <td>3</td>\n",
       "      <td>5</td>\n",
       "      <td>9</td>\n",
       "      <td>8.0</td>\n",
       "      <td>False</td>\n",
       "      <td>Coconut Butter</td>\n",
       "      <td>19.0</td>\n",
       "      <td>13.0</td>\n",
       "      <td>8.4</td>\n",
       "      <td>both</td>\n",
       "      <td>Mid-range product</td>\n",
       "      <td>Regularly busy</td>\n",
       "    </tr>\n",
       "    <tr>\n",
       "      <th>4</th>\n",
       "      <td>2</td>\n",
       "      <td>30035</td>\n",
       "      <td>5</td>\n",
       "      <td>0</td>\n",
       "      <td>202279</td>\n",
       "      <td>3</td>\n",
       "      <td>5</td>\n",
       "      <td>9</td>\n",
       "      <td>8.0</td>\n",
       "      <td>False</td>\n",
       "      <td>Natural Sweetener</td>\n",
       "      <td>17.0</td>\n",
       "      <td>13.0</td>\n",
       "      <td>13.7</td>\n",
       "      <td>both</td>\n",
       "      <td>Mid-range product</td>\n",
       "      <td>Regularly busy</td>\n",
       "    </tr>\n",
       "  </tbody>\n",
       "</table>\n",
       "</div>"
      ],
      "text/plain": [
       "   order_id  product_id  add_to_cart_order  reordered  user_id  order_number  \\\n",
       "0         2       33120                  1          1   202279             3   \n",
       "1         2       28985                  2          1   202279             3   \n",
       "2         2        9327                  3          0   202279             3   \n",
       "3         2       45918                  4          1   202279             3   \n",
       "4         2       30035                  5          0   202279             3   \n",
       "\n",
       "   orders_day_of_week  order_hour_of_day  days_since_prior_order  first_order  \\\n",
       "0                   5                  9                     8.0        False   \n",
       "1                   5                  9                     8.0        False   \n",
       "2                   5                  9                     8.0        False   \n",
       "3                   5                  9                     8.0        False   \n",
       "4                   5                  9                     8.0        False   \n",
       "\n",
       "            product_name  aisle_id  department_id  prices _merge  \\\n",
       "0     Organic Egg Whites      86.0           16.0    11.3   both   \n",
       "1  Michigan Organic Kale      83.0            4.0    13.4   both   \n",
       "2          Garlic Powder     104.0           13.0     3.6   both   \n",
       "3         Coconut Butter      19.0           13.0     8.4   both   \n",
       "4      Natural Sweetener      17.0           13.0    13.7   both   \n",
       "\n",
       "         price_range     busiest_day  \n",
       "0  Mid-range product  Regularly busy  \n",
       "1  Mid-range product  Regularly busy  \n",
       "2  Low-range product  Regularly busy  \n",
       "3  Mid-range product  Regularly busy  \n",
       "4  Mid-range product  Regularly busy  "
      ]
     },
     "execution_count": 36,
     "metadata": {},
     "output_type": "execute_result"
    }
   ],
   "source": [
    "# Checking headers for hours in the day naming\n",
    "df_ords_prods_merge.head()"
   ]
  },
  {
   "cell_type": "markdown",
   "id": "a0f7b381-27c4-484e-a2bb-1e698a55e3a5",
   "metadata": {},
   "source": [
    "'order_hour_of_day' is the column header"
   ]
  },
  {
   "cell_type": "code",
   "execution_count": 37,
   "id": "9eb23dfd-8872-4851-905c-cf9217ffa153",
   "metadata": {},
   "outputs": [
    {
     "data": {
      "text/plain": [
       "order_hour_of_day\n",
       "0      218951\n",
       "1      115787\n",
       "2       69435\n",
       "3       51321\n",
       "4       53284\n",
       "5       88064\n",
       "6      290796\n",
       "7      891951\n",
       "8     1719991\n",
       "9     2456751\n",
       "10    2764476\n",
       "11    2738647\n",
       "12    2620898\n",
       "13    2663346\n",
       "14    2691598\n",
       "15    2664583\n",
       "16    2537506\n",
       "17    2089510\n",
       "18    1637956\n",
       "19    1259416\n",
       "20     977049\n",
       "21     796379\n",
       "22     634743\n",
       "23     402621\n",
       "Name: count, dtype: int64"
      ]
     },
     "execution_count": 37,
     "metadata": {},
     "output_type": "execute_result"
    }
   ],
   "source": [
    "# Checking for the busiest hour of day\n",
    "df_ords_prods_merge[\"order_hour_of_day\"].value_counts().sort_index()"
   ]
  },
  {
   "cell_type": "code",
   "execution_count": 38,
   "id": "039eb8bb-3ee7-4abd-94dc-509a6925b050",
   "metadata": {},
   "outputs": [],
   "source": [
    "# Count orders per hour\n",
    "hour_counts = df_ords_prods_merge['order_hour_of_day'].value_counts().sort_index()"
   ]
  },
  {
   "cell_type": "code",
   "execution_count": 39,
   "id": "a07e0de9-90e0-478f-8964-34033faa3698",
   "metadata": {},
   "outputs": [],
   "source": [
    "# New variable to working hours counted list\n",
    "sorted_hours= hour_counts.sort_values(ascending=False)"
   ]
  },
  {
   "cell_type": "code",
   "execution_count": 40,
   "id": "af5fa4f4-25cf-484a-81af-e3529cd319a5",
   "metadata": {
    "scrolled": true
   },
   "outputs": [
    {
     "data": {
      "text/plain": [
       "order_hour_of_day\n",
       "10    2764476\n",
       "11    2738647\n",
       "14    2691598\n",
       "15    2664583\n",
       "13    2663346\n",
       "12    2620898\n",
       "16    2537506\n",
       "9     2456751\n",
       "17    2089510\n",
       "8     1719991\n",
       "18    1637956\n",
       "19    1259416\n",
       "20     977049\n",
       "7      891951\n",
       "21     796379\n",
       "22     634743\n",
       "23     402621\n",
       "6      290796\n",
       "0      218951\n",
       "1      115787\n",
       "5       88064\n",
       "2       69435\n",
       "4       53284\n",
       "3       51321\n",
       "Name: count, dtype: int64"
      ]
     },
     "execution_count": 40,
     "metadata": {},
     "output_type": "execute_result"
    }
   ],
   "source": [
    "# Checking list\n",
    "sorted_hours"
   ]
  },
  {
   "cell_type": "code",
   "execution_count": 41,
   "id": "fba3b2c9-eb05-462f-81b9-f98930fcba6e",
   "metadata": {},
   "outputs": [],
   "source": [
    "# sorted hours to df_sorted_hours\n",
    "df_sorted_hours = sorted_hours.to_frame()"
   ]
  },
  {
   "cell_type": "code",
   "execution_count": 42,
   "id": "d23cc701-fa6c-42a2-9366-395cd83bc96c",
   "metadata": {},
   "outputs": [],
   "source": [
    "# This keeps sorted_hours untouched and the total hours: 24 (0-23)\n",
    "n = len(df_sorted_hours)"
   ]
  },
  {
   "cell_type": "code",
   "execution_count": 43,
   "id": "134d091a-c7b7-4071-8596-49bede77ef87",
   "metadata": {},
   "outputs": [],
   "source": [
    "# Top 8: Dividing the hours into 1/3s most/avg/fewest\n",
    "most = df_sorted_hours.head(n // 3).index.tolist()"
   ]
  },
  {
   "cell_type": "code",
   "execution_count": 44,
   "id": "7536c186-42a0-4156-b8b9-efcb54cfe108",
   "metadata": {},
   "outputs": [],
   "source": [
    "# Bottom 8: Dividing the hours into 1/3s most/avg/fewest\n",
    "fewest = df_sorted_hours.tail(n // 3).index.tolist()"
   ]
  },
  {
   "cell_type": "code",
   "execution_count": 45,
   "id": "c9cf7f61-4adf-4d4b-bc87-ac514515df53",
   "metadata": {},
   "outputs": [],
   "source": [
    "# Average 8: Dividing the hours into 1/3s most/avg/fewest\n",
    "average = [h for h in df_sorted_hours.index if h not in most + fewest]"
   ]
  },
  {
   "cell_type": "code",
   "execution_count": 46,
   "id": "cd6ba9f9-7e86-47ae-9d5d-0cabffb2ad05",
   "metadata": {},
   "outputs": [],
   "source": [
    "# Labeling Step\n",
    "result = []\n",
    "for hour in df_sorted_hours.index.tolist():\n",
    "    if hour in most:\n",
    "        result.append(\"Most orders\")\n",
    "    elif hour in fewest:\n",
    "        result.append(\"Fewest orders\")\n",
    "    else:\n",
    "        result.append(\"Average orders\")"
   ]
  },
  {
   "cell_type": "code",
   "execution_count": 47,
   "id": "4f60ecfe-9890-4aaf-bd86-bf08f3330543",
   "metadata": {},
   "outputs": [
    {
     "name": "stdout",
     "output_type": "stream",
     "text": [
      "Length of result: 24\n",
      "Length of df_sorted_hours: 24\n"
     ]
    }
   ],
   "source": [
    "# Sanity check\n",
    "print(\"Length of result:\", len(result))\n",
    "print(\"Length of df_sorted_hours:\", len(df_sorted_hours))"
   ]
  },
  {
   "cell_type": "code",
   "execution_count": 48,
   "id": "d6968596-02aa-403a-b410-115a6d8cf467",
   "metadata": {},
   "outputs": [],
   "source": [
    "df_sorted_hours[\"busiest_period_of_day\"] = result"
   ]
  },
  {
   "cell_type": "code",
   "execution_count": 49,
   "id": "5cdd00e2-20a4-415d-a1d8-bf46d9543ff9",
   "metadata": {},
   "outputs": [
    {
     "data": {
      "text/plain": [
       "busiest_period_of_day\n",
       "Most orders       8\n",
       "Average orders    8\n",
       "Fewest orders     8\n",
       "Name: count, dtype: int64"
      ]
     },
     "execution_count": 49,
     "metadata": {},
     "output_type": "execute_result"
    }
   ],
   "source": [
    "df_sorted_hours[\"busiest_period_of_day\"].value_counts()"
   ]
  },
  {
   "cell_type": "code",
   "execution_count": 50,
   "id": "3910fcc6-78aa-4a5f-87a8-b06856399065",
   "metadata": {},
   "outputs": [],
   "source": [
    "# Create mapping dictionary\n",
    "hour_labels = df_sorted_hours[\"busiest_period_of_day\"].to_dict()"
   ]
  },
  {
   "cell_type": "code",
   "execution_count": 51,
   "id": "a9c74a85-a416-4ad8-9855-97e0e0bd51bb",
   "metadata": {},
   "outputs": [],
   "source": [
    "# Apply to full dataset\n",
    "df_ords_prods_merge[\"busiest_period_of_day\"] = df_ords_prods_merge[\"order_hour_of_day\"].map(hour_labels)"
   ]
  },
  {
   "cell_type": "code",
   "execution_count": 52,
   "id": "c89bd6ec-0664-4ead-a49a-c4c43329c47c",
   "metadata": {},
   "outputs": [
    {
     "name": "stdout",
     "output_type": "stream",
     "text": [
      "busiest_period_of_day\n",
      "Most orders       21137805\n",
      "Average orders    10006995\n",
      "Fewest orders      1290259\n",
      "Name: count, dtype: int64\n"
     ]
    }
   ],
   "source": [
    "# Print frequency\n",
    "print(df_ords_prods_merge[\"busiest_period_of_day\"].value_counts(dropna=False))\n"
   ]
  },
  {
   "cell_type": "markdown",
   "id": "4da750d6-72eb-41b0-9330-b9e86d1bb106",
   "metadata": {},
   "source": [
    "# Finding Time of Day customers spend the most"
   ]
  },
  {
   "cell_type": "code",
   "execution_count": 53,
   "id": "5ac013e6-fb14-4d87-b1f7-8926c1530486",
   "metadata": {},
   "outputs": [],
   "source": [
    "hourly_spending = df_ords_prods_merge.groupby('order_hour_of_day')['prices'].sum().reset_index()"
   ]
  },
  {
   "cell_type": "code",
   "execution_count": 54,
   "id": "cb0ba3e5-f839-4379-8796-925de12a7a2a",
   "metadata": {},
   "outputs": [],
   "source": [
    "top_5_hours = hourly_spending.sort_values(by='prices', ascending=False).head(5)"
   ]
  },
  {
   "cell_type": "code",
   "execution_count": 55,
   "id": "2e070f55-abb3-4cc7-bac2-8512ff9beb39",
   "metadata": {},
   "outputs": [
    {
     "name": "stdout",
     "output_type": "stream",
     "text": [
      "    order_hour_of_day      prices\n",
      "10                 10  21403045.1\n",
      "11                 11  21265101.8\n",
      "14                 14  20982570.0\n",
      "15                 15  20780281.4\n",
      "13                 13  20737660.2\n"
     ]
    }
   ],
   "source": [
    "print(top_5_hours)"
   ]
  },
  {
   "cell_type": "code",
   "execution_count": 56,
   "id": "eeb653db-abd8-410f-a092-da4e53355eed",
   "metadata": {},
   "outputs": [
    {
     "data": {
      "text/html": [
       "<div>\n",
       "<style scoped>\n",
       "    .dataframe tbody tr th:only-of-type {\n",
       "        vertical-align: middle;\n",
       "    }\n",
       "\n",
       "    .dataframe tbody tr th {\n",
       "        vertical-align: top;\n",
       "    }\n",
       "\n",
       "    .dataframe thead th {\n",
       "        text-align: right;\n",
       "    }\n",
       "</style>\n",
       "<table border=\"1\" class=\"dataframe\">\n",
       "  <thead>\n",
       "    <tr style=\"text-align: right;\">\n",
       "      <th></th>\n",
       "      <th>order_id</th>\n",
       "      <th>product_id</th>\n",
       "      <th>add_to_cart_order</th>\n",
       "      <th>reordered</th>\n",
       "      <th>user_id</th>\n",
       "      <th>order_number</th>\n",
       "      <th>orders_day_of_week</th>\n",
       "      <th>order_hour_of_day</th>\n",
       "      <th>days_since_prior_order</th>\n",
       "      <th>first_order</th>\n",
       "      <th>product_name</th>\n",
       "      <th>aisle_id</th>\n",
       "      <th>department_id</th>\n",
       "      <th>prices</th>\n",
       "      <th>_merge</th>\n",
       "      <th>price_range</th>\n",
       "      <th>busiest_day</th>\n",
       "      <th>busiest_period_of_day</th>\n",
       "    </tr>\n",
       "  </thead>\n",
       "  <tbody>\n",
       "    <tr>\n",
       "      <th>0</th>\n",
       "      <td>2</td>\n",
       "      <td>33120</td>\n",
       "      <td>1</td>\n",
       "      <td>1</td>\n",
       "      <td>202279</td>\n",
       "      <td>3</td>\n",
       "      <td>5</td>\n",
       "      <td>9</td>\n",
       "      <td>8.0</td>\n",
       "      <td>False</td>\n",
       "      <td>Organic Egg Whites</td>\n",
       "      <td>86.0</td>\n",
       "      <td>16.0</td>\n",
       "      <td>11.3</td>\n",
       "      <td>both</td>\n",
       "      <td>Mid-range product</td>\n",
       "      <td>Regularly busy</td>\n",
       "      <td>Most orders</td>\n",
       "    </tr>\n",
       "    <tr>\n",
       "      <th>1</th>\n",
       "      <td>2</td>\n",
       "      <td>28985</td>\n",
       "      <td>2</td>\n",
       "      <td>1</td>\n",
       "      <td>202279</td>\n",
       "      <td>3</td>\n",
       "      <td>5</td>\n",
       "      <td>9</td>\n",
       "      <td>8.0</td>\n",
       "      <td>False</td>\n",
       "      <td>Michigan Organic Kale</td>\n",
       "      <td>83.0</td>\n",
       "      <td>4.0</td>\n",
       "      <td>13.4</td>\n",
       "      <td>both</td>\n",
       "      <td>Mid-range product</td>\n",
       "      <td>Regularly busy</td>\n",
       "      <td>Most orders</td>\n",
       "    </tr>\n",
       "    <tr>\n",
       "      <th>2</th>\n",
       "      <td>2</td>\n",
       "      <td>9327</td>\n",
       "      <td>3</td>\n",
       "      <td>0</td>\n",
       "      <td>202279</td>\n",
       "      <td>3</td>\n",
       "      <td>5</td>\n",
       "      <td>9</td>\n",
       "      <td>8.0</td>\n",
       "      <td>False</td>\n",
       "      <td>Garlic Powder</td>\n",
       "      <td>104.0</td>\n",
       "      <td>13.0</td>\n",
       "      <td>3.6</td>\n",
       "      <td>both</td>\n",
       "      <td>Low-range product</td>\n",
       "      <td>Regularly busy</td>\n",
       "      <td>Most orders</td>\n",
       "    </tr>\n",
       "    <tr>\n",
       "      <th>3</th>\n",
       "      <td>2</td>\n",
       "      <td>45918</td>\n",
       "      <td>4</td>\n",
       "      <td>1</td>\n",
       "      <td>202279</td>\n",
       "      <td>3</td>\n",
       "      <td>5</td>\n",
       "      <td>9</td>\n",
       "      <td>8.0</td>\n",
       "      <td>False</td>\n",
       "      <td>Coconut Butter</td>\n",
       "      <td>19.0</td>\n",
       "      <td>13.0</td>\n",
       "      <td>8.4</td>\n",
       "      <td>both</td>\n",
       "      <td>Mid-range product</td>\n",
       "      <td>Regularly busy</td>\n",
       "      <td>Most orders</td>\n",
       "    </tr>\n",
       "    <tr>\n",
       "      <th>4</th>\n",
       "      <td>2</td>\n",
       "      <td>30035</td>\n",
       "      <td>5</td>\n",
       "      <td>0</td>\n",
       "      <td>202279</td>\n",
       "      <td>3</td>\n",
       "      <td>5</td>\n",
       "      <td>9</td>\n",
       "      <td>8.0</td>\n",
       "      <td>False</td>\n",
       "      <td>Natural Sweetener</td>\n",
       "      <td>17.0</td>\n",
       "      <td>13.0</td>\n",
       "      <td>13.7</td>\n",
       "      <td>both</td>\n",
       "      <td>Mid-range product</td>\n",
       "      <td>Regularly busy</td>\n",
       "      <td>Most orders</td>\n",
       "    </tr>\n",
       "  </tbody>\n",
       "</table>\n",
       "</div>"
      ],
      "text/plain": [
       "   order_id  product_id  add_to_cart_order  reordered  user_id  order_number  \\\n",
       "0         2       33120                  1          1   202279             3   \n",
       "1         2       28985                  2          1   202279             3   \n",
       "2         2        9327                  3          0   202279             3   \n",
       "3         2       45918                  4          1   202279             3   \n",
       "4         2       30035                  5          0   202279             3   \n",
       "\n",
       "   orders_day_of_week  order_hour_of_day  days_since_prior_order  first_order  \\\n",
       "0                   5                  9                     8.0        False   \n",
       "1                   5                  9                     8.0        False   \n",
       "2                   5                  9                     8.0        False   \n",
       "3                   5                  9                     8.0        False   \n",
       "4                   5                  9                     8.0        False   \n",
       "\n",
       "            product_name  aisle_id  department_id  prices _merge  \\\n",
       "0     Organic Egg Whites      86.0           16.0    11.3   both   \n",
       "1  Michigan Organic Kale      83.0            4.0    13.4   both   \n",
       "2          Garlic Powder     104.0           13.0     3.6   both   \n",
       "3         Coconut Butter      19.0           13.0     8.4   both   \n",
       "4      Natural Sweetener      17.0           13.0    13.7   both   \n",
       "\n",
       "         price_range     busiest_day busiest_period_of_day  \n",
       "0  Mid-range product  Regularly busy           Most orders  \n",
       "1  Mid-range product  Regularly busy           Most orders  \n",
       "2  Low-range product  Regularly busy           Most orders  \n",
       "3  Mid-range product  Regularly busy           Most orders  \n",
       "4  Mid-range product  Regularly busy           Most orders  "
      ]
     },
     "execution_count": 56,
     "metadata": {},
     "output_type": "execute_result"
    }
   ],
   "source": [
    "df_ords_prods_merge.head()"
   ]
  },
  {
   "cell_type": "markdown",
   "id": "0b8da980-75fa-401e-821b-7e13b3d8a665",
   "metadata": {},
   "source": [
    "## 04 Export"
   ]
  },
  {
   "cell_type": "code",
   "execution_count": 57,
   "id": "b61f78a8-3054-45b8-8a3c-df218beae5d1",
   "metadata": {},
   "outputs": [],
   "source": [
    "# Pickle Export\n",
    "df_ords_prods_merge.to_pickle(os.path.join(path, '02 Data', 'Prepared Data', 'ords_prods_merge_v1.pkl'))"
   ]
  },
  {
   "cell_type": "code",
   "execution_count": null,
   "id": "5464428c-7669-489a-965d-9b64e4e5914a",
   "metadata": {},
   "outputs": [],
   "source": []
  }
 ],
 "metadata": {
  "kernelspec": {
   "display_name": "Python 3 (ipykernel)",
   "language": "python",
   "name": "python3"
  },
  "language_info": {
   "codemirror_mode": {
    "name": "ipython",
    "version": 3
   },
   "file_extension": ".py",
   "mimetype": "text/x-python",
   "name": "python",
   "nbconvert_exporter": "python",
   "pygments_lexer": "ipython3",
   "version": "3.13.5"
  }
 },
 "nbformat": 4,
 "nbformat_minor": 5
}
