{
 "cells": [
  {
   "cell_type": "markdown",
   "id": "4248e047-b4fb-4ccb-8b12-2c671621aa9f",
   "metadata": {},
   "source": [
    "# Exercise 4.9 - Part 1"
   ]
  },
  {
   "cell_type": "markdown",
   "id": "3219d8e4-fea5-41cb-bfce-118ff72145c8",
   "metadata": {},
   "source": [
    "## Table of Contents — Exercise 4.9 Part 1\n",
    "\n",
    "1. [Imports & Pathways](#Imports--Pathways)\n",
    "2. [Initial Dataset Inspection](#Initial-Dataset-Inspection)\n",
    "3. [Wrangle Headers](#Wrangle-Headers)\n",
    "4. [Wrangle Missing Values](#Wrangle-Missing-Values)\n",
    "5. [Investigate Mixed Types](#Investigate-Mixed-Types)\n",
    "6. [Duplicate Check](#Duplicate-Check)\n",
    "7. [Merge](#Merge)\n",
    "8. [Export](#Export)"
   ]
  },
  {
   "cell_type": "markdown",
   "id": "1d6912a6-952c-463b-a042-7b3104c2ebc4",
   "metadata": {},
   "source": [
    "## Imports/Pathways"
   ]
  },
  {
   "cell_type": "code",
   "execution_count": 1,
   "id": "10bee205-1fb2-4ce7-8f91-6ee4b01f52e7",
   "metadata": {},
   "outputs": [],
   "source": [
    "# Import libraries\n",
    "\n",
    "import pandas as pd\n",
    "import numpy as np\n",
    "import os\n",
    "import matplotlib.pyplot as plt\n",
    "import seaborn as sns\n",
    "import scipy"
   ]
  },
  {
   "cell_type": "code",
   "execution_count": 2,
   "id": "7b1cb7cb-a341-4ddc-8ac7-2bd203f8a4c2",
   "metadata": {},
   "outputs": [],
   "source": [
    "# File pathway shortcut\n",
    "path = r'C:\\Users\\Chase\\anaconda_projects\\Exercise 4\\07-2025 Instacart Basket Analysis'"
   ]
  },
  {
   "cell_type": "code",
   "execution_count": 3,
   "id": "143a0469-6947-4fad-83f9-7d4e5b2d1d16",
   "metadata": {},
   "outputs": [],
   "source": [
    "# Prepared file - Orders_Products_Merge (Clean)\n",
    "df_cust = pd.read_csv(os.path.join(path, '02 Data', 'Original Data', 'customers_new.csv'))"
   ]
  },
  {
   "cell_type": "code",
   "execution_count": 4,
   "id": "61f76fce-171b-496c-9fd3-ecfb867e6d00",
   "metadata": {},
   "outputs": [],
   "source": [
    "# Prepared file - Orders_Products_Merge (Clean)\n",
    "df_ords_prods_merge = pd.read_pickle(os.path.join(path, '02 Data', 'Prepared Data', 'ords_prods_merge_v1.pkl'))"
   ]
  },
  {
   "cell_type": "markdown",
   "id": "a3d248ab-9e15-41c5-a5dd-b3ed1f04c0d4",
   "metadata": {},
   "source": [
    "## Data Wrangling"
   ]
  },
  {
   "cell_type": "markdown",
   "id": "5b3fae5f-88e9-4f97-8ddf-28a42b8d17ae",
   "metadata": {},
   "source": [
    "#### Initial Dataset Inspection "
   ]
  },
  {
   "cell_type": "code",
   "execution_count": 5,
   "id": "824884e0-0033-4ed7-8573-0060e2c1af3c",
   "metadata": {
    "scrolled": true
   },
   "outputs": [
    {
     "name": "stdout",
     "output_type": "stream",
     "text": [
      "        user_id First Name    Surnam  Gender           STATE  Age date_joined  \\\n",
      "0         26711    Deborah  Esquivel  Female        Missouri   48    1/1/2017   \n",
      "1         33890   Patricia      Hart  Female      New Mexico   36    1/1/2017   \n",
      "2         65803    Kenneth    Farley    Male           Idaho   35    1/1/2017   \n",
      "3        125935   Michelle     Hicks  Female            Iowa   40    1/1/2017   \n",
      "4        130797        Ann   Gilmore  Female        Maryland   26    1/1/2017   \n",
      "...         ...        ...       ...     ...             ...  ...         ...   \n",
      "206204   168073       Lisa      Case  Female  North Carolina   44    4/1/2020   \n",
      "206205    49635     Jeremy   Robbins    Male          Hawaii   62    4/1/2020   \n",
      "206206   135902      Doris  Richmond  Female        Missouri   66    4/1/2020   \n",
      "206207    81095       Rose   Rollins  Female      California   27    4/1/2020   \n",
      "206208    80148    Cynthia     Noble  Female        New York   55    4/1/2020   \n",
      "\n",
      "        n_dependants fam_status  income  \n",
      "0                  3    married  165665  \n",
      "1                  0     single   59285  \n",
      "2                  2    married   99568  \n",
      "3                  0     single   42049  \n",
      "4                  1    married   40374  \n",
      "...              ...        ...     ...  \n",
      "206204             1    married  148828  \n",
      "206205             3    married  168639  \n",
      "206206             2    married   53374  \n",
      "206207             1    married   99799  \n",
      "206208             1    married   57095  \n",
      "\n",
      "[206209 rows x 10 columns]\n"
     ]
    }
   ],
   "source": [
    "# Quick glance at the data\n",
    "print(df_cust)"
   ]
  },
  {
   "cell_type": "code",
   "execution_count": 6,
   "id": "e7c3981a-9278-4ff9-beed-ecfd03fcceed",
   "metadata": {
    "scrolled": true
   },
   "outputs": [
    {
     "name": "stdout",
     "output_type": "stream",
     "text": [
      "<class 'pandas.core.frame.DataFrame'>\n",
      "RangeIndex: 206209 entries, 0 to 206208\n",
      "Data columns (total 10 columns):\n",
      " #   Column        Non-Null Count   Dtype \n",
      "---  ------        --------------   ----- \n",
      " 0   user_id       206209 non-null  int64 \n",
      " 1   First Name    194950 non-null  object\n",
      " 2   Surnam        206209 non-null  object\n",
      " 3   Gender        206209 non-null  object\n",
      " 4   STATE         206209 non-null  object\n",
      " 5   Age           206209 non-null  int64 \n",
      " 6   date_joined   206209 non-null  object\n",
      " 7   n_dependants  206209 non-null  int64 \n",
      " 8   fam_status    206209 non-null  object\n",
      " 9   income        206209 non-null  int64 \n",
      "dtypes: int64(4), object(6)\n",
      "memory usage: 15.7+ MB\n"
     ]
    }
   ],
   "source": [
    "# info on the data types\n",
    "df_cust.info()"
   ]
  },
  {
   "cell_type": "markdown",
   "id": "35164fb5-57a0-451b-8b76-1b85145b6c22",
   "metadata": {},
   "source": [
    "Looks like first_name is possibly missing 11,259 entries. Possible mixed types in Dtype: object "
   ]
  },
  {
   "cell_type": "code",
   "execution_count": 7,
   "id": "1bea3f37-9f4a-451b-8710-8efc7ab50512",
   "metadata": {},
   "outputs": [
    {
     "data": {
      "text/html": [
       "<div>\n",
       "<style scoped>\n",
       "    .dataframe tbody tr th:only-of-type {\n",
       "        vertical-align: middle;\n",
       "    }\n",
       "\n",
       "    .dataframe tbody tr th {\n",
       "        vertical-align: top;\n",
       "    }\n",
       "\n",
       "    .dataframe thead th {\n",
       "        text-align: right;\n",
       "    }\n",
       "</style>\n",
       "<table border=\"1\" class=\"dataframe\">\n",
       "  <thead>\n",
       "    <tr style=\"text-align: right;\">\n",
       "      <th></th>\n",
       "      <th>user_id</th>\n",
       "      <th>First Name</th>\n",
       "      <th>Surnam</th>\n",
       "      <th>Gender</th>\n",
       "      <th>STATE</th>\n",
       "      <th>Age</th>\n",
       "      <th>date_joined</th>\n",
       "      <th>n_dependants</th>\n",
       "      <th>fam_status</th>\n",
       "      <th>income</th>\n",
       "    </tr>\n",
       "  </thead>\n",
       "  <tbody>\n",
       "    <tr>\n",
       "      <th>0</th>\n",
       "      <td>26711</td>\n",
       "      <td>Deborah</td>\n",
       "      <td>Esquivel</td>\n",
       "      <td>Female</td>\n",
       "      <td>Missouri</td>\n",
       "      <td>48</td>\n",
       "      <td>1/1/2017</td>\n",
       "      <td>3</td>\n",
       "      <td>married</td>\n",
       "      <td>165665</td>\n",
       "    </tr>\n",
       "    <tr>\n",
       "      <th>1</th>\n",
       "      <td>33890</td>\n",
       "      <td>Patricia</td>\n",
       "      <td>Hart</td>\n",
       "      <td>Female</td>\n",
       "      <td>New Mexico</td>\n",
       "      <td>36</td>\n",
       "      <td>1/1/2017</td>\n",
       "      <td>0</td>\n",
       "      <td>single</td>\n",
       "      <td>59285</td>\n",
       "    </tr>\n",
       "    <tr>\n",
       "      <th>2</th>\n",
       "      <td>65803</td>\n",
       "      <td>Kenneth</td>\n",
       "      <td>Farley</td>\n",
       "      <td>Male</td>\n",
       "      <td>Idaho</td>\n",
       "      <td>35</td>\n",
       "      <td>1/1/2017</td>\n",
       "      <td>2</td>\n",
       "      <td>married</td>\n",
       "      <td>99568</td>\n",
       "    </tr>\n",
       "    <tr>\n",
       "      <th>3</th>\n",
       "      <td>125935</td>\n",
       "      <td>Michelle</td>\n",
       "      <td>Hicks</td>\n",
       "      <td>Female</td>\n",
       "      <td>Iowa</td>\n",
       "      <td>40</td>\n",
       "      <td>1/1/2017</td>\n",
       "      <td>0</td>\n",
       "      <td>single</td>\n",
       "      <td>42049</td>\n",
       "    </tr>\n",
       "    <tr>\n",
       "      <th>4</th>\n",
       "      <td>130797</td>\n",
       "      <td>Ann</td>\n",
       "      <td>Gilmore</td>\n",
       "      <td>Female</td>\n",
       "      <td>Maryland</td>\n",
       "      <td>26</td>\n",
       "      <td>1/1/2017</td>\n",
       "      <td>1</td>\n",
       "      <td>married</td>\n",
       "      <td>40374</td>\n",
       "    </tr>\n",
       "  </tbody>\n",
       "</table>\n",
       "</div>"
      ],
      "text/plain": [
       "   user_id First Name    Surnam  Gender       STATE  Age date_joined  \\\n",
       "0    26711    Deborah  Esquivel  Female    Missouri   48    1/1/2017   \n",
       "1    33890   Patricia      Hart  Female  New Mexico   36    1/1/2017   \n",
       "2    65803    Kenneth    Farley    Male       Idaho   35    1/1/2017   \n",
       "3   125935   Michelle     Hicks  Female        Iowa   40    1/1/2017   \n",
       "4   130797        Ann   Gilmore  Female    Maryland   26    1/1/2017   \n",
       "\n",
       "   n_dependants fam_status  income  \n",
       "0             3    married  165665  \n",
       "1             0     single   59285  \n",
       "2             2    married   99568  \n",
       "3             0     single   42049  \n",
       "4             1    married   40374  "
      ]
     },
     "execution_count": 7,
     "metadata": {},
     "output_type": "execute_result"
    }
   ],
   "source": [
    "# check headers and data\n",
    "df_cust.head()"
   ]
  },
  {
   "cell_type": "markdown",
   "id": "7001199d-49cc-48ad-9b7d-5da68ab279c7",
   "metadata": {},
   "source": [
    "I see naming issues: \n",
    "First Name---> first_name;\n",
    "Surnam-------> last_name;\t\n",
    "Gender-------> gender; \n",
    "STATE--------> state;\t\n",
    "Age----------> age;\n",
    "date_joined--> no change needed;\n",
    "n_dependants-> num_dependants;\t\n",
    "fam_status---> martial_status;\t\n",
    "income-------> no change needed;"
   ]
  },
  {
   "cell_type": "code",
   "execution_count": 8,
   "id": "0e26cb35-624f-4adc-b2fd-8d56fee85cb7",
   "metadata": {},
   "outputs": [
    {
     "data": {
      "text/html": [
       "<div>\n",
       "<style scoped>\n",
       "    .dataframe tbody tr th:only-of-type {\n",
       "        vertical-align: middle;\n",
       "    }\n",
       "\n",
       "    .dataframe tbody tr th {\n",
       "        vertical-align: top;\n",
       "    }\n",
       "\n",
       "    .dataframe thead th {\n",
       "        text-align: right;\n",
       "    }\n",
       "</style>\n",
       "<table border=\"1\" class=\"dataframe\">\n",
       "  <thead>\n",
       "    <tr style=\"text-align: right;\">\n",
       "      <th></th>\n",
       "      <th>user_id</th>\n",
       "      <th>Age</th>\n",
       "      <th>n_dependants</th>\n",
       "      <th>income</th>\n",
       "    </tr>\n",
       "  </thead>\n",
       "  <tbody>\n",
       "    <tr>\n",
       "      <th>count</th>\n",
       "      <td>206209.000000</td>\n",
       "      <td>206209.000000</td>\n",
       "      <td>206209.000000</td>\n",
       "      <td>206209.000000</td>\n",
       "    </tr>\n",
       "    <tr>\n",
       "      <th>mean</th>\n",
       "      <td>103105.000000</td>\n",
       "      <td>49.501646</td>\n",
       "      <td>1.499823</td>\n",
       "      <td>94632.852548</td>\n",
       "    </tr>\n",
       "    <tr>\n",
       "      <th>std</th>\n",
       "      <td>59527.555167</td>\n",
       "      <td>18.480962</td>\n",
       "      <td>1.118433</td>\n",
       "      <td>42473.786988</td>\n",
       "    </tr>\n",
       "    <tr>\n",
       "      <th>min</th>\n",
       "      <td>1.000000</td>\n",
       "      <td>18.000000</td>\n",
       "      <td>0.000000</td>\n",
       "      <td>25903.000000</td>\n",
       "    </tr>\n",
       "    <tr>\n",
       "      <th>25%</th>\n",
       "      <td>51553.000000</td>\n",
       "      <td>33.000000</td>\n",
       "      <td>0.000000</td>\n",
       "      <td>59874.000000</td>\n",
       "    </tr>\n",
       "    <tr>\n",
       "      <th>50%</th>\n",
       "      <td>103105.000000</td>\n",
       "      <td>49.000000</td>\n",
       "      <td>1.000000</td>\n",
       "      <td>93547.000000</td>\n",
       "    </tr>\n",
       "    <tr>\n",
       "      <th>75%</th>\n",
       "      <td>154657.000000</td>\n",
       "      <td>66.000000</td>\n",
       "      <td>3.000000</td>\n",
       "      <td>124244.000000</td>\n",
       "    </tr>\n",
       "    <tr>\n",
       "      <th>max</th>\n",
       "      <td>206209.000000</td>\n",
       "      <td>81.000000</td>\n",
       "      <td>3.000000</td>\n",
       "      <td>593901.000000</td>\n",
       "    </tr>\n",
       "  </tbody>\n",
       "</table>\n",
       "</div>"
      ],
      "text/plain": [
       "             user_id            Age   n_dependants         income\n",
       "count  206209.000000  206209.000000  206209.000000  206209.000000\n",
       "mean   103105.000000      49.501646       1.499823   94632.852548\n",
       "std     59527.555167      18.480962       1.118433   42473.786988\n",
       "min         1.000000      18.000000       0.000000   25903.000000\n",
       "25%     51553.000000      33.000000       0.000000   59874.000000\n",
       "50%    103105.000000      49.000000       1.000000   93547.000000\n",
       "75%    154657.000000      66.000000       3.000000  124244.000000\n",
       "max    206209.000000      81.000000       3.000000  593901.000000"
      ]
     },
     "execution_count": 8,
     "metadata": {},
     "output_type": "execute_result"
    }
   ],
   "source": [
    "# basic info from the dataset\n",
    "df_cust.describe()"
   ]
  },
  {
   "cell_type": "markdown",
   "id": "be88d71a-ac2c-4703-8540-8690bb909fd3",
   "metadata": {},
   "source": [
    "#### Wrangle Headers"
   ]
  },
  {
   "cell_type": "markdown",
   "id": "0b83edd3-9697-435e-ac4c-3561c343a89d",
   "metadata": {},
   "source": [
    "Headers need to be fixed and missing values in first_name need investigation"
   ]
  },
  {
   "cell_type": "code",
   "execution_count": 9,
   "id": "94fafb99-5b73-4e14-bd84-f613c1850ae9",
   "metadata": {},
   "outputs": [],
   "source": [
    "# Edit headers to be correct\n",
    "# Make everythign lowercase for consistency\n",
    "df_cust.rename(columns={\n",
    "    'First Name': 'first_name',\n",
    "    'Surnam': 'last_name', # change to last_name, easier to understand \n",
    "    'Gender': 'gender',\n",
    "    'STATE': 'state',\n",
    "    'Age': 'age',\n",
    "    'date_joined': 'date_joined', \n",
    "    'n_dependants': 'num_dependents', # changed to num_dependents, easier to understand\n",
    "    'fam_status': 'marital_status', # changed to marital_status, clearer and easier to understand \n",
    "    'income': 'income'}, inplace=True) \n"
   ]
  },
  {
   "cell_type": "code",
   "execution_count": 10,
   "id": "9ec4b781-b4fc-4f08-93fb-f1978bfa9018",
   "metadata": {
    "scrolled": true
   },
   "outputs": [
    {
     "data": {
      "text/html": [
       "<div>\n",
       "<style scoped>\n",
       "    .dataframe tbody tr th:only-of-type {\n",
       "        vertical-align: middle;\n",
       "    }\n",
       "\n",
       "    .dataframe tbody tr th {\n",
       "        vertical-align: top;\n",
       "    }\n",
       "\n",
       "    .dataframe thead th {\n",
       "        text-align: right;\n",
       "    }\n",
       "</style>\n",
       "<table border=\"1\" class=\"dataframe\">\n",
       "  <thead>\n",
       "    <tr style=\"text-align: right;\">\n",
       "      <th></th>\n",
       "      <th>user_id</th>\n",
       "      <th>first_name</th>\n",
       "      <th>last_name</th>\n",
       "      <th>gender</th>\n",
       "      <th>state</th>\n",
       "      <th>age</th>\n",
       "      <th>date_joined</th>\n",
       "      <th>num_dependents</th>\n",
       "      <th>marital_status</th>\n",
       "      <th>income</th>\n",
       "    </tr>\n",
       "  </thead>\n",
       "  <tbody>\n",
       "    <tr>\n",
       "      <th>0</th>\n",
       "      <td>26711</td>\n",
       "      <td>Deborah</td>\n",
       "      <td>Esquivel</td>\n",
       "      <td>Female</td>\n",
       "      <td>Missouri</td>\n",
       "      <td>48</td>\n",
       "      <td>1/1/2017</td>\n",
       "      <td>3</td>\n",
       "      <td>married</td>\n",
       "      <td>165665</td>\n",
       "    </tr>\n",
       "    <tr>\n",
       "      <th>1</th>\n",
       "      <td>33890</td>\n",
       "      <td>Patricia</td>\n",
       "      <td>Hart</td>\n",
       "      <td>Female</td>\n",
       "      <td>New Mexico</td>\n",
       "      <td>36</td>\n",
       "      <td>1/1/2017</td>\n",
       "      <td>0</td>\n",
       "      <td>single</td>\n",
       "      <td>59285</td>\n",
       "    </tr>\n",
       "    <tr>\n",
       "      <th>2</th>\n",
       "      <td>65803</td>\n",
       "      <td>Kenneth</td>\n",
       "      <td>Farley</td>\n",
       "      <td>Male</td>\n",
       "      <td>Idaho</td>\n",
       "      <td>35</td>\n",
       "      <td>1/1/2017</td>\n",
       "      <td>2</td>\n",
       "      <td>married</td>\n",
       "      <td>99568</td>\n",
       "    </tr>\n",
       "    <tr>\n",
       "      <th>3</th>\n",
       "      <td>125935</td>\n",
       "      <td>Michelle</td>\n",
       "      <td>Hicks</td>\n",
       "      <td>Female</td>\n",
       "      <td>Iowa</td>\n",
       "      <td>40</td>\n",
       "      <td>1/1/2017</td>\n",
       "      <td>0</td>\n",
       "      <td>single</td>\n",
       "      <td>42049</td>\n",
       "    </tr>\n",
       "    <tr>\n",
       "      <th>4</th>\n",
       "      <td>130797</td>\n",
       "      <td>Ann</td>\n",
       "      <td>Gilmore</td>\n",
       "      <td>Female</td>\n",
       "      <td>Maryland</td>\n",
       "      <td>26</td>\n",
       "      <td>1/1/2017</td>\n",
       "      <td>1</td>\n",
       "      <td>married</td>\n",
       "      <td>40374</td>\n",
       "    </tr>\n",
       "  </tbody>\n",
       "</table>\n",
       "</div>"
      ],
      "text/plain": [
       "   user_id first_name last_name  gender       state  age date_joined  \\\n",
       "0    26711    Deborah  Esquivel  Female    Missouri   48    1/1/2017   \n",
       "1    33890   Patricia      Hart  Female  New Mexico   36    1/1/2017   \n",
       "2    65803    Kenneth    Farley    Male       Idaho   35    1/1/2017   \n",
       "3   125935   Michelle     Hicks  Female        Iowa   40    1/1/2017   \n",
       "4   130797        Ann   Gilmore  Female    Maryland   26    1/1/2017   \n",
       "\n",
       "   num_dependents marital_status  income  \n",
       "0               3        married  165665  \n",
       "1               0         single   59285  \n",
       "2               2        married   99568  \n",
       "3               0         single   42049  \n",
       "4               1        married   40374  "
      ]
     },
     "execution_count": 10,
     "metadata": {},
     "output_type": "execute_result"
    }
   ],
   "source": [
    "# Work check on headers\n",
    "df_cust.head()"
   ]
  },
  {
   "cell_type": "markdown",
   "id": "578aec04-6184-43e3-b861-750ccdf9a181",
   "metadata": {},
   "source": [
    "Headers look good"
   ]
  },
  {
   "cell_type": "markdown",
   "id": "52e18365-ad9a-428c-8118-98a1f8712fd8",
   "metadata": {},
   "source": [
    "#### Wrangle Missing Values"
   ]
  },
  {
   "cell_type": "code",
   "execution_count": 11,
   "id": "7490ec74-4404-45f5-97c1-645b97679af8",
   "metadata": {},
   "outputs": [
    {
     "data": {
      "text/plain": [
       "first_name        11259\n",
       "user_id               0\n",
       "last_name             0\n",
       "gender                0\n",
       "state                 0\n",
       "age                   0\n",
       "date_joined           0\n",
       "num_dependents        0\n",
       "marital_status        0\n",
       "income                0\n",
       "dtype: int64"
      ]
     },
     "execution_count": 11,
     "metadata": {},
     "output_type": "execute_result"
    }
   ],
   "source": [
    "# Check the columns for missing data\n",
    "df_cust.isnull().sum().sort_values(ascending=False)"
   ]
  },
  {
   "cell_type": "code",
   "execution_count": 12,
   "id": "0756f504-df35-473c-a661-bfeb0c793dec",
   "metadata": {},
   "outputs": [
    {
     "data": {
      "text/plain": [
       "np.int64(11259)"
      ]
     },
     "execution_count": 12,
     "metadata": {},
     "output_type": "execute_result"
    }
   ],
   "source": [
    "df_cust['first_name'].isnull().sum()"
   ]
  },
  {
   "cell_type": "code",
   "execution_count": 13,
   "id": "b18a8d71-0096-4e84-9e15-dcf154e74cf5",
   "metadata": {},
   "outputs": [
    {
     "name": "stdout",
     "output_type": "stream",
     "text": [
      "5.46% missing\n"
     ]
    }
   ],
   "source": [
    "# percentage missing from the column\n",
    "missing_count = 11259\n",
    "total_rows = 206209\n",
    "missing_pct = (missing_count / total_rows) * 100\n",
    "print(f\"{missing_pct:.2f}% missing\")"
   ]
  },
  {
   "cell_type": "markdown",
   "id": "01c68378-9ac7-49f0-a057-47cea4278322",
   "metadata": {},
   "source": [
    "I checked the csv in Excel and there are actual blanks in the first name column. I will fill blanks with NaN"
   ]
  },
  {
   "cell_type": "code",
   "execution_count": 14,
   "id": "36d41ddb-199f-4e68-82ae-3761339f1f3e",
   "metadata": {},
   "outputs": [
    {
     "name": "stderr",
     "output_type": "stream",
     "text": [
      "C:\\Users\\Chase\\AppData\\Local\\Temp\\ipykernel_4768\\3855769578.py:2: FutureWarning: A value is trying to be set on a copy of a DataFrame or Series through chained assignment using an inplace method.\n",
      "The behavior will change in pandas 3.0. This inplace method will never work because the intermediate object on which we are setting values always behaves as a copy.\n",
      "\n",
      "For example, when doing 'df[col].method(value, inplace=True)', try using 'df.method({col: value}, inplace=True)' or df[col] = df[col].method(value) instead, to perform the operation inplace on the original object.\n",
      "\n",
      "\n",
      "  df_cust['first_name'].replace('', np.nan, inplace=True)\n"
     ]
    }
   ],
   "source": [
    "# Changing the blanks \"\" to NaN\n",
    "df_cust['first_name'].replace('', np.nan, inplace=True)"
   ]
  },
  {
   "cell_type": "code",
   "execution_count": 15,
   "id": "87d44321-00ac-4694-bf83-29d917a7c097",
   "metadata": {},
   "outputs": [],
   "source": [
    "# Flag the missing first_names just in case\n",
    "df_cust['missing_first_name'] = df_cust['first_name'].isna()"
   ]
  },
  {
   "cell_type": "code",
   "execution_count": 16,
   "id": "186a4f8a-9afa-49b5-bde4-e6315b7ef907",
   "metadata": {},
   "outputs": [
    {
     "data": {
      "text/html": [
       "<div>\n",
       "<style scoped>\n",
       "    .dataframe tbody tr th:only-of-type {\n",
       "        vertical-align: middle;\n",
       "    }\n",
       "\n",
       "    .dataframe tbody tr th {\n",
       "        vertical-align: top;\n",
       "    }\n",
       "\n",
       "    .dataframe thead th {\n",
       "        text-align: right;\n",
       "    }\n",
       "</style>\n",
       "<table border=\"1\" class=\"dataframe\">\n",
       "  <thead>\n",
       "    <tr style=\"text-align: right;\">\n",
       "      <th></th>\n",
       "      <th>user_id</th>\n",
       "      <th>first_name</th>\n",
       "      <th>last_name</th>\n",
       "      <th>gender</th>\n",
       "      <th>state</th>\n",
       "      <th>age</th>\n",
       "      <th>date_joined</th>\n",
       "      <th>num_dependents</th>\n",
       "      <th>marital_status</th>\n",
       "      <th>income</th>\n",
       "      <th>missing_first_name</th>\n",
       "    </tr>\n",
       "  </thead>\n",
       "  <tbody>\n",
       "    <tr>\n",
       "      <th>0</th>\n",
       "      <td>26711</td>\n",
       "      <td>Deborah</td>\n",
       "      <td>Esquivel</td>\n",
       "      <td>Female</td>\n",
       "      <td>Missouri</td>\n",
       "      <td>48</td>\n",
       "      <td>1/1/2017</td>\n",
       "      <td>3</td>\n",
       "      <td>married</td>\n",
       "      <td>165665</td>\n",
       "      <td>False</td>\n",
       "    </tr>\n",
       "    <tr>\n",
       "      <th>1</th>\n",
       "      <td>33890</td>\n",
       "      <td>Patricia</td>\n",
       "      <td>Hart</td>\n",
       "      <td>Female</td>\n",
       "      <td>New Mexico</td>\n",
       "      <td>36</td>\n",
       "      <td>1/1/2017</td>\n",
       "      <td>0</td>\n",
       "      <td>single</td>\n",
       "      <td>59285</td>\n",
       "      <td>False</td>\n",
       "    </tr>\n",
       "    <tr>\n",
       "      <th>2</th>\n",
       "      <td>65803</td>\n",
       "      <td>Kenneth</td>\n",
       "      <td>Farley</td>\n",
       "      <td>Male</td>\n",
       "      <td>Idaho</td>\n",
       "      <td>35</td>\n",
       "      <td>1/1/2017</td>\n",
       "      <td>2</td>\n",
       "      <td>married</td>\n",
       "      <td>99568</td>\n",
       "      <td>False</td>\n",
       "    </tr>\n",
       "    <tr>\n",
       "      <th>3</th>\n",
       "      <td>125935</td>\n",
       "      <td>Michelle</td>\n",
       "      <td>Hicks</td>\n",
       "      <td>Female</td>\n",
       "      <td>Iowa</td>\n",
       "      <td>40</td>\n",
       "      <td>1/1/2017</td>\n",
       "      <td>0</td>\n",
       "      <td>single</td>\n",
       "      <td>42049</td>\n",
       "      <td>False</td>\n",
       "    </tr>\n",
       "    <tr>\n",
       "      <th>4</th>\n",
       "      <td>130797</td>\n",
       "      <td>Ann</td>\n",
       "      <td>Gilmore</td>\n",
       "      <td>Female</td>\n",
       "      <td>Maryland</td>\n",
       "      <td>26</td>\n",
       "      <td>1/1/2017</td>\n",
       "      <td>1</td>\n",
       "      <td>married</td>\n",
       "      <td>40374</td>\n",
       "      <td>False</td>\n",
       "    </tr>\n",
       "  </tbody>\n",
       "</table>\n",
       "</div>"
      ],
      "text/plain": [
       "   user_id first_name last_name  gender       state  age date_joined  \\\n",
       "0    26711    Deborah  Esquivel  Female    Missouri   48    1/1/2017   \n",
       "1    33890   Patricia      Hart  Female  New Mexico   36    1/1/2017   \n",
       "2    65803    Kenneth    Farley    Male       Idaho   35    1/1/2017   \n",
       "3   125935   Michelle     Hicks  Female        Iowa   40    1/1/2017   \n",
       "4   130797        Ann   Gilmore  Female    Maryland   26    1/1/2017   \n",
       "\n",
       "   num_dependents marital_status  income  missing_first_name  \n",
       "0               3        married  165665               False  \n",
       "1               0         single   59285               False  \n",
       "2               2        married   99568               False  \n",
       "3               0         single   42049               False  \n",
       "4               1        married   40374               False  "
      ]
     },
     "execution_count": 16,
     "metadata": {},
     "output_type": "execute_result"
    }
   ],
   "source": [
    "# work check\n",
    "df_cust.head()"
   ]
  },
  {
   "cell_type": "code",
   "execution_count": 17,
   "id": "d13377ca-9eca-4fa0-9441-cc5b8a1c9d5c",
   "metadata": {},
   "outputs": [
    {
     "data": {
      "text/plain": [
       "missing_first_name\n",
       "False    194950\n",
       "True      11259\n",
       "Name: count, dtype: int64"
      ]
     },
     "execution_count": 17,
     "metadata": {},
     "output_type": "execute_result"
    }
   ],
   "source": [
    "# work check\n",
    "df_cust['missing_first_name'].value_counts()"
   ]
  },
  {
   "cell_type": "markdown",
   "id": "c96c2999-91df-4283-8bf5-9e3c4dc0d15e",
   "metadata": {},
   "source": [
    "True value matches the number of missing values."
   ]
  },
  {
   "cell_type": "markdown",
   "id": "74981e86-a280-4bdb-b8dc-f7f4e750f03a",
   "metadata": {},
   "source": [
    "#### Investigate Mixed Types "
   ]
  },
  {
   "cell_type": "code",
   "execution_count": 18,
   "id": "67b0cffe-241a-467e-8e99-6a063756b1a5",
   "metadata": {},
   "outputs": [
    {
     "data": {
      "text/plain": [
       "user_id                int64\n",
       "first_name            object\n",
       "last_name             object\n",
       "gender                object\n",
       "state                 object\n",
       "age                    int64\n",
       "date_joined           object\n",
       "num_dependents         int64\n",
       "marital_status        object\n",
       "income                 int64\n",
       "missing_first_name      bool\n",
       "dtype: object"
      ]
     },
     "execution_count": 18,
     "metadata": {},
     "output_type": "execute_result"
    }
   ],
   "source": [
    "df_cust.dtypes"
   ]
  },
  {
   "cell_type": "code",
   "execution_count": 19,
   "id": "49041267-d2b7-4618-9e4c-1e46526a3e43",
   "metadata": {},
   "outputs": [
    {
     "name": "stdout",
     "output_type": "stream",
     "text": [
      "first_name:\n",
      "first_name\n",
      "<class 'str'>      194950\n",
      "<class 'float'>     11259\n",
      "Name: count, dtype: int64 \n",
      "\n",
      "last_name:\n",
      "last_name\n",
      "<class 'str'>    206209\n",
      "Name: count, dtype: int64 \n",
      "\n",
      "gender:\n",
      "gender\n",
      "<class 'str'>    206209\n",
      "Name: count, dtype: int64 \n",
      "\n",
      "state:\n",
      "state\n",
      "<class 'str'>    206209\n",
      "Name: count, dtype: int64 \n",
      "\n",
      "date_joined:\n",
      "date_joined\n",
      "<class 'str'>    206209\n",
      "Name: count, dtype: int64 \n",
      "\n",
      "marital_status:\n",
      "marital_status\n",
      "<class 'str'>    206209\n",
      "Name: count, dtype: int64 \n",
      "\n"
     ]
    }
   ],
   "source": [
    "# A closer look into the dtypes\n",
    "for col in df_cust.select_dtypes(include='object').columns:\n",
    "    print(f\"{col}:\")\n",
    "    print(df_cust[col].apply(type).value_counts(), \"\\n\")"
   ]
  },
  {
   "cell_type": "markdown",
   "id": "9ee970a1-f4f1-45fc-ae44-e8667bcfc169",
   "metadata": {},
   "source": [
    "The floats are the missing values I just changed to NaN and apperently Pandas treats them as floats. So, looks good to me"
   ]
  },
  {
   "cell_type": "code",
   "execution_count": 20,
   "id": "06f09914-5582-45da-8ad4-8622955e2248",
   "metadata": {},
   "outputs": [
    {
     "data": {
      "text/plain": [
       "order_id                     int64\n",
       "product_id                   int64\n",
       "add_to_cart_order            int64\n",
       "reordered                    int64\n",
       "user_id                      int64\n",
       "order_number                 int64\n",
       "orders_day_of_week           int64\n",
       "order_hour_of_day            int64\n",
       "days_since_prior_order     float64\n",
       "first_order                   bool\n",
       "product_name                object\n",
       "aisle_id                   float64\n",
       "department_id              float64\n",
       "prices                     float64\n",
       "_merge                    category\n",
       "price_range                 object\n",
       "busiest_day                 object\n",
       "busiest_period_of_day       object\n",
       "dtype: object"
      ]
     },
     "execution_count": 20,
     "metadata": {},
     "output_type": "execute_result"
    }
   ],
   "source": [
    "# Checking user_id types match\n",
    "df_ords_prods_merge.dtypes"
   ]
  },
  {
   "cell_type": "code",
   "execution_count": 21,
   "id": "eae361b9-7bf5-4770-9640-a72ba95f91c2",
   "metadata": {},
   "outputs": [],
   "source": [
    "# Reorganizing columns to make the dataframe more intuitive\n",
    "df_ords_prods_merge = df_ords_prods_merge[\n",
    "    [\n",
    "        'user_id', 'order_id', 'product_id',\n",
    "        'order_number', 'orders_day_of_week', 'order_hour_of_day', 'days_since_prior_order', 'first_order',\n",
    "        'product_name', 'aisle_id', 'department_id', 'prices', 'price_range',\n",
    "        'add_to_cart_order', 'reordered',\n",
    "        '_merge', 'busiest_day', 'busiest_period_of_day'\n",
    "    ]\n",
    "]"
   ]
  },
  {
   "cell_type": "code",
   "execution_count": 22,
   "id": "d0b0362f-58d7-439b-bd70-4f74e5aa1094",
   "metadata": {},
   "outputs": [
    {
     "data": {
      "text/html": [
       "<div>\n",
       "<style scoped>\n",
       "    .dataframe tbody tr th:only-of-type {\n",
       "        vertical-align: middle;\n",
       "    }\n",
       "\n",
       "    .dataframe tbody tr th {\n",
       "        vertical-align: top;\n",
       "    }\n",
       "\n",
       "    .dataframe thead th {\n",
       "        text-align: right;\n",
       "    }\n",
       "</style>\n",
       "<table border=\"1\" class=\"dataframe\">\n",
       "  <thead>\n",
       "    <tr style=\"text-align: right;\">\n",
       "      <th></th>\n",
       "      <th>user_id</th>\n",
       "      <th>order_id</th>\n",
       "      <th>product_id</th>\n",
       "      <th>order_number</th>\n",
       "      <th>orders_day_of_week</th>\n",
       "      <th>order_hour_of_day</th>\n",
       "      <th>days_since_prior_order</th>\n",
       "      <th>first_order</th>\n",
       "      <th>product_name</th>\n",
       "      <th>aisle_id</th>\n",
       "      <th>department_id</th>\n",
       "      <th>prices</th>\n",
       "      <th>price_range</th>\n",
       "      <th>add_to_cart_order</th>\n",
       "      <th>reordered</th>\n",
       "      <th>_merge</th>\n",
       "      <th>busiest_day</th>\n",
       "      <th>busiest_period_of_day</th>\n",
       "    </tr>\n",
       "  </thead>\n",
       "  <tbody>\n",
       "    <tr>\n",
       "      <th>0</th>\n",
       "      <td>202279</td>\n",
       "      <td>2</td>\n",
       "      <td>33120</td>\n",
       "      <td>3</td>\n",
       "      <td>5</td>\n",
       "      <td>9</td>\n",
       "      <td>8.0</td>\n",
       "      <td>False</td>\n",
       "      <td>Organic Egg Whites</td>\n",
       "      <td>86.0</td>\n",
       "      <td>16.0</td>\n",
       "      <td>11.3</td>\n",
       "      <td>Mid-range product</td>\n",
       "      <td>1</td>\n",
       "      <td>1</td>\n",
       "      <td>both</td>\n",
       "      <td>Regularly busy</td>\n",
       "      <td>Most orders</td>\n",
       "    </tr>\n",
       "    <tr>\n",
       "      <th>1</th>\n",
       "      <td>202279</td>\n",
       "      <td>2</td>\n",
       "      <td>28985</td>\n",
       "      <td>3</td>\n",
       "      <td>5</td>\n",
       "      <td>9</td>\n",
       "      <td>8.0</td>\n",
       "      <td>False</td>\n",
       "      <td>Michigan Organic Kale</td>\n",
       "      <td>83.0</td>\n",
       "      <td>4.0</td>\n",
       "      <td>13.4</td>\n",
       "      <td>Mid-range product</td>\n",
       "      <td>2</td>\n",
       "      <td>1</td>\n",
       "      <td>both</td>\n",
       "      <td>Regularly busy</td>\n",
       "      <td>Most orders</td>\n",
       "    </tr>\n",
       "    <tr>\n",
       "      <th>2</th>\n",
       "      <td>202279</td>\n",
       "      <td>2</td>\n",
       "      <td>9327</td>\n",
       "      <td>3</td>\n",
       "      <td>5</td>\n",
       "      <td>9</td>\n",
       "      <td>8.0</td>\n",
       "      <td>False</td>\n",
       "      <td>Garlic Powder</td>\n",
       "      <td>104.0</td>\n",
       "      <td>13.0</td>\n",
       "      <td>3.6</td>\n",
       "      <td>Low-range product</td>\n",
       "      <td>3</td>\n",
       "      <td>0</td>\n",
       "      <td>both</td>\n",
       "      <td>Regularly busy</td>\n",
       "      <td>Most orders</td>\n",
       "    </tr>\n",
       "    <tr>\n",
       "      <th>3</th>\n",
       "      <td>202279</td>\n",
       "      <td>2</td>\n",
       "      <td>45918</td>\n",
       "      <td>3</td>\n",
       "      <td>5</td>\n",
       "      <td>9</td>\n",
       "      <td>8.0</td>\n",
       "      <td>False</td>\n",
       "      <td>Coconut Butter</td>\n",
       "      <td>19.0</td>\n",
       "      <td>13.0</td>\n",
       "      <td>8.4</td>\n",
       "      <td>Mid-range product</td>\n",
       "      <td>4</td>\n",
       "      <td>1</td>\n",
       "      <td>both</td>\n",
       "      <td>Regularly busy</td>\n",
       "      <td>Most orders</td>\n",
       "    </tr>\n",
       "    <tr>\n",
       "      <th>4</th>\n",
       "      <td>202279</td>\n",
       "      <td>2</td>\n",
       "      <td>30035</td>\n",
       "      <td>3</td>\n",
       "      <td>5</td>\n",
       "      <td>9</td>\n",
       "      <td>8.0</td>\n",
       "      <td>False</td>\n",
       "      <td>Natural Sweetener</td>\n",
       "      <td>17.0</td>\n",
       "      <td>13.0</td>\n",
       "      <td>13.7</td>\n",
       "      <td>Mid-range product</td>\n",
       "      <td>5</td>\n",
       "      <td>0</td>\n",
       "      <td>both</td>\n",
       "      <td>Regularly busy</td>\n",
       "      <td>Most orders</td>\n",
       "    </tr>\n",
       "  </tbody>\n",
       "</table>\n",
       "</div>"
      ],
      "text/plain": [
       "   user_id  order_id  product_id  order_number  orders_day_of_week  \\\n",
       "0   202279         2       33120             3                   5   \n",
       "1   202279         2       28985             3                   5   \n",
       "2   202279         2        9327             3                   5   \n",
       "3   202279         2       45918             3                   5   \n",
       "4   202279         2       30035             3                   5   \n",
       "\n",
       "   order_hour_of_day  days_since_prior_order  first_order  \\\n",
       "0                  9                     8.0        False   \n",
       "1                  9                     8.0        False   \n",
       "2                  9                     8.0        False   \n",
       "3                  9                     8.0        False   \n",
       "4                  9                     8.0        False   \n",
       "\n",
       "            product_name  aisle_id  department_id  prices        price_range  \\\n",
       "0     Organic Egg Whites      86.0           16.0    11.3  Mid-range product   \n",
       "1  Michigan Organic Kale      83.0            4.0    13.4  Mid-range product   \n",
       "2          Garlic Powder     104.0           13.0     3.6  Low-range product   \n",
       "3         Coconut Butter      19.0           13.0     8.4  Mid-range product   \n",
       "4      Natural Sweetener      17.0           13.0    13.7  Mid-range product   \n",
       "\n",
       "   add_to_cart_order  reordered _merge     busiest_day busiest_period_of_day  \n",
       "0                  1          1   both  Regularly busy           Most orders  \n",
       "1                  2          1   both  Regularly busy           Most orders  \n",
       "2                  3          0   both  Regularly busy           Most orders  \n",
       "3                  4          1   both  Regularly busy           Most orders  \n",
       "4                  5          0   both  Regularly busy           Most orders  "
      ]
     },
     "execution_count": 22,
     "metadata": {},
     "output_type": "execute_result"
    }
   ],
   "source": [
    "df_ords_prods_merge.head()"
   ]
  },
  {
   "cell_type": "markdown",
   "id": "83a583e0-119b-4b08-add5-c470deabcc93",
   "metadata": {},
   "source": [
    "#### Duplicate Check"
   ]
  },
  {
   "cell_type": "code",
   "execution_count": 23,
   "id": "bffd3500-7a5d-44ad-ab1d-7079a766084b",
   "metadata": {},
   "outputs": [
    {
     "data": {
      "text/plain": [
       "np.int64(0)"
      ]
     },
     "execution_count": 23,
     "metadata": {},
     "output_type": "execute_result"
    }
   ],
   "source": [
    "# Check for duplicates\n",
    "df_ords_prods_merge.duplicated().sum()"
   ]
  },
  {
   "cell_type": "markdown",
   "id": "064a8b66-5a46-44fd-934a-fc4b9f44fd48",
   "metadata": {},
   "source": [
    "No duplicates"
   ]
  },
  {
   "cell_type": "markdown",
   "id": "ea0a08c0-0d92-4c15-9e72-910f41493eca",
   "metadata": {},
   "source": [
    "# Merge"
   ]
  },
  {
   "cell_type": "code",
   "execution_count": 24,
   "id": "a14453a4-5c4a-489c-8b12-7043fc10744a",
   "metadata": {},
   "outputs": [
    {
     "data": {
      "text/plain": [
       "(206209, 11)"
      ]
     },
     "execution_count": 24,
     "metadata": {},
     "output_type": "execute_result"
    }
   ],
   "source": [
    "# Check shape of df_cust\n",
    "df_cust.shape"
   ]
  },
  {
   "cell_type": "code",
   "execution_count": 25,
   "id": "b1a5d757-09be-49e9-ab59-1851bc12c2e8",
   "metadata": {},
   "outputs": [
    {
     "data": {
      "text/plain": [
       "(32435059, 18)"
      ]
     },
     "execution_count": 25,
     "metadata": {},
     "output_type": "execute_result"
    }
   ],
   "source": [
    "# check the shape of df_ords_prods_merge\n",
    "df_ords_prods_merge.shape"
   ]
  },
  {
   "cell_type": "markdown",
   "id": "c0d5c72e-484f-4d76-83d9-7dc1f1f5da28",
   "metadata": {},
   "source": [
    "I want to double check if these numbers make sense. Could there really be only 206,209 customers and then all of them have made over 32M orders?"
   ]
  },
  {
   "cell_type": "code",
   "execution_count": 26,
   "id": "cd5c0943-8c84-408a-a8e1-cdf554c25ad5",
   "metadata": {},
   "outputs": [
    {
     "data": {
      "text/plain": [
       "206209"
      ]
     },
     "execution_count": 26,
     "metadata": {},
     "output_type": "execute_result"
    }
   ],
   "source": [
    "# How many unique customer IDs are in the orders dataset?\n",
    "df_ords_prods_merge['user_id'].nunique()  # Should be close to 206,209"
   ]
  },
  {
   "cell_type": "markdown",
   "id": "5955a867-1f88-4112-ac34-425c784c3b80",
   "metadata": {},
   "source": [
    "Boom! Looks like the two datasets will merge just fine and not have NaNs"
   ]
  },
  {
   "cell_type": "code",
   "execution_count": 27,
   "id": "c6088d5c-b30e-48ad-8762-1466a1149edd",
   "metadata": {},
   "outputs": [],
   "source": [
    "# Merge df_cust to df_ords_prods_merge using left merge\n",
    "df_ords_prods_merge = df_ords_prods_merge.merge(df_cust, on='user_id', how='left')"
   ]
  },
  {
   "cell_type": "code",
   "execution_count": 28,
   "id": "7f5123b1-7359-402d-ad6b-79be9fdee8d4",
   "metadata": {},
   "outputs": [
    {
     "data": {
      "text/html": [
       "<div>\n",
       "<style scoped>\n",
       "    .dataframe tbody tr th:only-of-type {\n",
       "        vertical-align: middle;\n",
       "    }\n",
       "\n",
       "    .dataframe tbody tr th {\n",
       "        vertical-align: top;\n",
       "    }\n",
       "\n",
       "    .dataframe thead th {\n",
       "        text-align: right;\n",
       "    }\n",
       "</style>\n",
       "<table border=\"1\" class=\"dataframe\">\n",
       "  <thead>\n",
       "    <tr style=\"text-align: right;\">\n",
       "      <th></th>\n",
       "      <th>user_id</th>\n",
       "      <th>order_id</th>\n",
       "      <th>product_id</th>\n",
       "      <th>order_number</th>\n",
       "      <th>orders_day_of_week</th>\n",
       "      <th>order_hour_of_day</th>\n",
       "      <th>days_since_prior_order</th>\n",
       "      <th>first_order</th>\n",
       "      <th>product_name</th>\n",
       "      <th>aisle_id</th>\n",
       "      <th>...</th>\n",
       "      <th>first_name</th>\n",
       "      <th>last_name</th>\n",
       "      <th>gender</th>\n",
       "      <th>state</th>\n",
       "      <th>age</th>\n",
       "      <th>date_joined</th>\n",
       "      <th>num_dependents</th>\n",
       "      <th>marital_status</th>\n",
       "      <th>income</th>\n",
       "      <th>missing_first_name</th>\n",
       "    </tr>\n",
       "  </thead>\n",
       "  <tbody>\n",
       "    <tr>\n",
       "      <th>0</th>\n",
       "      <td>202279</td>\n",
       "      <td>2</td>\n",
       "      <td>33120</td>\n",
       "      <td>3</td>\n",
       "      <td>5</td>\n",
       "      <td>9</td>\n",
       "      <td>8.0</td>\n",
       "      <td>False</td>\n",
       "      <td>Organic Egg Whites</td>\n",
       "      <td>86.0</td>\n",
       "      <td>...</td>\n",
       "      <td>Paul</td>\n",
       "      <td>Coleman</td>\n",
       "      <td>Male</td>\n",
       "      <td>Idaho</td>\n",
       "      <td>57</td>\n",
       "      <td>2/6/2020</td>\n",
       "      <td>3</td>\n",
       "      <td>married</td>\n",
       "      <td>98119</td>\n",
       "      <td>False</td>\n",
       "    </tr>\n",
       "    <tr>\n",
       "      <th>1</th>\n",
       "      <td>202279</td>\n",
       "      <td>2</td>\n",
       "      <td>28985</td>\n",
       "      <td>3</td>\n",
       "      <td>5</td>\n",
       "      <td>9</td>\n",
       "      <td>8.0</td>\n",
       "      <td>False</td>\n",
       "      <td>Michigan Organic Kale</td>\n",
       "      <td>83.0</td>\n",
       "      <td>...</td>\n",
       "      <td>Paul</td>\n",
       "      <td>Coleman</td>\n",
       "      <td>Male</td>\n",
       "      <td>Idaho</td>\n",
       "      <td>57</td>\n",
       "      <td>2/6/2020</td>\n",
       "      <td>3</td>\n",
       "      <td>married</td>\n",
       "      <td>98119</td>\n",
       "      <td>False</td>\n",
       "    </tr>\n",
       "    <tr>\n",
       "      <th>2</th>\n",
       "      <td>202279</td>\n",
       "      <td>2</td>\n",
       "      <td>9327</td>\n",
       "      <td>3</td>\n",
       "      <td>5</td>\n",
       "      <td>9</td>\n",
       "      <td>8.0</td>\n",
       "      <td>False</td>\n",
       "      <td>Garlic Powder</td>\n",
       "      <td>104.0</td>\n",
       "      <td>...</td>\n",
       "      <td>Paul</td>\n",
       "      <td>Coleman</td>\n",
       "      <td>Male</td>\n",
       "      <td>Idaho</td>\n",
       "      <td>57</td>\n",
       "      <td>2/6/2020</td>\n",
       "      <td>3</td>\n",
       "      <td>married</td>\n",
       "      <td>98119</td>\n",
       "      <td>False</td>\n",
       "    </tr>\n",
       "    <tr>\n",
       "      <th>3</th>\n",
       "      <td>202279</td>\n",
       "      <td>2</td>\n",
       "      <td>45918</td>\n",
       "      <td>3</td>\n",
       "      <td>5</td>\n",
       "      <td>9</td>\n",
       "      <td>8.0</td>\n",
       "      <td>False</td>\n",
       "      <td>Coconut Butter</td>\n",
       "      <td>19.0</td>\n",
       "      <td>...</td>\n",
       "      <td>Paul</td>\n",
       "      <td>Coleman</td>\n",
       "      <td>Male</td>\n",
       "      <td>Idaho</td>\n",
       "      <td>57</td>\n",
       "      <td>2/6/2020</td>\n",
       "      <td>3</td>\n",
       "      <td>married</td>\n",
       "      <td>98119</td>\n",
       "      <td>False</td>\n",
       "    </tr>\n",
       "    <tr>\n",
       "      <th>4</th>\n",
       "      <td>202279</td>\n",
       "      <td>2</td>\n",
       "      <td>30035</td>\n",
       "      <td>3</td>\n",
       "      <td>5</td>\n",
       "      <td>9</td>\n",
       "      <td>8.0</td>\n",
       "      <td>False</td>\n",
       "      <td>Natural Sweetener</td>\n",
       "      <td>17.0</td>\n",
       "      <td>...</td>\n",
       "      <td>Paul</td>\n",
       "      <td>Coleman</td>\n",
       "      <td>Male</td>\n",
       "      <td>Idaho</td>\n",
       "      <td>57</td>\n",
       "      <td>2/6/2020</td>\n",
       "      <td>3</td>\n",
       "      <td>married</td>\n",
       "      <td>98119</td>\n",
       "      <td>False</td>\n",
       "    </tr>\n",
       "  </tbody>\n",
       "</table>\n",
       "<p>5 rows × 28 columns</p>\n",
       "</div>"
      ],
      "text/plain": [
       "   user_id  order_id  product_id  order_number  orders_day_of_week  \\\n",
       "0   202279         2       33120             3                   5   \n",
       "1   202279         2       28985             3                   5   \n",
       "2   202279         2        9327             3                   5   \n",
       "3   202279         2       45918             3                   5   \n",
       "4   202279         2       30035             3                   5   \n",
       "\n",
       "   order_hour_of_day  days_since_prior_order  first_order  \\\n",
       "0                  9                     8.0        False   \n",
       "1                  9                     8.0        False   \n",
       "2                  9                     8.0        False   \n",
       "3                  9                     8.0        False   \n",
       "4                  9                     8.0        False   \n",
       "\n",
       "            product_name  aisle_id  ...  first_name  last_name gender  state  \\\n",
       "0     Organic Egg Whites      86.0  ...        Paul    Coleman   Male  Idaho   \n",
       "1  Michigan Organic Kale      83.0  ...        Paul    Coleman   Male  Idaho   \n",
       "2          Garlic Powder     104.0  ...        Paul    Coleman   Male  Idaho   \n",
       "3         Coconut Butter      19.0  ...        Paul    Coleman   Male  Idaho   \n",
       "4      Natural Sweetener      17.0  ...        Paul    Coleman   Male  Idaho   \n",
       "\n",
       "   age date_joined num_dependents marital_status income missing_first_name  \n",
       "0   57    2/6/2020              3        married  98119              False  \n",
       "1   57    2/6/2020              3        married  98119              False  \n",
       "2   57    2/6/2020              3        married  98119              False  \n",
       "3   57    2/6/2020              3        married  98119              False  \n",
       "4   57    2/6/2020              3        married  98119              False  \n",
       "\n",
       "[5 rows x 28 columns]"
      ]
     },
     "execution_count": 28,
     "metadata": {},
     "output_type": "execute_result"
    }
   ],
   "source": [
    "df_ords_prods_merge.head()"
   ]
  },
  {
   "cell_type": "markdown",
   "id": "efdf903d-ea82-4bb2-a788-389dfea98c8a",
   "metadata": {},
   "source": [
    "Looks like the merge went well. I do see that the columns needs to be regorangized to make sense again."
   ]
  },
  {
   "cell_type": "code",
   "execution_count": 29,
   "id": "265cb3c3-e1bd-433c-89ed-f9254e197866",
   "metadata": {},
   "outputs": [],
   "source": [
    "# reorganize the columns after the new merge\n",
    "df_ords_prods_merge = df_ords_prods_merge[\n",
    "    ['user_id', 'first_name', 'last_name', 'gender', 'age', 'state', 'income',\n",
    "    'marital_status', 'num_dependents', 'date_joined', 'missing_first_name',\n",
    "    'order_id', 'order_number', 'orders_day_of_week', 'order_hour_of_day',\n",
    "    'days_since_prior_order', 'first_order',\n",
    "    'product_id', 'product_name', 'aisle_id'\n",
    "    # Add any engineered columns here\n",
    "    ]\n",
    "]"
   ]
  },
  {
   "cell_type": "code",
   "execution_count": 30,
   "id": "7d2ca3b2-bd2d-4fd2-bc8a-f7ac7af832c5",
   "metadata": {},
   "outputs": [
    {
     "data": {
      "text/html": [
       "<div>\n",
       "<style scoped>\n",
       "    .dataframe tbody tr th:only-of-type {\n",
       "        vertical-align: middle;\n",
       "    }\n",
       "\n",
       "    .dataframe tbody tr th {\n",
       "        vertical-align: top;\n",
       "    }\n",
       "\n",
       "    .dataframe thead th {\n",
       "        text-align: right;\n",
       "    }\n",
       "</style>\n",
       "<table border=\"1\" class=\"dataframe\">\n",
       "  <thead>\n",
       "    <tr style=\"text-align: right;\">\n",
       "      <th></th>\n",
       "      <th>user_id</th>\n",
       "      <th>first_name</th>\n",
       "      <th>last_name</th>\n",
       "      <th>gender</th>\n",
       "      <th>age</th>\n",
       "      <th>state</th>\n",
       "      <th>income</th>\n",
       "      <th>marital_status</th>\n",
       "      <th>num_dependents</th>\n",
       "      <th>date_joined</th>\n",
       "      <th>missing_first_name</th>\n",
       "      <th>order_id</th>\n",
       "      <th>order_number</th>\n",
       "      <th>orders_day_of_week</th>\n",
       "      <th>order_hour_of_day</th>\n",
       "      <th>days_since_prior_order</th>\n",
       "      <th>first_order</th>\n",
       "      <th>product_id</th>\n",
       "      <th>product_name</th>\n",
       "      <th>aisle_id</th>\n",
       "    </tr>\n",
       "  </thead>\n",
       "  <tbody>\n",
       "    <tr>\n",
       "      <th>0</th>\n",
       "      <td>202279</td>\n",
       "      <td>Paul</td>\n",
       "      <td>Coleman</td>\n",
       "      <td>Male</td>\n",
       "      <td>57</td>\n",
       "      <td>Idaho</td>\n",
       "      <td>98119</td>\n",
       "      <td>married</td>\n",
       "      <td>3</td>\n",
       "      <td>2/6/2020</td>\n",
       "      <td>False</td>\n",
       "      <td>2</td>\n",
       "      <td>3</td>\n",
       "      <td>5</td>\n",
       "      <td>9</td>\n",
       "      <td>8.0</td>\n",
       "      <td>False</td>\n",
       "      <td>33120</td>\n",
       "      <td>Organic Egg Whites</td>\n",
       "      <td>86.0</td>\n",
       "    </tr>\n",
       "    <tr>\n",
       "      <th>1</th>\n",
       "      <td>202279</td>\n",
       "      <td>Paul</td>\n",
       "      <td>Coleman</td>\n",
       "      <td>Male</td>\n",
       "      <td>57</td>\n",
       "      <td>Idaho</td>\n",
       "      <td>98119</td>\n",
       "      <td>married</td>\n",
       "      <td>3</td>\n",
       "      <td>2/6/2020</td>\n",
       "      <td>False</td>\n",
       "      <td>2</td>\n",
       "      <td>3</td>\n",
       "      <td>5</td>\n",
       "      <td>9</td>\n",
       "      <td>8.0</td>\n",
       "      <td>False</td>\n",
       "      <td>28985</td>\n",
       "      <td>Michigan Organic Kale</td>\n",
       "      <td>83.0</td>\n",
       "    </tr>\n",
       "    <tr>\n",
       "      <th>2</th>\n",
       "      <td>202279</td>\n",
       "      <td>Paul</td>\n",
       "      <td>Coleman</td>\n",
       "      <td>Male</td>\n",
       "      <td>57</td>\n",
       "      <td>Idaho</td>\n",
       "      <td>98119</td>\n",
       "      <td>married</td>\n",
       "      <td>3</td>\n",
       "      <td>2/6/2020</td>\n",
       "      <td>False</td>\n",
       "      <td>2</td>\n",
       "      <td>3</td>\n",
       "      <td>5</td>\n",
       "      <td>9</td>\n",
       "      <td>8.0</td>\n",
       "      <td>False</td>\n",
       "      <td>9327</td>\n",
       "      <td>Garlic Powder</td>\n",
       "      <td>104.0</td>\n",
       "    </tr>\n",
       "    <tr>\n",
       "      <th>3</th>\n",
       "      <td>202279</td>\n",
       "      <td>Paul</td>\n",
       "      <td>Coleman</td>\n",
       "      <td>Male</td>\n",
       "      <td>57</td>\n",
       "      <td>Idaho</td>\n",
       "      <td>98119</td>\n",
       "      <td>married</td>\n",
       "      <td>3</td>\n",
       "      <td>2/6/2020</td>\n",
       "      <td>False</td>\n",
       "      <td>2</td>\n",
       "      <td>3</td>\n",
       "      <td>5</td>\n",
       "      <td>9</td>\n",
       "      <td>8.0</td>\n",
       "      <td>False</td>\n",
       "      <td>45918</td>\n",
       "      <td>Coconut Butter</td>\n",
       "      <td>19.0</td>\n",
       "    </tr>\n",
       "    <tr>\n",
       "      <th>4</th>\n",
       "      <td>202279</td>\n",
       "      <td>Paul</td>\n",
       "      <td>Coleman</td>\n",
       "      <td>Male</td>\n",
       "      <td>57</td>\n",
       "      <td>Idaho</td>\n",
       "      <td>98119</td>\n",
       "      <td>married</td>\n",
       "      <td>3</td>\n",
       "      <td>2/6/2020</td>\n",
       "      <td>False</td>\n",
       "      <td>2</td>\n",
       "      <td>3</td>\n",
       "      <td>5</td>\n",
       "      <td>9</td>\n",
       "      <td>8.0</td>\n",
       "      <td>False</td>\n",
       "      <td>30035</td>\n",
       "      <td>Natural Sweetener</td>\n",
       "      <td>17.0</td>\n",
       "    </tr>\n",
       "  </tbody>\n",
       "</table>\n",
       "</div>"
      ],
      "text/plain": [
       "   user_id first_name last_name gender  age  state  income marital_status  \\\n",
       "0   202279       Paul   Coleman   Male   57  Idaho   98119        married   \n",
       "1   202279       Paul   Coleman   Male   57  Idaho   98119        married   \n",
       "2   202279       Paul   Coleman   Male   57  Idaho   98119        married   \n",
       "3   202279       Paul   Coleman   Male   57  Idaho   98119        married   \n",
       "4   202279       Paul   Coleman   Male   57  Idaho   98119        married   \n",
       "\n",
       "   num_dependents date_joined  missing_first_name  order_id  order_number  \\\n",
       "0               3    2/6/2020               False         2             3   \n",
       "1               3    2/6/2020               False         2             3   \n",
       "2               3    2/6/2020               False         2             3   \n",
       "3               3    2/6/2020               False         2             3   \n",
       "4               3    2/6/2020               False         2             3   \n",
       "\n",
       "   orders_day_of_week  order_hour_of_day  days_since_prior_order  first_order  \\\n",
       "0                   5                  9                     8.0        False   \n",
       "1                   5                  9                     8.0        False   \n",
       "2                   5                  9                     8.0        False   \n",
       "3                   5                  9                     8.0        False   \n",
       "4                   5                  9                     8.0        False   \n",
       "\n",
       "   product_id           product_name  aisle_id  \n",
       "0       33120     Organic Egg Whites      86.0  \n",
       "1       28985  Michigan Organic Kale      83.0  \n",
       "2        9327          Garlic Powder     104.0  \n",
       "3       45918         Coconut Butter      19.0  \n",
       "4       30035      Natural Sweetener      17.0  "
      ]
     },
     "execution_count": 30,
     "metadata": {},
     "output_type": "execute_result"
    }
   ],
   "source": [
    "# Check work\n",
    "df_ords_prods_merge.head()"
   ]
  },
  {
   "cell_type": "markdown",
   "id": "397023fa-7741-41d2-ac67-f50c3914e14d",
   "metadata": {},
   "source": [
    "# Export"
   ]
  },
  {
   "cell_type": "code",
   "execution_count": 33,
   "id": "3f25d5a1-5c94-4574-b571-be90500533b2",
   "metadata": {},
   "outputs": [],
   "source": [
    "# Pickle Export\n",
    "df_ords_prods_merge.to_pickle(os.path.join(path, '02 Data', 'Prepared Data', 'ords_prods_merge_v2.pkl'))"
   ]
  },
  {
   "cell_type": "code",
   "execution_count": 34,
   "id": "246101bc-7f91-4a76-b041-72779d991ec8",
   "metadata": {},
   "outputs": [
    {
     "data": {
      "text/plain": [
       "Index(['user_id', 'first_name', 'last_name', 'gender', 'age', 'state',\n",
       "       'income', 'marital_status', 'num_dependents', 'date_joined',\n",
       "       'missing_first_name', 'order_id', 'order_number', 'orders_day_of_week',\n",
       "       'order_hour_of_day', 'days_since_prior_order', 'first_order',\n",
       "       'product_id', 'product_name', 'aisle_id'],\n",
       "      dtype='object')"
      ]
     },
     "execution_count": 34,
     "metadata": {},
     "output_type": "execute_result"
    }
   ],
   "source": [
    "# Column Check\n",
    "df_ords_prods_merge.columns"
   ]
  }
 ],
 "metadata": {
  "kernelspec": {
   "display_name": "Python 3 (ipykernel)",
   "language": "python",
   "name": "python3"
  },
  "language_info": {
   "codemirror_mode": {
    "name": "ipython",
    "version": 3
   },
   "file_extension": ".py",
   "mimetype": "text/x-python",
   "name": "python",
   "nbconvert_exporter": "python",
   "pygments_lexer": "ipython3",
   "version": "3.13.5"
  }
 },
 "nbformat": 4,
 "nbformat_minor": 5
}
