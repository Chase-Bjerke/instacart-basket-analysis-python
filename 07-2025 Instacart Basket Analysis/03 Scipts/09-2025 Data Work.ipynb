{
 "cells": [
  {
   "cell_type": "markdown",
   "id": "32b8d3b0-7ad3-430b-a96c-d8dc212dc136",
   "metadata": {},
   "source": [
    "# Data Work"
   ]
  },
  {
   "cell_type": "markdown",
   "id": "f10c97ae-5b04-4965-9926-c3a7d885d29a",
   "metadata": {},
   "source": [
    "## Imports/Pathways"
   ]
  },
  {
   "cell_type": "code",
   "execution_count": 28,
   "id": "dee4d596-134a-4d78-af1b-e3cd2980ab25",
   "metadata": {},
   "outputs": [],
   "source": [
    "# Import libraries\n",
    "\n",
    "import pandas as pd\n",
    "import numpy as np\n",
    "import os\n",
    "import matplotlib.pyplot as plt\n",
    "import seaborn as sns\n",
    "import scipy"
   ]
  },
  {
   "cell_type": "code",
   "execution_count": 29,
   "id": "9f508741-556f-4c69-820f-000ca201705d",
   "metadata": {},
   "outputs": [],
   "source": [
    "# File pathway shortcut\n",
    "path = r'C:\\Users\\Chase\\anaconda_projects\\Exercise 4\\07-2025 Instacart Basket Analysis'"
   ]
  },
  {
   "cell_type": "code",
   "execution_count": 30,
   "id": "a3719288-eb08-4622-9eed-7c64aa32f0a5",
   "metadata": {},
   "outputs": [],
   "source": [
    "# Import original datasets\n",
    "\n",
    "orders = pd.read_csv(os.path.join(path, '02 Data', 'Original Data', 'orders.csv'), index_col=False)"
   ]
  },
  {
   "cell_type": "code",
   "execution_count": 31,
   "id": "f64eb2df-e5de-4e70-9edb-6c07ee180c72",
   "metadata": {},
   "outputs": [],
   "source": [
    "# Import original datasets\n",
    "\n",
    "orders_products_prior = pd.read_csv(os.path.join(path, '02 Data', 'Original Data', 'orders_products_prior.csv'), index_col=False)"
   ]
  },
  {
   "cell_type": "code",
   "execution_count": 32,
   "id": "73ea0cb7-9374-4fd6-8977-128728f66fe8",
   "metadata": {},
   "outputs": [],
   "source": [
    "# Import original datasets\n",
    "\n",
    "products = pd.read_csv(os.path.join(path, '02 Data', 'Original Data', 'products.csv'), index_col=False)"
   ]
  },
  {
   "cell_type": "code",
   "execution_count": 33,
   "id": "866403a4-c6af-4493-b533-e98904b5195f",
   "metadata": {},
   "outputs": [],
   "source": [
    "# Import original datasets\n",
    "\n",
    "departments = pd.read_csv(os.path.join(path, '02 Data', 'Original Data', 'departments.csv'), index_col=False)"
   ]
  },
  {
   "cell_type": "code",
   "execution_count": 34,
   "id": "01715ccf-77fa-4a5d-8698-e38f71dfc8ef",
   "metadata": {},
   "outputs": [],
   "source": [
    "# Import original datasets\n",
    "\n",
    "customers = pd.read_csv(os.path.join(path, '02 Data', 'Original Data', 'customers.csv'), index_col=False)"
   ]
  },
  {
   "cell_type": "code",
   "execution_count": 35,
   "id": "e3cdbba6-c1d9-42c2-936b-be422229826e",
   "metadata": {},
   "outputs": [],
   "source": [
    "# Imported prepared datasets\n",
    "departments_wrangled = pd.read_csv(os.path.join(path, '02 Data', 'Prepared Data', 'departments_wrangled.csv'))"
   ]
  },
  {
   "cell_type": "code",
   "execution_count": 36,
   "id": "87e6b700-ff30-47e4-98cd-ac83a3d6fb58",
   "metadata": {},
   "outputs": [],
   "source": [
    "# Imported prepared datasets\n",
    "orders_checked = pd.read_csv(os.path.join(path, '02 Data', 'Prepared Data', 'orders_checked.csv'))"
   ]
  },
  {
   "cell_type": "code",
   "execution_count": 37,
   "id": "0d696b0e-3414-41b6-804c-28b406bc5210",
   "metadata": {},
   "outputs": [],
   "source": [
    "# Imported prepared datasets\n",
    "orders_wrangled = pd.read_csv(os.path.join(path, '02 Data', 'Prepared Data', 'orders_wrangled.csv'))"
   ]
  },
  {
   "cell_type": "code",
   "execution_count": 38,
   "id": "8242c456-9dc9-47ff-b777-1310117bf589",
   "metadata": {},
   "outputs": [],
   "source": [
    "# Imported prepared datasets\n",
    "products_checked = pd.read_csv(os.path.join(path, '02 Data', 'Prepared Data', 'products_checked.csv'))"
   ]
  },
  {
   "cell_type": "code",
   "execution_count": 39,
   "id": "ba8871d6-3534-403d-80c1-fc304c1660af",
   "metadata": {},
   "outputs": [],
   "source": [
    "# Prepared file - Orders_Products_Customers_Merge (Clean)\n",
    "df_final = pd.read_pickle(os.path.join(path, '02 Data', 'Prepared Data', 'ords_prods_customers_merged.pkl'))"
   ]
  },
  {
   "cell_type": "code",
   "execution_count": 47,
   "id": "775cea2e-b526-4e09-bb5c-dde0f6eb4d5d",
   "metadata": {},
   "outputs": [],
   "source": [
    "# ords+prods_merge to export as pickle file\n",
    "# Prepared file - Orders_Products_Merge (Clean)\n",
    "df_ords_prods_merge = pd.read_pickle(os.path.join(path, '02 Data', 'Prepared Data', 'ords_prods_merge_temp.pkl'))"
   ]
  },
  {
   "cell_type": "markdown",
   "id": "55a78a5b-7613-4a1c-b61f-1cff0d613904",
   "metadata": {},
   "source": [
    "## Data Inspection"
   ]
  },
  {
   "cell_type": "code",
   "execution_count": 40,
   "id": "1f594a6c-b314-4e45-aab9-a92b83bf43e0",
   "metadata": {},
   "outputs": [],
   "source": [
    "# Rename df_final with df_final_data_work to keep og file safe\n",
    "df_final_data_work = df_final"
   ]
  },
  {
   "cell_type": "code",
   "execution_count": 41,
   "id": "7c61c40d-86ac-4b5e-bab2-ce75f1a19b20",
   "metadata": {},
   "outputs": [
    {
     "data": {
      "text/html": [
       "<div>\n",
       "<style scoped>\n",
       "    .dataframe tbody tr th:only-of-type {\n",
       "        vertical-align: middle;\n",
       "    }\n",
       "\n",
       "    .dataframe tbody tr th {\n",
       "        vertical-align: top;\n",
       "    }\n",
       "\n",
       "    .dataframe thead th {\n",
       "        text-align: right;\n",
       "    }\n",
       "</style>\n",
       "<table border=\"1\" class=\"dataframe\">\n",
       "  <thead>\n",
       "    <tr style=\"text-align: right;\">\n",
       "      <th></th>\n",
       "      <th>order_id</th>\n",
       "      <th>product_id</th>\n",
       "      <th>add_to_cart_order</th>\n",
       "      <th>reordered</th>\n",
       "      <th>user_id</th>\n",
       "      <th>order_number</th>\n",
       "      <th>orders_day_of_week</th>\n",
       "      <th>order_hour_of_day</th>\n",
       "      <th>days_since_prior_order</th>\n",
       "      <th>first_order</th>\n",
       "      <th>product_name</th>\n",
       "      <th>aisle_id</th>\n",
       "      <th>department_id</th>\n",
       "      <th>prices</th>\n",
       "      <th>_merge</th>\n",
       "      <th>price_range</th>\n",
       "      <th>busiest_day</th>\n",
       "      <th>busiest_period_of_day</th>\n",
       "      <th>max_order</th>\n",
       "      <th>loyalty_flag</th>\n",
       "    </tr>\n",
       "  </thead>\n",
       "  <tbody>\n",
       "    <tr>\n",
       "      <th>0</th>\n",
       "      <td>2</td>\n",
       "      <td>33120</td>\n",
       "      <td>1</td>\n",
       "      <td>1</td>\n",
       "      <td>202279</td>\n",
       "      <td>3</td>\n",
       "      <td>5</td>\n",
       "      <td>9</td>\n",
       "      <td>8.0</td>\n",
       "      <td>False</td>\n",
       "      <td>Organic Egg Whites</td>\n",
       "      <td>86.0</td>\n",
       "      <td>16.0</td>\n",
       "      <td>11.3</td>\n",
       "      <td>both</td>\n",
       "      <td>Mid-range product</td>\n",
       "      <td>Regularly busy</td>\n",
       "      <td>Most orders</td>\n",
       "      <td>8</td>\n",
       "      <td>New customer</td>\n",
       "    </tr>\n",
       "    <tr>\n",
       "      <th>1</th>\n",
       "      <td>2</td>\n",
       "      <td>28985</td>\n",
       "      <td>2</td>\n",
       "      <td>1</td>\n",
       "      <td>202279</td>\n",
       "      <td>3</td>\n",
       "      <td>5</td>\n",
       "      <td>9</td>\n",
       "      <td>8.0</td>\n",
       "      <td>False</td>\n",
       "      <td>Michigan Organic Kale</td>\n",
       "      <td>83.0</td>\n",
       "      <td>4.0</td>\n",
       "      <td>13.4</td>\n",
       "      <td>both</td>\n",
       "      <td>Mid-range product</td>\n",
       "      <td>Regularly busy</td>\n",
       "      <td>Most orders</td>\n",
       "      <td>8</td>\n",
       "      <td>New customer</td>\n",
       "    </tr>\n",
       "    <tr>\n",
       "      <th>2</th>\n",
       "      <td>2</td>\n",
       "      <td>9327</td>\n",
       "      <td>3</td>\n",
       "      <td>0</td>\n",
       "      <td>202279</td>\n",
       "      <td>3</td>\n",
       "      <td>5</td>\n",
       "      <td>9</td>\n",
       "      <td>8.0</td>\n",
       "      <td>False</td>\n",
       "      <td>Garlic Powder</td>\n",
       "      <td>104.0</td>\n",
       "      <td>13.0</td>\n",
       "      <td>3.6</td>\n",
       "      <td>both</td>\n",
       "      <td>Low-range product</td>\n",
       "      <td>Regularly busy</td>\n",
       "      <td>Most orders</td>\n",
       "      <td>8</td>\n",
       "      <td>New customer</td>\n",
       "    </tr>\n",
       "    <tr>\n",
       "      <th>3</th>\n",
       "      <td>2</td>\n",
       "      <td>45918</td>\n",
       "      <td>4</td>\n",
       "      <td>1</td>\n",
       "      <td>202279</td>\n",
       "      <td>3</td>\n",
       "      <td>5</td>\n",
       "      <td>9</td>\n",
       "      <td>8.0</td>\n",
       "      <td>False</td>\n",
       "      <td>Coconut Butter</td>\n",
       "      <td>19.0</td>\n",
       "      <td>13.0</td>\n",
       "      <td>8.4</td>\n",
       "      <td>both</td>\n",
       "      <td>Mid-range product</td>\n",
       "      <td>Regularly busy</td>\n",
       "      <td>Most orders</td>\n",
       "      <td>8</td>\n",
       "      <td>New customer</td>\n",
       "    </tr>\n",
       "    <tr>\n",
       "      <th>4</th>\n",
       "      <td>2</td>\n",
       "      <td>30035</td>\n",
       "      <td>5</td>\n",
       "      <td>0</td>\n",
       "      <td>202279</td>\n",
       "      <td>3</td>\n",
       "      <td>5</td>\n",
       "      <td>9</td>\n",
       "      <td>8.0</td>\n",
       "      <td>False</td>\n",
       "      <td>Natural Sweetener</td>\n",
       "      <td>17.0</td>\n",
       "      <td>13.0</td>\n",
       "      <td>13.7</td>\n",
       "      <td>both</td>\n",
       "      <td>Mid-range product</td>\n",
       "      <td>Regularly busy</td>\n",
       "      <td>Most orders</td>\n",
       "      <td>8</td>\n",
       "      <td>New customer</td>\n",
       "    </tr>\n",
       "  </tbody>\n",
       "</table>\n",
       "</div>"
      ],
      "text/plain": [
       "   order_id  product_id  add_to_cart_order  reordered  user_id  order_number  \\\n",
       "0         2       33120                  1          1   202279             3   \n",
       "1         2       28985                  2          1   202279             3   \n",
       "2         2        9327                  3          0   202279             3   \n",
       "3         2       45918                  4          1   202279             3   \n",
       "4         2       30035                  5          0   202279             3   \n",
       "\n",
       "   orders_day_of_week  order_hour_of_day  days_since_prior_order  first_order  \\\n",
       "0                   5                  9                     8.0        False   \n",
       "1                   5                  9                     8.0        False   \n",
       "2                   5                  9                     8.0        False   \n",
       "3                   5                  9                     8.0        False   \n",
       "4                   5                  9                     8.0        False   \n",
       "\n",
       "            product_name  aisle_id  department_id  prices _merge  \\\n",
       "0     Organic Egg Whites      86.0           16.0    11.3   both   \n",
       "1  Michigan Organic Kale      83.0            4.0    13.4   both   \n",
       "2          Garlic Powder     104.0           13.0     3.6   both   \n",
       "3         Coconut Butter      19.0           13.0     8.4   both   \n",
       "4      Natural Sweetener      17.0           13.0    13.7   both   \n",
       "\n",
       "         price_range     busiest_day busiest_period_of_day  max_order  \\\n",
       "0  Mid-range product  Regularly busy           Most orders          8   \n",
       "1  Mid-range product  Regularly busy           Most orders          8   \n",
       "2  Low-range product  Regularly busy           Most orders          8   \n",
       "3  Mid-range product  Regularly busy           Most orders          8   \n",
       "4  Mid-range product  Regularly busy           Most orders          8   \n",
       "\n",
       "   loyalty_flag  \n",
       "0  New customer  \n",
       "1  New customer  \n",
       "2  New customer  \n",
       "3  New customer  \n",
       "4  New customer  "
      ]
     },
     "execution_count": 41,
     "metadata": {},
     "output_type": "execute_result"
    }
   ],
   "source": [
    "df_final_data_work.head()"
   ]
  },
  {
   "cell_type": "code",
   "execution_count": 42,
   "id": "0ee99dba-2e6c-4583-ad1b-7151bc282f0a",
   "metadata": {},
   "outputs": [
    {
     "name": "stdout",
     "output_type": "stream",
     "text": [
      "['order_id', 'product_id', 'add_to_cart_order', 'reordered', 'user_id', 'order_number', 'orders_day_of_week', 'order_hour_of_day', 'days_since_prior_order', 'first_order', 'product_name', 'aisle_id', 'department_id', 'prices', '_merge', 'price_range', 'busiest_day', 'busiest_period_of_day', 'max_order', 'loyalty_flag']\n"
     ]
    }
   ],
   "source": [
    "print(df_final.columns.tolist())"
   ]
  },
  {
   "cell_type": "markdown",
   "id": "ac8ee3a0-53ea-440a-a0c9-a10ff2a4b1a9",
   "metadata": {
    "jp-MarkdownHeadingCollapsed": true
   },
   "source": [
    "## OG Data Counts"
   ]
  },
  {
   "cell_type": "code",
   "execution_count": null,
   "id": "49e44efa-b54d-4bad-93bf-23c0ed55deca",
   "metadata": {},
   "outputs": [],
   "source": [
    "# OG data counts\n",
    "print(\"orders:\", orders.shape[0])\n",
    "print(\"orders_products_prior:\", orders_products_prior.shape[0])\n",
    "print(\"products:\", products.shape[0])\n",
    "print(\"customers:\", customers.shape[0])"
   ]
  },
  {
   "cell_type": "markdown",
   "id": "5ee171c2-9fe1-4183-9750-92d5f4a01328",
   "metadata": {
    "jp-MarkdownHeadingCollapsed": true
   },
   "source": [
    "## Prepared Data Counts"
   ]
  },
  {
   "cell_type": "code",
   "execution_count": null,
   "id": "a13dc828-62ad-4689-9961-8ef7c6067715",
   "metadata": {},
   "outputs": [],
   "source": [
    "# Prepared data counts\n",
    "print(\"departments_wrangled:\", departments_wrangled.shape[0])\n",
    "print(\"orders_checked:\", orders_checked.shape[0])\n",
    "print(\"orders_wrangled:\", orders_wrangled.shape[0])\n",
    "print(\"products_checked:\", products_checked.shape[0])"
   ]
  },
  {
   "cell_type": "markdown",
   "id": "acb05062-4a51-4c34-ac93-30b9fa243d07",
   "metadata": {},
   "source": [
    "## Flag Counts"
   ]
  },
  {
   "cell_type": "markdown",
   "id": "437efad8-d449-4ca1-b1b0-1cfe7c04ea8a",
   "metadata": {
    "jp-MarkdownHeadingCollapsed": true
   },
   "source": [
    "#### First_orders"
   ]
  },
  {
   "cell_type": "code",
   "execution_count": null,
   "id": "d5277392-d453-42d8-9826-56a568059587",
   "metadata": {},
   "outputs": [],
   "source": [
    "first_order_counts = df_final_data_work['first_order'].value_counts()\n",
    "first_order_percent = df_final_data_work['first_order'].value_counts(normalize=True) * 100\n",
    "print(pd.DataFrame({'Count': first_order_counts, '% of Total Orders': first_order_percent.round(1)}))"
   ]
  },
  {
   "cell_type": "markdown",
   "id": "f9eb0580-b36a-4fc2-aa19-50a99d8b388c",
   "metadata": {
    "jp-MarkdownHeadingCollapsed": true
   },
   "source": [
    "#### Merge"
   ]
  },
  {
   "cell_type": "code",
   "execution_count": null,
   "id": "e72200a3-a1d9-491c-8e58-d7f00311ea52",
   "metadata": {},
   "outputs": [],
   "source": [
    "merge_counts = df_final_data_work['_merge'].value_counts()\n",
    "merge_percent = df_final_data_work['_merge'].value_counts(normalize=True) * 100\n",
    "merge_summary = pd.DataFrame({\n",
    "    '_merge': merge_counts.index,\n",
    "    'Count': merge_counts.values,\n",
    "    '% of Total Rows': merge_percent.round(1).astype(str) + '%'\n",
    "})\n",
    "print(merge_summary)"
   ]
  },
  {
   "cell_type": "markdown",
   "id": "ef6fd849-6238-4e28-9897-87e5bc75517c",
   "metadata": {},
   "source": [
    "#### Price Range"
   ]
  },
  {
   "cell_type": "code",
   "execution_count": 16,
   "id": "8a37bfaf-b7ab-4264-be17-61805532183e",
   "metadata": {},
   "outputs": [],
   "source": [
    "# if statement - product price range\n",
    "def price_label(row):\n",
    "\n",
    "  if row['prices'] <= 5:\n",
    "    return 'Low-range product'\n",
    "  elif (row['prices'] > 5) and (row['prices'] <= 15):\n",
    "    return 'Mid-range product'\n",
    "  elif row['prices'] > 15:\n",
    "    return 'High range'\n",
    "  else: return 'Not enough data'"
   ]
  },
  {
   "cell_type": "code",
   "execution_count": 17,
   "id": "adbac88b-9f34-445c-ad6f-1deecf95a13e",
   "metadata": {},
   "outputs": [],
   "source": [
    "# Create new column for price range\n",
    "df_final_data_work['price_range'] = df_final_data_work.apply(price_label, axis=1)"
   ]
  },
  {
   "cell_type": "code",
   "execution_count": 18,
   "id": "10da5f24-d09d-44e6-b23c-4ed2aebdeb42",
   "metadata": {},
   "outputs": [
    {
     "data": {
      "text/html": [
       "<div>\n",
       "<style scoped>\n",
       "    .dataframe tbody tr th:only-of-type {\n",
       "        vertical-align: middle;\n",
       "    }\n",
       "\n",
       "    .dataframe tbody tr th {\n",
       "        vertical-align: top;\n",
       "    }\n",
       "\n",
       "    .dataframe thead th {\n",
       "        text-align: right;\n",
       "    }\n",
       "</style>\n",
       "<table border=\"1\" class=\"dataframe\">\n",
       "  <thead>\n",
       "    <tr style=\"text-align: right;\">\n",
       "      <th></th>\n",
       "      <th>prices</th>\n",
       "      <th>price_range</th>\n",
       "    </tr>\n",
       "  </thead>\n",
       "  <tbody>\n",
       "    <tr>\n",
       "      <th>0</th>\n",
       "      <td>11.3</td>\n",
       "      <td>Mid-range product</td>\n",
       "    </tr>\n",
       "    <tr>\n",
       "      <th>1</th>\n",
       "      <td>13.4</td>\n",
       "      <td>Mid-range product</td>\n",
       "    </tr>\n",
       "    <tr>\n",
       "      <th>2</th>\n",
       "      <td>3.6</td>\n",
       "      <td>Low-range product</td>\n",
       "    </tr>\n",
       "    <tr>\n",
       "      <th>3</th>\n",
       "      <td>8.4</td>\n",
       "      <td>Mid-range product</td>\n",
       "    </tr>\n",
       "    <tr>\n",
       "      <th>4</th>\n",
       "      <td>13.7</td>\n",
       "      <td>Mid-range product</td>\n",
       "    </tr>\n",
       "    <tr>\n",
       "      <th>5</th>\n",
       "      <td>10.7</td>\n",
       "      <td>Mid-range product</td>\n",
       "    </tr>\n",
       "    <tr>\n",
       "      <th>6</th>\n",
       "      <td>11.5</td>\n",
       "      <td>Mid-range product</td>\n",
       "    </tr>\n",
       "    <tr>\n",
       "      <th>7</th>\n",
       "      <td>11.5</td>\n",
       "      <td>Mid-range product</td>\n",
       "    </tr>\n",
       "    <tr>\n",
       "      <th>8</th>\n",
       "      <td>7.5</td>\n",
       "      <td>Mid-range product</td>\n",
       "    </tr>\n",
       "    <tr>\n",
       "      <th>9</th>\n",
       "      <td>11.8</td>\n",
       "      <td>Mid-range product</td>\n",
       "    </tr>\n",
       "  </tbody>\n",
       "</table>\n",
       "</div>"
      ],
      "text/plain": [
       "   prices        price_range\n",
       "0    11.3  Mid-range product\n",
       "1    13.4  Mid-range product\n",
       "2     3.6  Low-range product\n",
       "3     8.4  Mid-range product\n",
       "4    13.7  Mid-range product\n",
       "5    10.7  Mid-range product\n",
       "6    11.5  Mid-range product\n",
       "7    11.5  Mid-range product\n",
       "8     7.5  Mid-range product\n",
       "9    11.8  Mid-range product"
      ]
     },
     "execution_count": 18,
     "metadata": {},
     "output_type": "execute_result"
    }
   ],
   "source": [
    "df_final_data_work[['prices', 'price_range']].head(10)"
   ]
  },
  {
   "cell_type": "code",
   "execution_count": 19,
   "id": "0235115a-0946-4fe0-a4b7-d912c8603480",
   "metadata": {},
   "outputs": [],
   "source": [
    "# Count of each price range\n",
    "price_counts = df_final_data_work['price_range'].value_counts(dropna=False)"
   ]
  },
  {
   "cell_type": "code",
   "execution_count": 20,
   "id": "7657bc75-cb2a-46a4-af23-2521f5df198e",
   "metadata": {},
   "outputs": [],
   "source": [
    "# Percentage of each price range\n",
    "price_percent = df_final_data_work['price_range'].value_counts(normalize=True, dropna=False) * 100"
   ]
  },
  {
   "cell_type": "code",
   "execution_count": 21,
   "id": "ce7e8ac1-39cd-47ec-8c1a-c6592e39b18d",
   "metadata": {},
   "outputs": [],
   "source": [
    "# Combine into a summary DataFrame\n",
    "price_summary = pd.DataFrame({\n",
    "    'Price Range': price_counts.index,\n",
    "    'Count': price_counts.values,\n",
    "    '% of Total Orders': price_percent.round(1).astype(str) + '%'\n",
    "})"
   ]
  },
  {
   "cell_type": "code",
   "execution_count": 22,
   "id": "72c0cc82-98b0-4dff-b647-10121dea5187",
   "metadata": {},
   "outputs": [
    {
     "name": "stdout",
     "output_type": "stream",
     "text": [
      "                         Price Range     Count % of Total Orders\n",
      "price_range                                                     \n",
      "Mid-range product  Mid-range product  21866565             67.4%\n",
      "Low-range product  Low-range product  10126883             31.2%\n",
      "High range                High range    412551              1.3%\n",
      "Not enough data      Not enough data     30200              0.1%\n"
     ]
    }
   ],
   "source": [
    "# Display the summary\n",
    "print(price_summary)"
   ]
  },
  {
   "cell_type": "code",
   "execution_count": 23,
   "id": "4bd72be6-da30-4f5b-a1d3-169d2ee1a63e",
   "metadata": {},
   "outputs": [
    {
     "data": {
      "image/png": "[encoded data removed]",
      "text/plain": [
       "<Figure size 800x500 with 1 Axes>"
      ]
     },
     "metadata": {},
     "output_type": "display_data"
    }
   ],
   "source": [
    "# Count orders per price range\n",
    "price_range_counts = df_final['price_range'].value_counts().sort_index()\n",
    "\n",
    "# Plot\n",
    "fig, ax = plt.subplots(figsize=(8, 5))\n",
    "price_range_counts.plot(kind='bar', color='slateblue', ax=ax)\n",
    "\n",
    "# Labeling\n",
    "ax.set_title('Distribution of Orders by Price Range', fontsize=14)\n",
    "ax.set_xlabel('Price Range', fontsize=12)\n",
    "ax.set_ylabel('Number of Orders', fontsize=12)\n",
    "ax.grid(axis='y', linestyle='--', alpha=0.5)\n",
    "plt.xticks(rotation=0)\n",
    "plt.tight_layout()\n",
    "plt.show()"
   ]
  },
  {
   "cell_type": "code",
   "execution_count": 24,
   "id": "9e86758b-65fb-498b-8ab1-ceee2e540c14",
   "metadata": {},
   "outputs": [],
   "source": [
    "# Export chart\n",
    "fig.savefig(os.path.join(path, '04 Analysis', 'Visualizations', 'bar_price_range_distribution.png'), dpi=300)"
   ]
  },
  {
   "cell_type": "markdown",
   "id": "927989ad-c07c-40eb-bb4c-02ac96f53e59",
   "metadata": {
    "jp-MarkdownHeadingCollapsed": true
   },
   "source": [
    "#### Spending Flag"
   ]
  },
  {
   "cell_type": "code",
   "execution_count": null,
   "id": "27021890-1882-4447-862b-fb0ecec10475",
   "metadata": {},
   "outputs": [],
   "source": [
    "# Calculate average price per user\n",
    "user_avg_price = df_final_data_work.groupby('user_id')['prices'].mean().reset_index()\n",
    "user_avg_price['avg_price'] = user_avg_price['prices']"
   ]
  },
  {
   "cell_type": "code",
   "execution_count": null,
   "id": "df0bc9bd-dfbb-4af1-879d-208caf7530a9",
   "metadata": {},
   "outputs": [],
   "source": [
    "# Define spending flag function\n",
    "def spending_category(x):\n",
    "    return 'Low spender' if x < 10 else 'High spender'"
   ]
  },
  {
   "cell_type": "code",
   "execution_count": null,
   "id": "8634899e-93f8-439d-bd9b-810f0f81af90",
   "metadata": {},
   "outputs": [],
   "source": [
    "# Apply flag\n",
    "user_avg_price['spending_flag'] = user_avg_price['avg_price'].apply(spending_category)"
   ]
  },
  {
   "cell_type": "code",
   "execution_count": null,
   "id": "053a803e-0993-4df8-a064-c5fe66857339",
   "metadata": {},
   "outputs": [],
   "source": [
    "# Merge back into working DataFrame\n",
    "df_final_data_work = df_final_data_work.merge(\n",
    "    user_avg_price[['user_id', 'spending_flag']],\n",
    "    on='user_id',\n",
    "    how='left'\n",
    ")"
   ]
  },
  {
   "cell_type": "code",
   "execution_count": null,
   "id": "e2fb1c57-1680-4311-9036-f6af23365497",
   "metadata": {},
   "outputs": [],
   "source": [
    "# Count of each spending category\n",
    "spending_counts = df_final_data_work['spending_flag'].value_counts(dropna=False)"
   ]
  },
  {
   "cell_type": "code",
   "execution_count": null,
   "id": "e1dc7bba-9549-44b4-a377-04353a25e93a",
   "metadata": {},
   "outputs": [],
   "source": [
    "# Percentage of each category\n",
    "spending_percent = df_final_data_work['spending_flag'].value_counts(normalize=True, dropna=False) * 100"
   ]
  },
  {
   "cell_type": "code",
   "execution_count": null,
   "id": "a5c45c5f-a5de-4b49-b07b-7ab88e8582c1",
   "metadata": {},
   "outputs": [],
   "source": [
    "# Combine into a summary DataFrame\n",
    "spending_summary = pd.DataFrame({\n",
    "    'Spending Category': spending_counts.index,\n",
    "    'Count': spending_counts.values,\n",
    "    '% of Total': spending_percent.round(1).astype(str) + '%'\n",
    "})"
   ]
  },
  {
   "cell_type": "code",
   "execution_count": null,
   "id": "4a768c09-4bfb-457d-a287-b7ac1420553a",
   "metadata": {},
   "outputs": [],
   "source": [
    "print(spending_summary)"
   ]
  },
  {
   "cell_type": "markdown",
   "id": "b544382d-5467-4861-8630-6948e1b7697a",
   "metadata": {
    "jp-MarkdownHeadingCollapsed": true
   },
   "source": [
    "#### Order Frequency"
   ]
  },
  {
   "cell_type": "code",
   "execution_count": null,
   "id": "f00c8e34-2790-4725-ba72-5de3827e348b",
   "metadata": {},
   "outputs": [],
   "source": [
    "print(df_final_data_work.columns)"
   ]
  },
  {
   "cell_type": "code",
   "execution_count": null,
   "id": "32b1f14d-dd78-4a61-97eb-4247d52dce75",
   "metadata": {},
   "outputs": [],
   "source": [
    "# Calculate median days between orders per user\n",
    "user_medians = df_final_data_work.groupby('user_id')['days_since_prior_order'].median().reset_index()\n",
    "user_medians.rename(columns={'days_since_prior_order': 'median_days'}, inplace=True)"
   ]
  },
  {
   "cell_type": "code",
   "execution_count": null,
   "id": "3f820750-7f61-461a-a564-aba60e8cdd6b",
   "metadata": {},
   "outputs": [],
   "source": [
    "# Define frequency flag function\n",
    "def order_frequency_flag(median):\n",
    "    if median > 20:\n",
    "        return 'Non-frequent customer'\n",
    "    elif 10 <= median <= 20:\n",
    "        return 'Regular customer'\n",
    "    else:\n",
    "        return 'Frequent customer'"
   ]
  },
  {
   "cell_type": "code",
   "execution_count": null,
   "id": "062891b8-4e93-4773-8f2c-bc762ee5a07d",
   "metadata": {},
   "outputs": [],
   "source": [
    "# Apply flag\n",
    "user_medians['order_frequency_flag'] = user_medians['median_days'].apply(order_frequency_flag)"
   ]
  },
  {
   "cell_type": "code",
   "execution_count": null,
   "id": "1fda08e9-413b-4ec3-9ae6-a9f45e93ebad",
   "metadata": {},
   "outputs": [],
   "source": [
    "# Count of each frequency category\n",
    "frequency_counts = user_medians['order_frequency_flag'].value_counts(dropna=False)"
   ]
  },
  {
   "cell_type": "code",
   "execution_count": null,
   "id": "a16a7473-4073-46a2-87a8-35caf082ee45",
   "metadata": {},
   "outputs": [],
   "source": [
    "# Percentage of each category\n",
    "frequency_percent = user_medians['order_frequency_flag'].value_counts(normalize=True, dropna=False) * 100"
   ]
  },
  {
   "cell_type": "code",
   "execution_count": null,
   "id": "6c8af214-2bdc-4c5c-9647-69f8efb1cc99",
   "metadata": {},
   "outputs": [],
   "source": [
    "# Combine into a summary DataFrame\n",
    "frequency_summary = pd.DataFrame({\n",
    "    'Order Frequency Category': frequency_counts.index,\n",
    "    'Count': frequency_counts.values,\n",
    "    '% of Total': frequency_percent.round(1).astype(str) + '%'\n",
    "})"
   ]
  },
  {
   "cell_type": "code",
   "execution_count": null,
   "id": "a1396f4e-9a98-4e88-b5f8-dad0692df604",
   "metadata": {},
   "outputs": [],
   "source": [
    "print(frequency_summary)"
   ]
  },
  {
   "cell_type": "markdown",
   "id": "da4596c0-a2e6-4ea8-889f-f33992246ebd",
   "metadata": {},
   "source": [
    "## Line Chart"
   ]
  },
  {
   "cell_type": "code",
   "execution_count": null,
   "id": "ba120ce6-cc25-459b-88f9-a32e4365254c",
   "metadata": {},
   "outputs": [],
   "source": [
    "# Mapping of day numbers to names\n",
    "day_labels = {\n",
    "    0: 'Saturday',\n",
    "    1: 'Sunday',\n",
    "    2: 'Monday',\n",
    "    3: 'Tuesday',\n",
    "    4: 'Wednesday',\n",
    "    5: 'Thursday',\n",
    "    6: 'Friday'\n",
    "}\n",
    "\n",
    "# Get order counts sorted by day index\n",
    "order_counts = df_final_data_work['orders_day_of_week'].value_counts().sort_index()\n",
    "\n",
    "# Create line chart\n",
    "fig, ax = plt.subplots(figsize=(10, 6))\n",
    "order_counts.plot(kind='line', marker='o', color='cornflowerblue', ax=ax)\n",
    "\n",
    "# Labeling\n",
    "ax.set_title('Order Volume by Day of Week', fontsize=14)\n",
    "ax.set_xlabel('Day of Week (0–6)', fontsize=12)\n",
    "ax.set_ylabel('Number of Orders', fontsize=12)\n",
    "ax.set_xticks(range(0, 7))\n",
    "ax.grid(True, linestyle='--', alpha=0.7)\n",
    "\n",
    "# Add legend box with day mappings\n",
    "legend_labels = [f\"{num} = {name}\" for num, name in day_labels.items()]\n",
    "legend_text = \"\\n\".join(legend_labels)\n",
    "props = dict(boxstyle='round', facecolor='white', edgecolor='gray')\n",
    "ax.text(1.05, 0.5, legend_text, transform=ax.transAxes,\n",
    "        fontsize=10, verticalalignment='center', bbox=props)\n",
    "\n",
    "# Insight below chart\n",
    "plt.figtext(0.5, 0.01, \"Order volume peaks on weekends—Saturday leads, midweek dips suggest re-engagement opportunities.\", ha='center', fontsize=10)\n",
    "\n",
    "# Export the chart\n",
    "plt.tight_layout()\n",
    "fig.savefig(os.path.join(path, '04 Analysis', 'Visualizations', 'line_orders_by_day_with_legend.png'), dpi=300)\n",
    "plt.show()"
   ]
  },
  {
   "cell_type": "code",
   "execution_count": null,
   "id": "4f1edd0d-cc74-4083-bb39-1a4eff9b3e8e",
   "metadata": {},
   "outputs": [],
   "source": [
    "# Save chart\n",
    "fig.savefig(os.path.join(path, '04 Analysis', 'Visualizations', 'line_orders_by_day.png'), dpi=300)"
   ]
  },
  {
   "cell_type": "markdown",
   "id": "42ff1b2d-cf95-46ee-840c-407f5c64fa32",
   "metadata": {},
   "source": [
    "#### Violin Chart"
   ]
  },
  {
   "cell_type": "code",
   "execution_count": null,
   "id": "d0a5e33e-8af9-4b89-9c33-374db112bc45",
   "metadata": {},
   "outputs": [],
   "source": [
    "# Get top 3 aisles by frequency\n",
    "top_aisles = df_final_data_work['aisle_id'].value_counts().head(3).index\n",
    "\n",
    "# Filter data to top 3 aisles\n",
    "df_top = df_final_data_work[df_final_data_work['aisle_id'].isin(top_aisles)]\n",
    "\n",
    "# Group and calculate average price range\n",
    "avg_prices = df_top.groupby('aisle_id')['price_range'].mean().reset_index()\n",
    "\n",
    "# Plot\n",
    "plt.figure(figsize=(8, 5))\n",
    "sns.barplot(data=avg_prices, x='aisle_id', y='price_range', palette='Blues_d')\n",
    "\n",
    "# Labeling\n",
    "plt.title('Average Price Range by Top 3 Aisles', fontsize=14)\n",
    "plt.xlabel('Aisle ID')\n",
    "plt.ylabel('Average Price Range ($)')\n",
    "plt.grid(axis='y', linestyle='--', alpha=0.5)\n",
    "plt.tight_layout()\n",
    "\n",
    "# Export\n",
    "plt.savefig(os.path.join(path, '04 Analysis', 'Visualizations', 'bar_avg_price_range_top3_aisles.png'), dpi=300)\n",
    "plt.show()"
   ]
  },
  {
   "cell_type": "code",
   "execution_count": null,
   "id": "ecfa071d-4ca4-43e5-835b-210695c5f84a",
   "metadata": {},
   "outputs": [],
   "source": [
    "print(df_final_data_work.columns.tolist())"
   ]
  },
  {
   "cell_type": "markdown",
   "id": "76329a96-3a37-4ba9-8ed4-d7fdce985d4c",
   "metadata": {},
   "source": [
    "## Top 5 Departments"
   ]
  },
  {
   "cell_type": "code",
   "execution_count": 51,
   "id": "94dd2f46-2ee8-493f-b827-4537ef998dae",
   "metadata": {},
   "outputs": [
    {
     "data": {
      "image/png": "[encoded data removed]",
      "text/plain": [
       "<Figure size 1000x600 with 1 Axes>"
      ]
     },
     "metadata": {},
     "output_type": "display_data"
    }
   ],
   "source": [
    "# Creating a bar chart from data already discovered\n",
    "# Data\n",
    "departments = ['Produce', 'Dairy Eggs', 'Snacks', 'Beverages', 'Frozen']\n",
    "product_counts = [9479291, 5398747, 2887550, 2688123, 2234743]\n",
    "colors = ['forestgreen', 'gold', 'salmon', 'royalblue', 'mediumpurple']\n",
    "\n",
    "# Plot\n",
    "fig, ax = plt.subplots(figsize=(10, 6))\n",
    "ax.bar(departments, product_counts, color=colors)\n",
    "\n",
    "# Labeling\n",
    "ax.set_title('Top 5 Departments by Product Count', fontsize=14)\n",
    "ax.set_xlabel('Department', fontsize=12)\n",
    "ax.set_ylabel('Product Count', fontsize=12)\n",
    "ax.grid(axis='y', linestyle='--', alpha=0.5)\n",
    "plt.xticks(rotation=15)\n",
    "plt.tight_layout()\n",
    "\n",
    "# Export\n",
    "fig.savefig(os.path.join(path, '04 Analysis', 'Visualizations', 'bar_top_departments_product_count.png'), dpi=300)\n",
    "\n",
    "# Show\n",
    "plt.show()"
   ]
  },
  {
   "cell_type": "code",
   "execution_count": 52,
   "id": "2ba94ccc-6126-4c31-99eb-a90d49e2cabc",
   "metadata": {},
   "outputs": [],
   "source": [
    "# Save the chart\n",
    "fig.savefig(os.path.join(path, '04 Analysis', 'Visualizations', 'bar_top_departments_product_count.png'), dpi=300)"
   ]
  },
  {
   "cell_type": "code",
   "execution_count": 54,
   "id": "7ad508ba-0350-48c4-80c7-a557a435af3f",
   "metadata": {},
   "outputs": [
    {
     "data": {
      "image/png": "[encoded data removed]",
      "text/plain": [
       "<Figure size 640x480 with 1 Axes>"
      ]
     },
     "metadata": {},
     "output_type": "display_data"
    }
   ],
   "source": [
    "# Create the bar chart with 3 custom colors\n",
    "bar_loyalty = df_final['loyalty_flag'].value_counts().plot.bar(\n",
    "    color=['seagreen', 'goldenrod', 'crimson']\n",
    ")\n",
    "\n",
    "# Chart labeling\n",
    "plt.title('Customer Loyalty Distribution', fontsize=14)\n",
    "plt.xlabel('Loyalty Flag', fontsize=12)\n",
    "plt.ylabel('Number of Orders', fontsize=12)\n",
    "plt.xticks(rotation=0)\n",
    "plt.grid(axis='y', linestyle='--', alpha=0.5)\n",
    "plt.tight_layout()\n",
    "# Show\n",
    "plt.show()"
   ]
  },
  {
   "cell_type": "code",
   "execution_count": 55,
   "id": "96cb4fd0-ad04-44f0-9fb9-5fb326a02860",
   "metadata": {},
   "outputs": [],
   "source": [
    "# Export\n",
    "bar_loyalty.figure.savefig(os.path.join(path, '04 Analysis', 'Visualizations', 'bar_loyalty_flag.png'), dpi=300)"
   ]
  },
  {
   "cell_type": "code",
   "execution_count": null,
   "id": "4a7285e0-0ff3-4b49-90c1-40dc7a35c333",
   "metadata": {},
   "outputs": [],
   "source": []
  }
 ],
 "metadata": {
  "kernelspec": {
   "display_name": "Python 3 (ipykernel)",
   "language": "python",
   "name": "python3"
  },
  "language_info": {
   "codemirror_mode": {
    "name": "ipython",
    "version": 3
   },
   "file_extension": ".py",
   "mimetype": "text/x-python",
   "name": "python",
   "nbconvert_exporter": "python",
   "pygments_lexer": "ipython3",
   "version": "3.13.5"
  }
 },
 "nbformat": 4,
 "nbformat_minor": 5
}
